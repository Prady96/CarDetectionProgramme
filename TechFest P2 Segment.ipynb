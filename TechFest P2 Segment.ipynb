{
  "nbformat": 4,
  "nbformat_minor": 0,
  "metadata": {
    "colab": {
      "name": "Copy_testingCarImages_type4_MaskScoreTesting.ipynb",
      "version": "0.3.2",
      "provenance": [],
      "collapsed_sections": [],
      "include_colab_link": true
    },
    "kernelspec": {
      "name": "python3",
      "display_name": "Python 3"
    },
    "accelerator": "GPU"
  },
  "cells": [
    {
      "cell_type": "markdown",
      "metadata": {
        "id": "view-in-github",
        "colab_type": "text"
      },
      "source": [
        "<a href=\"https://colab.research.google.com/github/Prady96/CarDetectionProgramme/blob/master/TechFest%20P2%20Segment.ipynb\" target=\"_parent\"><img src=\"https://colab.research.google.com/assets/colab-badge.svg\" alt=\"Open In Colab\"/></a>"
      ]
    },
    {
      "metadata": {
        "id": "go7HZtVFUCP8",
        "colab_type": "code",
        "colab": {}
      },
      "cell_type": "code",
      "source": [
        "## Segment 1"
      ],
      "execution_count": 0,
      "outputs": []
    },
    {
      "metadata": {
        "id": "CqQlmfsxUtQz",
        "colab_type": "code",
        "outputId": "5bb6abbb-8f65-43d4-f0c4-1e7f36c7b605",
        "colab": {
          "base_uri": "https://localhost:8080/",
          "height": 122
        }
      },
      "cell_type": "code",
      "source": [
        "# Load the Drive helper and mount\n",
        "from google.colab import drive\n",
        "\n",
        "# This will prompt for authorization.\n",
        "drive.mount(\"/content/drive\", force_remount=True)"
      ],
      "execution_count": 0,
      "outputs": [
        {
          "output_type": "stream",
          "text": [
            "Go to this URL in a browser: https://accounts.google.com/o/oauth2/auth?client_id=947318989803-6bn6qk8qdgf4n4g3pfee6491hc0brc4i.apps.googleusercontent.com&redirect_uri=urn%3Aietf%3Awg%3Aoauth%3A2.0%3Aoob&scope=email%20https%3A%2F%2Fwww.googleapis.com%2Fauth%2Fdocs.test%20https%3A%2F%2Fwww.googleapis.com%2Fauth%2Fdrive%20https%3A%2F%2Fwww.googleapis.com%2Fauth%2Fdrive.photos.readonly%20https%3A%2F%2Fwww.googleapis.com%2Fauth%2Fpeopleapi.readonly&response_type=code\n",
            "\n",
            "Enter your authorization code:\n",
            "··········\n",
            "Mounted at /content/drive\n"
          ],
          "name": "stdout"
        }
      ]
    },
    {
      "metadata": {
        "id": "TCytVXqCUtEz",
        "colab_type": "code",
        "outputId": "c035eea6-31e6-4a61-8279-4c131956e27f",
        "colab": {
          "base_uri": "https://localhost:8080/",
          "height": 102
        }
      },
      "cell_type": "code",
      "source": [
        "#lists the content of your google drive\n",
        "!ls \"/content/drive/My Drive/Potholes_tataInnoverse\""
      ],
      "execution_count": 0,
      "outputs": [
        {
          "output_type": "stream",
          "text": [
            "car_pothole_model.zip  dirburst.zip\n",
            "customImages.zip       logs.zip-1---1e0Y4wYCFIunm1LEK2VU0aJMCgKZq.zip\n",
            "D1.zip\t\t       ModelImages_cars_potholes.zip\n",
            "D2.zip\t\t       separate_Image.zip\n",
            "dirburst_rem.zip\n"
          ],
          "name": "stdout"
        }
      ]
    },
    {
      "metadata": {
        "id": "ZqKqc7EGU-UF",
        "colab_type": "code",
        "outputId": "21871ace-a109-4d53-a584-fd978fbb98a2",
        "colab": {
          "base_uri": "https://localhost:8080/",
          "height": 34
        }
      },
      "cell_type": "code",
      "source": [
        "import shutil\n",
        "shutil.copy('/content/drive/My Drive/Potholes_tataInnoverse/ModelImages_cars_potholes.zip', '/content/')"
      ],
      "execution_count": 0,
      "outputs": [
        {
          "output_type": "execute_result",
          "data": {
            "text/plain": [
              "'/content/ModelImages_cars_potholes.zip'"
            ]
          },
          "metadata": {
            "tags": []
          },
          "execution_count": 4
        }
      ]
    },
    {
      "metadata": {
        "id": "0jFQXDNnoPAo",
        "colab_type": "code",
        "colab": {}
      },
      "cell_type": "code",
      "source": [
        "# !wget http://93.188.165.63/pothole/customImages.zip --no-check-certificate"
      ],
      "execution_count": 0,
      "outputs": []
    },
    {
      "metadata": {
        "id": "GO_Sn3VTomFt",
        "colab_type": "code",
        "outputId": "2073e703-133d-4c9e-adf6-9fe529c4884f",
        "colab": {
          "base_uri": "https://localhost:8080/",
          "height": 34
        }
      },
      "cell_type": "code",
      "source": [
        "!ls"
      ],
      "execution_count": 0,
      "outputs": [
        {
          "output_type": "stream",
          "text": [
            "drive  ModelImages_cars_potholes.zip  sample_data\n"
          ],
          "name": "stdout"
        }
      ]
    },
    {
      "metadata": {
        "id": "gUbQ1sISCjQo",
        "colab_type": "code",
        "colab": {}
      },
      "cell_type": "code",
      "source": [
        "!mv ModelImages_cars_potholes.zip customImages.zip"
      ],
      "execution_count": 0,
      "outputs": []
    },
    {
      "metadata": {
        "id": "4tuyBAJYqBKB",
        "colab_type": "code",
        "outputId": "b1173b56-9561-4abc-e005-20c6eb87f681",
        "colab": {
          "base_uri": "https://localhost:8080/",
          "height": 6375
        }
      },
      "cell_type": "code",
      "source": [
        "!unzip customImages.zip"
      ],
      "execution_count": 0,
      "outputs": [
        {
          "output_type": "stream",
          "text": [
            "Archive:  customImages.zip\n",
            "   creating: ModelImages/\n",
            "  inflating: ModelImages/.DS_Store   \n",
            "   creating: __MACOSX/\n",
            "   creating: __MACOSX/ModelImages/\n",
            "  inflating: __MACOSX/ModelImages/._.DS_Store  \n",
            "   creating: ModelImages/train/\n",
            "  inflating: ModelImages/train/63.jpg  \n",
            "   creating: __MACOSX/ModelImages/train/\n",
            "  inflating: __MACOSX/ModelImages/train/._63.jpg  \n",
            "  inflating: ModelImages/train/77.jpg  \n",
            "  inflating: __MACOSX/ModelImages/train/._77.jpg  \n",
            "  inflating: ModelImages/train/88.jpg  \n",
            "  inflating: __MACOSX/ModelImages/train/._88.jpg  \n",
            "  inflating: ModelImages/train/91_.jpg  \n",
            "  inflating: __MACOSX/ModelImages/train/._91_.jpg  \n",
            "  inflating: ModelImages/train/89.jpg  \n",
            "  inflating: __MACOSX/ModelImages/train/._89.jpg  \n",
            "  inflating: ModelImages/train/76.jpg  \n",
            "  inflating: __MACOSX/ModelImages/train/._76.jpg  \n",
            "  inflating: ModelImages/train/62.jpg  \n",
            "  inflating: __MACOSX/ModelImages/train/._62.jpg  \n",
            "  inflating: ModelImages/train/74.jpg  \n",
            "  inflating: __MACOSX/ModelImages/train/._74.jpg  \n",
            "  inflating: ModelImages/train/60.jpg  \n",
            "  inflating: __MACOSX/ModelImages/train/._60.jpg  \n",
            "  inflating: ModelImages/train/48.jpg  \n",
            "  inflating: __MACOSX/ModelImages/train/._48.jpg  \n",
            "  inflating: ModelImages/train/149.jpg  \n",
            "  inflating: __MACOSX/ModelImages/train/._149.jpg  \n",
            "  inflating: ModelImages/train/161.jpg  \n",
            "  inflating: __MACOSX/ModelImages/train/._161.jpg  \n",
            "  inflating: ModelImages/train/148.jpg  \n",
            "  inflating: __MACOSX/ModelImages/train/._148.jpg  \n",
            "  inflating: ModelImages/train/49.jpg  \n",
            "  inflating: __MACOSX/ModelImages/train/._49.jpg  \n",
            "  inflating: ModelImages/train/61.jpg  \n",
            "  inflating: __MACOSX/ModelImages/train/._61.jpg  \n",
            "  inflating: ModelImages/train/75.jpg  \n",
            "  inflating: __MACOSX/ModelImages/train/._75.jpg  \n",
            "  inflating: ModelImages/train/59.jpg  \n",
            "  inflating: __MACOSX/ModelImages/train/._59.jpg  \n",
            "  inflating: ModelImages/train/65.jpg  \n",
            "  inflating: __MACOSX/ModelImages/train/._65.jpg  \n",
            "  inflating: ModelImages/train/158.jpg  \n",
            "  inflating: __MACOSX/ModelImages/train/._158.jpg  \n",
            "  inflating: ModelImages/train/64.jpg  \n",
            "  inflating: __MACOSX/ModelImages/train/._64.jpg  \n",
            "  inflating: ModelImages/train/70.jpg  \n",
            "  inflating: __MACOSX/ModelImages/train/._70.jpg  \n",
            "  inflating: ModelImages/train/58.jpg  \n",
            "  inflating: __MACOSX/ModelImages/train/._58.jpg  \n",
            "  inflating: ModelImages/train/8.jpg  \n",
            "  inflating: __MACOSX/ModelImages/train/._8.jpg  \n",
            "  inflating: ModelImages/train/66.jpg  \n",
            "  inflating: __MACOSX/ModelImages/train/._66.jpg  \n",
            "  inflating: ModelImages/train/72.jpg  \n",
            "  inflating: __MACOSX/ModelImages/train/._72.jpg  \n",
            "  inflating: ModelImages/train/99.jpg  \n",
            "  inflating: __MACOSX/ModelImages/train/._99.jpg  \n",
            "  inflating: ModelImages/train/90_.jpg  \n",
            "  inflating: __MACOSX/ModelImages/train/._90_.jpg  \n",
            "  inflating: ModelImages/train/98.jpg  \n",
            "  inflating: __MACOSX/ModelImages/train/._98.jpg  \n",
            "  inflating: ModelImages/train/73.jpg  \n",
            "  inflating: __MACOSX/ModelImages/train/._73.jpg  \n",
            "  inflating: ModelImages/train/67.jpg  \n",
            "  inflating: __MACOSX/ModelImages/train/._67.jpg  \n",
            "  inflating: ModelImages/train/9.jpg  \n",
            "  inflating: __MACOSX/ModelImages/train/._9.jpg  \n",
            "  inflating: ModelImages/train/14.jpg  \n",
            "  inflating: __MACOSX/ModelImages/train/._14.jpg  \n",
            "  inflating: ModelImages/train/28.jpg  \n",
            "  inflating: __MACOSX/ModelImages/train/._28.jpg  \n",
            "  inflating: ModelImages/train/129.jpg  \n",
            "  inflating: __MACOSX/ModelImages/train/._129.jpg  \n",
            "  inflating: ModelImages/train/101.jpg  \n",
            "  inflating: __MACOSX/ModelImages/train/._101.jpg  \n",
            "  inflating: ModelImages/train/115.jpg  \n",
            "  inflating: __MACOSX/ModelImages/train/._115.jpg  \n",
            "  inflating: ModelImages/train/100_.jpg  \n",
            "  inflating: __MACOSX/ModelImages/train/._100_.jpg  \n",
            "  inflating: ModelImages/train/114.jpg  \n",
            "  inflating: __MACOSX/ModelImages/train/._114.jpg  \n",
            "  inflating: ModelImages/train/100.jpg  \n",
            "  inflating: __MACOSX/ModelImages/train/._100.jpg  \n",
            "  inflating: ModelImages/train/128.jpg  \n",
            "  inflating: __MACOSX/ModelImages/train/._128.jpg  \n",
            "  inflating: ModelImages/train/29.jpg  \n",
            "  inflating: __MACOSX/ModelImages/train/._29.jpg  \n",
            "  inflating: ModelImages/train/15.jpg  \n",
            "  inflating: __MACOSX/ModelImages/train/._15.jpg  \n",
            "  inflating: ModelImages/train/17.jpg  \n",
            "  inflating: __MACOSX/ModelImages/train/._17.jpg  \n",
            "  inflating: ModelImages/train/102.jpg  \n",
            "  inflating: __MACOSX/ModelImages/train/._102.jpg  \n",
            "  inflating: ModelImages/train/97_.jpg  \n",
            "  inflating: __MACOSX/ModelImages/train/._97_.jpg  \n",
            "  inflating: ModelImages/train/103.jpg  \n",
            "  inflating: __MACOSX/ModelImages/train/._103.jpg  \n",
            "  inflating: ModelImages/train/16.jpg  \n",
            "  inflating: __MACOSX/ModelImages/train/._16.jpg  \n",
            "  inflating: ModelImages/train/12.jpg  \n",
            "  inflating: __MACOSX/ModelImages/train/._12.jpg  \n",
            "  inflating: ModelImages/train/113.jpg  \n",
            "  inflating: __MACOSX/ModelImages/train/._113.jpg  \n",
            "  inflating: ModelImages/train/107.jpg  \n",
            "  inflating: __MACOSX/ModelImages/train/._107.jpg  \n",
            "  inflating: ModelImages/train/via_region_data.json  \n",
            "  inflating: __MACOSX/ModelImages/train/._via_region_data.json  \n",
            "  inflating: ModelImages/train/96_.jpg  \n",
            "  inflating: __MACOSX/ModelImages/train/._96_.jpg  \n",
            "  inflating: ModelImages/train/106.jpg  \n",
            "  inflating: __MACOSX/ModelImages/train/._106.jpg  \n",
            "  inflating: ModelImages/train/112.jpg  \n",
            "  inflating: __MACOSX/ModelImages/train/._112.jpg  \n",
            "  inflating: ModelImages/train/13.jpg  \n",
            "  inflating: __MACOSX/ModelImages/train/._13.jpg  \n",
            "  inflating: ModelImages/train/39.jpg  \n",
            "  inflating: __MACOSX/ModelImages/train/._39.jpg  \n",
            "  inflating: ModelImages/train/11.jpg  \n",
            "  inflating: __MACOSX/ModelImages/train/._11.jpg  \n",
            "  inflating: ModelImages/train/104.jpg  \n",
            "  inflating: __MACOSX/ModelImages/train/._104.jpg  \n",
            "  inflating: ModelImages/train/110.jpg  \n",
            "  inflating: __MACOSX/ModelImages/train/._110.jpg  \n",
            "  inflating: ModelImages/train/138.jpg  \n",
            "  inflating: __MACOSX/ModelImages/train/._138.jpg  \n",
            "  inflating: ModelImages/train/139.jpg  \n",
            "  inflating: __MACOSX/ModelImages/train/._139.jpg  \n",
            "  inflating: ModelImages/train/111.jpg  \n",
            "  inflating: __MACOSX/ModelImages/train/._111.jpg  \n",
            "  inflating: ModelImages/train/105.jpg  \n",
            "  inflating: __MACOSX/ModelImages/train/._105.jpg  \n",
            "  inflating: ModelImages/train/10.jpg  \n",
            "  inflating: __MACOSX/ModelImages/train/._10.jpg  \n",
            "  inflating: ModelImages/train/38.jpg  \n",
            "  inflating: __MACOSX/ModelImages/train/._38.jpg  \n",
            "  inflating: ModelImages/train/21.jpg  \n",
            "  inflating: __MACOSX/ModelImages/train/._21.jpg  \n",
            "  inflating: ModelImages/train/35.jpg  \n",
            "  inflating: __MACOSX/ModelImages/train/._35.jpg  \n",
            "  inflating: ModelImages/train/120.jpg  \n",
            "  inflating: __MACOSX/ModelImages/train/._120.jpg  \n",
            "  inflating: ModelImages/train/134.jpg  \n",
            "  inflating: __MACOSX/ModelImages/train/._134.jpg  \n",
            "  inflating: ModelImages/train/135.jpg  \n",
            "  inflating: __MACOSX/ModelImages/train/._135.jpg  \n",
            "  inflating: ModelImages/train/121.jpg  \n",
            "  inflating: __MACOSX/ModelImages/train/._121.jpg  \n",
            "  inflating: ModelImages/train/34.jpg  \n",
            "  inflating: __MACOSX/ModelImages/train/._34.jpg  \n",
            "  inflating: ModelImages/train/20.jpg  \n",
            "  inflating: __MACOSX/ModelImages/train/._20.jpg  \n",
            "  inflating: ModelImages/train/36.jpg  \n",
            "  inflating: __MACOSX/ModelImages/train/._36.jpg  \n",
            "  inflating: ModelImages/train/22.jpg  \n",
            "  inflating: __MACOSX/ModelImages/train/._22.jpg  \n",
            "  inflating: ModelImages/train/137.jpg  \n",
            "  inflating: __MACOSX/ModelImages/train/._137.jpg  \n",
            "  inflating: ModelImages/train/123.jpg  \n",
            "  inflating: __MACOSX/ModelImages/train/._123.jpg  \n",
            "  inflating: ModelImages/train/95_.jpg  \n",
            "  inflating: __MACOSX/ModelImages/train/._95_.jpg  \n",
            "  inflating: ModelImages/train/122.jpg  \n",
            "  inflating: __MACOSX/ModelImages/train/._122.jpg  \n",
            "  inflating: ModelImages/train/23.jpg  \n",
            "  inflating: __MACOSX/ModelImages/train/._23.jpg  \n",
            "  inflating: ModelImages/train/37.jpg  \n",
            "  inflating: __MACOSX/ModelImages/train/._37.jpg  \n",
            "  inflating: ModelImages/train/33.jpg  \n",
            "  inflating: __MACOSX/ModelImages/train/._33.jpg  \n",
            "  inflating: ModelImages/train/27.jpg  \n",
            "  inflating: __MACOSX/ModelImages/train/._27.jpg  \n",
            "  inflating: ModelImages/train/132.jpg  \n",
            "  inflating: __MACOSX/ModelImages/train/._132.jpg  \n",
            "  inflating: ModelImages/train/126.jpg  \n",
            "  inflating: __MACOSX/ModelImages/train/._126.jpg  \n",
            "  inflating: ModelImages/train/94_.jpg  \n",
            "  inflating: __MACOSX/ModelImages/train/._94_.jpg  \n",
            "  inflating: ModelImages/train/127.jpg  \n",
            "  inflating: __MACOSX/ModelImages/train/._127.jpg  \n",
            "  inflating: ModelImages/train/133.jpg  \n",
            "  inflating: __MACOSX/ModelImages/train/._133.jpg  \n",
            "  inflating: ModelImages/train/32.jpg  \n",
            "  inflating: __MACOSX/ModelImages/train/._32.jpg  \n",
            "  inflating: ModelImages/train/18.jpg  \n",
            "  inflating: __MACOSX/ModelImages/train/._18.jpg  \n",
            "  inflating: ModelImages/train/24.jpg  \n",
            "  inflating: __MACOSX/ModelImages/train/._24.jpg  \n",
            "  inflating: ModelImages/train/30.jpg  \n",
            "  inflating: __MACOSX/ModelImages/train/._30.jpg  \n",
            "  inflating: ModelImages/train/125.jpg  \n",
            "  inflating: __MACOSX/ModelImages/train/._125.jpg  \n",
            "  inflating: ModelImages/train/131.jpg  \n",
            "  inflating: __MACOSX/ModelImages/train/._131.jpg  \n",
            "  inflating: ModelImages/train/118.jpg  \n",
            "  inflating: __MACOSX/ModelImages/train/._118.jpg  \n",
            "  inflating: ModelImages/train/130.jpg  \n",
            "  inflating: __MACOSX/ModelImages/train/._130.jpg  \n",
            "  inflating: ModelImages/train/124.jpg  \n",
            "  inflating: __MACOSX/ModelImages/train/._124.jpg  \n",
            "  inflating: ModelImages/train/31.jpg  \n",
            "  inflating: __MACOSX/ModelImages/train/._31.jpg  \n",
            "  inflating: ModelImages/train/25.jpg  \n",
            "  inflating: __MACOSX/ModelImages/train/._25.jpg  \n",
            "  inflating: ModelImages/train/19.jpg  \n",
            "  inflating: __MACOSX/ModelImages/train/._19.jpg  \n",
            "  inflating: ModelImages/train/4.jpg  \n",
            "  inflating: __MACOSX/ModelImages/train/._4.jpg  \n",
            "  inflating: ModelImages/train/56.jpg  \n",
            "  inflating: __MACOSX/ModelImages/train/._56.jpg  \n",
            "  inflating: ModelImages/train/81.jpg  \n",
            "  inflating: __MACOSX/ModelImages/train/._81.jpg  \n",
            "  inflating: ModelImages/train/95.jpg  \n",
            "  inflating: __MACOSX/ModelImages/train/._95.jpg  \n",
            "  inflating: ModelImages/train/143.jpg  \n",
            "  inflating: __MACOSX/ModelImages/train/._143.jpg  \n",
            "  inflating: ModelImages/train/157.jpg  \n",
            "  inflating: __MACOSX/ModelImages/train/._157.jpg  \n",
            "  inflating: ModelImages/train/93_.jpg  \n",
            "  inflating: __MACOSX/ModelImages/train/._93_.jpg  \n",
            "  inflating: ModelImages/train/156.jpg  \n",
            "  inflating: __MACOSX/ModelImages/train/._156.jpg  \n",
            "  inflating: ModelImages/train/94.jpg  \n",
            "  inflating: __MACOSX/ModelImages/train/._94.jpg  \n",
            "  inflating: ModelImages/train/80.jpg  \n",
            "  inflating: __MACOSX/ModelImages/train/._80.jpg  \n",
            "  inflating: ModelImages/train/57.jpg  \n",
            "  inflating: __MACOSX/ModelImages/train/._57.jpg  \n",
            "  inflating: ModelImages/train/55.jpg  \n",
            "  inflating: __MACOSX/ModelImages/train/._55.jpg  \n",
            "  inflating: ModelImages/train/41.jpg  \n",
            "  inflating: __MACOSX/ModelImages/train/._41.jpg  \n",
            "  inflating: ModelImages/train/69.jpg  \n",
            "  inflating: __MACOSX/ModelImages/train/._69.jpg  \n",
            "  inflating: ModelImages/train/96.jpg  \n",
            "  inflating: __MACOSX/ModelImages/train/._96.jpg  \n",
            "  inflating: ModelImages/train/82.jpg  \n",
            "  inflating: __MACOSX/ModelImages/train/._82.jpg  \n",
            "  inflating: ModelImages/train/154.jpg  \n",
            "  inflating: __MACOSX/ModelImages/train/._154.jpg  \n",
            "  inflating: ModelImages/train/140.jpg  \n",
            "  inflating: __MACOSX/ModelImages/train/._140.jpg  \n",
            "  inflating: ModelImages/train/155.jpg  \n",
            "  inflating: __MACOSX/ModelImages/train/._155.jpg  \n",
            "  inflating: ModelImages/train/83.jpg  \n",
            "  inflating: __MACOSX/ModelImages/train/._83.jpg  \n",
            "  inflating: ModelImages/train/97.jpg  \n",
            "  inflating: __MACOSX/ModelImages/train/._97.jpg  \n",
            "  inflating: ModelImages/train/68.jpg  \n",
            "  inflating: __MACOSX/ModelImages/train/._68.jpg  \n",
            "  inflating: ModelImages/train/40.jpg  \n",
            "  inflating: __MACOSX/ModelImages/train/._40.jpg  \n",
            "  inflating: ModelImages/train/54.jpg  \n",
            "  inflating: __MACOSX/ModelImages/train/._54.jpg  \n",
            "  inflating: ModelImages/train/6.jpg  \n",
            "  inflating: __MACOSX/ModelImages/train/._6.jpg  \n",
            "  inflating: ModelImages/train/78.jpg  \n",
            "  inflating: __MACOSX/ModelImages/train/._78.jpg  \n",
            "  inflating: ModelImages/train/2.jpg  \n",
            "  inflating: __MACOSX/ModelImages/train/._2.jpg  \n",
            "  inflating: ModelImages/train/50.jpg  \n",
            "  inflating: __MACOSX/ModelImages/train/._50.jpg  \n",
            "  inflating: ModelImages/train/44.jpg  \n",
            "  inflating: __MACOSX/ModelImages/train/._44.jpg  \n",
            "  inflating: ModelImages/train/151.jpg  \n",
            "  inflating: __MACOSX/ModelImages/train/._151.jpg  \n",
            "  inflating: ModelImages/train/145.jpg  \n",
            "  inflating: __MACOSX/ModelImages/train/._145.jpg  \n",
            "  inflating: ModelImages/train/87.jpg  \n",
            "  inflating: __MACOSX/ModelImages/train/._87.jpg  \n",
            "  inflating: ModelImages/train/86.jpg  \n",
            "  inflating: __MACOSX/ModelImages/train/._86.jpg  \n",
            "  inflating: ModelImages/train/92.jpg  \n",
            "  inflating: __MACOSX/ModelImages/train/._92.jpg  \n",
            "  inflating: ModelImages/train/150.jpg  \n",
            "  inflating: __MACOSX/ModelImages/train/._150.jpg  \n",
            "  inflating: ModelImages/train/45.jpg  \n",
            "  inflating: __MACOSX/ModelImages/train/._45.jpg  \n",
            "  inflating: ModelImages/train/3.jpg  \n",
            "  inflating: __MACOSX/ModelImages/train/._3.jpg  \n",
            "  inflating: ModelImages/train/51.jpg  \n",
            "  inflating: __MACOSX/ModelImages/train/._51.jpg  \n",
            "  inflating: ModelImages/train/47.jpg  \n",
            "  inflating: __MACOSX/ModelImages/train/._47.jpg  \n",
            "  inflating: ModelImages/train/53.jpg  \n",
            "  inflating: __MACOSX/ModelImages/train/._53.jpg  \n",
            "  inflating: ModelImages/train/1.jpg  \n",
            "  inflating: __MACOSX/ModelImages/train/._1.jpg  \n",
            "  inflating: ModelImages/train/84.jpg  \n",
            "  inflating: __MACOSX/ModelImages/train/._84.jpg  \n",
            "  inflating: ModelImages/train/90.jpg  \n",
            "  inflating: __MACOSX/ModelImages/train/._90.jpg  \n",
            "  inflating: ModelImages/train/92_.jpg  \n",
            "  inflating: __MACOSX/ModelImages/train/._92_.jpg  \n",
            "  inflating: ModelImages/train/85.jpg  \n",
            "  inflating: __MACOSX/ModelImages/train/._85.jpg  \n",
            "  inflating: ModelImages/train/153.jpg  \n",
            "  inflating: __MACOSX/ModelImages/train/._153.jpg  \n",
            "  inflating: ModelImages/train/147.jpg  \n",
            "  inflating: __MACOSX/ModelImages/train/._147.jpg  \n",
            "  inflating: ModelImages/train/52.jpg  \n",
            "  inflating: __MACOSX/ModelImages/train/._52.jpg  \n",
            "  inflating: ModelImages/train/46.jpg  \n",
            "  inflating: __MACOSX/ModelImages/train/._46.jpg  \n",
            "   creating: ModelImages/val/\n",
            "  inflating: ModelImages/val/162.jpg  \n",
            "   creating: __MACOSX/ModelImages/val/\n",
            "  inflating: __MACOSX/ModelImages/val/._162.jpg  \n",
            "  inflating: ModelImages/val/200.jpg  \n",
            "  inflating: __MACOSX/ModelImages/val/._200.jpg  \n",
            "  inflating: ModelImages/val/177.jpg  \n",
            "  inflating: __MACOSX/ModelImages/val/._177.jpg  \n",
            "  inflating: ModelImages/val/163.jpg  \n",
            "  inflating: __MACOSX/ModelImages/val/._163.jpg  \n",
            "  inflating: ModelImages/val/188.jpg  \n",
            "  inflating: __MACOSX/ModelImages/val/._188.jpg  \n",
            "  inflating: ModelImages/val/175.jpg  \n",
            "  inflating: __MACOSX/ModelImages/val/._175.jpg  \n",
            "  inflating: ModelImages/val/164.jpg  \n",
            "  inflating: __MACOSX/ModelImages/val/._164.jpg  \n",
            "  inflating: ModelImages/val/.DS_Store  \n",
            "  inflating: __MACOSX/ModelImages/val/._.DS_Store  \n",
            "  inflating: ModelImages/val/165.jpg  \n",
            "  inflating: __MACOSX/ModelImages/val/._165.jpg  \n",
            "  inflating: ModelImages/val/198.jpg  \n",
            "  inflating: __MACOSX/ModelImages/val/._198.jpg  \n",
            "  inflating: ModelImages/val/167.jpg  \n",
            "  inflating: __MACOSX/ModelImages/val/._167.jpg  \n",
            "  inflating: ModelImages/val/172.jpg  \n",
            "  inflating: __MACOSX/ModelImages/val/._172.jpg  \n",
            "  inflating: ModelImages/val/166.jpg  \n",
            "  inflating: __MACOSX/ModelImages/val/._166.jpg  \n",
            "  inflating: ModelImages/val/199.jpg  \n",
            "  inflating: __MACOSX/ModelImages/val/._199.jpg  \n",
            "  inflating: ModelImages/val/via_region_data.json  \n",
            "  inflating: __MACOSX/ModelImages/val/._via_region_data.json  \n",
            "  inflating: ModelImages/val/180.jpg  \n",
            "  inflating: __MACOSX/ModelImages/val/._180.jpg  \n",
            "  inflating: ModelImages/val/195.jpg  \n",
            "  inflating: __MACOSX/ModelImages/val/._195.jpg  \n",
            "  inflating: ModelImages/val/181.jpg  \n",
            "  inflating: __MACOSX/ModelImages/val/._181.jpg  \n",
            "  inflating: ModelImages/val/197.jpg  \n",
            "  inflating: __MACOSX/ModelImages/val/._197.jpg  \n",
            "  inflating: ModelImages/val/183.jpg  \n",
            "  inflating: __MACOSX/ModelImages/val/._183.jpg  \n",
            "  inflating: ModelImages/val/168.jpg  \n",
            "  inflating: __MACOSX/ModelImages/val/._168.jpg  \n",
            "  inflating: ModelImages/val/169.jpg  \n",
            "  inflating: __MACOSX/ModelImages/val/._169.jpg  \n",
            "  inflating: ModelImages/val/182.jpg  \n",
            "  inflating: __MACOSX/ModelImages/val/._182.jpg  \n",
            "  inflating: ModelImages/val/196.jpg  \n",
            "  inflating: __MACOSX/ModelImages/val/._196.jpg  \n",
            "  inflating: ModelImages/val/192.jpg  \n",
            "  inflating: __MACOSX/ModelImages/val/._192.jpg  \n",
            "  inflating: ModelImages/val/179.jpg  \n",
            "  inflating: __MACOSX/ModelImages/val/._179.jpg  \n",
            "  inflating: ModelImages/val/178.jpg  \n",
            "  inflating: __MACOSX/ModelImages/val/._178.jpg  \n",
            "  inflating: ModelImages/val/187.jpg  \n",
            "  inflating: __MACOSX/ModelImages/val/._187.jpg  \n",
            "  inflating: ModelImages/val/193.jpg  \n",
            "  inflating: __MACOSX/ModelImages/val/._193.jpg  \n",
            "  inflating: ModelImages/val/185.jpg  \n",
            "  inflating: __MACOSX/ModelImages/val/._185.jpg  \n",
            "  inflating: ModelImages/val/191.jpg  \n",
            "  inflating: __MACOSX/ModelImages/val/._191.jpg  \n",
            "  inflating: ModelImages/val/190.jpg  \n",
            "  inflating: __MACOSX/ModelImages/val/._190.jpg  \n",
            "  inflating: ModelImages/val/184.jpg  \n",
            "  inflating: __MACOSX/ModelImages/val/._184.jpg  \n"
          ],
          "name": "stdout"
        }
      ]
    },
    {
      "metadata": {
        "id": "4T14DTlrqGgJ",
        "colab_type": "code",
        "outputId": "1d8ef8a3-03e8-4a4f-d977-46cdfec0527f",
        "colab": {
          "base_uri": "https://localhost:8080/",
          "height": 34
        }
      },
      "cell_type": "code",
      "source": [
        "!ls"
      ],
      "execution_count": 0,
      "outputs": [
        {
          "output_type": "stream",
          "text": [
            "customImages.zip  drive  __MACOSX  ModelImages\tsample_data\n"
          ],
          "name": "stdout"
        }
      ]
    },
    {
      "metadata": {
        "id": "mnKcQ9CbCoyj",
        "colab_type": "code",
        "colab": {}
      },
      "cell_type": "code",
      "source": [
        "!mv ModelImages customImages"
      ],
      "execution_count": 0,
      "outputs": []
    },
    {
      "metadata": {
        "id": "tTFFjC0EqQeL",
        "colab_type": "code",
        "colab": {}
      },
      "cell_type": "code",
      "source": [
        "!rm -rf customImages.zip"
      ],
      "execution_count": 0,
      "outputs": []
    },
    {
      "metadata": {
        "id": "8sHtYr33qSUM",
        "colab_type": "code",
        "outputId": "0a187915-1d97-429d-a5c0-a7c8b2983f6e",
        "colab": {
          "base_uri": "https://localhost:8080/",
          "height": 34
        }
      },
      "cell_type": "code",
      "source": [
        "!ls"
      ],
      "execution_count": 0,
      "outputs": [
        {
          "output_type": "stream",
          "text": [
            "customImages  drive  __MACOSX  sample_data\n"
          ],
          "name": "stdout"
        }
      ]
    },
    {
      "metadata": {
        "id": "yw7MrKz7qUl7",
        "colab_type": "code",
        "outputId": "595532e3-7a5e-4348-9531-ac7531ab90a7",
        "colab": {
          "base_uri": "https://localhost:8080/",
          "height": 34
        }
      },
      "cell_type": "code",
      "source": [
        "!ls customImages/"
      ],
      "execution_count": 0,
      "outputs": [
        {
          "output_type": "stream",
          "text": [
            "train  val\n"
          ],
          "name": "stdout"
        }
      ]
    },
    {
      "metadata": {
        "id": "G2cTvTT3qXQT",
        "colab_type": "code",
        "outputId": "18e6ba59-255e-43f4-a561-058b66639f6c",
        "colab": {
          "base_uri": "https://localhost:8080/",
          "height": 34
        }
      },
      "cell_type": "code",
      "source": [
        "%cd customImages/"
      ],
      "execution_count": 0,
      "outputs": [
        {
          "output_type": "stream",
          "text": [
            "/content/customImages\n"
          ],
          "name": "stdout"
        }
      ]
    },
    {
      "metadata": {
        "id": "-dVyXRj9qax6",
        "colab_type": "code",
        "outputId": "86a7a650-dae5-4b50-9c98-dcdb817512ac",
        "colab": {
          "base_uri": "https://localhost:8080/",
          "height": 34
        }
      },
      "cell_type": "code",
      "source": [
        "!ls"
      ],
      "execution_count": 0,
      "outputs": [
        {
          "output_type": "stream",
          "text": [
            "train  val\n"
          ],
          "name": "stdout"
        }
      ]
    },
    {
      "metadata": {
        "id": "DyDM8oRtqcGS",
        "colab_type": "code",
        "outputId": "cf7d3bf7-b89c-4f88-cf39-5afc89d50ae5",
        "colab": {
          "base_uri": "https://localhost:8080/",
          "height": 34
        }
      },
      "cell_type": "code",
      "source": [
        "%cd train/"
      ],
      "execution_count": 0,
      "outputs": [
        {
          "output_type": "stream",
          "text": [
            "/content/customImages/train\n"
          ],
          "name": "stdout"
        }
      ]
    },
    {
      "metadata": {
        "id": "OfNhI2tKqgTF",
        "colab_type": "code",
        "outputId": "2aba8fb6-6b9e-4209-bbac-0087ca6e2188",
        "colab": {
          "base_uri": "https://localhost:8080/",
          "height": 391
        }
      },
      "cell_type": "code",
      "source": [
        "!ls"
      ],
      "execution_count": 0,
      "outputs": [
        {
          "output_type": "stream",
          "text": [
            "100_.jpg  124.jpg  149.jpg  25.jpg  48.jpg  69.jpg   90.jpg\n",
            "100.jpg   125.jpg  14.jpg   27.jpg  49.jpg  6.jpg    91_.jpg\n",
            "101.jpg   126.jpg  150.jpg  28.jpg  4.jpg   70.jpg   92_.jpg\n",
            "102.jpg   127.jpg  151.jpg  29.jpg  50.jpg  72.jpg   92.jpg\n",
            "103.jpg   128.jpg  153.jpg  2.jpg   51.jpg  73.jpg   93_.jpg\n",
            "104.jpg   129.jpg  154.jpg  30.jpg  52.jpg  74.jpg   94_.jpg\n",
            "105.jpg   12.jpg   155.jpg  31.jpg  53.jpg  75.jpg   94.jpg\n",
            "106.jpg   130.jpg  156.jpg  32.jpg  54.jpg  76.jpg   95_.jpg\n",
            "107.jpg   131.jpg  157.jpg  33.jpg  55.jpg  77.jpg   95.jpg\n",
            "10.jpg\t  132.jpg  158.jpg  34.jpg  56.jpg  78.jpg   96_.jpg\n",
            "110.jpg   133.jpg  15.jpg   35.jpg  57.jpg  80.jpg   96.jpg\n",
            "111.jpg   134.jpg  161.jpg  36.jpg  58.jpg  81.jpg   97_.jpg\n",
            "112.jpg   135.jpg  16.jpg   37.jpg  59.jpg  82.jpg   97.jpg\n",
            "113.jpg   137.jpg  17.jpg   38.jpg  60.jpg  83.jpg   98.jpg\n",
            "114.jpg   138.jpg  18.jpg   39.jpg  61.jpg  84.jpg   99.jpg\n",
            "115.jpg   139.jpg  19.jpg   3.jpg   62.jpg  85.jpg   9.jpg\n",
            "118.jpg   13.jpg   1.jpg    40.jpg  63.jpg  86.jpg   via_region_data.json\n",
            "11.jpg\t  140.jpg  20.jpg   41.jpg  64.jpg  87.jpg\n",
            "120.jpg   143.jpg  21.jpg   44.jpg  65.jpg  88.jpg\n",
            "121.jpg   145.jpg  22.jpg   45.jpg  66.jpg  89.jpg\n",
            "122.jpg   147.jpg  23.jpg   46.jpg  67.jpg  8.jpg\n",
            "123.jpg   148.jpg  24.jpg   47.jpg  68.jpg  90_.jpg\n"
          ],
          "name": "stdout"
        }
      ]
    },
    {
      "metadata": {
        "id": "5MrVzHaAqiC8",
        "colab_type": "code",
        "outputId": "61747b8f-6827-4128-f828-4e3265506619",
        "colab": {
          "base_uri": "https://localhost:8080/",
          "height": 34
        }
      },
      "cell_type": "code",
      "source": [
        "%cd .."
      ],
      "execution_count": 0,
      "outputs": [
        {
          "output_type": "stream",
          "text": [
            "/content/customImages\n"
          ],
          "name": "stdout"
        }
      ]
    },
    {
      "metadata": {
        "id": "_-dKLDaFqjvt",
        "colab_type": "code",
        "outputId": "b0d9dff1-0113-4a8a-d9b7-4de959cf7ad1",
        "colab": {
          "base_uri": "https://localhost:8080/",
          "height": 34
        }
      },
      "cell_type": "code",
      "source": [
        "!ls"
      ],
      "execution_count": 0,
      "outputs": [
        {
          "output_type": "stream",
          "text": [
            "train  val\n"
          ],
          "name": "stdout"
        }
      ]
    },
    {
      "metadata": {
        "id": "P_f849F8qmTN",
        "colab_type": "code",
        "outputId": "f8311a5a-284b-414d-b0fe-810547f0c7ce",
        "colab": {
          "base_uri": "https://localhost:8080/",
          "height": 34
        }
      },
      "cell_type": "code",
      "source": [
        "%cd val"
      ],
      "execution_count": 0,
      "outputs": [
        {
          "output_type": "stream",
          "text": [
            "/content/customImages/val\n"
          ],
          "name": "stdout"
        }
      ]
    },
    {
      "metadata": {
        "id": "6WRmo7_5qqb_",
        "colab_type": "code",
        "outputId": "71c6fd45-5d81-454a-bb59-fa8e24d7fc61",
        "colab": {
          "base_uri": "https://localhost:8080/",
          "height": 102
        }
      },
      "cell_type": "code",
      "source": [
        "!ls"
      ],
      "execution_count": 0,
      "outputs": [
        {
          "output_type": "stream",
          "text": [
            "162.jpg  167.jpg  177.jpg  182.jpg  188.jpg  195.jpg  200.jpg\n",
            "163.jpg  168.jpg  178.jpg  183.jpg  190.jpg  196.jpg  via_region_data.json\n",
            "164.jpg  169.jpg  179.jpg  184.jpg  191.jpg  197.jpg\n",
            "165.jpg  172.jpg  180.jpg  185.jpg  192.jpg  198.jpg\n",
            "166.jpg  175.jpg  181.jpg  187.jpg  193.jpg  199.jpg\n"
          ],
          "name": "stdout"
        }
      ]
    },
    {
      "metadata": {
        "id": "GDi3AHyvqsZn",
        "colab_type": "code",
        "outputId": "7edc01f9-2312-4a87-bc39-c0be9002f3b0",
        "colab": {
          "base_uri": "https://localhost:8080/",
          "height": 34
        }
      },
      "cell_type": "code",
      "source": [
        "%cd .."
      ],
      "execution_count": 0,
      "outputs": [
        {
          "output_type": "stream",
          "text": [
            "/content/customImages\n"
          ],
          "name": "stdout"
        }
      ]
    },
    {
      "metadata": {
        "id": "6kcKJTyOqu0n",
        "colab_type": "code",
        "outputId": "1ac5af69-617c-4d0a-9522-47519876a2bb",
        "colab": {
          "base_uri": "https://localhost:8080/",
          "height": 34
        }
      },
      "cell_type": "code",
      "source": [
        "!ls"
      ],
      "execution_count": 0,
      "outputs": [
        {
          "output_type": "stream",
          "text": [
            "train  val\n"
          ],
          "name": "stdout"
        }
      ]
    },
    {
      "metadata": {
        "id": "LvIn-FrpqwT_",
        "colab_type": "code",
        "outputId": "42303215-b188-4f27-f42e-de390d00e7fd",
        "colab": {
          "base_uri": "https://localhost:8080/",
          "height": 34
        }
      },
      "cell_type": "code",
      "source": [
        "%cd .."
      ],
      "execution_count": 0,
      "outputs": [
        {
          "output_type": "stream",
          "text": [
            "/content\n"
          ],
          "name": "stdout"
        }
      ]
    },
    {
      "metadata": {
        "id": "N-Kdn6u8qyM2",
        "colab_type": "code",
        "outputId": "784d2b0b-38ff-47e1-b543-d48fbcf8fbaa",
        "colab": {
          "base_uri": "https://localhost:8080/",
          "height": 34
        }
      },
      "cell_type": "code",
      "source": [
        "!ls"
      ],
      "execution_count": 0,
      "outputs": [
        {
          "output_type": "stream",
          "text": [
            "customImages  drive  __MACOSX  sample_data\n"
          ],
          "name": "stdout"
        }
      ]
    },
    {
      "metadata": {
        "id": "0Twgj_zdqz-t",
        "colab_type": "code",
        "outputId": "b473b8b2-0120-4193-9ee1-d608b44f10d9",
        "colab": {
          "base_uri": "https://localhost:8080/",
          "height": 119
        }
      },
      "cell_type": "code",
      "source": [
        "!git clone https://github.com/matterport/Mask_RCNN.git"
      ],
      "execution_count": 0,
      "outputs": [
        {
          "output_type": "stream",
          "text": [
            "Cloning into 'Mask_RCNN'...\n",
            "remote: Enumerating objects: 1, done.\u001b[K\n",
            "remote: Counting objects: 100% (1/1), done.\u001b[K\n",
            "remote: Total 914 (delta 0), reused 0 (delta 0), pack-reused 913\u001b[K\n",
            "Receiving objects: 100% (914/914), 125.53 MiB | 11.42 MiB/s, done.\n",
            "Resolving deltas: 100% (525/525), done.\n"
          ],
          "name": "stdout"
        }
      ]
    },
    {
      "metadata": {
        "id": "T2B0X0UPq7mr",
        "colab_type": "code",
        "outputId": "995200c5-a64e-4644-920b-889eda172710",
        "colab": {
          "base_uri": "https://localhost:8080/",
          "height": 34
        }
      },
      "cell_type": "code",
      "source": [
        "!ls"
      ],
      "execution_count": 0,
      "outputs": [
        {
          "output_type": "stream",
          "text": [
            "customImages  drive  __MACOSX  Mask_RCNN  sample_data\n"
          ],
          "name": "stdout"
        }
      ]
    },
    {
      "metadata": {
        "id": "ZElS21VYq9Lz",
        "colab_type": "code",
        "colab": {}
      },
      "cell_type": "code",
      "source": [
        "!mv customImages Mask_RCNN/"
      ],
      "execution_count": 0,
      "outputs": []
    },
    {
      "metadata": {
        "id": "OmZSwf1eq-gz",
        "colab_type": "code",
        "outputId": "8c216b77-8d85-4ca8-9c19-594968bd5c87",
        "colab": {
          "base_uri": "https://localhost:8080/",
          "height": 34
        }
      },
      "cell_type": "code",
      "source": [
        "%cd Mask_RCNN/"
      ],
      "execution_count": 0,
      "outputs": [
        {
          "output_type": "stream",
          "text": [
            "/content/Mask_RCNN\n"
          ],
          "name": "stdout"
        }
      ]
    },
    {
      "metadata": {
        "id": "rFq4xyaJq_ir",
        "colab_type": "code",
        "outputId": "4776576d-3dae-4d3d-e5dd-74cfb7f1b94f",
        "colab": {
          "base_uri": "https://localhost:8080/",
          "height": 51
        }
      },
      "cell_type": "code",
      "source": [
        "!ls"
      ],
      "execution_count": 0,
      "outputs": [
        {
          "output_type": "stream",
          "text": [
            "assets\t      images   MANIFEST.in  README.md\t      samples\t setup.py\n",
            "customImages  LICENSE  mrcnn\t    requirements.txt  setup.cfg\n"
          ],
          "name": "stdout"
        }
      ]
    },
    {
      "metadata": {
        "id": "os-JEb3ZrBNW",
        "colab_type": "code",
        "outputId": "e38369e3-f0ac-4790-f7ce-d65d9e1b33da",
        "colab": {
          "base_uri": "https://localhost:8080/",
          "height": 1482
        }
      },
      "cell_type": "code",
      "source": [
        "!pip install -r requirements.txt"
      ],
      "execution_count": 0,
      "outputs": [
        {
          "output_type": "stream",
          "text": [
            "Requirement already satisfied: numpy in /usr/local/lib/python3.6/dist-packages (from -r requirements.txt (line 1)) (1.14.6)\n",
            "Requirement already satisfied: scipy in /usr/local/lib/python3.6/dist-packages (from -r requirements.txt (line 2)) (1.1.0)\n",
            "Requirement already satisfied: Pillow in /usr/local/lib/python3.6/dist-packages (from -r requirements.txt (line 3)) (4.0.0)\n",
            "Requirement already satisfied: cython in /usr/local/lib/python3.6/dist-packages (from -r requirements.txt (line 4)) (0.29.2)\n",
            "Requirement already satisfied: matplotlib in /usr/local/lib/python3.6/dist-packages (from -r requirements.txt (line 5)) (2.1.2)\n",
            "Requirement already satisfied: scikit-image in /usr/local/lib/python3.6/dist-packages (from -r requirements.txt (line 6)) (0.13.1)\n",
            "Requirement already satisfied: tensorflow>=1.3.0 in /usr/local/lib/python3.6/dist-packages (from -r requirements.txt (line 7)) (1.12.0)\n",
            "Requirement already satisfied: keras>=2.0.8 in /usr/local/lib/python3.6/dist-packages (from -r requirements.txt (line 8)) (2.2.4)\n",
            "Requirement already satisfied: opencv-python in /usr/local/lib/python3.6/dist-packages (from -r requirements.txt (line 9)) (3.4.4.19)\n",
            "Requirement already satisfied: h5py in /usr/local/lib/python3.6/dist-packages (from -r requirements.txt (line 10)) (2.8.0)\n",
            "Requirement already satisfied: imgaug in /usr/local/lib/python3.6/dist-packages (from -r requirements.txt (line 11)) (0.2.6)\n",
            "Requirement already satisfied: IPython[all] in /usr/local/lib/python3.6/dist-packages (from -r requirements.txt (line 12)) (5.5.0)\n",
            "Requirement already satisfied: olefile in /usr/local/lib/python3.6/dist-packages (from Pillow->-r requirements.txt (line 3)) (0.46)\n",
            "Requirement already satisfied: pyparsing!=2.0.4,!=2.1.2,!=2.1.6,>=2.0.1 in /usr/local/lib/python3.6/dist-packages (from matplotlib->-r requirements.txt (line 5)) (2.3.0)\n",
            "Requirement already satisfied: six>=1.10 in /usr/local/lib/python3.6/dist-packages (from matplotlib->-r requirements.txt (line 5)) (1.11.0)\n",
            "Requirement already satisfied: cycler>=0.10 in /usr/local/lib/python3.6/dist-packages (from matplotlib->-r requirements.txt (line 5)) (0.10.0)\n",
            "Requirement already satisfied: pytz in /usr/local/lib/python3.6/dist-packages (from matplotlib->-r requirements.txt (line 5)) (2018.7)\n",
            "Requirement already satisfied: python-dateutil>=2.1 in /usr/local/lib/python3.6/dist-packages (from matplotlib->-r requirements.txt (line 5)) (2.5.3)\n",
            "Requirement already satisfied: networkx>=1.8 in /usr/local/lib/python3.6/dist-packages (from scikit-image->-r requirements.txt (line 6)) (2.2)\n",
            "Requirement already satisfied: PyWavelets>=0.4.0 in /usr/local/lib/python3.6/dist-packages (from scikit-image->-r requirements.txt (line 6)) (1.0.1)\n",
            "Requirement already satisfied: protobuf>=3.6.1 in /usr/local/lib/python3.6/dist-packages (from tensorflow>=1.3.0->-r requirements.txt (line 7)) (3.6.1)\n",
            "Requirement already satisfied: wheel>=0.26 in /usr/local/lib/python3.6/dist-packages (from tensorflow>=1.3.0->-r requirements.txt (line 7)) (0.32.3)\n",
            "Requirement already satisfied: keras-applications>=1.0.6 in /usr/local/lib/python3.6/dist-packages (from tensorflow>=1.3.0->-r requirements.txt (line 7)) (1.0.6)\n",
            "Requirement already satisfied: keras-preprocessing>=1.0.5 in /usr/local/lib/python3.6/dist-packages (from tensorflow>=1.3.0->-r requirements.txt (line 7)) (1.0.5)\n",
            "Requirement already satisfied: grpcio>=1.8.6 in /usr/local/lib/python3.6/dist-packages (from tensorflow>=1.3.0->-r requirements.txt (line 7)) (1.15.0)\n",
            "Requirement already satisfied: absl-py>=0.1.6 in /usr/local/lib/python3.6/dist-packages (from tensorflow>=1.3.0->-r requirements.txt (line 7)) (0.6.1)\n",
            "Requirement already satisfied: termcolor>=1.1.0 in /usr/local/lib/python3.6/dist-packages (from tensorflow>=1.3.0->-r requirements.txt (line 7)) (1.1.0)\n",
            "Requirement already satisfied: tensorboard<1.13.0,>=1.12.0 in /usr/local/lib/python3.6/dist-packages (from tensorflow>=1.3.0->-r requirements.txt (line 7)) (1.12.1)\n",
            "Requirement already satisfied: astor>=0.6.0 in /usr/local/lib/python3.6/dist-packages (from tensorflow>=1.3.0->-r requirements.txt (line 7)) (0.7.1)\n",
            "Requirement already satisfied: gast>=0.2.0 in /usr/local/lib/python3.6/dist-packages (from tensorflow>=1.3.0->-r requirements.txt (line 7)) (0.2.0)\n",
            "Requirement already satisfied: pyyaml in /usr/local/lib/python3.6/dist-packages (from keras>=2.0.8->-r requirements.txt (line 8)) (3.13)\n",
            "Requirement already satisfied: decorator in /usr/local/lib/python3.6/dist-packages (from IPython[all]->-r requirements.txt (line 12)) (4.3.0)\n",
            "Requirement already satisfied: pickleshare in /usr/local/lib/python3.6/dist-packages (from IPython[all]->-r requirements.txt (line 12)) (0.7.5)\n",
            "Requirement already satisfied: prompt-toolkit<2.0.0,>=1.0.4 in /usr/local/lib/python3.6/dist-packages (from IPython[all]->-r requirements.txt (line 12)) (1.0.15)\n",
            "Requirement already satisfied: simplegeneric>0.8 in /usr/local/lib/python3.6/dist-packages (from IPython[all]->-r requirements.txt (line 12)) (0.8.1)\n",
            "Requirement already satisfied: traitlets>=4.2 in /usr/local/lib/python3.6/dist-packages (from IPython[all]->-r requirements.txt (line 12)) (4.3.2)\n",
            "Requirement already satisfied: pygments in /usr/local/lib/python3.6/dist-packages (from IPython[all]->-r requirements.txt (line 12)) (2.1.3)\n",
            "Requirement already satisfied: setuptools>=18.5 in /usr/local/lib/python3.6/dist-packages (from IPython[all]->-r requirements.txt (line 12)) (40.6.3)\n",
            "Requirement already satisfied: pexpect; sys_platform != \"win32\" in /usr/local/lib/python3.6/dist-packages (from IPython[all]->-r requirements.txt (line 12)) (4.6.0)\n",
            "Requirement already satisfied: Sphinx>=1.3; extra == \"all\" in /usr/local/lib/python3.6/dist-packages (from IPython[all]->-r requirements.txt (line 12)) (1.8.2)\n",
            "Requirement already satisfied: requests; extra == \"all\" in /usr/local/lib/python3.6/dist-packages (from IPython[all]->-r requirements.txt (line 12)) (2.18.4)\n",
            "Requirement already satisfied: notebook; extra == \"all\" in /usr/local/lib/python3.6/dist-packages (from IPython[all]->-r requirements.txt (line 12)) (5.2.2)\n",
            "Requirement already satisfied: ipykernel; extra == \"all\" in /usr/local/lib/python3.6/dist-packages (from IPython[all]->-r requirements.txt (line 12)) (4.6.1)\n",
            "Requirement already satisfied: qtconsole; extra == \"all\" in /usr/local/lib/python3.6/dist-packages (from IPython[all]->-r requirements.txt (line 12)) (4.4.3)\n",
            "Requirement already satisfied: nbformat; extra == \"all\" in /usr/local/lib/python3.6/dist-packages (from IPython[all]->-r requirements.txt (line 12)) (4.4.0)\n",
            "Requirement already satisfied: nbconvert; extra == \"all\" in /usr/local/lib/python3.6/dist-packages (from IPython[all]->-r requirements.txt (line 12)) (5.4.0)\n",
            "Requirement already satisfied: testpath; extra == \"all\" in /usr/local/lib/python3.6/dist-packages (from IPython[all]->-r requirements.txt (line 12)) (0.4.2)\n",
            "Requirement already satisfied: ipywidgets; extra == \"all\" in /usr/local/lib/python3.6/dist-packages (from IPython[all]->-r requirements.txt (line 12)) (7.4.2)\n",
            "Collecting ipyparallel; extra == \"all\" (from IPython[all]->-r requirements.txt (line 12))\n",
            "\u001b[?25l  Downloading https://files.pythonhosted.org/packages/de/58/0342ee79ea4cf134b2d81cd600a5263341efc8b688edaacd75827e07ac64/ipyparallel-6.2.3-py2.py3-none-any.whl (197kB)\n",
            "\u001b[K    100% |████████████████████████████████| 204kB 23.6MB/s \n",
            "\u001b[?25hRequirement already satisfied: nose>=0.10.1; extra == \"all\" in /usr/local/lib/python3.6/dist-packages (from IPython[all]->-r requirements.txt (line 12)) (1.3.7)\n",
            "Requirement already satisfied: werkzeug>=0.11.10 in /usr/local/lib/python3.6/dist-packages (from tensorboard<1.13.0,>=1.12.0->tensorflow>=1.3.0->-r requirements.txt (line 7)) (0.14.1)\n",
            "Requirement already satisfied: markdown>=2.6.8 in /usr/local/lib/python3.6/dist-packages (from tensorboard<1.13.0,>=1.12.0->tensorflow>=1.3.0->-r requirements.txt (line 7)) (3.0.1)\n",
            "Requirement already satisfied: wcwidth in /usr/local/lib/python3.6/dist-packages (from prompt-toolkit<2.0.0,>=1.0.4->IPython[all]->-r requirements.txt (line 12)) (0.1.7)\n",
            "Requirement already satisfied: ipython-genutils in /usr/local/lib/python3.6/dist-packages (from traitlets>=4.2->IPython[all]->-r requirements.txt (line 12)) (0.2.0)\n",
            "Requirement already satisfied: ptyprocess>=0.5 in /usr/local/lib/python3.6/dist-packages (from pexpect; sys_platform != \"win32\"->IPython[all]->-r requirements.txt (line 12)) (0.6.0)\n",
            "Requirement already satisfied: docutils>=0.11 in /usr/local/lib/python3.6/dist-packages (from Sphinx>=1.3; extra == \"all\"->IPython[all]->-r requirements.txt (line 12)) (0.14)\n",
            "Requirement already satisfied: snowballstemmer>=1.1 in /usr/local/lib/python3.6/dist-packages (from Sphinx>=1.3; extra == \"all\"->IPython[all]->-r requirements.txt (line 12)) (1.2.1)\n",
            "Requirement already satisfied: alabaster<0.8,>=0.7 in /usr/local/lib/python3.6/dist-packages (from Sphinx>=1.3; extra == \"all\"->IPython[all]->-r requirements.txt (line 12)) (0.7.12)\n",
            "Requirement already satisfied: Jinja2>=2.3 in /usr/local/lib/python3.6/dist-packages (from Sphinx>=1.3; extra == \"all\"->IPython[all]->-r requirements.txt (line 12)) (2.10)\n",
            "Requirement already satisfied: imagesize in /usr/local/lib/python3.6/dist-packages (from Sphinx>=1.3; extra == \"all\"->IPython[all]->-r requirements.txt (line 12)) (1.1.0)\n",
            "Requirement already satisfied: sphinxcontrib-websupport in /usr/local/lib/python3.6/dist-packages (from Sphinx>=1.3; extra == \"all\"->IPython[all]->-r requirements.txt (line 12)) (1.1.0)\n",
            "Requirement already satisfied: packaging in /usr/local/lib/python3.6/dist-packages (from Sphinx>=1.3; extra == \"all\"->IPython[all]->-r requirements.txt (line 12)) (18.0)\n",
            "Requirement already satisfied: babel!=2.0,>=1.3 in /usr/local/lib/python3.6/dist-packages (from Sphinx>=1.3; extra == \"all\"->IPython[all]->-r requirements.txt (line 12)) (2.6.0)\n",
            "Requirement already satisfied: idna<2.7,>=2.5 in /usr/local/lib/python3.6/dist-packages (from requests; extra == \"all\"->IPython[all]->-r requirements.txt (line 12)) (2.6)\n",
            "Requirement already satisfied: certifi>=2017.4.17 in /usr/local/lib/python3.6/dist-packages (from requests; extra == \"all\"->IPython[all]->-r requirements.txt (line 12)) (2018.11.29)\n",
            "Requirement already satisfied: urllib3<1.23,>=1.21.1 in /usr/local/lib/python3.6/dist-packages (from requests; extra == \"all\"->IPython[all]->-r requirements.txt (line 12)) (1.22)\n",
            "Requirement already satisfied: chardet<3.1.0,>=3.0.2 in /usr/local/lib/python3.6/dist-packages (from requests; extra == \"all\"->IPython[all]->-r requirements.txt (line 12)) (3.0.4)\n",
            "Requirement already satisfied: jupyter-client in /usr/local/lib/python3.6/dist-packages (from notebook; extra == \"all\"->IPython[all]->-r requirements.txt (line 12)) (5.2.4)\n",
            "Requirement already satisfied: terminado>=0.3.3; sys_platform != \"win32\" in /usr/local/lib/python3.6/dist-packages (from notebook; extra == \"all\"->IPython[all]->-r requirements.txt (line 12)) (0.8.1)\n",
            "Requirement already satisfied: jupyter-core in /usr/local/lib/python3.6/dist-packages (from notebook; extra == \"all\"->IPython[all]->-r requirements.txt (line 12)) (4.4.0)\n",
            "Requirement already satisfied: tornado>=4 in /usr/local/lib/python3.6/dist-packages (from notebook; extra == \"all\"->IPython[all]->-r requirements.txt (line 12)) (4.5.3)\n",
            "Requirement already satisfied: jsonschema!=2.5.0,>=2.4 in /usr/local/lib/python3.6/dist-packages (from nbformat; extra == \"all\"->IPython[all]->-r requirements.txt (line 12)) (2.6.0)\n",
            "Requirement already satisfied: mistune>=0.8.1 in /usr/local/lib/python3.6/dist-packages (from nbconvert; extra == \"all\"->IPython[all]->-r requirements.txt (line 12)) (0.8.4)\n",
            "Requirement already satisfied: bleach in /usr/local/lib/python3.6/dist-packages (from nbconvert; extra == \"all\"->IPython[all]->-r requirements.txt (line 12)) (3.0.2)\n",
            "Requirement already satisfied: pandocfilters>=1.4.1 in /usr/local/lib/python3.6/dist-packages (from nbconvert; extra == \"all\"->IPython[all]->-r requirements.txt (line 12)) (1.4.2)\n",
            "Requirement already satisfied: defusedxml in /usr/local/lib/python3.6/dist-packages (from nbconvert; extra == \"all\"->IPython[all]->-r requirements.txt (line 12)) (0.5.0)\n",
            "Requirement already satisfied: entrypoints>=0.2.2 in /usr/local/lib/python3.6/dist-packages (from nbconvert; extra == \"all\"->IPython[all]->-r requirements.txt (line 12)) (0.2.3)\n",
            "Requirement already satisfied: widgetsnbextension~=3.4.0 in /usr/local/lib/python3.6/dist-packages (from ipywidgets; extra == \"all\"->IPython[all]->-r requirements.txt (line 12)) (3.4.2)\n",
            "Requirement already satisfied: pyzmq>=13 in /usr/local/lib/python3.6/dist-packages (from ipyparallel; extra == \"all\"->IPython[all]->-r requirements.txt (line 12)) (17.0.0)\n",
            "Requirement already satisfied: MarkupSafe>=0.23 in /usr/local/lib/python3.6/dist-packages (from Jinja2>=2.3->Sphinx>=1.3; extra == \"all\"->IPython[all]->-r requirements.txt (line 12)) (1.1.0)\n",
            "Requirement already satisfied: webencodings in /usr/local/lib/python3.6/dist-packages (from bleach->nbconvert; extra == \"all\"->IPython[all]->-r requirements.txt (line 12)) (0.5.1)\n",
            "Installing collected packages: ipyparallel\n",
            "Successfully installed ipyparallel-6.2.3\n"
          ],
          "name": "stdout"
        }
      ]
    },
    {
      "metadata": {
        "id": "YcEEzOsarCux",
        "colab_type": "code",
        "outputId": "3a612efc-b630-4974-d977-5d9c4b9e34ee",
        "colab": {
          "base_uri": "https://localhost:8080/",
          "height": 952
        }
      },
      "cell_type": "code",
      "source": [
        "%run setup.py install"
      ],
      "execution_count": 0,
      "outputs": [
        {
          "output_type": "stream",
          "text": [
            "WARNING:root:Fail load requirements file, so using default ones.\n"
          ],
          "name": "stderr"
        },
        {
          "output_type": "stream",
          "text": [
            "running install\n",
            "running bdist_egg\n",
            "running egg_info\n",
            "creating mask_rcnn.egg-info\n",
            "writing mask_rcnn.egg-info/PKG-INFO\n",
            "writing dependency_links to mask_rcnn.egg-info/dependency_links.txt\n",
            "writing top-level names to mask_rcnn.egg-info/top_level.txt\n",
            "writing manifest file 'mask_rcnn.egg-info/SOURCES.txt'\n",
            "reading manifest file 'mask_rcnn.egg-info/SOURCES.txt'\n",
            "reading manifest template 'MANIFEST.in'\n",
            "writing manifest file 'mask_rcnn.egg-info/SOURCES.txt'\n",
            "installing library code to build/bdist.linux-x86_64/egg\n",
            "running install_lib\n",
            "running build_py\n",
            "creating build\n",
            "creating build/lib\n",
            "creating build/lib/mrcnn\n",
            "copying mrcnn/config.py -> build/lib/mrcnn\n",
            "copying mrcnn/visualize.py -> build/lib/mrcnn\n",
            "copying mrcnn/parallel_model.py -> build/lib/mrcnn\n",
            "copying mrcnn/model.py -> build/lib/mrcnn\n",
            "copying mrcnn/utils.py -> build/lib/mrcnn\n",
            "copying mrcnn/__init__.py -> build/lib/mrcnn\n",
            "creating build/bdist.linux-x86_64\n",
            "creating build/bdist.linux-x86_64/egg\n",
            "creating build/bdist.linux-x86_64/egg/mrcnn\n",
            "copying build/lib/mrcnn/config.py -> build/bdist.linux-x86_64/egg/mrcnn\n",
            "copying build/lib/mrcnn/visualize.py -> build/bdist.linux-x86_64/egg/mrcnn\n",
            "copying build/lib/mrcnn/parallel_model.py -> build/bdist.linux-x86_64/egg/mrcnn\n",
            "copying build/lib/mrcnn/model.py -> build/bdist.linux-x86_64/egg/mrcnn\n",
            "copying build/lib/mrcnn/utils.py -> build/bdist.linux-x86_64/egg/mrcnn\n",
            "copying build/lib/mrcnn/__init__.py -> build/bdist.linux-x86_64/egg/mrcnn\n",
            "byte-compiling build/bdist.linux-x86_64/egg/mrcnn/config.py to config.cpython-36.pyc\n",
            "byte-compiling build/bdist.linux-x86_64/egg/mrcnn/visualize.py to visualize.cpython-36.pyc\n",
            "byte-compiling build/bdist.linux-x86_64/egg/mrcnn/parallel_model.py to parallel_model.cpython-36.pyc\n",
            "byte-compiling build/bdist.linux-x86_64/egg/mrcnn/model.py to model.cpython-36.pyc\n",
            "byte-compiling build/bdist.linux-x86_64/egg/mrcnn/utils.py to utils.cpython-36.pyc\n",
            "byte-compiling build/bdist.linux-x86_64/egg/mrcnn/__init__.py to __init__.cpython-36.pyc\n",
            "creating build/bdist.linux-x86_64/egg/EGG-INFO\n",
            "copying mask_rcnn.egg-info/PKG-INFO -> build/bdist.linux-x86_64/egg/EGG-INFO\n",
            "copying mask_rcnn.egg-info/SOURCES.txt -> build/bdist.linux-x86_64/egg/EGG-INFO\n",
            "copying mask_rcnn.egg-info/dependency_links.txt -> build/bdist.linux-x86_64/egg/EGG-INFO\n",
            "copying mask_rcnn.egg-info/top_level.txt -> build/bdist.linux-x86_64/egg/EGG-INFO\n"
          ],
          "name": "stdout"
        },
        {
          "output_type": "stream",
          "text": [
            "zip_safe flag not set; analyzing archive contents...\n"
          ],
          "name": "stderr"
        },
        {
          "output_type": "stream",
          "text": [
            "creating dist\n",
            "creating 'dist/mask_rcnn-2.1-py3.6.egg' and adding 'build/bdist.linux-x86_64/egg' to it\n",
            "removing 'build/bdist.linux-x86_64/egg' (and everything under it)\n",
            "Processing mask_rcnn-2.1-py3.6.egg\n",
            "Copying mask_rcnn-2.1-py3.6.egg to /usr/local/lib/python3.6/dist-packages\n",
            "Adding mask-rcnn 2.1 to easy-install.pth file\n",
            "\n",
            "Installed /usr/local/lib/python3.6/dist-packages/mask_rcnn-2.1-py3.6.egg\n",
            "Processing dependencies for mask-rcnn==2.1\n",
            "Finished processing dependencies for mask-rcnn==2.1\n"
          ],
          "name": "stdout"
        }
      ]
    },
    {
      "metadata": {
        "id": "jKRbnG5prGJh",
        "colab_type": "code",
        "outputId": "0b259f62-7cb7-477d-aa4d-287f8f8551e2",
        "colab": {
          "base_uri": "https://localhost:8080/",
          "height": 68
        }
      },
      "cell_type": "code",
      "source": [
        "!ls"
      ],
      "execution_count": 0,
      "outputs": [
        {
          "output_type": "stream",
          "text": [
            "assets\t      dist     MANIFEST.in\t   README.md\t     setup.cfg\n",
            "build\t      images   mask_rcnn.egg-info  requirements.txt  setup.py\n",
            "customImages  LICENSE  mrcnn\t\t   samples\n"
          ],
          "name": "stdout"
        }
      ]
    },
    {
      "metadata": {
        "id": "IvLqsZEFrIQK",
        "colab_type": "code",
        "outputId": "29b24b7d-8132-454a-b575-4e13e1a2e0a8",
        "colab": {
          "base_uri": "https://localhost:8080/",
          "height": 224
        }
      },
      "cell_type": "code",
      "source": [
        "!wget https://raw.githubusercontent.com/priya-dwivedi/Deep-Learning/master/mask_rcnn_damage_detection/custom.py"
      ],
      "execution_count": 0,
      "outputs": [
        {
          "output_type": "stream",
          "text": [
            "--2019-01-03 21:47:38--  https://raw.githubusercontent.com/priya-dwivedi/Deep-Learning/master/mask_rcnn_damage_detection/custom.py\n",
            "Resolving raw.githubusercontent.com (raw.githubusercontent.com)... 151.101.0.133, 151.101.64.133, 151.101.128.133, ...\n",
            "Connecting to raw.githubusercontent.com (raw.githubusercontent.com)|151.101.0.133|:443... connected.\n",
            "HTTP request sent, awaiting response... 200 OK\n",
            "Length: 13885 (14K) [text/plain]\n",
            "Saving to: ‘custom.py’\n",
            "\n",
            "\rcustom.py             0%[                    ]       0  --.-KB/s               \rcustom.py           100%[===================>]  13.56K  --.-KB/s    in 0.01s   \n",
            "\n",
            "2019-01-03 21:47:38 (1.04 MB/s) - ‘custom.py’ saved [13885/13885]\n",
            "\n"
          ],
          "name": "stdout"
        }
      ]
    },
    {
      "metadata": {
        "id": "cogemX0hrJ3Z",
        "colab_type": "code",
        "outputId": "6a6b69ad-4e21-4ee9-cece-292bb287e8b6",
        "colab": {
          "base_uri": "https://localhost:8080/",
          "height": 68
        }
      },
      "cell_type": "code",
      "source": [
        "!ls"
      ],
      "execution_count": 0,
      "outputs": [
        {
          "output_type": "stream",
          "text": [
            "assets\t      custom.py  LICENSE\t     mrcnn\t       samples\n",
            "build\t      dist\t MANIFEST.in\t     README.md\t       setup.cfg\n",
            "customImages  images\t mask_rcnn.egg-info  requirements.txt  setup.py\n"
          ],
          "name": "stdout"
        }
      ]
    },
    {
      "metadata": {
        "id": "ODkPDt-trL5R",
        "colab_type": "code",
        "colab": {}
      },
      "cell_type": "code",
      "source": [
        "!mkdir logs"
      ],
      "execution_count": 0,
      "outputs": []
    },
    {
      "metadata": {
        "id": "I6odYDQTrNFZ",
        "colab_type": "code",
        "outputId": "df070e52-ecd6-4f63-9871-d4b07618b084",
        "colab": {
          "base_uri": "https://localhost:8080/",
          "height": 85
        }
      },
      "cell_type": "code",
      "source": [
        "!ls"
      ],
      "execution_count": 0,
      "outputs": [
        {
          "output_type": "stream",
          "text": [
            "assets\t      dist     MANIFEST.in\t   requirements.txt\n",
            "build\t      images   mask_rcnn.egg-info  samples\n",
            "customImages  LICENSE  mrcnn\t\t   setup.cfg\n",
            "custom.py     logs     README.md\t   setup.py\n"
          ],
          "name": "stdout"
        }
      ]
    },
    {
      "metadata": {
        "id": "BqnSwaQZyUya",
        "colab_type": "code",
        "outputId": "b850f69b-dbe7-40b7-9d21-5bd4f6b0ff03",
        "colab": {
          "base_uri": "https://localhost:8080/",
          "height": 224
        }
      },
      "cell_type": "code",
      "source": [
        "## Above\n",
        "!wget https://raw.githubusercontent.com/matterport/Mask_RCNN/bc8f148b820ebd45246ed358a120c99b09798d71/visualize.py"
      ],
      "execution_count": 0,
      "outputs": [
        {
          "output_type": "stream",
          "text": [
            "--2019-01-03 21:47:54--  https://raw.githubusercontent.com/matterport/Mask_RCNN/bc8f148b820ebd45246ed358a120c99b09798d71/visualize.py\n",
            "Resolving raw.githubusercontent.com (raw.githubusercontent.com)... 151.101.0.133, 151.101.64.133, 151.101.128.133, ...\n",
            "Connecting to raw.githubusercontent.com (raw.githubusercontent.com)|151.101.0.133|:443... connected.\n",
            "HTTP request sent, awaiting response... 200 OK\n",
            "Length: 22119 (22K) [text/plain]\n",
            "Saving to: ‘visualize.py’\n",
            "\n",
            "\rvisualize.py          0%[                    ]       0  --.-KB/s               \rvisualize.py        100%[===================>]  21.60K  --.-KB/s    in 0.01s   \n",
            "\n",
            "2019-01-03 21:47:54 (1.75 MB/s) - ‘visualize.py’ saved [22119/22119]\n",
            "\n"
          ],
          "name": "stdout"
        }
      ]
    },
    {
      "metadata": {
        "id": "spu6Hrj2yZMN",
        "colab_type": "code",
        "outputId": "9518f046-eb30-4a54-c4bf-91b82024f831",
        "colab": {
          "base_uri": "https://localhost:8080/",
          "height": 105
        }
      },
      "cell_type": "code",
      "source": [
        "## Above\n",
        "!pip install utils"
      ],
      "execution_count": 0,
      "outputs": [
        {
          "output_type": "stream",
          "text": [
            "Collecting utils\n",
            "  Downloading https://files.pythonhosted.org/packages/9b/de/9ffaf89be661b32d1e0cff05e1af5e4fc2d608c47498975e94aca219aed4/utils-0.9.0-py2.py3-none-any.whl\n",
            "Installing collected packages: utils\n",
            "Successfully installed utils-0.9.0\n"
          ],
          "name": "stdout"
        }
      ]
    },
    {
      "metadata": {
        "id": "Q2Ua88LPrOLZ",
        "colab_type": "code",
        "outputId": "6aa26eb1-b9ba-4cf9-e1de-bb6bdef0915f",
        "colab": {
          "base_uri": "https://localhost:8080/",
          "height": 34
        }
      },
      "cell_type": "code",
      "source": [
        "import os\n",
        "import sys\n",
        "import itertools\n",
        "import math\n",
        "import logging\n",
        "import json\n",
        "import re\n",
        "import random\n",
        "from collections import OrderedDict\n",
        "import numpy as np\n",
        "import matplotlib\n",
        "import matplotlib.pyplot as plt\n",
        "import matplotlib.patches as patches\n",
        "import matplotlib.lines as lines\n",
        "from matplotlib.patches import Polygon\n",
        "\n",
        "# Root directory of the project\n",
        "ROOT_DIR = os.getcwd()\n",
        "\n",
        "# Import Mask RCNN\n",
        "sys.path.append(ROOT_DIR)  # To find local version of the library\n",
        "from mrcnn import utils\n",
        "# from mrcnn import visualize\n",
        "import visualize\n",
        "from mrcnn.visualize import display_images\n",
        "import mrcnn.model as modellib\n",
        "from mrcnn.model import log\n",
        "\n",
        "MODEL_DIR = os.path.join(ROOT_DIR, \"logs\")\n",
        "\n",
        "import custom\n",
        "\n",
        "%matplotlib inline"
      ],
      "execution_count": 0,
      "outputs": [
        {
          "output_type": "stream",
          "text": [
            "Using TensorFlow backend.\n"
          ],
          "name": "stderr"
        }
      ]
    },
    {
      "metadata": {
        "id": "X85ydqsTrPl6",
        "colab_type": "code",
        "outputId": "14c51a8c-ade6-4222-ded1-a53632f03ba6",
        "colab": {
          "base_uri": "https://localhost:8080/",
          "height": 34
        }
      },
      "cell_type": "code",
      "source": [
        "config = custom.CustomConfig()\n",
        "CUSTOM_DIR = os.path.join(ROOT_DIR, \"customImages\")\n",
        "print(CUSTOM_DIR)"
      ],
      "execution_count": 0,
      "outputs": [
        {
          "output_type": "stream",
          "text": [
            "/content/Mask_RCNN/customImages\n"
          ],
          "name": "stdout"
        }
      ]
    },
    {
      "metadata": {
        "id": "PTNGeZ-0rRIo",
        "colab_type": "code",
        "outputId": "048e7364-13f4-4abb-ecfd-af8449d6400a",
        "colab": {
          "base_uri": "https://localhost:8080/",
          "height": 85
        }
      },
      "cell_type": "code",
      "source": [
        "# Load dataset\n",
        "# Get the dataset from the releases page\n",
        "# https://github.com/matterport/Mask_RCNN/releases\n",
        "dataset = custom.CustomDataset()\n",
        "dataset.load_custom(CUSTOM_DIR, \"train\")\n",
        "\n",
        "# Must call before using the dataset\n",
        "dataset.prepare()\n",
        "\n",
        "print(\"Image Count: {}\".format(len(dataset.image_ids)))\n",
        "print(\"Class Count: {}\".format(dataset.num_classes))\n",
        "for i, info in enumerate(dataset.class_info):\n",
        "    print(\"{:3}. {:50}\".format(i, info['name']))"
      ],
      "execution_count": 0,
      "outputs": [
        {
          "output_type": "stream",
          "text": [
            "Image Count: 130\n",
            "Class Count: 2\n",
            "  0. BG                                                \n",
            "  1. damage                                            \n"
          ],
          "name": "stdout"
        }
      ]
    },
    {
      "metadata": {
        "id": "pie5zHx-rSsg",
        "colab_type": "code",
        "outputId": "0aa169d5-d04a-47a8-bb2a-8e6a5ebf870d",
        "colab": {
          "base_uri": "https://localhost:8080/",
          "height": 85
        }
      },
      "cell_type": "code",
      "source": [
        "!ls"
      ],
      "execution_count": 0,
      "outputs": [
        {
          "output_type": "stream",
          "text": [
            "assets\t      dist     MANIFEST.in\t   README.md\t     setup.py\n",
            "build\t      images   mask_rcnn.egg-info  requirements.txt  visualize.py\n",
            "customImages  LICENSE  mrcnn\t\t   samples\n",
            "custom.py     logs     __pycache__\t   setup.cfg\n"
          ],
          "name": "stdout"
        }
      ]
    },
    {
      "metadata": {
        "id": "gGnIAtr9rURY",
        "colab_type": "code",
        "outputId": "b276e37e-dd5e-4443-ba7a-5b8bb07ead93",
        "colab": {
          "base_uri": "https://localhost:8080/",
          "height": 921
        }
      },
      "cell_type": "code",
      "source": [
        "class InferenceConfig(custom.CustomConfig):\n",
        "    # Set batch size to 1 since we'll be running inference on\n",
        "    # one image at a time. Batch size = GPU_COUNT * IMAGES_PER_GPU\n",
        "    GPU_COUNT = 1\n",
        "    IMAGES_PER_GPU = 1\n",
        "\n",
        "config = InferenceConfig()\n",
        "config.display()"
      ],
      "execution_count": 0,
      "outputs": [
        {
          "output_type": "stream",
          "text": [
            "\n",
            "Configurations:\n",
            "BACKBONE                       resnet101\n",
            "BACKBONE_STRIDES               [4, 8, 16, 32, 64]\n",
            "BATCH_SIZE                     1\n",
            "BBOX_STD_DEV                   [0.1 0.1 0.2 0.2]\n",
            "COMPUTE_BACKBONE_SHAPE         None\n",
            "DETECTION_MAX_INSTANCES        100\n",
            "DETECTION_MIN_CONFIDENCE       0.9\n",
            "DETECTION_NMS_THRESHOLD        0.3\n",
            "FPN_CLASSIF_FC_LAYERS_SIZE     1024\n",
            "GPU_COUNT                      1\n",
            "GRADIENT_CLIP_NORM             5.0\n",
            "IMAGES_PER_GPU                 1\n",
            "IMAGE_CHANNEL_COUNT            3\n",
            "IMAGE_MAX_DIM                  1024\n",
            "IMAGE_META_SIZE                14\n",
            "IMAGE_MIN_DIM                  800\n",
            "IMAGE_MIN_SCALE                0\n",
            "IMAGE_RESIZE_MODE              square\n",
            "IMAGE_SHAPE                    [1024 1024    3]\n",
            "LEARNING_MOMENTUM              0.9\n",
            "LEARNING_RATE                  0.001\n",
            "LOSS_WEIGHTS                   {'rpn_class_loss': 1.0, 'rpn_bbox_loss': 1.0, 'mrcnn_class_loss': 1.0, 'mrcnn_bbox_loss': 1.0, 'mrcnn_mask_loss': 1.0}\n",
            "MASK_POOL_SIZE                 14\n",
            "MASK_SHAPE                     [28, 28]\n",
            "MAX_GT_INSTANCES               100\n",
            "MEAN_PIXEL                     [123.7 116.8 103.9]\n",
            "MINI_MASK_SHAPE                (56, 56)\n",
            "NAME                           damage\n",
            "NUM_CLASSES                    2\n",
            "POOL_SIZE                      7\n",
            "POST_NMS_ROIS_INFERENCE        1000\n",
            "POST_NMS_ROIS_TRAINING         2000\n",
            "PRE_NMS_LIMIT                  6000\n",
            "ROI_POSITIVE_RATIO             0.33\n",
            "RPN_ANCHOR_RATIOS              [0.5, 1, 2]\n",
            "RPN_ANCHOR_SCALES              (32, 64, 128, 256, 512)\n",
            "RPN_ANCHOR_STRIDE              1\n",
            "RPN_BBOX_STD_DEV               [0.1 0.1 0.2 0.2]\n",
            "RPN_NMS_THRESHOLD              0.7\n",
            "RPN_TRAIN_ANCHORS_PER_IMAGE    256\n",
            "STEPS_PER_EPOCH                100\n",
            "TOP_DOWN_PYRAMID_SIZE          256\n",
            "TRAIN_BN                       False\n",
            "TRAIN_ROIS_PER_IMAGE           200\n",
            "USE_MINI_MASK                  True\n",
            "USE_RPN_ROIS                   True\n",
            "VALIDATION_STEPS               50\n",
            "WEIGHT_DECAY                   0.0001\n",
            "\n",
            "\n"
          ],
          "name": "stdout"
        }
      ]
    },
    {
      "metadata": {
        "id": "UQOAUJ8MWqHX",
        "colab_type": "code",
        "colab": {}
      },
      "cell_type": "code",
      "source": [
        "# %cd Mask_RCNN/"
      ],
      "execution_count": 0,
      "outputs": []
    },
    {
      "metadata": {
        "id": "IzN2RmgQWpso",
        "colab_type": "code",
        "outputId": "c25da4f9-513d-4653-d73a-453cd831f845",
        "colab": {
          "base_uri": "https://localhost:8080/",
          "height": 85
        }
      },
      "cell_type": "code",
      "source": [
        "!ls"
      ],
      "execution_count": 0,
      "outputs": [
        {
          "output_type": "stream",
          "text": [
            "assets\t      dist     MANIFEST.in\t   README.md\t     setup.py\n",
            "build\t      images   mask_rcnn.egg-info  requirements.txt  visualize.py\n",
            "customImages  LICENSE  mrcnn\t\t   samples\n",
            "custom.py     logs     __pycache__\t   setup.cfg\n"
          ],
          "name": "stdout"
        }
      ]
    },
    {
      "metadata": {
        "id": "9-xpzSzNrVjI",
        "colab_type": "code",
        "outputId": "d9055e0a-10a1-4eae-e90b-ce1b3820b292",
        "colab": {
          "base_uri": "https://localhost:8080/",
          "height": 85
        }
      },
      "cell_type": "code",
      "source": [
        "!ls"
      ],
      "execution_count": 0,
      "outputs": [
        {
          "output_type": "stream",
          "text": [
            "assets\t      dist     MANIFEST.in\t   README.md\t     setup.py\n",
            "build\t      images   mask_rcnn.egg-info  requirements.txt  visualize.py\n",
            "customImages  LICENSE  mrcnn\t\t   samples\n",
            "custom.py     logs     __pycache__\t   setup.cfg\n"
          ],
          "name": "stdout"
        }
      ]
    },
    {
      "metadata": {
        "id": "x2IH9QD3DDCT",
        "colab_type": "code",
        "outputId": "99307f42-c775-4b96-805a-c67e77355b24",
        "colab": {
          "base_uri": "https://localhost:8080/",
          "height": 34
        }
      },
      "cell_type": "code",
      "source": [
        "!pwd"
      ],
      "execution_count": 0,
      "outputs": [
        {
          "output_type": "stream",
          "text": [
            "/content/Mask_RCNN\n"
          ],
          "name": "stdout"
        }
      ]
    },
    {
      "metadata": {
        "id": "YBF7TtzDC3ix",
        "colab_type": "code",
        "outputId": "686dffcf-2960-4337-d333-1206ae965b6e",
        "colab": {
          "base_uri": "https://localhost:8080/",
          "height": 34
        }
      },
      "cell_type": "code",
      "source": [
        "import shutil\n",
        "shutil.copy('/content/drive/My Drive/Potholes_tataInnoverse/car_pothole_model.zip', '/content/Mask_RCNN')"
      ],
      "execution_count": 0,
      "outputs": [
        {
          "output_type": "execute_result",
          "data": {
            "text/plain": [
              "'/content/Mask_RCNN/car_pothole_model.zip'"
            ]
          },
          "metadata": {
            "tags": []
          },
          "execution_count": 49
        }
      ]
    },
    {
      "metadata": {
        "id": "phJMJJGaDL1_",
        "colab_type": "code",
        "outputId": "5f82bd4a-94c6-4b85-9bc2-d618eea5a2ea",
        "colab": {
          "base_uri": "https://localhost:8080/",
          "height": 238
        }
      },
      "cell_type": "code",
      "source": [
        "!unzip car_pothole_model.zip"
      ],
      "execution_count": 0,
      "outputs": [
        {
          "output_type": "stream",
          "text": [
            "Archive:  car_pothole_model.zip\n",
            "   creating: logs/damage20190101T2338/\n",
            "  inflating: logs/damage20190101T2338/mask_rcnn_damage_0003.h5  \n",
            "  inflating: logs/damage20190101T2338/mask_rcnn_damage_0004.h5  \n",
            "  inflating: logs/damage20190101T2338/mask_rcnn_damage_0010.h5  \n",
            "  inflating: logs/damage20190101T2338/mask_rcnn_damage_0002.h5  \n",
            "  inflating: logs/damage20190101T2338/events.out.tfevents.1546385942.8dd567338b7e  \n",
            "  inflating: logs/damage20190101T2338/mask_rcnn_damage_0008.h5  \n",
            "  inflating: logs/damage20190101T2338/mask_rcnn_damage_0001.h5  \n",
            "  inflating: logs/damage20190101T2338/mask_rcnn_damage_0006.h5  \n",
            "  inflating: logs/damage20190101T2338/mask_rcnn_damage_0005.h5  \n",
            "  inflating: logs/damage20190101T2338/mask_rcnn_damage_0007.h5  \n",
            "  inflating: logs/damage20190101T2338/mask_rcnn_damage_0009.h5  \n"
          ],
          "name": "stdout"
        }
      ]
    },
    {
      "metadata": {
        "id": "5YnxAHNTrXIf",
        "colab_type": "code",
        "colab": {}
      },
      "cell_type": "code",
      "source": [
        "# !wget http://93.188.165.63/pothole/mask_rcnn_damage_0010.h5  --no-check-certificate\n",
        "# !wget https://formpicture.com/uploads/pothole/models/mask_rcnn_damage_0010.h5 --no-check-certificate"
      ],
      "execution_count": 0,
      "outputs": []
    },
    {
      "metadata": {
        "id": "1ZolNeUkrcrH",
        "colab_type": "code",
        "outputId": "62f1d48e-4d0c-46c0-d3ad-f7217aa36e9f",
        "colab": {
          "base_uri": "https://localhost:8080/",
          "height": 102
        }
      },
      "cell_type": "code",
      "source": [
        "!ls"
      ],
      "execution_count": 0,
      "outputs": [
        {
          "output_type": "stream",
          "text": [
            "assets\t\t       dist\t    mask_rcnn.egg-info\tsamples\n",
            "build\t\t       images\t    mrcnn\t\tsetup.cfg\n",
            "car_pothole_model.zip  LICENSE\t    __pycache__\t\tsetup.py\n",
            "customImages\t       logs\t    README.md\t\tvisualize.py\n",
            "custom.py\t       MANIFEST.in  requirements.txt\n"
          ],
          "name": "stdout"
        }
      ]
    },
    {
      "metadata": {
        "id": "Q2Zb-CoErqdL",
        "colab_type": "code",
        "outputId": "9d6fb357-a1e1-4f3d-8279-69919078d7e6",
        "colab": {
          "base_uri": "https://localhost:8080/",
          "height": 105
        }
      },
      "cell_type": "code",
      "source": [
        "# Create model object in inference mode.\n",
        "model = modellib.MaskRCNN(mode=\"inference\", model_dir=MODEL_DIR, config=config)\n",
        "\n",
        "# Load weights trained on MS-COCO\n",
        "model.load_weights(\"logs/damage20190101T2338/mask_rcnn_damage_0010.h5\", by_name=True)"
      ],
      "execution_count": 0,
      "outputs": [
        {
          "output_type": "stream",
          "text": [
            "WARNING:tensorflow:From /usr/local/lib/python3.6/dist-packages/tensorflow/python/ops/sparse_ops.py:1165: sparse_to_dense (from tensorflow.python.ops.sparse_ops) is deprecated and will be removed in a future version.\n",
            "Instructions for updating:\n",
            "Create a `tf.sparse.SparseTensor` and use `tf.sparse.to_dense` instead.\n"
          ],
          "name": "stderr"
        },
        {
          "output_type": "stream",
          "text": [
            "Re-starting from epoch 10\n"
          ],
          "name": "stdout"
        }
      ]
    },
    {
      "metadata": {
        "id": "u_GB95GTrsX8",
        "colab_type": "code",
        "colab": {}
      },
      "cell_type": "code",
      "source": [
        "class_names = ['BG', 'damage']"
      ],
      "execution_count": 0,
      "outputs": []
    },
    {
      "metadata": {
        "id": "j1lWKD6mrtts",
        "colab_type": "code",
        "outputId": "38dee4db-0c5d-4397-9c06-51ee7853ace7",
        "colab": {
          "base_uri": "https://localhost:8080/",
          "height": 34
        }
      },
      "cell_type": "code",
      "source": [
        "!pwd"
      ],
      "execution_count": 0,
      "outputs": [
        {
          "output_type": "stream",
          "text": [
            "/content/Mask_RCNN\n"
          ],
          "name": "stdout"
        }
      ]
    },
    {
      "metadata": {
        "id": "Thqg5gu3rE-J",
        "colab_type": "code",
        "outputId": "d86827ed-0f2f-4497-fbba-518e40798726",
        "colab": {
          "base_uri": "https://localhost:8080/",
          "height": 34
        }
      },
      "cell_type": "code",
      "source": [
        "%cd .."
      ],
      "execution_count": 0,
      "outputs": [
        {
          "output_type": "stream",
          "text": [
            "/content\n"
          ],
          "name": "stdout"
        }
      ]
    },
    {
      "metadata": {
        "id": "KN9DuofJuIhz",
        "colab_type": "code",
        "outputId": "4a1a7c37-c495-483d-8b8f-1265968ae0f3",
        "colab": {
          "base_uri": "https://localhost:8080/",
          "height": 224
        }
      },
      "cell_type": "code",
      "source": [
        "# !wget http://formpicture.com/uploads/pothole/customImages/train/%5cframe17.jpg --no-check-certificate\n",
        "# !wget http://formpicture.com/ipuresult/dirburst/img0a157-lat-28.5557378-long-77.2658383.jpeg --no-check-certificate\n",
        "# !wget https://formpicture.com/uploads/pothole/dirburst/img025a2-lat-28.5557378-long-77.2658383.jpeg --no-check-certificate\n",
        "# !wget https://formpicture.com/uploads/pothole/separate%20Image/img00bd1-lat-28.5536884-long-77.2669158.jpeg --no-check-certificate\n",
        "\n",
        "## Testing 3\n",
        "!wget https://formpicture.com/uploads/pothole/separate%20Image/img01aa4-lat-28.5557378-long-77.2658383.jpeg --no-check-certificate\n",
        "# !wget https://formpicture.com/uploads/pothole/separate%20Image/img1c5b4-lat-28.5536884-long-77.2669158.jpeg --no-check-certificate\n",
        "## Testing 5\n",
        "# !wget https://formpicture.com/uploads/pothole/separate%20Image/img0d7ac-lat-28.5536884-long-77.2669158.jpeg --no-check-certificate"
      ],
      "execution_count": 0,
      "outputs": [
        {
          "output_type": "stream",
          "text": [
            "--2019-01-03 21:49:57--  https://formpicture.com/uploads/pothole/separate%20Image/img01aa4-lat-28.5557378-long-77.2658383.jpeg\n",
            "Resolving formpicture.com (formpicture.com)... 93.188.165.63\n",
            "Connecting to formpicture.com (formpicture.com)|93.188.165.63|:443... connected.\n",
            "HTTP request sent, awaiting response... 200 OK\n",
            "Length: 78480 (77K) [image/jpeg]\n",
            "Saving to: ‘img01aa4-lat-28.5557378-long-77.2658383.jpeg’\n",
            "\n",
            "\r          img01aa4-   0%[                    ]       0  --.-KB/s               \r         img01aa4-l  52%[=========>          ]  40.00K   111KB/s               \rimg01aa4-lat-28.555 100%[===================>]  76.64K   211KB/s    in 0.4s    \n",
            "\n",
            "2019-01-03 21:49:58 (211 KB/s) - ‘img01aa4-lat-28.5557378-long-77.2658383.jpeg’ saved [78480/78480]\n",
            "\n"
          ],
          "name": "stdout"
        }
      ]
    },
    {
      "metadata": {
        "id": "O2Pz89qfuKpc",
        "colab_type": "code",
        "outputId": "e6d4f075-c816-4c90-b29c-c6b460216216",
        "colab": {
          "base_uri": "https://localhost:8080/",
          "height": 51
        }
      },
      "cell_type": "code",
      "source": [
        "!ls"
      ],
      "execution_count": 0,
      "outputs": [
        {
          "output_type": "stream",
          "text": [
            "drive\t\t\t\t\t      __MACOSX\t sample_data\n",
            "img01aa4-lat-28.5557378-long-77.2658383.jpeg  Mask_RCNN\n"
          ],
          "name": "stdout"
        }
      ]
    },
    {
      "metadata": {
        "id": "ECcqzirHuMEc",
        "colab_type": "code",
        "colab": {}
      },
      "cell_type": "code",
      "source": [
        "# !mv 'img0d7ac-lat-28.5536884-long-77.2669158.jpeg' testingImage5.jpg\n",
        "!mv 'img01aa4-lat-28.5557378-long-77.2658383.jpeg' testingImage7.jpg"
      ],
      "execution_count": 0,
      "outputs": []
    },
    {
      "metadata": {
        "id": "NMs6esAAuZ6u",
        "colab_type": "code",
        "colab": {}
      },
      "cell_type": "code",
      "source": [
        "# !rm -rf testingImage7"
      ],
      "execution_count": 0,
      "outputs": []
    },
    {
      "metadata": {
        "id": "3QtrR_SVuby2",
        "colab_type": "code",
        "outputId": "0c39ec29-08c5-4c8e-ba97-afdb6da3c726",
        "colab": {
          "base_uri": "https://localhost:8080/",
          "height": 5749
        }
      },
      "cell_type": "code",
      "source": [
        "!pip install scipy\n",
        "!pip install scikit-image\n",
        "!apt-get install python-matplotlib python-numpy python-pil python-scipy\n",
        "!apt-get install build-essential cython\n",
        "!apt-get install python-skimage"
      ],
      "execution_count": 0,
      "outputs": [
        {
          "output_type": "stream",
          "text": [
            "Requirement already satisfied: scipy in /usr/local/lib/python3.6/dist-packages (1.1.0)\n",
            "Requirement already satisfied: numpy>=1.8.2 in /usr/local/lib/python3.6/dist-packages (from scipy) (1.14.6)\n",
            "Requirement already satisfied: scikit-image in /usr/local/lib/python3.6/dist-packages (0.13.1)\n",
            "Requirement already satisfied: pillow>=2.1.0 in /usr/local/lib/python3.6/dist-packages (from scikit-image) (4.0.0)\n",
            "Requirement already satisfied: matplotlib>=1.3.1 in /usr/local/lib/python3.6/dist-packages (from scikit-image) (2.1.2)\n",
            "Requirement already satisfied: six>=1.7.3 in /usr/local/lib/python3.6/dist-packages (from scikit-image) (1.11.0)\n",
            "Requirement already satisfied: networkx>=1.8 in /usr/local/lib/python3.6/dist-packages (from scikit-image) (2.2)\n",
            "Requirement already satisfied: PyWavelets>=0.4.0 in /usr/local/lib/python3.6/dist-packages (from scikit-image) (1.0.1)\n",
            "Requirement already satisfied: scipy>=0.17.0 in /usr/local/lib/python3.6/dist-packages (from scikit-image) (1.1.0)\n",
            "Requirement already satisfied: olefile in /usr/local/lib/python3.6/dist-packages (from pillow>=2.1.0->scikit-image) (0.46)\n",
            "Requirement already satisfied: pytz in /usr/local/lib/python3.6/dist-packages (from matplotlib>=1.3.1->scikit-image) (2018.7)\n",
            "Requirement already satisfied: numpy>=1.7.1 in /usr/local/lib/python3.6/dist-packages (from matplotlib>=1.3.1->scikit-image) (1.14.6)\n",
            "Requirement already satisfied: python-dateutil>=2.1 in /usr/local/lib/python3.6/dist-packages (from matplotlib>=1.3.1->scikit-image) (2.5.3)\n",
            "Requirement already satisfied: cycler>=0.10 in /usr/local/lib/python3.6/dist-packages (from matplotlib>=1.3.1->scikit-image) (0.10.0)\n",
            "Requirement already satisfied: pyparsing!=2.0.4,!=2.1.2,!=2.1.6,>=2.0.1 in /usr/local/lib/python3.6/dist-packages (from matplotlib>=1.3.1->scikit-image) (2.3.0)\n",
            "Requirement already satisfied: decorator>=4.3.0 in /usr/local/lib/python3.6/dist-packages (from networkx>=1.8->scikit-image) (4.3.0)\n",
            "Reading package lists... Done\n",
            "Building dependency tree       \n",
            "Reading state information... Done\n",
            "python-numpy is already the newest version (1:1.13.3-2ubuntu1).\n",
            "python-numpy set to manually installed.\n",
            "python-pil is already the newest version (5.1.0-1).\n",
            "The following additional packages will be installed:\n",
            "  fonts-lyx javascript-common libjs-jquery libjs-jquery-ui\n",
            "  python-backports.functools-lru-cache python-cycler python-dateutil\n",
            "  python-decorator python-matplotlib-data python-pyparsing python-six\n",
            "  python-subprocess32 python-tz ttf-bitstream-vera\n",
            "Suggested packages:\n",
            "  apache2 | lighttpd | httpd libjs-jquery-ui-docs python-cycler-doc dvipng\n",
            "  gir1.2-gtk-3.0 ghostscript inkscape ipython python-cairocffi\n",
            "  python-configobj python-excelerator python-gobject python-matplotlib-doc\n",
            "  python-nose python-qt4 python-sip python-tornado python-traits\n",
            "  python-wxgtk3.0 texlive-extra-utils texlive-latex-extra ttf-staypuft\n",
            "  python-pyparsing-doc python-scipy-doc\n",
            "The following NEW packages will be installed:\n",
            "  fonts-lyx javascript-common libjs-jquery libjs-jquery-ui\n",
            "  python-backports.functools-lru-cache python-cycler python-dateutil\n",
            "  python-decorator python-matplotlib python-matplotlib-data python-pyparsing\n",
            "  python-scipy python-six python-subprocess32 python-tz ttf-bitstream-vera\n",
            "0 upgraded, 16 newly installed, 0 to remove and 8 not upgraded.\n",
            "Need to get 18.5 MB of archives.\n",
            "After this operation, 69.6 MB of additional disk space will be used.\n",
            "Get:1 http://archive.ubuntu.com/ubuntu bionic/universe amd64 fonts-lyx all 2.2.3-5 [155 kB]\n",
            "Get:2 http://archive.ubuntu.com/ubuntu bionic/main amd64 javascript-common all 11 [6,066 B]\n",
            "Get:3 http://archive.ubuntu.com/ubuntu bionic/main amd64 libjs-jquery all 3.2.1-1 [152 kB]\n",
            "Get:4 http://archive.ubuntu.com/ubuntu bionic/universe amd64 libjs-jquery-ui all 1.12.1+dfsg-5 [232 kB]\n",
            "Get:5 http://archive.ubuntu.com/ubuntu bionic/universe amd64 python-backports.functools-lru-cache all 1.4-2 [5,960 B]\n",
            "Get:6 http://archive.ubuntu.com/ubuntu bionic/main amd64 python-six all 1.11.0-2 [11.3 kB]\n",
            "Get:7 http://archive.ubuntu.com/ubuntu bionic/universe amd64 python-cycler all 0.10.0-1 [7,520 B]\n",
            "Get:8 http://archive.ubuntu.com/ubuntu bionic/main amd64 python-dateutil all 2.6.1-1 [60.6 kB]\n",
            "Get:9 http://archive.ubuntu.com/ubuntu bionic/main amd64 python-decorator all 4.1.2-1 [9,300 B]\n",
            "Get:10 http://archive.ubuntu.com/ubuntu bionic/universe amd64 ttf-bitstream-vera all 1.10-8 [352 kB]\n",
            "Get:11 http://archive.ubuntu.com/ubuntu bionic/universe amd64 python-matplotlib-data all 2.1.1-2ubuntu3 [3,774 kB]\n",
            "Get:12 http://archive.ubuntu.com/ubuntu bionic/main amd64 python-pyparsing all 2.2.0+dfsg1-2 [52.1 kB]\n",
            "Get:13 http://archive.ubuntu.com/ubuntu bionic/main amd64 python-tz all 2018.3-2 [31.6 kB]\n",
            "Get:14 http://archive.ubuntu.com/ubuntu bionic/universe amd64 python-subprocess32 amd64 3.2.7-3 [27.2 kB]\n",
            "Get:15 http://archive.ubuntu.com/ubuntu bionic/universe amd64 python-matplotlib amd64 2.1.1-2ubuntu3 [3,901 kB]\n",
            "Get:16 http://archive.ubuntu.com/ubuntu bionic/universe amd64 python-scipy amd64 0.19.1-2ubuntu1 [9,689 kB]\n",
            "Fetched 18.5 MB in 4s (4,347 kB/s)\n",
            "Selecting previously unselected package fonts-lyx.\n",
            "(Reading database ... 110842 files and directories currently installed.)\n",
            "Preparing to unpack .../00-fonts-lyx_2.2.3-5_all.deb ...\n",
            "Unpacking fonts-lyx (2.2.3-5) ...\n",
            "Selecting previously unselected package javascript-common.\n",
            "Preparing to unpack .../01-javascript-common_11_all.deb ...\n",
            "Unpacking javascript-common (11) ...\n",
            "Selecting previously unselected package libjs-jquery.\n",
            "Preparing to unpack .../02-libjs-jquery_3.2.1-1_all.deb ...\n",
            "Unpacking libjs-jquery (3.2.1-1) ...\n",
            "Selecting previously unselected package libjs-jquery-ui.\n",
            "Preparing to unpack .../03-libjs-jquery-ui_1.12.1+dfsg-5_all.deb ...\n",
            "Unpacking libjs-jquery-ui (1.12.1+dfsg-5) ...\n",
            "Selecting previously unselected package python-backports.functools-lru-cache.\n",
            "Preparing to unpack .../04-python-backports.functools-lru-cache_1.4-2_all.deb ...\n",
            "Unpacking python-backports.functools-lru-cache (1.4-2) ...\n",
            "Selecting previously unselected package python-six.\n",
            "Preparing to unpack .../05-python-six_1.11.0-2_all.deb ...\n",
            "Unpacking python-six (1.11.0-2) ...\n",
            "Selecting previously unselected package python-cycler.\n",
            "Preparing to unpack .../06-python-cycler_0.10.0-1_all.deb ...\n",
            "Unpacking python-cycler (0.10.0-1) ...\n",
            "Selecting previously unselected package python-dateutil.\n",
            "Preparing to unpack .../07-python-dateutil_2.6.1-1_all.deb ...\n",
            "Unpacking python-dateutil (2.6.1-1) ...\n",
            "Selecting previously unselected package python-decorator.\n",
            "Preparing to unpack .../08-python-decorator_4.1.2-1_all.deb ...\n",
            "Unpacking python-decorator (4.1.2-1) ...\n",
            "Selecting previously unselected package ttf-bitstream-vera.\n",
            "Preparing to unpack .../09-ttf-bitstream-vera_1.10-8_all.deb ...\n",
            "Unpacking ttf-bitstream-vera (1.10-8) ...\n",
            "Selecting previously unselected package python-matplotlib-data.\n",
            "Preparing to unpack .../10-python-matplotlib-data_2.1.1-2ubuntu3_all.deb ...\n",
            "Unpacking python-matplotlib-data (2.1.1-2ubuntu3) ...\n",
            "Selecting previously unselected package python-pyparsing.\n",
            "Preparing to unpack .../11-python-pyparsing_2.2.0+dfsg1-2_all.deb ...\n",
            "Unpacking python-pyparsing (2.2.0+dfsg1-2) ...\n",
            "Selecting previously unselected package python-tz.\n",
            "Preparing to unpack .../12-python-tz_2018.3-2_all.deb ...\n",
            "Unpacking python-tz (2018.3-2) ...\n",
            "Selecting previously unselected package python-subprocess32.\n",
            "Preparing to unpack .../13-python-subprocess32_3.2.7-3_amd64.deb ...\n",
            "Unpacking python-subprocess32 (3.2.7-3) ...\n",
            "Selecting previously unselected package python-matplotlib.\n",
            "Preparing to unpack .../14-python-matplotlib_2.1.1-2ubuntu3_amd64.deb ...\n",
            "Unpacking python-matplotlib (2.1.1-2ubuntu3) ...\n",
            "Selecting previously unselected package python-scipy.\n",
            "Preparing to unpack .../15-python-scipy_0.19.1-2ubuntu1_amd64.deb ...\n",
            "Unpacking python-scipy (0.19.1-2ubuntu1) ...\n",
            "Setting up libjs-jquery (3.2.1-1) ...\n",
            "Setting up python-backports.functools-lru-cache (1.4-2) ...\n",
            "Setting up python-tz (2018.3-2) ...\n",
            "Setting up python-six (1.11.0-2) ...\n",
            "Setting up libjs-jquery-ui (1.12.1+dfsg-5) ...\n",
            "Setting up ttf-bitstream-vera (1.10-8) ...\n",
            "Setting up python-decorator (4.1.2-1) ...\n",
            "Setting up javascript-common (11) ...\n",
            "Setting up python-subprocess32 (3.2.7-3) ...\n",
            "Processing triggers for fontconfig (2.12.6-0ubuntu2) ...\n",
            "Setting up fonts-lyx (2.2.3-5) ...\n",
            "Setting up python-pyparsing (2.2.0+dfsg1-2) ...\n",
            "Setting up python-matplotlib-data (2.1.1-2ubuntu3) ...\n",
            "Setting up python-scipy (0.19.1-2ubuntu1) ...\n",
            "Setting up python-cycler (0.10.0-1) ...\n",
            "Setting up python-dateutil (2.6.1-1) ...\n",
            "Setting up python-matplotlib (2.1.1-2ubuntu3) ...\n",
            "Reading package lists... Done\n",
            "Building dependency tree       \n",
            "Reading state information... Done\n",
            "build-essential is already the newest version (12.4ubuntu1).\n",
            "Suggested packages:\n",
            "  cython-doc\n",
            "The following NEW packages will be installed:\n",
            "  cython\n",
            "0 upgraded, 1 newly installed, 0 to remove and 8 not upgraded.\n",
            "Need to get 1,874 kB of archives.\n",
            "After this operation, 8,642 kB of additional disk space will be used.\n",
            "Get:1 http://archive.ubuntu.com/ubuntu bionic/universe amd64 cython amd64 0.26.1-0.4 [1,874 kB]\n",
            "Fetched 1,874 kB in 2s (798 kB/s)\n",
            "Selecting previously unselected package cython.\n",
            "(Reading database ... 112893 files and directories currently installed.)\n",
            "Preparing to unpack .../cython_0.26.1-0.4_amd64.deb ...\n",
            "Unpacking cython (0.26.1-0.4) ...\n",
            "Setting up cython (0.26.1-0.4) ...\n",
            "Processing triggers for man-db (2.8.3-2ubuntu0.1) ...\n",
            "Reading package lists... Done\n",
            "Building dependency tree       \n",
            "Reading state information... Done\n",
            "The following additional packages will be installed:\n",
            "  libaudio2 libmng2 libqt4-dbus libqt4-declarative libqt4-designer libqt4-help\n",
            "  libqt4-network libqt4-script libqt4-scripttools libqt4-sql libqt4-sql-mysql\n",
            "  libqt4-svg libqt4-test libqt4-xml libqt4-xmlpatterns libqtassistantclient4\n",
            "  libqtcore4 libqtdbus4 libqtgui4 libyaml-0-2 python-networkx python-nose\n",
            "  python-pkg-resources python-pywt python-qt4 python-sip python-skimage-lib\n",
            "  python-yaml qdbus qt-at-spi qtcore4-l10n\n",
            "Suggested packages:\n",
            "  nas libqt4-declarative-folderlistmodel libqt4-declarative-gestures\n",
            "  libqt4-declarative-particles libqt4-declarative-shaders qt4-qmlviewer\n",
            "  libqt4-dev libicu55 qt4-qtconfig python-pygraphviz | python-pydot\n",
            "  python-coverage python-nose-doc python-setuptools python-qt4-dbg\n",
            "  python-opencv python-skimage-doc\n",
            "The following NEW packages will be installed:\n",
            "  libaudio2 libmng2 libqt4-dbus libqt4-declarative libqt4-designer libqt4-help\n",
            "  libqt4-network libqt4-script libqt4-scripttools libqt4-sql libqt4-sql-mysql\n",
            "  libqt4-svg libqt4-test libqt4-xml libqt4-xmlpatterns libqtassistantclient4\n",
            "  libqtcore4 libqtdbus4 libqtgui4 libyaml-0-2 python-networkx python-nose\n",
            "  python-pkg-resources python-pywt python-qt4 python-sip python-skimage\n",
            "  python-skimage-lib python-yaml qdbus qt-at-spi qtcore4-l10n\n",
            "0 upgraded, 32 newly installed, 0 to remove and 8 not upgraded.\n",
            "Need to get 40.4 MB of archives.\n",
            "After this operation, 110 MB of additional disk space will be used.\n",
            "Get:1 http://archive.ubuntu.com/ubuntu bionic/universe amd64 libmng2 amd64 2.0.2-0ubuntu3 [169 kB]\n",
            "Get:2 http://archive.ubuntu.com/ubuntu bionic/main amd64 libyaml-0-2 amd64 0.1.7-2ubuntu3 [47.2 kB]\n",
            "Get:3 http://archive.ubuntu.com/ubuntu bionic/main amd64 libaudio2 amd64 1.9.4-6 [50.3 kB]\n",
            "Get:4 http://archive.ubuntu.com/ubuntu bionic/universe amd64 qtcore4-l10n all 4:4.8.7+dfsg-7ubuntu1 [617 kB]\n",
            "Get:5 http://archive.ubuntu.com/ubuntu bionic/universe amd64 libqtcore4 amd64 4:4.8.7+dfsg-7ubuntu1 [1,552 kB]\n",
            "Get:6 http://archive.ubuntu.com/ubuntu bionic/universe amd64 libqt4-xml amd64 4:4.8.7+dfsg-7ubuntu1 [96.1 kB]\n",
            "Get:7 http://archive.ubuntu.com/ubuntu bionic/universe amd64 libqtdbus4 amd64 4:4.8.7+dfsg-7ubuntu1 [186 kB]\n",
            "Get:8 http://archive.ubuntu.com/ubuntu bionic/universe amd64 qdbus amd64 4:4.8.7+dfsg-7ubuntu1 [30.0 kB]\n",
            "Get:9 http://archive.ubuntu.com/ubuntu bionic/universe amd64 libqt4-dbus amd64 4:4.8.7+dfsg-7ubuntu1 [6,440 B]\n",
            "Get:10 http://archive.ubuntu.com/ubuntu bionic/universe amd64 libqt4-network amd64 4:4.8.7+dfsg-7ubuntu1 [562 kB]\n",
            "Get:11 http://archive.ubuntu.com/ubuntu bionic/universe amd64 libqt4-script amd64 4:4.8.7+dfsg-7ubuntu1 [815 kB]\n",
            "Get:12 http://archive.ubuntu.com/ubuntu bionic/universe amd64 libqt4-sql amd64 4:4.8.7+dfsg-7ubuntu1 [98.5 kB]\n",
            "Get:13 http://archive.ubuntu.com/ubuntu bionic/universe amd64 libqt4-xmlpatterns amd64 4:4.8.7+dfsg-7ubuntu1 [1,091 kB]\n",
            "Get:14 http://archive.ubuntu.com/ubuntu bionic/universe amd64 libqtgui4 amd64 4:4.8.7+dfsg-7ubuntu1 [4,115 kB]\n",
            "Get:15 http://archive.ubuntu.com/ubuntu bionic/universe amd64 libqt4-declarative amd64 4:4.8.7+dfsg-7ubuntu1 [1,089 kB]\n",
            "Get:16 http://archive.ubuntu.com/ubuntu bionic/universe amd64 libqt4-designer amd64 4:4.8.7+dfsg-7ubuntu1 [3,629 kB]\n",
            "Get:17 http://archive.ubuntu.com/ubuntu bionic/universe amd64 libqt4-help amd64 4:4.8.7+dfsg-7ubuntu1 [207 kB]\n",
            "Get:18 http://archive.ubuntu.com/ubuntu bionic/universe amd64 libqt4-scripttools amd64 4:4.8.7+dfsg-7ubuntu1 [225 kB]\n",
            "Get:19 http://archive.ubuntu.com/ubuntu bionic/universe amd64 libqt4-sql-mysql amd64 4:4.8.7+dfsg-7ubuntu1 [30.5 kB]\n",
            "Get:20 http://archive.ubuntu.com/ubuntu bionic/universe amd64 libqt4-svg amd64 4:4.8.7+dfsg-7ubuntu1 [138 kB]\n",
            "Get:21 http://archive.ubuntu.com/ubuntu bionic/universe amd64 libqt4-test amd64 4:4.8.7+dfsg-7ubuntu1 [61.2 kB]\n",
            "Get:22 http://archive.ubuntu.com/ubuntu bionic/universe amd64 libqtassistantclient4 amd64 4.6.3-7build1 [12.7 kB]\n",
            "Get:23 http://archive.ubuntu.com/ubuntu bionic/main amd64 python-networkx all 1.11-1ubuntu2 [804 kB]\n",
            "Get:24 http://archive.ubuntu.com/ubuntu bionic/main amd64 python-pkg-resources all 39.0.1-2 [128 kB]\n",
            "Get:25 http://archive.ubuntu.com/ubuntu bionic/universe amd64 python-nose all 1.3.7-3 [116 kB]\n",
            "Get:26 http://archive.ubuntu.com/ubuntu bionic/universe amd64 python-pywt amd64 0.5.1-1.1ubuntu4 [942 kB]\n",
            "Get:27 http://archive.ubuntu.com/ubuntu bionic/universe amd64 python-sip amd64 4.19.7+dfsg-1 [75.4 kB]\n",
            "Get:28 http://archive.ubuntu.com/ubuntu bionic/universe amd64 python-qt4 amd64 4.12.1+dfsg-2 [2,194 kB]\n",
            "Get:29 http://archive.ubuntu.com/ubuntu bionic/universe amd64 python-skimage-lib amd64 0.13.1-2 [1,565 kB]\n",
            "Get:30 http://archive.ubuntu.com/ubuntu bionic/universe amd64 python-skimage all 0.13.1-2 [19.6 MB]\n",
            "Get:31 http://archive.ubuntu.com/ubuntu bionic/main amd64 python-yaml amd64 3.12-1build2 [115 kB]\n",
            "Get:32 http://archive.ubuntu.com/ubuntu bionic/universe amd64 qt-at-spi amd64 0.4.0-8 [58.6 kB]\n",
            "Fetched 40.4 MB in 7s (6,143 kB/s)\n",
            "Extracting templates from packages: 100%\n",
            "Selecting previously unselected package libmng2:amd64.\n",
            "(Reading database ... 113220 files and directories currently installed.)\n",
            "Preparing to unpack .../00-libmng2_2.0.2-0ubuntu3_amd64.deb ...\n",
            "Unpacking libmng2:amd64 (2.0.2-0ubuntu3) ...\n",
            "Selecting previously unselected package libyaml-0-2:amd64.\n",
            "Preparing to unpack .../01-libyaml-0-2_0.1.7-2ubuntu3_amd64.deb ...\n",
            "Unpacking libyaml-0-2:amd64 (0.1.7-2ubuntu3) ...\n",
            "Selecting previously unselected package libaudio2:amd64.\n",
            "Preparing to unpack .../02-libaudio2_1.9.4-6_amd64.deb ...\n",
            "Unpacking libaudio2:amd64 (1.9.4-6) ...\n",
            "Selecting previously unselected package qtcore4-l10n.\n",
            "Preparing to unpack .../03-qtcore4-l10n_4%3a4.8.7+dfsg-7ubuntu1_all.deb ...\n",
            "Unpacking qtcore4-l10n (4:4.8.7+dfsg-7ubuntu1) ...\n",
            "Selecting previously unselected package libqtcore4:amd64.\n",
            "Preparing to unpack .../04-libqtcore4_4%3a4.8.7+dfsg-7ubuntu1_amd64.deb ...\n",
            "Unpacking libqtcore4:amd64 (4:4.8.7+dfsg-7ubuntu1) ...\n",
            "Selecting previously unselected package libqt4-xml:amd64.\n",
            "Preparing to unpack .../05-libqt4-xml_4%3a4.8.7+dfsg-7ubuntu1_amd64.deb ...\n",
            "Unpacking libqt4-xml:amd64 (4:4.8.7+dfsg-7ubuntu1) ...\n",
            "Selecting previously unselected package libqtdbus4:amd64.\n",
            "Preparing to unpack .../06-libqtdbus4_4%3a4.8.7+dfsg-7ubuntu1_amd64.deb ...\n",
            "Unpacking libqtdbus4:amd64 (4:4.8.7+dfsg-7ubuntu1) ...\n",
            "Selecting previously unselected package qdbus.\n",
            "Preparing to unpack .../07-qdbus_4%3a4.8.7+dfsg-7ubuntu1_amd64.deb ...\n",
            "Unpacking qdbus (4:4.8.7+dfsg-7ubuntu1) ...\n",
            "Selecting previously unselected package libqt4-dbus:amd64.\n",
            "Preparing to unpack .../08-libqt4-dbus_4%3a4.8.7+dfsg-7ubuntu1_amd64.deb ...\n",
            "Unpacking libqt4-dbus:amd64 (4:4.8.7+dfsg-7ubuntu1) ...\n",
            "Selecting previously unselected package libqt4-network:amd64.\n",
            "Preparing to unpack .../09-libqt4-network_4%3a4.8.7+dfsg-7ubuntu1_amd64.deb ...\n",
            "Unpacking libqt4-network:amd64 (4:4.8.7+dfsg-7ubuntu1) ...\n",
            "Selecting previously unselected package libqt4-script:amd64.\n",
            "Preparing to unpack .../10-libqt4-script_4%3a4.8.7+dfsg-7ubuntu1_amd64.deb ...\n",
            "Unpacking libqt4-script:amd64 (4:4.8.7+dfsg-7ubuntu1) ...\n",
            "Selecting previously unselected package libqt4-sql:amd64.\n",
            "Preparing to unpack .../11-libqt4-sql_4%3a4.8.7+dfsg-7ubuntu1_amd64.deb ...\n",
            "Unpacking libqt4-sql:amd64 (4:4.8.7+dfsg-7ubuntu1) ...\n",
            "Selecting previously unselected package libqt4-xmlpatterns:amd64.\n",
            "Preparing to unpack .../12-libqt4-xmlpatterns_4%3a4.8.7+dfsg-7ubuntu1_amd64.deb ...\n",
            "Unpacking libqt4-xmlpatterns:amd64 (4:4.8.7+dfsg-7ubuntu1) ...\n",
            "Selecting previously unselected package libqtgui4:amd64.\n",
            "Preparing to unpack .../13-libqtgui4_4%3a4.8.7+dfsg-7ubuntu1_amd64.deb ...\n",
            "Unpacking libqtgui4:amd64 (4:4.8.7+dfsg-7ubuntu1) ...\n",
            "Selecting previously unselected package libqt4-declarative:amd64.\n",
            "Preparing to unpack .../14-libqt4-declarative_4%3a4.8.7+dfsg-7ubuntu1_amd64.deb ...\n",
            "Unpacking libqt4-declarative:amd64 (4:4.8.7+dfsg-7ubuntu1) ...\n",
            "Selecting previously unselected package libqt4-designer:amd64.\n",
            "Preparing to unpack .../15-libqt4-designer_4%3a4.8.7+dfsg-7ubuntu1_amd64.deb ...\n",
            "Unpacking libqt4-designer:amd64 (4:4.8.7+dfsg-7ubuntu1) ...\n",
            "Selecting previously unselected package libqt4-help:amd64.\n",
            "Preparing to unpack .../16-libqt4-help_4%3a4.8.7+dfsg-7ubuntu1_amd64.deb ...\n",
            "Unpacking libqt4-help:amd64 (4:4.8.7+dfsg-7ubuntu1) ...\n",
            "Selecting previously unselected package libqt4-scripttools:amd64.\n",
            "Preparing to unpack .../17-libqt4-scripttools_4%3a4.8.7+dfsg-7ubuntu1_amd64.deb ...\n",
            "Unpacking libqt4-scripttools:amd64 (4:4.8.7+dfsg-7ubuntu1) ...\n",
            "Selecting previously unselected package libqt4-sql-mysql:amd64.\n",
            "Preparing to unpack .../18-libqt4-sql-mysql_4%3a4.8.7+dfsg-7ubuntu1_amd64.deb ...\n",
            "Unpacking libqt4-sql-mysql:amd64 (4:4.8.7+dfsg-7ubuntu1) ...\n",
            "Selecting previously unselected package libqt4-svg:amd64.\n",
            "Preparing to unpack .../19-libqt4-svg_4%3a4.8.7+dfsg-7ubuntu1_amd64.deb ...\n",
            "Unpacking libqt4-svg:amd64 (4:4.8.7+dfsg-7ubuntu1) ...\n",
            "Selecting previously unselected package libqt4-test:amd64.\n",
            "Preparing to unpack .../20-libqt4-test_4%3a4.8.7+dfsg-7ubuntu1_amd64.deb ...\n",
            "Unpacking libqt4-test:amd64 (4:4.8.7+dfsg-7ubuntu1) ...\n",
            "Selecting previously unselected package libqtassistantclient4:amd64.\n",
            "Preparing to unpack .../21-libqtassistantclient4_4.6.3-7build1_amd64.deb ...\n",
            "Unpacking libqtassistantclient4:amd64 (4.6.3-7build1) ...\n",
            "Selecting previously unselected package python-networkx.\n",
            "Preparing to unpack .../22-python-networkx_1.11-1ubuntu2_all.deb ...\n",
            "Unpacking python-networkx (1.11-1ubuntu2) ...\n",
            "Selecting previously unselected package python-pkg-resources.\n",
            "Preparing to unpack .../23-python-pkg-resources_39.0.1-2_all.deb ...\n",
            "Unpacking python-pkg-resources (39.0.1-2) ...\n",
            "Selecting previously unselected package python-nose.\n",
            "Preparing to unpack .../24-python-nose_1.3.7-3_all.deb ...\n",
            "Unpacking python-nose (1.3.7-3) ...\n",
            "Selecting previously unselected package python-pywt.\n",
            "Preparing to unpack .../25-python-pywt_0.5.1-1.1ubuntu4_amd64.deb ...\n",
            "Unpacking python-pywt (0.5.1-1.1ubuntu4) ...\n",
            "Selecting previously unselected package python-sip.\n",
            "Preparing to unpack .../26-python-sip_4.19.7+dfsg-1_amd64.deb ...\n",
            "Unpacking python-sip (4.19.7+dfsg-1) ...\n",
            "Selecting previously unselected package python-qt4.\n",
            "Preparing to unpack .../27-python-qt4_4.12.1+dfsg-2_amd64.deb ...\n",
            "Unpacking python-qt4 (4.12.1+dfsg-2) ...\n",
            "Selecting previously unselected package python-skimage-lib.\n",
            "Preparing to unpack .../28-python-skimage-lib_0.13.1-2_amd64.deb ...\n",
            "Unpacking python-skimage-lib (0.13.1-2) ...\n",
            "Selecting previously unselected package python-skimage.\n",
            "Preparing to unpack .../29-python-skimage_0.13.1-2_all.deb ...\n",
            "Unpacking python-skimage (0.13.1-2) ...\n",
            "Selecting previously unselected package python-yaml.\n",
            "Preparing to unpack .../30-python-yaml_3.12-1build2_amd64.deb ...\n",
            "Unpacking python-yaml (3.12-1build2) ...\n",
            "Selecting previously unselected package qt-at-spi:amd64.\n",
            "Preparing to unpack .../31-qt-at-spi_0.4.0-8_amd64.deb ...\n",
            "Unpacking qt-at-spi:amd64 (0.4.0-8) ...\n",
            "Setting up python-skimage-lib (0.13.1-2) ...\n",
            "Setting up python-networkx (1.11-1ubuntu2) ...\n",
            "Setting up qtcore4-l10n (4:4.8.7+dfsg-7ubuntu1) ...\n",
            "Setting up python-pywt (0.5.1-1.1ubuntu4) ...\n",
            "Setting up python-pkg-resources (39.0.1-2) ...\n",
            "Setting up libmng2:amd64 (2.0.2-0ubuntu3) ...\n",
            "Setting up libyaml-0-2:amd64 (0.1.7-2ubuntu3) ...\n",
            "Processing triggers for libc-bin (2.27-3ubuntu1) ...\n",
            "Setting up libqtcore4:amd64 (4:4.8.7+dfsg-7ubuntu1) ...\n",
            "Processing triggers for man-db (2.8.3-2ubuntu0.1) ...\n",
            "Setting up libqt4-test:amd64 (4:4.8.7+dfsg-7ubuntu1) ...\n",
            "Setting up python-nose (1.3.7-3) ...\n",
            "Setting up libqt4-xml:amd64 (4:4.8.7+dfsg-7ubuntu1) ...\n",
            "Setting up libaudio2:amd64 (1.9.4-6) ...\n",
            "Setting up python-sip (4.19.7+dfsg-1) ...\n",
            "Setting up python-yaml (3.12-1build2) ...\n",
            "Setting up python-skimage (0.13.1-2) ...\n",
            "Setting up libqt4-sql:amd64 (4:4.8.7+dfsg-7ubuntu1) ...\n",
            "Setting up libqtdbus4:amd64 (4:4.8.7+dfsg-7ubuntu1) ...\n",
            "Setting up libqt4-script:amd64 (4:4.8.7+dfsg-7ubuntu1) ...\n",
            "Setting up libqt4-sql-mysql:amd64 (4:4.8.7+dfsg-7ubuntu1) ...\n",
            "Setting up qdbus (4:4.8.7+dfsg-7ubuntu1) ...\n",
            "Setting up libqt4-dbus:amd64 (4:4.8.7+dfsg-7ubuntu1) ...\n",
            "Setting up libqt4-network:amd64 (4:4.8.7+dfsg-7ubuntu1) ...\n",
            "Setting up libqt4-xmlpatterns:amd64 (4:4.8.7+dfsg-7ubuntu1) ...\n",
            "Setting up libqtassistantclient4:amd64 (4.6.3-7build1) ...\n",
            "Setting up libqt4-declarative:amd64 (4:4.8.7+dfsg-7ubuntu1) ...\n",
            "Setting up libqtgui4:amd64 (4:4.8.7+dfsg-7ubuntu1) ...\n",
            "Setting up qt-at-spi:amd64 (0.4.0-8) ...\n",
            "Setting up libqt4-designer:amd64 (4:4.8.7+dfsg-7ubuntu1) ...\n",
            "Setting up libqt4-help:amd64 (4:4.8.7+dfsg-7ubuntu1) ...\n",
            "Setting up libqt4-svg:amd64 (4:4.8.7+dfsg-7ubuntu1) ...\n",
            "Setting up libqt4-scripttools:amd64 (4:4.8.7+dfsg-7ubuntu1) ...\n",
            "Setting up python-qt4 (4.12.1+dfsg-2) ...\n",
            "Processing triggers for libc-bin (2.27-3ubuntu1) ...\n"
          ],
          "name": "stdout"
        }
      ]
    },
    {
      "metadata": {
        "id": "fXSq28Q4udc1",
        "colab_type": "code",
        "outputId": "b7615869-07d5-4356-c856-684ce912d9b8",
        "colab": {
          "base_uri": "https://localhost:8080/",
          "height": 51
        }
      },
      "cell_type": "code",
      "source": [
        "!pip uninstall scikit-image -y"
      ],
      "execution_count": 0,
      "outputs": [
        {
          "output_type": "stream",
          "text": [
            "Uninstalling scikit-image-0.13.1:\n",
            "  Successfully uninstalled scikit-image-0.13.1\n"
          ],
          "name": "stdout"
        }
      ]
    },
    {
      "metadata": {
        "id": "XcqaCylwufjt",
        "colab_type": "code",
        "outputId": "6ac9974b-08ad-40f2-96c3-bd4b32f692e3",
        "colab": {
          "base_uri": "https://localhost:8080/",
          "height": 34
        }
      },
      "cell_type": "code",
      "source": [
        "!pip install -e ."
      ],
      "execution_count": 0,
      "outputs": [
        {
          "output_type": "stream",
          "text": [
            "\u001b[31mDirectory '.' is not installable. File 'setup.py' not found.\u001b[0m\n"
          ],
          "name": "stdout"
        }
      ]
    },
    {
      "metadata": {
        "id": "bo4CJSFjug12",
        "colab_type": "code",
        "outputId": "d5ad5611-66fa-4f9f-e679-4e0b71224e33",
        "colab": {
          "base_uri": "https://localhost:8080/",
          "height": 34
        }
      },
      "cell_type": "code",
      "source": [
        "## Perform a check\n",
        "import skimage \n",
        "print(skimage.__version__)"
      ],
      "execution_count": 0,
      "outputs": [
        {
          "output_type": "stream",
          "text": [
            "0.13.1\n"
          ],
          "name": "stdout"
        }
      ]
    },
    {
      "metadata": {
        "id": "DYBvSEOeXOzE",
        "colab_type": "code",
        "outputId": "9b97fcdd-b84a-47a4-9674-4bc877ddedfa",
        "colab": {
          "base_uri": "https://localhost:8080/",
          "height": 34
        }
      },
      "cell_type": "code",
      "source": [
        "!ls"
      ],
      "execution_count": 0,
      "outputs": [
        {
          "output_type": "stream",
          "text": [
            "drive  __MACOSX  Mask_RCNN  sample_data  testingImage7.jpg\n"
          ],
          "name": "stdout"
        }
      ]
    },
    {
      "metadata": {
        "id": "u9y7I8r7uicc",
        "colab_type": "code",
        "outputId": "20e776b3-9d6d-4ffc-b1ec-167b0c16073a",
        "colab": {
          "base_uri": "https://localhost:8080/",
          "height": 809
        }
      },
      "cell_type": "code",
      "source": [
        "# running the image through preTrained SampleModel\n",
        "# Load a the image\n",
        "import scipy\n",
        "# import matplotlib.image as mpimg\n",
        "# image = mpimg.imread('Sample_1.png')\n",
        "# image = skimage.io.imread('testingImage5.jpg')\n",
        "image = skimage.io.imread('testingImage7.jpg')\n",
        "\n",
        "# Run detection\n",
        "results = model.detect([image], verbose=1)\n",
        "\n",
        "# Visualize results\n",
        "r = results[0]\n",
        "visualize.display_instances(image, r['rois'], r['masks'], r['class_ids'], \n",
        "                            class_names, r['scores'])"
      ],
      "execution_count": 0,
      "outputs": [
        {
          "output_type": "stream",
          "text": [
            "Processing 1 images\n",
            "image                    shape: (480, 640, 3)         min:    0.00000  max:  255.00000  uint8\n",
            "molded_images            shape: (1, 1024, 1024, 3)    min: -123.70000  max:  151.10000  float64\n",
            "image_metas              shape: (1, 14)               min:    0.00000  max: 1024.00000  float64\n",
            "anchors                  shape: (1, 261888, 4)        min:   -0.35390  max:    1.29134  float32\n"
          ],
          "name": "stdout"
        },
        {
          "output_type": "display_data",
          "data": {
            "image/png": "[encoded data removed]",
            "text/plain": [
              "<matplotlib.figure.Figure at 0x7fbc54d20ac8>"
            ]
          },
          "metadata": {
            "tags": []
          }
        }
      ]
    },
    {
      "metadata": {
        "id": "ZOeOY6dGukUP",
        "colab_type": "code",
        "outputId": "7982225e-3bf8-4825-89d1-e5497fdeb72e",
        "colab": {
          "base_uri": "https://localhost:8080/",
          "height": 275
        }
      },
      "cell_type": "code",
      "source": [
        "!pip install keras==2.1.3"
      ],
      "execution_count": 0,
      "outputs": [
        {
          "output_type": "stream",
          "text": [
            "Collecting keras==2.1.3\n",
            "\u001b[?25l  Downloading https://files.pythonhosted.org/packages/08/ae/7f94a03cb3f74cdc8a0f5f86d1df5c1dd686acb9a9c2a421c64f8497358e/Keras-2.1.3-py2.py3-none-any.whl (319kB)\n",
            "\u001b[K    100% |████████████████████████████████| 327kB 24.9MB/s \n",
            "\u001b[?25hRequirement already satisfied: scipy>=0.14 in /usr/local/lib/python3.6/dist-packages (from keras==2.1.3) (1.1.0)\n",
            "Requirement already satisfied: numpy>=1.9.1 in /usr/local/lib/python3.6/dist-packages (from keras==2.1.3) (1.14.6)\n",
            "Requirement already satisfied: pyyaml in /usr/local/lib/python3.6/dist-packages (from keras==2.1.3) (3.13)\n",
            "Requirement already satisfied: six>=1.9.0 in /usr/local/lib/python3.6/dist-packages (from keras==2.1.3) (1.11.0)\n",
            "\u001b[31mkeras-vis 0.4.1 requires scikit-image, which is not installed.\u001b[0m\n",
            "\u001b[31mtextgenrnn 1.4.1 has requirement keras>=2.1.5, but you'll have keras 2.1.3 which is incompatible.\u001b[0m\n",
            "Installing collected packages: keras\n",
            "  Found existing installation: Keras 2.2.4\n",
            "    Uninstalling Keras-2.2.4:\n",
            "      Successfully uninstalled Keras-2.2.4\n",
            "Successfully installed keras-2.1.3\n"
          ],
          "name": "stdout"
        }
      ]
    },
    {
      "metadata": {
        "id": "0BTVbQ5Y0aB-",
        "colab_type": "code",
        "outputId": "1f2e6b1c-d524-4c3b-e12b-7aeafee30ac7",
        "colab": {
          "base_uri": "https://localhost:8080/",
          "height": 34
        }
      },
      "cell_type": "code",
      "source": [
        "%cd Mask_RCNN/"
      ],
      "execution_count": 0,
      "outputs": [
        {
          "output_type": "stream",
          "text": [
            "/content/Mask_RCNN\n"
          ],
          "name": "stdout"
        }
      ]
    },
    {
      "metadata": {
        "id": "ArvdEpNj0O1o",
        "colab_type": "code",
        "colab": {}
      },
      "cell_type": "code",
      "source": [
        "## Installation of youtube-dl\n",
        "# !add-apt-repository ppa:nilarimogard/webupd8\n",
        "# !apt-get update\n",
        "# !apt-get install youtube-dl"
      ],
      "execution_count": 0,
      "outputs": []
    },
    {
      "metadata": {
        "id": "wgfAM3FV0Ve5",
        "colab_type": "code",
        "colab": {}
      },
      "cell_type": "code",
      "source": [
        "## Above\n",
        "# !pip install utils"
      ],
      "execution_count": 0,
      "outputs": []
    },
    {
      "metadata": {
        "id": "QvA-H-cE0i86",
        "colab_type": "code",
        "colab": {}
      },
      "cell_type": "code",
      "source": [
        "## remove\n",
        "# !wget http://93.188.165.63/pothole/Generating_bulk_dataset/type3_videos/VID_IMG_5123/"
      ],
      "execution_count": 0,
      "outputs": []
    },
    {
      "metadata": {
        "id": "vY0YCEIB09v8",
        "colab_type": "code",
        "colab": {}
      },
      "cell_type": "code",
      "source": [
        "# !wget http://93.188.165.63/pothole/Generating_bulk_dataset.zip"
      ],
      "execution_count": 0,
      "outputs": []
    },
    {
      "metadata": {
        "id": "Yy6ANU5a1KKD",
        "colab_type": "code",
        "colab": {}
      },
      "cell_type": "code",
      "source": [
        "!mkdir videos"
      ],
      "execution_count": 0,
      "outputs": []
    },
    {
      "metadata": {
        "id": "zcARVRmy15ai",
        "colab_type": "code",
        "outputId": "a295535a-ec66-4ded-8337-3ab28fc71407",
        "colab": {
          "base_uri": "https://localhost:8080/",
          "height": 102
        }
      },
      "cell_type": "code",
      "source": [
        "!ls"
      ],
      "execution_count": 0,
      "outputs": [
        {
          "output_type": "stream",
          "text": [
            "assets\t\t       dist\t    mask_rcnn.egg-info\tsamples\n",
            "build\t\t       images\t    mrcnn\t\tsetup.cfg\n",
            "car_pothole_model.zip  LICENSE\t    __pycache__\t\tsetup.py\n",
            "customImages\t       logs\t    README.md\t\tvideos\n",
            "custom.py\t       MANIFEST.in  requirements.txt\tvisualize.py\n"
          ],
          "name": "stdout"
        }
      ]
    },
    {
      "metadata": {
        "id": "xO8PuewR1CF0",
        "colab_type": "code",
        "colab": {}
      },
      "cell_type": "code",
      "source": [
        "## Above\n",
        "# !wget https://raw.githubusercontent.com/matterport/Mask_RCNN/bc8f148b820ebd45246ed358a120c99b09798d71/visualize.py"
      ],
      "execution_count": 0,
      "outputs": []
    },
    {
      "metadata": {
        "id": "aFdLeGeY2BC_",
        "colab_type": "code",
        "outputId": "306a5f3e-2988-4ac3-c303-4bac4f29c6ff",
        "colab": {
          "base_uri": "https://localhost:8080/",
          "height": 102
        }
      },
      "cell_type": "code",
      "source": [
        "!ls"
      ],
      "execution_count": 0,
      "outputs": [
        {
          "output_type": "stream",
          "text": [
            "assets\t\t       dist\t    mask_rcnn.egg-info\tsamples\n",
            "build\t\t       images\t    mrcnn\t\tsetup.cfg\n",
            "car_pothole_model.zip  LICENSE\t    __pycache__\t\tsetup.py\n",
            "customImages\t       logs\t    README.md\t\tvideos\n",
            "custom.py\t       MANIFEST.in  requirements.txt\tvisualize.py\n"
          ],
          "name": "stdout"
        }
      ]
    },
    {
      "metadata": {
        "id": "75x8vWIBODta",
        "colab_type": "code",
        "colab": {}
      },
      "cell_type": "code",
      "source": [
        "import os\n",
        "import sys\n",
        "import custom\n",
        "import utils"
      ],
      "execution_count": 0,
      "outputs": []
    },
    {
      "metadata": {
        "id": "rF87qTd7OLFx",
        "colab_type": "code",
        "outputId": "30824ffb-3051-485b-fd6f-cf30483b425f",
        "colab": {
          "base_uri": "https://localhost:8080/",
          "height": 34
        }
      },
      "cell_type": "code",
      "source": [
        "%cd mrcnn"
      ],
      "execution_count": 0,
      "outputs": [
        {
          "output_type": "stream",
          "text": [
            "/content/Mask_RCNN/mrcnn\n"
          ],
          "name": "stdout"
        }
      ]
    },
    {
      "metadata": {
        "id": "TpfcQOYlOMw4",
        "colab_type": "code",
        "colab": {}
      },
      "cell_type": "code",
      "source": [
        "import model as modellib"
      ],
      "execution_count": 0,
      "outputs": []
    },
    {
      "metadata": {
        "id": "wGG7KeXgOOsv",
        "colab_type": "code",
        "outputId": "2ef96735-3db3-4b61-ea6b-5f742c36e1e2",
        "colab": {
          "base_uri": "https://localhost:8080/",
          "height": 34
        }
      },
      "cell_type": "code",
      "source": [
        "%cd .."
      ],
      "execution_count": 0,
      "outputs": [
        {
          "output_type": "stream",
          "text": [
            "/content/Mask_RCNN\n"
          ],
          "name": "stdout"
        }
      ]
    },
    {
      "metadata": {
        "id": "EI0msuQ9OQmB",
        "colab_type": "code",
        "outputId": "010a985d-f528-446b-c736-c8415d75e1e9",
        "colab": {
          "base_uri": "https://localhost:8080/",
          "height": 102
        }
      },
      "cell_type": "code",
      "source": [
        "!ls"
      ],
      "execution_count": 0,
      "outputs": [
        {
          "output_type": "stream",
          "text": [
            "assets\t\t       dist\t    mask_rcnn.egg-info\tsamples\n",
            "build\t\t       images\t    mrcnn\t\tsetup.cfg\n",
            "car_pothole_model.zip  LICENSE\t    __pycache__\t\tsetup.py\n",
            "customImages\t       logs\t    README.md\t\tvideos\n",
            "custom.py\t       MANIFEST.in  requirements.txt\tvisualize.py\n"
          ],
          "name": "stdout"
        }
      ]
    },
    {
      "metadata": {
        "id": "ZQl_ZvmwOSJs",
        "colab_type": "code",
        "colab": {}
      },
      "cell_type": "code",
      "source": [
        "import cv2\n",
        "import numpy as np"
      ],
      "execution_count": 0,
      "outputs": []
    },
    {
      "metadata": {
        "id": "Rkl7DJpDOVIY",
        "colab_type": "code",
        "colab": {}
      },
      "cell_type": "code",
      "source": [
        "# !unzip Generating_bulk_dataset.zip"
      ],
      "execution_count": 0,
      "outputs": []
    },
    {
      "metadata": {
        "id": "uQOYLYL3OvtU",
        "colab_type": "code",
        "outputId": "f6b806f7-9fc0-454d-b33f-defcb9dc4bb8",
        "colab": {
          "base_uri": "https://localhost:8080/",
          "height": 102
        }
      },
      "cell_type": "code",
      "source": [
        "!ls"
      ],
      "execution_count": 0,
      "outputs": [
        {
          "output_type": "stream",
          "text": [
            "assets\t\t       dist\t    mask_rcnn.egg-info\tsamples\n",
            "build\t\t       images\t    mrcnn\t\tsetup.cfg\n",
            "car_pothole_model.zip  LICENSE\t    __pycache__\t\tsetup.py\n",
            "customImages\t       logs\t    README.md\t\tvideos\n",
            "custom.py\t       MANIFEST.in  requirements.txt\tvisualize.py\n"
          ],
          "name": "stdout"
        }
      ]
    },
    {
      "metadata": {
        "id": "3FFq9wYiO0MG",
        "colab_type": "code",
        "colab": {}
      },
      "cell_type": "code",
      "source": [
        "# %cd Generating_bulk_dataset/"
      ],
      "execution_count": 0,
      "outputs": []
    },
    {
      "metadata": {
        "id": "og5gBkp2HGs_",
        "colab_type": "code",
        "outputId": "d26f7fb8-fe59-48e1-8049-77f6ef31c692",
        "colab": {
          "base_uri": "https://localhost:8080/",
          "height": 102
        }
      },
      "cell_type": "code",
      "source": [
        "#lists the content of your google drive\n",
        "!ls \"/content/drive/My Drive/Potholes_tataInnoverse\""
      ],
      "execution_count": 0,
      "outputs": [
        {
          "output_type": "stream",
          "text": [
            "car_pothole_model.zip  dirburst.zip\n",
            "customImages.zip       logs.zip-1---1e0Y4wYCFIunm1LEK2VU0aJMCgKZq.zip\n",
            "D1.zip\t\t       ModelImages_cars_potholes.zip\n",
            "D2.zip\t\t       separate_Image.zip\n",
            "dirburst_rem.zip\n"
          ],
          "name": "stdout"
        }
      ]
    },
    {
      "metadata": {
        "id": "0f7jtSsuHUAV",
        "colab_type": "code",
        "outputId": "543d1d69-1a21-4a9e-ba97-89a9a3f171f3",
        "colab": {
          "base_uri": "https://localhost:8080/",
          "height": 34
        }
      },
      "cell_type": "code",
      "source": [
        "!pwd"
      ],
      "execution_count": 0,
      "outputs": [
        {
          "output_type": "stream",
          "text": [
            "/content/Mask_RCNN\n"
          ],
          "name": "stdout"
        }
      ]
    },
    {
      "metadata": {
        "id": "N7HWmho3HVo0",
        "colab_type": "code",
        "outputId": "69fe7f8c-fa90-4dbf-c077-12ccb0a869d6",
        "colab": {
          "base_uri": "https://localhost:8080/",
          "height": 34
        }
      },
      "cell_type": "code",
      "source": [
        "import shutil\n",
        "shutil.copy('/content/drive/My Drive/Potholes_tataInnoverse/separate_Image.zip', '/content/Mask_RCNN')"
      ],
      "execution_count": 0,
      "outputs": [
        {
          "output_type": "execute_result",
          "data": {
            "text/plain": [
              "'/content/Mask_RCNN/separate_Image.zip'"
            ]
          },
          "metadata": {
            "tags": []
          },
          "execution_count": 88
        }
      ]
    },
    {
      "metadata": {
        "id": "5VJfbelAO3lh",
        "colab_type": "code",
        "outputId": "70c13655-bbc7-4a60-c6e1-d51855f76c51",
        "colab": {
          "base_uri": "https://localhost:8080/",
          "height": 119
        }
      },
      "cell_type": "code",
      "source": [
        "!ls"
      ],
      "execution_count": 0,
      "outputs": [
        {
          "output_type": "stream",
          "text": [
            "assets\t\t       images\t\t   __pycache__\t       setup.py\n",
            "build\t\t       LICENSE\t\t   README.md\t       videos\n",
            "car_pothole_model.zip  logs\t\t   requirements.txt    visualize.py\n",
            "customImages\t       MANIFEST.in\t   samples\n",
            "custom.py\t       mask_rcnn.egg-info  separate_Image.zip\n",
            "dist\t\t       mrcnn\t\t   setup.cfg\n"
          ],
          "name": "stdout"
        }
      ]
    },
    {
      "metadata": {
        "id": "f-WfAAH1HeIy",
        "colab_type": "code",
        "outputId": "7ec7d5a1-45ac-472d-ce01-af4775faa8ce",
        "colab": {
          "base_uri": "https://localhost:8080/",
          "height": 374
        }
      },
      "cell_type": "code",
      "source": [
        "!unzip separate_Image.zip"
      ],
      "execution_count": 0,
      "outputs": [
        {
          "output_type": "stream",
          "text": [
            "Archive:  separate_Image.zip\n",
            "   creating: separate Image/\n",
            "  inflating: separate Image/img1bb80-lat-28.5557378-long-77.2658383.jpeg  \n",
            "   creating: __MACOSX/\n",
            "   creating: __MACOSX/separate Image/\n",
            "  inflating: __MACOSX/separate Image/._img1bb80-lat-28.5557378-long-77.2658383.jpeg  \n",
            "  inflating: separate Image/img1c5b4-lat-28.5536884-long-77.2669158.jpeg  \n",
            "  inflating: __MACOSX/separate Image/._img1c5b4-lat-28.5536884-long-77.2669158.jpeg  \n",
            "  inflating: separate Image/img0d7ac-lat-28.5536884-long-77.2669158.jpeg  \n",
            "  inflating: __MACOSX/separate Image/._img0d7ac-lat-28.5536884-long-77.2669158.jpeg  \n",
            "  inflating: separate Image/img00bd1-lat-28.5536884-long-77.2669158.jpeg  \n",
            "  inflating: __MACOSX/separate Image/._img00bd1-lat-28.5536884-long-77.2669158.jpeg  \n",
            "  inflating: separate Image/img01aa4-lat-28.5557378-long-77.2658383.jpeg  \n",
            "  inflating: __MACOSX/separate Image/._img01aa4-lat-28.5557378-long-77.2658383.jpeg  \n",
            "  inflating: separate Image/img0ce18-lat-28.5557378-long-77.2658383.jpeg  \n",
            "  inflating: __MACOSX/separate Image/._img0ce18-lat-28.5557378-long-77.2658383.jpeg  \n",
            "  inflating: separate Image/img1a9e0-lat-28.5557378-long-77.2658383.jpeg  \n",
            "  inflating: __MACOSX/separate Image/._img1a9e0-lat-28.5557378-long-77.2658383.jpeg  \n",
            "  inflating: separate Image/img0bfa5-lat-28.5557378-long-77.2658383.jpeg  \n",
            "  inflating: __MACOSX/separate Image/._img0bfa5-lat-28.5557378-long-77.2658383.jpeg  \n",
            "  inflating: __MACOSX/._separate Image  \n"
          ],
          "name": "stdout"
        }
      ]
    },
    {
      "metadata": {
        "id": "sCp_mczyO4UB",
        "colab_type": "code",
        "colab": {}
      },
      "cell_type": "code",
      "source": [
        "# %cd type3_videos/"
      ],
      "execution_count": 0,
      "outputs": []
    },
    {
      "metadata": {
        "id": "KWjwOG-aO-7g",
        "colab_type": "code",
        "colab": {}
      },
      "cell_type": "code",
      "source": [
        "# !ls"
      ],
      "execution_count": 0,
      "outputs": []
    },
    {
      "metadata": {
        "id": "uHsEAXTLO_lw",
        "colab_type": "code",
        "colab": {}
      },
      "cell_type": "code",
      "source": [
        "# !mv VID_IMG_5123 /content/Mask_RCNN/VID_DIR"
      ],
      "execution_count": 0,
      "outputs": []
    },
    {
      "metadata": {
        "id": "wrlPjPXSPKu1",
        "colab_type": "code",
        "colab": {}
      },
      "cell_type": "code",
      "source": [
        "# %cd .."
      ],
      "execution_count": 0,
      "outputs": []
    },
    {
      "metadata": {
        "id": "ffVTccwCPNTd",
        "colab_type": "code",
        "colab": {}
      },
      "cell_type": "code",
      "source": [
        "# %cd .."
      ],
      "execution_count": 0,
      "outputs": []
    },
    {
      "metadata": {
        "id": "5oVjl9ZgPOkt",
        "colab_type": "code",
        "outputId": "0b49a38b-8665-421c-c4e6-799e326ea46d",
        "colab": {
          "base_uri": "https://localhost:8080/",
          "height": 153
        }
      },
      "cell_type": "code",
      "source": [
        "!ls"
      ],
      "execution_count": 0,
      "outputs": [
        {
          "output_type": "stream",
          "text": [
            " assets\t\t\t logs\t\t      samples\n",
            " build\t\t\t __MACOSX\t     'separate Image'\n",
            " car_pothole_model.zip\t MANIFEST.in\t      separate_Image.zip\n",
            " customImages\t\t mask_rcnn.egg-info   setup.cfg\n",
            " custom.py\t\t mrcnn\t\t      setup.py\n",
            " dist\t\t\t __pycache__\t      videos\n",
            " images\t\t\t README.md\t      visualize.py\n",
            " LICENSE\t\t requirements.txt\n"
          ],
          "name": "stdout"
        }
      ]
    },
    {
      "metadata": {
        "id": "ItO3aomPPPp1",
        "colab_type": "code",
        "outputId": "06b1f0a8-fa83-426d-fcdb-3b811f2f8e00",
        "colab": {
          "base_uri": "https://localhost:8080/",
          "height": 34
        }
      },
      "cell_type": "code",
      "source": [
        "%cd separate\\ Image"
      ],
      "execution_count": 0,
      "outputs": [
        {
          "output_type": "stream",
          "text": [
            "/content/Mask_RCNN/separate Image\n"
          ],
          "name": "stdout"
        }
      ]
    },
    {
      "metadata": {
        "id": "AjOTdOIZPTLk",
        "colab_type": "code",
        "outputId": "21009a5e-9720-40f8-c617-0a2e00516cc5",
        "colab": {
          "base_uri": "https://localhost:8080/",
          "height": 153
        }
      },
      "cell_type": "code",
      "source": [
        "!ls"
      ],
      "execution_count": 0,
      "outputs": [
        {
          "output_type": "stream",
          "text": [
            "img00bd1-lat-28.5536884-long-77.2669158.jpeg\n",
            "img01aa4-lat-28.5557378-long-77.2658383.jpeg\n",
            "img0bfa5-lat-28.5557378-long-77.2658383.jpeg\n",
            "img0ce18-lat-28.5557378-long-77.2658383.jpeg\n",
            "img0d7ac-lat-28.5536884-long-77.2669158.jpeg\n",
            "img1a9e0-lat-28.5557378-long-77.2658383.jpeg\n",
            "img1bb80-lat-28.5557378-long-77.2658383.jpeg\n",
            "img1c5b4-lat-28.5536884-long-77.2669158.jpeg\n"
          ],
          "name": "stdout"
        }
      ]
    },
    {
      "metadata": {
        "id": "JNY9tuNLPTml",
        "colab_type": "code",
        "outputId": "015bfbfa-902a-465f-fd15-5b1492dfc742",
        "colab": {
          "base_uri": "https://localhost:8080/",
          "height": 34
        }
      },
      "cell_type": "code",
      "source": [
        "%cd .."
      ],
      "execution_count": 0,
      "outputs": [
        {
          "output_type": "stream",
          "text": [
            "/content/Mask_RCNN\n"
          ],
          "name": "stdout"
        }
      ]
    },
    {
      "metadata": {
        "id": "kG_6BxjOPfaV",
        "colab_type": "code",
        "outputId": "b1cb9eeb-b7b2-48de-b6b0-9469b6f40e9e",
        "colab": {
          "base_uri": "https://localhost:8080/",
          "height": 153
        }
      },
      "cell_type": "code",
      "source": [
        "!ls"
      ],
      "execution_count": 0,
      "outputs": [
        {
          "output_type": "stream",
          "text": [
            " assets\t\t\t logs\t\t      samples\n",
            " build\t\t\t __MACOSX\t     'separate Image'\n",
            " car_pothole_model.zip\t MANIFEST.in\t      separate_Image.zip\n",
            " customImages\t\t mask_rcnn.egg-info   setup.cfg\n",
            " custom.py\t\t mrcnn\t\t      setup.py\n",
            " dist\t\t\t __pycache__\t      videos\n",
            " images\t\t\t README.md\t      visualize.py\n",
            " LICENSE\t\t requirements.txt\n"
          ],
          "name": "stdout"
        }
      ]
    },
    {
      "metadata": {
        "id": "Z0O-EJiwSq8O",
        "colab_type": "code",
        "colab": {}
      },
      "cell_type": "code",
      "source": [
        "# !youtube-dl https://www.youtube.com/watch?v=SHWDmDZKK60&t=7s"
      ],
      "execution_count": 0,
      "outputs": []
    },
    {
      "metadata": {
        "id": "xrUxJ7F1Sq3n",
        "colab_type": "code",
        "colab": {}
      },
      "cell_type": "code",
      "source": [
        "# !mv Potholes\\ live-SHWDmDZKK60.mp4 videos/"
      ],
      "execution_count": 0,
      "outputs": []
    },
    {
      "metadata": {
        "id": "novUB5pPSq1D",
        "colab_type": "code",
        "outputId": "80169e4b-cfda-4e7d-cda5-0020328c46b1",
        "colab": {
          "base_uri": "https://localhost:8080/",
          "height": 153
        }
      },
      "cell_type": "code",
      "source": [
        "!ls"
      ],
      "execution_count": 0,
      "outputs": [
        {
          "output_type": "stream",
          "text": [
            " assets\t\t\t logs\t\t      samples\n",
            " build\t\t\t __MACOSX\t     'separate Image'\n",
            " car_pothole_model.zip\t MANIFEST.in\t      separate_Image.zip\n",
            " customImages\t\t mask_rcnn.egg-info   setup.cfg\n",
            " custom.py\t\t mrcnn\t\t      setup.py\n",
            " dist\t\t\t __pycache__\t      videos\n",
            " images\t\t\t README.md\t      visualize.py\n",
            " LICENSE\t\t requirements.txt\n"
          ],
          "name": "stdout"
        }
      ]
    },
    {
      "metadata": {
        "id": "ahsOO9acTP0p",
        "colab_type": "code",
        "colab": {}
      },
      "cell_type": "code",
      "source": [
        "# !ls videos/"
      ],
      "execution_count": 0,
      "outputs": []
    },
    {
      "metadata": {
        "id": "-rQcq_w5TPyV",
        "colab_type": "code",
        "colab": {}
      },
      "cell_type": "code",
      "source": [
        "# %cd videos/"
      ],
      "execution_count": 0,
      "outputs": []
    },
    {
      "metadata": {
        "id": "KLDkiHb0TPtR",
        "colab_type": "code",
        "colab": {}
      },
      "cell_type": "code",
      "source": [
        "# !ls"
      ],
      "execution_count": 0,
      "outputs": []
    },
    {
      "metadata": {
        "id": "NrEas7QjTYD8",
        "colab_type": "code",
        "colab": {}
      },
      "cell_type": "code",
      "source": [
        "# !mv Potholes\\ live-SHWDmDZKK60.mp4 trailer1.mp4"
      ],
      "execution_count": 0,
      "outputs": []
    },
    {
      "metadata": {
        "id": "LO5S9gsmTYBv",
        "colab_type": "code",
        "colab": {}
      },
      "cell_type": "code",
      "source": [
        "# !ls"
      ],
      "execution_count": 0,
      "outputs": []
    },
    {
      "metadata": {
        "id": "a13ATi14TX_F",
        "colab_type": "code",
        "colab": {}
      },
      "cell_type": "code",
      "source": [
        "# %cd .."
      ],
      "execution_count": 0,
      "outputs": []
    },
    {
      "metadata": {
        "id": "0ZcEQNICTX8z",
        "colab_type": "code",
        "outputId": "16ad8372-9d39-4265-852c-27ad7a132541",
        "colab": {
          "base_uri": "https://localhost:8080/",
          "height": 153
        }
      },
      "cell_type": "code",
      "source": [
        "!ls"
      ],
      "execution_count": 0,
      "outputs": [
        {
          "output_type": "stream",
          "text": [
            " assets\t\t\t logs\t\t      samples\n",
            " build\t\t\t __MACOSX\t     'separate Image'\n",
            " car_pothole_model.zip\t MANIFEST.in\t      separate_Image.zip\n",
            " customImages\t\t mask_rcnn.egg-info   setup.cfg\n",
            " custom.py\t\t mrcnn\t\t      setup.py\n",
            " dist\t\t\t __pycache__\t      videos\n",
            " images\t\t\t README.md\t      visualize.py\n",
            " LICENSE\t\t requirements.txt\n"
          ],
          "name": "stdout"
        }
      ]
    },
    {
      "metadata": {
        "id": "qswfRQ9XbeMu",
        "colab_type": "code",
        "colab": {}
      },
      "cell_type": "code",
      "source": [
        "# !wget https://raw.githubusercontent.com/Prady96/Pothole-Detection/master/visualize.py"
      ],
      "execution_count": 0,
      "outputs": []
    },
    {
      "metadata": {
        "id": "2kxtxVssbpx8",
        "colab_type": "code",
        "colab": {}
      },
      "cell_type": "code",
      "source": [
        "# !wget http://93.188.165.63/pothole/OpenSans-Semibold.ttf"
      ],
      "execution_count": 0,
      "outputs": []
    },
    {
      "metadata": {
        "id": "GWHiZbA1yzaE",
        "colab_type": "code",
        "outputId": "12f1bf4f-4e1f-406f-9a68-ca3a887c86b1",
        "colab": {
          "base_uri": "https://localhost:8080/",
          "height": 377
        }
      },
      "cell_type": "code",
      "source": [
        "!wget https://github.com/Prady96/Pothole-Detection/blob/master/add_textInImage.zip?raw=true"
      ],
      "execution_count": 0,
      "outputs": [
        {
          "output_type": "stream",
          "text": [
            "--2019-01-03 21:53:18--  https://github.com/Prady96/Pothole-Detection/blob/master/add_textInImage.zip?raw=true\n",
            "Resolving github.com (github.com)... 192.30.253.113, 192.30.253.112\n",
            "Connecting to github.com (github.com)|192.30.253.113|:443... connected.\n",
            "HTTP request sent, awaiting response... 302 Found\n",
            "Location: https://github.com/Prady96/Pothole-Detection/raw/master/add_textInImage.zip [following]\n",
            "--2019-01-03 21:53:19--  https://github.com/Prady96/Pothole-Detection/raw/master/add_textInImage.zip\n",
            "Reusing existing connection to github.com:443.\n",
            "HTTP request sent, awaiting response... 302 Found\n",
            "Location: https://raw.githubusercontent.com/Prady96/Pothole-Detection/master/add_textInImage.zip [following]\n",
            "--2019-01-03 21:53:19--  https://raw.githubusercontent.com/Prady96/Pothole-Detection/master/add_textInImage.zip\n",
            "Resolving raw.githubusercontent.com (raw.githubusercontent.com)... 151.101.0.133, 151.101.64.133, 151.101.128.133, ...\n",
            "Connecting to raw.githubusercontent.com (raw.githubusercontent.com)|151.101.0.133|:443... connected.\n",
            "HTTP request sent, awaiting response... 200 OK\n",
            "Length: 11073256 (11M) [application/zip]\n",
            "Saving to: ‘add_textInImage.zip?raw=true’\n",
            "\n",
            "add_textInImage.zip 100%[===================>]  10.56M  --.-KB/s    in 0.1s    \n",
            "\n",
            "2019-01-03 21:53:20 (70.5 MB/s) - ‘add_textInImage.zip?raw=true’ saved [11073256/11073256]\n",
            "\n"
          ],
          "name": "stdout"
        }
      ]
    },
    {
      "metadata": {
        "id": "mbk8glhqyzVm",
        "colab_type": "code",
        "outputId": "80101895-8e90-4b9b-8215-b4d0a591d9db",
        "colab": {
          "base_uri": "https://localhost:8080/",
          "height": 153
        }
      },
      "cell_type": "code",
      "source": [
        "!ls"
      ],
      "execution_count": 0,
      "outputs": [
        {
          "output_type": "stream",
          "text": [
            "'add_textInImage.zip?raw=true'\t LICENSE\t      requirements.txt\n",
            " assets\t\t\t\t logs\t\t      samples\n",
            " build\t\t\t\t __MACOSX\t     'separate Image'\n",
            " car_pothole_model.zip\t\t MANIFEST.in\t      separate_Image.zip\n",
            " customImages\t\t\t mask_rcnn.egg-info   setup.cfg\n",
            " custom.py\t\t\t mrcnn\t\t      setup.py\n",
            " dist\t\t\t\t __pycache__\t      videos\n",
            " images\t\t\t\t README.md\t      visualize.py\n"
          ],
          "name": "stdout"
        }
      ]
    },
    {
      "metadata": {
        "id": "envlho8oyzQT",
        "colab_type": "code",
        "outputId": "1b243836-40dc-4d01-cd44-b6a2fed6b06f",
        "colab": {
          "base_uri": "https://localhost:8080/",
          "height": 748
        }
      },
      "cell_type": "code",
      "source": [
        "!unzip add_textInImage.zip\\?raw\\=true"
      ],
      "execution_count": 0,
      "outputs": [
        {
          "output_type": "stream",
          "text": [
            "Archive:  add_textInImage.zip?raw=true\n",
            "   creating: add_textInImage/\n",
            "   creating: add_textInImage/fonts_Dir/\n",
            "  inflating: add_textInImage/fonts_Dir/Roboto-Light.ttf  \n",
            "  inflating: add_textInImage/fonts_Dir/Apache License.txt  \n",
            "  inflating: add_textInImage/fonts_Dir/Roboto-Medium.ttf  \n",
            "  inflating: add_textInImage/fonts_Dir/OpenSans-Regular.ttf  \n",
            "  inflating: add_textInImage/fonts_Dir/RobotoCondensed-Regular.ttf  \n",
            "  inflating: add_textInImage/fonts_Dir/Roboto-BlackItalic.ttf  \n",
            "  inflating: add_textInImage/fonts_Dir/Roboto-LightItalic.ttf  \n",
            "  inflating: add_textInImage/fonts_Dir/OpenSans-ExtraBoldItalic.ttf  \n",
            "  inflating: add_textInImage/fonts_Dir/RobotoCondensed-BoldItalic.ttf  \n",
            "  inflating: add_textInImage/fonts_Dir/RobotoCondensed-Light.ttf  \n",
            "  inflating: add_textInImage/fonts_Dir/OpenSans-ExtraBold.ttf  \n",
            "  inflating: add_textInImage/fonts_Dir/Roboto-Bold.ttf  \n",
            "  inflating: add_textInImage/fonts_Dir/OpenSans-Light.ttf  \n",
            "  inflating: add_textInImage/fonts_Dir/RobotoCondensed-Italic.ttf  \n",
            "  inflating: add_textInImage/fonts_Dir/Roboto-Regular.ttf  \n",
            "  inflating: add_textInImage/fonts_Dir/OpenSans-SemiboldItalic.ttf  \n",
            "  inflating: add_textInImage/fonts_Dir/OpenSans-Bold.ttf  \n",
            "  inflating: add_textInImage/fonts_Dir/Roboto-Italic.ttf  \n",
            "  inflating: add_textInImage/fonts_Dir/OpenSans-BoldItalic.ttf  \n",
            "  inflating: add_textInImage/fonts_Dir/Roboto-Black.ttf  \n",
            "  inflating: add_textInImage/fonts_Dir/OpenSans-LightItalic.ttf  \n",
            "  inflating: add_textInImage/fonts_Dir/Roboto-BoldItalic.ttf  \n",
            "  inflating: add_textInImage/fonts_Dir/633-BMWHelvetica-Light.otf  \n",
            "  inflating: add_textInImage/fonts_Dir/OpenSans-Italic.ttf  \n",
            "  inflating: add_textInImage/fonts_Dir/Roboto-MediumItalic.ttf  \n",
            "  inflating: add_textInImage/fonts_Dir/RobotoCondensed-LightItalic.ttf  \n",
            "  inflating: add_textInImage/fonts_Dir/Roboto-Thin.ttf  \n",
            "  inflating: add_textInImage/fonts_Dir/RobotoCondensed-Bold.ttf  \n",
            "  inflating: add_textInImage/fonts_Dir/arial.ttf  \n",
            "  inflating: add_textInImage/fonts_Dir/Roboto-ThinItalic.ttf  \n",
            "  inflating: add_textInImage/fonts_Dir/OpenSans-Semibold.ttf  \n",
            "  inflating: add_textInImage/narendra-modi-png-free-download-1350.png  \n",
            "  inflating: add_textInImage/Image_working_Python.ipynb  \n",
            "  inflating: add_textInImage/testImage01.png  \n",
            "   creating: add_textInImage/.ipynb_checkpoints/\n",
            "  inflating: add_textInImage/.ipynb_checkpoints/Image_working_Python-checkpoint.ipynb  \n",
            "  inflating: add_textInImage/download-narendra-modi-png-images-transparent-gallery-advertisement-648.png  \n",
            "  inflating: add_textInImage/download-narendra-modi-png-images-transparent-gallery-advertisement-910.png  \n",
            "  inflating: add_textInImage/narendra-modi-png-pic-500.png  \n",
            "  inflating: add_textInImage/download-narendra-modi-png-images-transparent-gallery-advertisement-434.png  \n"
          ],
          "name": "stdout"
        }
      ]
    },
    {
      "metadata": {
        "id": "cKGOOT-tyzGK",
        "colab_type": "code",
        "outputId": "d2ef9079-0c23-4e59-c265-0abb655565ab",
        "colab": {
          "base_uri": "https://localhost:8080/",
          "height": 170
        }
      },
      "cell_type": "code",
      "source": [
        "!ls"
      ],
      "execution_count": 0,
      "outputs": [
        {
          "output_type": "stream",
          "text": [
            " add_textInImage\t\t LICENSE\t      samples\n",
            "'add_textInImage.zip?raw=true'\t logs\t\t     'separate Image'\n",
            " assets\t\t\t\t __MACOSX\t      separate_Image.zip\n",
            " build\t\t\t\t MANIFEST.in\t      setup.cfg\n",
            " car_pothole_model.zip\t\t mask_rcnn.egg-info   setup.py\n",
            " customImages\t\t\t mrcnn\t\t      videos\n",
            " custom.py\t\t\t __pycache__\t      visualize.py\n",
            " dist\t\t\t\t README.md\n",
            " images\t\t\t\t requirements.txt\n"
          ],
          "name": "stdout"
        }
      ]
    },
    {
      "metadata": {
        "id": "Gqvgpy-xyzAy",
        "colab_type": "code",
        "outputId": "fbde2d6e-566b-450f-e05b-3bfe62b6db50",
        "colab": {
          "base_uri": "https://localhost:8080/",
          "height": 34
        }
      },
      "cell_type": "code",
      "source": [
        "%cd add_textInImage/"
      ],
      "execution_count": 0,
      "outputs": [
        {
          "output_type": "stream",
          "text": [
            "/content/Mask_RCNN/add_textInImage\n"
          ],
          "name": "stdout"
        }
      ]
    },
    {
      "metadata": {
        "id": "8YQiO0VVy9qT",
        "colab_type": "code",
        "outputId": "be7942e0-9c93-45a5-db6f-8226dca11c8c",
        "colab": {
          "base_uri": "https://localhost:8080/",
          "height": 153
        }
      },
      "cell_type": "code",
      "source": [
        "!ls"
      ],
      "execution_count": 0,
      "outputs": [
        {
          "output_type": "stream",
          "text": [
            "download-narendra-modi-png-images-transparent-gallery-advertisement-434.png\n",
            "download-narendra-modi-png-images-transparent-gallery-advertisement-648.png\n",
            "download-narendra-modi-png-images-transparent-gallery-advertisement-910.png\n",
            "fonts_Dir\n",
            "Image_working_Python.ipynb\n",
            "narendra-modi-png-free-download-1350.png\n",
            "narendra-modi-png-pic-500.png\n",
            "testImage01.png\n"
          ],
          "name": "stdout"
        }
      ]
    },
    {
      "metadata": {
        "id": "tbvqIF_my9mO",
        "colab_type": "code",
        "outputId": "075577cd-a937-496a-f365-6e6e3c918636",
        "colab": {
          "base_uri": "https://localhost:8080/",
          "height": 34
        }
      },
      "cell_type": "code",
      "source": [
        "%cd .."
      ],
      "execution_count": 0,
      "outputs": [
        {
          "output_type": "stream",
          "text": [
            "/content/Mask_RCNN\n"
          ],
          "name": "stdout"
        }
      ]
    },
    {
      "metadata": {
        "id": "FxL4N5BGfpdL",
        "colab_type": "code",
        "colab": {}
      },
      "cell_type": "code",
      "source": [
        "# !wget http://93.188.165.63/pothole/arial.ttf\n",
        "# !wget https://github.com/Prady96/Pothole-Detection/blob/master/arial_new.ttf?raw=true\n",
        "# !wget https://github.com/JotJunior/PHP-Boleto-ZF2/blob/master/public/assets/fonts/arial.ttf"
      ],
      "execution_count": 0,
      "outputs": []
    },
    {
      "metadata": {
        "id": "Ily2w8Olb4z4",
        "colab_type": "code",
        "colab": {}
      },
      "cell_type": "code",
      "source": [
        "## Testing\n",
        "from PIL import Image, ImageDraw, ImageFont"
      ],
      "execution_count": 0,
      "outputs": []
    },
    {
      "metadata": {
        "id": "o5mqJYnC-A1w",
        "colab_type": "code",
        "colab": {}
      },
      "cell_type": "code",
      "source": [
        "# !rm -rf videos/save/"
      ],
      "execution_count": 0,
      "outputs": []
    },
    {
      "metadata": {
        "id": "QV3jjp-MyNma",
        "colab_type": "code",
        "colab": {}
      },
      "cell_type": "code",
      "source": [
        "# print \"stop here\""
      ],
      "execution_count": 0,
      "outputs": []
    },
    {
      "metadata": {
        "id": "sKo02r4rThI5",
        "colab_type": "code",
        "colab": {}
      },
      "cell_type": "code",
      "source": [
        "## depricated code for the video section"
      ],
      "execution_count": 0,
      "outputs": []
    },
    {
      "metadata": {
        "id": "F9KmCXchSLpE",
        "colab_type": "code",
        "colab": {}
      },
      "cell_type": "code",
      "source": [
        "# %cd .."
      ],
      "execution_count": 0,
      "outputs": []
    },
    {
      "metadata": {
        "id": "XeMxqZ-tsopQ",
        "colab_type": "code",
        "colab": {}
      },
      "cell_type": "code",
      "source": [
        "## Delete the earlier temp dir\n",
        "!rm -rf videos/save/"
      ],
      "execution_count": 0,
      "outputs": []
    },
    {
      "metadata": {
        "id": "_7kyVA_qKDK-",
        "colab_type": "code",
        "outputId": "fc5e35ef-8cb5-491f-8094-064be5db9f13",
        "colab": {
          "base_uri": "https://localhost:8080/",
          "height": 428
        }
      },
      "cell_type": "code",
      "source": [
        "!pip install python-resize-image"
      ],
      "execution_count": 0,
      "outputs": [
        {
          "output_type": "stream",
          "text": [
            "Collecting python-resize-image\n",
            "  Downloading https://files.pythonhosted.org/packages/c7/b5/01e49796187415278796d5c64f8fff750a2e27765155be20876dffaabce3/python_resize_image-1.1.18-py2.py3-none-any.whl\n",
            "Collecting Pillow>=5.1.0 (from python-resize-image)\n",
            "\u001b[?25l  Downloading https://files.pythonhosted.org/packages/92/e3/217dfd0834a51418c602c96b110059c477260c7fee898542b100913947cf/Pillow-5.4.0-cp36-cp36m-manylinux1_x86_64.whl (2.0MB)\n",
            "\u001b[K    100% |████████████████████████████████| 2.0MB 2.8MB/s \n",
            "\u001b[?25hCollecting requests>=2.19.1 (from python-resize-image)\n",
            "\u001b[?25l  Downloading https://files.pythonhosted.org/packages/7d/e3/20f3d364d6c8e5d2353c72a67778eb189176f08e873c9900e10c0287b84b/requests-2.21.0-py2.py3-none-any.whl (57kB)\n",
            "\u001b[K    100% |████████████████████████████████| 61kB 23.2MB/s \n",
            "\u001b[?25hRequirement already satisfied: chardet<3.1.0,>=3.0.2 in /usr/local/lib/python3.6/dist-packages (from requests>=2.19.1->python-resize-image) (3.0.4)\n",
            "Requirement already satisfied: certifi>=2017.4.17 in /usr/local/lib/python3.6/dist-packages (from requests>=2.19.1->python-resize-image) (2018.11.29)\n",
            "Requirement already satisfied: urllib3<1.25,>=1.21.1 in /usr/local/lib/python3.6/dist-packages (from requests>=2.19.1->python-resize-image) (1.22)\n",
            "Requirement already satisfied: idna<2.9,>=2.5 in /usr/local/lib/python3.6/dist-packages (from requests>=2.19.1->python-resize-image) (2.6)\n",
            "\u001b[31mspacy 2.0.18 has requirement numpy>=1.15.0, but you'll have numpy 1.14.6 which is incompatible.\u001b[0m\n",
            "\u001b[31mgoogle-colab 0.0.1a1 has requirement requests~=2.18.0, but you'll have requests 2.21.0 which is incompatible.\u001b[0m\n",
            "\u001b[31mcufflinks 0.14.6 has requirement plotly>=3.0.0, but you'll have plotly 1.12.12 which is incompatible.\u001b[0m\n",
            "Installing collected packages: Pillow, requests, python-resize-image\n",
            "  Found existing installation: Pillow 4.0.0\n",
            "    Uninstalling Pillow-4.0.0:\n",
            "      Successfully uninstalled Pillow-4.0.0\n",
            "  Found existing installation: requests 2.18.4\n",
            "    Uninstalling requests-2.18.4:\n",
            "      Successfully uninstalled requests-2.18.4\n",
            "Successfully installed Pillow-5.4.0 python-resize-image-1.1.18 requests-2.21.0\n"
          ],
          "name": "stdout"
        }
      ]
    },
    {
      "metadata": {
        "id": "rB0nj1_nJzpg",
        "colab_type": "code",
        "outputId": "acf99889-1554-4e29-b0a2-dae8cd30ae9e",
        "colab": {
          "base_uri": "https://localhost:8080/",
          "height": 34
        }
      },
      "cell_type": "code",
      "source": [
        "%cd /content/Mask_RCNN/separate Image/"
      ],
      "execution_count": 0,
      "outputs": [
        {
          "output_type": "stream",
          "text": [
            "/content/Mask_RCNN/separate Image\n"
          ],
          "name": "stdout"
        }
      ]
    },
    {
      "metadata": {
        "id": "YI3ZjVUHJzXF",
        "colab_type": "code",
        "outputId": "db92086b-8666-435a-e5ae-4ec6fb0be450",
        "colab": {
          "base_uri": "https://localhost:8080/",
          "height": 153
        }
      },
      "cell_type": "code",
      "source": [
        "from PIL import Image\n",
        "import os\n",
        "from resizeimage import resizeimage\n",
        "\n",
        "count = 0\n",
        "\n",
        "for f in os.listdir(os.getcwd()):\n",
        "    f_name, f_ext = os.path.splitext(f)\n",
        "    f_random, f_lat_name,f_lat_val,f_long_name,f_long_val = f_name.split('-')\n",
        "    f_lat_val = f_lat_val.strip() ##removing the white Space\n",
        "    f_long_val = f_long_val.strip()\n",
        "    new_name = '{}-{}-{}.jpg'.format(f_lat_val,f_long_val,count)\n",
        "    try:\n",
        "        with Image.open(f) as image:\n",
        "            count +=1\n",
        "            cover = resizeimage.resize_cover(image, [600,600])\n",
        "            cover.save('{}'.format(new_name),image.format)\n",
        "            os.remove(f)\n",
        "            print(count)\n",
        "    except(OSError) as e:\n",
        "        print('Bad Image {}{}'.format(f,count))"
      ],
      "execution_count": 0,
      "outputs": [
        {
          "output_type": "stream",
          "text": [
            "1\n",
            "2\n",
            "3\n",
            "4\n",
            "5\n",
            "6\n",
            "7\n",
            "8\n"
          ],
          "name": "stdout"
        }
      ]
    },
    {
      "metadata": {
        "id": "ENdrsIswc9SG",
        "colab_type": "code",
        "outputId": "09528b95-dd85-4dc1-9c27-50b1b58a109f",
        "colab": {
          "base_uri": "https://localhost:8080/",
          "height": 85
        }
      },
      "cell_type": "code",
      "source": [
        "!ls"
      ],
      "execution_count": 0,
      "outputs": [
        {
          "output_type": "stream",
          "text": [
            "28.5536884-77.2669158-0.jpg  28.5557378-77.2658383-3.jpg\n",
            "28.5536884-77.2669158-2.jpg  28.5557378-77.2658383-4.jpg\n",
            "28.5536884-77.2669158-7.jpg  28.5557378-77.2658383-5.jpg\n",
            "28.5557378-77.2658383-1.jpg  28.5557378-77.2658383-6.jpg\n"
          ],
          "name": "stdout"
        }
      ]
    },
    {
      "metadata": {
        "id": "Rrmm2SZ0c5sL",
        "colab_type": "code",
        "colab": {}
      },
      "cell_type": "code",
      "source": [
        "# !rm -rf separate\\ Image"
      ],
      "execution_count": 0,
      "outputs": []
    },
    {
      "metadata": {
        "id": "kGeuDBIPJ8Ga",
        "colab_type": "code",
        "outputId": "ddd435b9-7a2a-47f0-d526-6d391199f314",
        "colab": {
          "base_uri": "https://localhost:8080/",
          "height": 34
        }
      },
      "cell_type": "code",
      "source": [
        "%cd /content/Mask_RCNN/"
      ],
      "execution_count": 0,
      "outputs": [
        {
          "output_type": "stream",
          "text": [
            "/content/Mask_RCNN\n"
          ],
          "name": "stdout"
        }
      ]
    },
    {
      "metadata": {
        "id": "H5IQOx5ZOSCM",
        "colab_type": "code",
        "outputId": "5a58f0fe-9e1d-4aa0-e2d2-0b85bcaa16a0",
        "colab": {
          "base_uri": "https://localhost:8080/",
          "height": 204
        }
      },
      "cell_type": "code",
      "source": [
        "#testing\n",
        "# !wget https://formpicture.com/uploads/pothole/val_test_loc.zip --no-check-certificate"
      ],
      "execution_count": 0,
      "outputs": [
        {
          "output_type": "stream",
          "text": [
            "--2019-01-03 21:54:01--  https://formpicture.com/uploads/pothole/val_test_loc.zip\n",
            "Resolving formpicture.com (formpicture.com)... 93.188.165.63\n",
            "Connecting to formpicture.com (formpicture.com)|93.188.165.63|:443... connected.\n",
            "HTTP request sent, awaiting response... 200 OK\n",
            "Length: 2281518 (2.2M) [application/zip]\n",
            "Saving to: ‘val_test_loc.zip’\n",
            "\n",
            "val_test_loc.zip    100%[===================>]   2.18M   960KB/s    in 2.3s    \n",
            "\n",
            "2019-01-03 21:54:04 (960 KB/s) - ‘val_test_loc.zip’ saved [2281518/2281518]\n",
            "\n"
          ],
          "name": "stdout"
        }
      ]
    },
    {
      "metadata": {
        "id": "SCRrkrbBO9eL",
        "colab_type": "code",
        "colab": {}
      },
      "cell_type": "code",
      "source": [
        "# !unzip val_test_loc.zip"
      ],
      "execution_count": 0,
      "outputs": []
    },
    {
      "metadata": {
        "id": "acGmSoKiPD6e",
        "colab_type": "code",
        "outputId": "474c4818-036a-4ff4-a8ab-73d64860cc9b",
        "colab": {
          "base_uri": "https://localhost:8080/",
          "height": 170
        }
      },
      "cell_type": "code",
      "source": [
        "!ls"
      ],
      "execution_count": 0,
      "outputs": [
        {
          "output_type": "stream",
          "text": [
            " add_textInImage\t\t LICENSE\t      samples\n",
            "'add_textInImage.zip?raw=true'\t logs\t\t     'separate Image'\n",
            " assets\t\t\t\t __MACOSX\t      separate_Image.zip\n",
            " build\t\t\t\t MANIFEST.in\t      setup.cfg\n",
            " car_pothole_model.zip\t\t mask_rcnn.egg-info   setup.py\n",
            " customImages\t\t\t mrcnn\t\t      val_test_loc.zip\n",
            " custom.py\t\t\t __pycache__\t      videos\n",
            " dist\t\t\t\t README.md\t      visualize.py\n",
            " images\t\t\t\t requirements.txt\n"
          ],
          "name": "stdout"
        }
      ]
    },
    {
      "metadata": {
        "id": "qQc4E7R0w0zu",
        "colab_type": "code",
        "colab": {}
      },
      "cell_type": "code",
      "source": [
        "!rm -rf videos/save/"
      ],
      "execution_count": 0,
      "outputs": []
    },
    {
      "metadata": {
        "id": "vvnLoUf2Ig3n",
        "colab_type": "code",
        "outputId": "1dccf7a7-d994-4eb5-b21a-297d4c4c571b",
        "colab": {
          "base_uri": "https://localhost:8080/",
          "height": 170
        }
      },
      "cell_type": "code",
      "source": [
        "!ls"
      ],
      "execution_count": 0,
      "outputs": [
        {
          "output_type": "stream",
          "text": [
            " add_textInImage\t\t LICENSE\t      samples\n",
            "'add_textInImage.zip?raw=true'\t logs\t\t     'separate Image'\n",
            " assets\t\t\t\t __MACOSX\t      separate_Image.zip\n",
            " build\t\t\t\t MANIFEST.in\t      setup.cfg\n",
            " car_pothole_model.zip\t\t mask_rcnn.egg-info   setup.py\n",
            " customImages\t\t\t mrcnn\t\t      val_test_loc.zip\n",
            " custom.py\t\t\t __pycache__\t      videos\n",
            " dist\t\t\t\t README.md\t      visualize.py\n",
            " images\t\t\t\t requirements.txt\n"
          ],
          "name": "stdout"
        }
      ]
    },
    {
      "metadata": {
        "id": "60sEo2yvUOne",
        "colab_type": "code",
        "outputId": "117b7c19-6c9b-4d54-cd79-643c935686c5",
        "colab": {
          "base_uri": "https://localhost:8080/",
          "height": 2587
        }
      },
      "cell_type": "code",
      "source": [
        "# Main file for the file iteration\n",
        "import cv2\n",
        "import numpy as np\n",
        "from PIL import Image, ImageDraw, ImageFont\n",
        "myList = [] ## area list\n",
        "classList = [] ##class Id List\n",
        "\n",
        "def random_colors(N):\n",
        "    np.random.seed(1)\n",
        "    colors = [tuple(255 * np.random.rand(3)) for _ in range(N)]\n",
        "    return colors\n",
        "\n",
        "\n",
        "def apply_mask(image, mask, color, alpha=0.5):\n",
        "    \"\"\"apply mask to image\"\"\"\n",
        "    for n, c in enumerate(color):\n",
        "        image[:, :, n] = np.where(\n",
        "            mask == 1,\n",
        "            image[:, :, n] * (1 - alpha) + alpha * c,\n",
        "            image[:, :, n]\n",
        "        )\n",
        "    return image\n",
        "\n",
        "\n",
        "def display_instances(image, boxes, masks, ids, names, scores):\n",
        "    \"\"\"\n",
        "        take the image and results and apply the mask, box, and Label\n",
        "    \"\"\"\n",
        "    n_instances = boxes.shape[0]\n",
        "    colors = random_colors(n_instances)\n",
        "\n",
        "    if not n_instances:\n",
        "        print('NO INSTANCES TO DISPLAY')\n",
        "    else:\n",
        "        assert boxes.shape[0] == masks.shape[-1] == ids.shape[0]\n",
        "\n",
        "    for i, color in enumerate(colors):\n",
        "        if not np.any(boxes[i]):\n",
        "            continue\n",
        "\n",
        "        y1, x1, y2, x2 = boxes[i]\n",
        "        label = names[ids[i]]\n",
        "        score = scores[i] if scores is not None else None\n",
        "        caption = '{} {:.2f}'.format(label, score) if score else label\n",
        "        mask = masks[:, :, i]\n",
        "\n",
        "        image = apply_mask(image, mask, color)\n",
        "        image = cv2.rectangle(image, (x1, y1), (x2, y2), color, 2)\n",
        "        image = cv2.putText(\n",
        "            image, caption, (x1, y1), cv2.FONT_HERSHEY_COMPLEX, 0.7, color, 2\n",
        "        )\n",
        "\n",
        "    return image\n",
        "\n",
        "\n",
        "def save_image(image, image_name, boxes, masks, class_ids, scores, class_names, filter_classs_names=None,\n",
        "               scores_thresh=0.1, save_dir=None, mode=0):\n",
        "    \"\"\"\n",
        "        image: image array\n",
        "        image_name: image name\n",
        "        boxes: [num_instance, (y1, x1, y2, x2, class_id)] in image coordinates.\n",
        "        masks: [num_instances, height, width]\n",
        "        class_ids: [num_instances]\n",
        "        scores: confidence scores for each box\n",
        "        class_names: list of class names of the dataset\n",
        "        filter_classs_names: (optional) list of class names we want to draw\n",
        "        scores_thresh: (optional) threshold of confidence scores\n",
        "        save_dir: (optional) the path to store image\n",
        "        mode: (optional) select the result which you want\n",
        "                mode = 0 , save image with bbox,class_name,score and mask;\n",
        "                mode = 1 , save image with bbox,class_name and score;\n",
        "                mode = 2 , save image with class_name,score and mask;\n",
        "                mode = 3 , save mask with black background;\n",
        "    \"\"\"\n",
        "    mode_list = [0, 1, 2, 3]\n",
        "    assert mode in mode_list, \"mode's value should in mode_list %s\" % str(mode_list)\n",
        "\n",
        "    if save_dir is None:\n",
        "        save_dir = os.path.join(os.getcwd(), \"output\")\n",
        "        if not os.path.exists(save_dir):\n",
        "            os.makedirs(save_dir)\n",
        "\n",
        "    useful_mask_indices = []\n",
        "\n",
        "    N = boxes.shape[0]\n",
        "    if not N:\n",
        "        print(\"\\n*** No instances in image %s to draw *** \\n\" % (image_name))\n",
        "        return\n",
        "    else:\n",
        "        assert boxes.shape[0] == masks.shape[-1] == class_ids.shape[0]\n",
        "\n",
        "    for i in range(N):\n",
        "        # filter\n",
        "        class_id = class_ids[i]\n",
        "        score = scores[i] if scores is not None else None\n",
        "        if score is None or score < scores_thresh:\n",
        "            continue\n",
        "\n",
        "        label = class_names[class_id]\n",
        "        if (filter_classs_names is not None) and (label not in filter_classs_names):\n",
        "            continue\n",
        "\n",
        "        if not np.any(boxes[i]):\n",
        "            # Skip this instance. Has no bbox. Likely lost in image cropping.\n",
        "            continue\n",
        "\n",
        "        useful_mask_indices.append(i)\n",
        "\n",
        "    if len(useful_mask_indices) == 0:\n",
        "        print(\"\\n*** No instances in image %s to draw *** \\n\" % (image_name))\n",
        "        return\n",
        "\n",
        "    colors = random_colors(len(useful_mask_indices))\n",
        "\n",
        "    if mode != 3:\n",
        "        masked_image = image.astype(np.uint8).copy()\n",
        "    else:\n",
        "        masked_image = np.zeros(image.shape).astype(np.uint8)\n",
        "\n",
        "    if mode != 1:\n",
        "        for index, value in enumerate(useful_mask_indices):\n",
        "            masked_image = apply_mask(masked_image, masks[:, :, value], colors[index])\n",
        "\n",
        "    masked_image = Image.fromarray(masked_image)\n",
        "\n",
        "    if mode == 3:\n",
        "        masked_image.save(os.path.join(save_dir, '%s.jpg' % (image_name)))\n",
        "        return\n",
        "\n",
        "    draw = ImageDraw.Draw(masked_image)\n",
        "    colors = np.array(colors).astype(int) * 255\n",
        "\n",
        "    myList = []\n",
        "    countClassIds = 0\n",
        "    \n",
        "    for index, value in enumerate(useful_mask_indices):\n",
        "        class_id = class_ids[value]\n",
        "        print('class_id value is {}'.format(class_id))\n",
        "        if class_id == 1:\n",
        "          countClassIds += 1\n",
        "        print('counter for the class ID {}'.format(countClassIds))\n",
        "        \n",
        "        \n",
        "        score = scores[value]\n",
        "        label = class_names[class_id]\n",
        "\n",
        "        y1, x1, y2, x2 = boxes[value]\n",
        "        \n",
        "#         myList = []\n",
        "        \n",
        "        ## area of the rectangle\n",
        "        yVal = y2 - y1\n",
        "        xVal = x2 - x1\n",
        "        area = xVal * yVal\n",
        "        print('area is {}'.format(area))\n",
        "        myList.append(area)\n",
        "        \n",
        "        if mode != 2:\n",
        "            color = tuple(colors[index])\n",
        "            draw.rectangle((x1, y1, x2, y2), outline=color)\n",
        "\n",
        "        # Label\n",
        "#         font = ImageFont.load('/usr/share/fonts/truetype/ttf-bitstream-vera/Vera.ttf')\n",
        "        font = ImageFont.truetype('add_textInImage/fonts_Dir/OpenSans-Bold.ttf', 15)\n",
        "        draw.text((x1, y1), \"%s %f\" % (label, score), (255, 255, 255), font)\n",
        "\n",
        "    print(r['class_ids'], r['scores'])\n",
        "    print(myList)\n",
        "#     print('value of r is {}'.format(r))\n",
        "    print('image_name is {}'.format(image_name))\n",
        "\n",
        "    image_name = os.path.basename(image_name)\n",
        "    print('image name is {}'.format(image_name))\n",
        "\n",
        "    f_name, f_ext = os.path.splitext(image_name)\n",
        "    f_lat_val,f_long_val,f_count = f_name.split('-')\n",
        "\n",
        "    f_lat_val = f_lat_val.strip() ##removing the white Space\n",
        "    f_long_val = f_long_val.strip()\n",
        "\n",
        "#     new_name = '{}-{}-{}.jpg'.format(f_lat_val,f_long_val,count)\n",
        "#     print([area for area in myList if ])\n",
        "#       print([i for i in range(countClassIds) ])\n",
        "      \n",
        "    print(\"avi96 {}\".format(myList[:countClassIds]))\n",
        "#     myList.pop(countClassIds - 1)\n",
        "    \n",
        "    new_name = '{}-{}-{}-{}.jpg'.format(myList, r['scores'],f_lat_val,f_long_val)\n",
        "#     masked_image.save(os.path.join(save_dir, '%s.jpg' % (image_name)))\n",
        "    print(\"New Name file is {}\".format(new_name))\n",
        "    print('save_dir is {}'.format(save_dir))\n",
        "    masked_image.save(os.path.join(save_dir, '%s' % (new_name)))\n",
        "    print('file Saved {}'.format(new_name))\n",
        "#     os.rename(image_name, new_name)\n",
        "\n",
        "\n",
        "\n",
        "if __name__ == '__main__':\n",
        "    \"\"\"\n",
        "        test everything\n",
        "    \"\"\"\n",
        "    import os\n",
        "    import sys\n",
        "    import custom\n",
        "    import utils\n",
        "    import model as modellib\n",
        "    import visualize\n",
        "\n",
        "    # We use a K80 GPU with 24GB memory, which can fit 3 images.\n",
        "    batch_size = 3\n",
        "\n",
        "    ROOT_DIR = os.getcwd()\n",
        "    MODEL_DIR = os.path.join(ROOT_DIR, \"logs\")\n",
        "    VIDEO_DIR = os.path.join(ROOT_DIR, \"videos\")\n",
        "    VIDEO_SAVE_DIR = os.path.join(VIDEO_DIR, \"save\")\n",
        "#     COCO_MODEL_PATH = os.path.join(ROOT_DIR, \"mask_rcnn_damage_0010.h5\")\n",
        "#     if not os.path.exists(COCO_MODEL_PATH):\n",
        "#         utils.download_trained_weights(COCO_MODEL_PATH)\n",
        "\n",
        "    class InferenceConfig(custom.CustomConfig):\n",
        "        GPU_COUNT = 1\n",
        "        IMAGES_PER_GPU = batch_size\n",
        "\n",
        "    config = InferenceConfig()\n",
        "    config.display()\n",
        "\n",
        "    model = modellib.MaskRCNN(\n",
        "        mode=\"inference\", model_dir=MODEL_DIR, config=config\n",
        "    )\n",
        "    model.load_weights(\"logs/damage20190101T2338/mask_rcnn_damage_0010.h5\", by_name=True)\n",
        "    class_names = [\n",
        "        'BG', 'damage'\n",
        "    ]\n",
        "\n",
        "#     capture = cv2.VideoCapture(os.path.join(VIDEO_DIR, 'trailer1.mp4'))\n",
        "    try:\n",
        "        if not os.path.exists(VIDEO_SAVE_DIR):\n",
        "            os.makedirs(VIDEO_SAVE_DIR)\n",
        "    except OSError:\n",
        "        print ('Error: Creating directory of data')\n",
        "\n",
        "    # points to be done before final coding\n",
        "    \"\"\"\n",
        "    path_for_image_dir\n",
        "    list for the image array\n",
        "    resolve for naming convention for location basis\n",
        "    passing image in model\n",
        "    \"\"\"\n",
        "\n",
        "    # path for the data files\n",
        "    data_path = '/content/Mask_RCNN/separate Image/'\n",
        "    onlyfiles = [f for f in os.listdir(data_path) if os.path.isfile(os.path.join(data_path, f))]\n",
        "\n",
        "    # empty list for the training data\n",
        "    frames = []\n",
        "    frame_count = 0\n",
        "    batch_count = 1\n",
        "\n",
        "    # enumerate the iteration with number of files\n",
        "    for j, files in enumerate(onlyfiles):\n",
        "        image_path = data_path + onlyfiles[j]\n",
        "#         print(\"image Path {}\".format(image_path))\n",
        "#         print(\"Only Files {}\".format(onlyfiles[j]))\n",
        "#         print('j is {}'.format(j))\n",
        "#         print('files is {}'.format(files))\n",
        "        try:\n",
        "            images = cv2.imread(image_path).astype(np.uint8)\n",
        "#             print(\"images {}\".format(images))\n",
        "            frames.append(np.asarray(images, dtype=np.uint8))\n",
        "  #         frames.append(images)\n",
        "            frame_count += 1\n",
        "            print('frame_count :{0}'.format(frame_count))\n",
        "            if len(frames) == batch_size:\n",
        "                results = model.detect(frames, verbose=0)\n",
        "                print('Predicted')\n",
        "                for i, item in enumerate(zip(frames, results)):\n",
        "#                     print('i is {}'.format(i))\n",
        "#                     print('item is {}'.format(item))\n",
        "                    frame = item[0]\n",
        "                    r = item[1]\n",
        "                    frame = display_instances(\n",
        "                      frame, r['rois'], r['masks'], r['class_ids'], class_names, r['scores']\n",
        "                    )\n",
        "                    name = '{}'.format(files)\n",
        "                    name = os.path.join(VIDEO_SAVE_DIR, name)\n",
        "#                     name = '{0}.jpg'.format(frame_count + i - batch_size)\n",
        "#                     name = os.path.join(VIDEO_SAVE_DIR, name)\n",
        "#                   cv2.imwrite(name, frame)\n",
        "#                     print(name)\n",
        "                    print('writing to file:{0}'.format(name))\n",
        "#                     print(name)\n",
        "                    save_image(images, name, r['rois'], r['masks'], r['class_ids'],\n",
        "                             r['scores'], class_names, save_dir=VIDEO_SAVE_DIR, mode=0)\n",
        "                frames = []\n",
        "                print('clear')\n",
        "              # clear the frames here\n",
        "\n",
        "        except(AttributeError) as e:\n",
        "            print('Bad Image {}'.format(image_path))\n",
        "\n",
        "    print(\"Success, check the folder\")\n",
        "\n",
        "\n",
        "\"\"\"\n",
        "    ## Code for the video section\n",
        "    frames = []\n",
        "    frame_count = 0\n",
        "    # these 2 lines can be removed if you dont have a 1080p camera.\n",
        "    capture.set(cv2.CAP_PROP_FRAME_WIDTH, 1920)\n",
        "    capture.set(cv2.CAP_PROP_FRAME_HEIGHT, 1080)\n",
        "\n",
        "\n",
        "    while True:\n",
        "        ret, frame = capture.read()\n",
        "        # Bail out when the video file ends\n",
        "        if not ret:\n",
        "            break\n",
        "\n",
        "        # Save each frame of the video to a list\n",
        "        frame_count += 1\n",
        "        frames.append(frame)\n",
        "        print('frame_count :{0}'.format(frame_count))\n",
        "        if len(frames) == batch_size:\n",
        "            results = model.detect(frames, verbose=0)\n",
        "            print('Predicted')\n",
        "            for i, item in enumerate(zip(frames, results)):\n",
        "                frame = item[0]\n",
        "                r = item[1]\n",
        "                frame = display_instances(\n",
        "                    frame, r['rois'], r['masks'], r['class_ids'], class_names, r['scores']\n",
        "                )\n",
        "#                 name = '{0}.jpg'.format(frame_count + i - batch_size)\n",
        "#                 name = os.path.join(VIDEO_SAVE_DIR, name)\n",
        "#                 cv2.imwrite(name, frame)\n",
        "#                 print('writing to file:{0}'.format(name))\n",
        "                ## add visualise files\n",
        "#                 visualize.display_instances(image, r['rois'], r['masks'], r['class_ids'],\n",
        "#                             class_names, r['scores'])\n",
        "                save_image(image, name, r['rois'], r['masks'], r['class_ids'],\n",
        "                                     r['scores'],class_names, save_dir=VIDEO_SAVE_DIR, mode=0)\n",
        "#                 print(r['class_ids'], r['scores'])\n",
        "\n",
        "            # Clear the frames array to start the next batch\n",
        "            frames = []\n",
        "\n",
        "    capture.release()\n",
        "\"\"\"\n"
      ],
      "execution_count": 0,
      "outputs": [
        {
          "output_type": "stream",
          "text": [
            "\n",
            "Configurations:\n",
            "BACKBONE                       resnet101\n",
            "BACKBONE_STRIDES               [4, 8, 16, 32, 64]\n",
            "BATCH_SIZE                     3\n",
            "BBOX_STD_DEV                   [0.1 0.1 0.2 0.2]\n",
            "COMPUTE_BACKBONE_SHAPE         None\n",
            "DETECTION_MAX_INSTANCES        100\n",
            "DETECTION_MIN_CONFIDENCE       0.9\n",
            "DETECTION_NMS_THRESHOLD        0.3\n",
            "FPN_CLASSIF_FC_LAYERS_SIZE     1024\n",
            "GPU_COUNT                      1\n",
            "GRADIENT_CLIP_NORM             5.0\n",
            "IMAGES_PER_GPU                 3\n",
            "IMAGE_CHANNEL_COUNT            3\n",
            "IMAGE_MAX_DIM                  1024\n",
            "IMAGE_META_SIZE                14\n",
            "IMAGE_MIN_DIM                  800\n",
            "IMAGE_MIN_SCALE                0\n",
            "IMAGE_RESIZE_MODE              square\n",
            "IMAGE_SHAPE                    [1024 1024    3]\n",
            "LEARNING_MOMENTUM              0.9\n",
            "LEARNING_RATE                  0.001\n",
            "LOSS_WEIGHTS                   {'rpn_class_loss': 1.0, 'rpn_bbox_loss': 1.0, 'mrcnn_class_loss': 1.0, 'mrcnn_bbox_loss': 1.0, 'mrcnn_mask_loss': 1.0}\n",
            "MASK_POOL_SIZE                 14\n",
            "MASK_SHAPE                     [28, 28]\n",
            "MAX_GT_INSTANCES               100\n",
            "MEAN_PIXEL                     [123.7 116.8 103.9]\n",
            "MINI_MASK_SHAPE                (56, 56)\n",
            "NAME                           damage\n",
            "NUM_CLASSES                    2\n",
            "POOL_SIZE                      7\n",
            "POST_NMS_ROIS_INFERENCE        1000\n",
            "POST_NMS_ROIS_TRAINING         2000\n",
            "PRE_NMS_LIMIT                  6000\n",
            "ROI_POSITIVE_RATIO             0.33\n",
            "RPN_ANCHOR_RATIOS              [0.5, 1, 2]\n",
            "RPN_ANCHOR_SCALES              (32, 64, 128, 256, 512)\n",
            "RPN_ANCHOR_STRIDE              1\n",
            "RPN_BBOX_STD_DEV               [0.1 0.1 0.2 0.2]\n",
            "RPN_NMS_THRESHOLD              0.7\n",
            "RPN_TRAIN_ANCHORS_PER_IMAGE    256\n",
            "STEPS_PER_EPOCH                100\n",
            "TOP_DOWN_PYRAMID_SIZE          256\n",
            "TRAIN_BN                       False\n",
            "TRAIN_ROIS_PER_IMAGE           200\n",
            "USE_MINI_MASK                  True\n",
            "USE_RPN_ROIS                   True\n",
            "VALIDATION_STEPS               50\n",
            "WEIGHT_DECAY                   0.0001\n",
            "\n",
            "\n",
            "Re-starting from epoch 10\n",
            "frame_count :1\n",
            "frame_count :2\n",
            "frame_count :3\n",
            "Predicted\n",
            "writing to file:/content/Mask_RCNN/videos/save/28.5536884-77.2669158-0.jpg\n",
            "class_id value is 1\n",
            "counter for the class ID 1\n",
            "area is 432\n",
            "[1] [0.9376254]\n",
            "[432]\n",
            "image_name is /content/Mask_RCNN/videos/save/28.5536884-77.2669158-0.jpg\n",
            "image name is 28.5536884-77.2669158-0.jpg\n",
            "avi96 [432]\n",
            "New Name file is [432]-[0.9376254]-28.5536884-77.2669158.jpg\n",
            "save_dir is /content/Mask_RCNN/videos/save\n",
            "file Saved [432]-[0.9376254]-28.5536884-77.2669158.jpg\n",
            "writing to file:/content/Mask_RCNN/videos/save/28.5536884-77.2669158-0.jpg\n",
            "class_id value is 1\n",
            "counter for the class ID 1\n",
            "area is 403\n",
            "class_id value is 1\n",
            "counter for the class ID 2\n",
            "area is 840\n",
            "[1 1] [0.98940814 0.9776629 ]\n",
            "[403, 840]\n",
            "image_name is /content/Mask_RCNN/videos/save/28.5536884-77.2669158-0.jpg\n",
            "image name is 28.5536884-77.2669158-0.jpg\n",
            "avi96 [403, 840]\n",
            "New Name file is [403, 840]-[0.98940814 0.9776629 ]-28.5536884-77.2669158.jpg\n",
            "save_dir is /content/Mask_RCNN/videos/save\n",
            "file Saved [403, 840]-[0.98940814 0.9776629 ]-28.5536884-77.2669158.jpg\n",
            "NO INSTANCES TO DISPLAY\n",
            "writing to file:/content/Mask_RCNN/videos/save/28.5536884-77.2669158-0.jpg\n",
            "\n",
            "*** No instances in image /content/Mask_RCNN/videos/save/28.5536884-77.2669158-0.jpg to draw *** \n",
            "\n",
            "clear\n",
            "frame_count :4\n",
            "frame_count :5\n",
            "frame_count :6\n",
            "Predicted\n",
            "writing to file:/content/Mask_RCNN/videos/save/28.5557378-77.2658383-4.jpg\n",
            "class_id value is 1\n",
            "counter for the class ID 1\n",
            "area is 2430\n",
            "class_id value is 1\n",
            "counter for the class ID 2\n",
            "area is 384\n",
            "[1 1] [0.93787384 0.930774  ]\n",
            "[2430, 384]\n",
            "image_name is /content/Mask_RCNN/videos/save/28.5557378-77.2658383-4.jpg\n",
            "image name is 28.5557378-77.2658383-4.jpg\n",
            "avi96 [2430, 384]\n",
            "New Name file is [2430, 384]-[0.93787384 0.930774  ]-28.5557378-77.2658383.jpg\n",
            "save_dir is /content/Mask_RCNN/videos/save\n",
            "file Saved [2430, 384]-[0.93787384 0.930774  ]-28.5557378-77.2658383.jpg\n",
            "writing to file:/content/Mask_RCNN/videos/save/28.5557378-77.2658383-4.jpg\n",
            "class_id value is 1\n",
            "counter for the class ID 1\n",
            "area is 1278\n",
            "class_id value is 1\n",
            "counter for the class ID 2\n",
            "area is 300\n",
            "class_id value is 1\n",
            "counter for the class ID 3\n",
            "area is 153\n",
            "[1 1 1] [0.9723613  0.96030027 0.9280923 ]\n",
            "[1278, 300, 153]\n",
            "image_name is /content/Mask_RCNN/videos/save/28.5557378-77.2658383-4.jpg\n",
            "image name is 28.5557378-77.2658383-4.jpg\n",
            "avi96 [1278, 300, 153]\n",
            "New Name file is [1278, 300, 153]-[0.9723613  0.96030027 0.9280923 ]-28.5557378-77.2658383.jpg\n",
            "save_dir is /content/Mask_RCNN/videos/save\n",
            "file Saved [1278, 300, 153]-[0.9723613  0.96030027 0.9280923 ]-28.5557378-77.2658383.jpg\n",
            "writing to file:/content/Mask_RCNN/videos/save/28.5557378-77.2658383-4.jpg\n",
            "class_id value is 1\n",
            "counter for the class ID 1\n",
            "area is 390\n",
            "class_id value is 1\n",
            "counter for the class ID 2\n",
            "area is 765\n",
            "class_id value is 1\n",
            "counter for the class ID 3\n",
            "area is 5580\n",
            "[1 1 1] [0.9894656  0.9527584  0.91637135]\n",
            "[390, 765, 5580]\n",
            "image_name is /content/Mask_RCNN/videos/save/28.5557378-77.2658383-4.jpg\n",
            "image name is 28.5557378-77.2658383-4.jpg\n",
            "avi96 [390, 765, 5580]\n",
            "New Name file is [390, 765, 5580]-[0.9894656  0.9527584  0.91637135]-28.5557378-77.2658383.jpg\n",
            "save_dir is /content/Mask_RCNN/videos/save\n",
            "file Saved [390, 765, 5580]-[0.9894656  0.9527584  0.91637135]-28.5557378-77.2658383.jpg\n",
            "clear\n",
            "frame_count :7\n",
            "frame_count :8\n",
            "Success, check the folder\n"
          ],
          "name": "stdout"
        },
        {
          "output_type": "execute_result",
          "data": {
            "text/plain": [
              "\"\\n    ## Code for the video section\\n    frames = []\\n    frame_count = 0\\n    # these 2 lines can be removed if you dont have a 1080p camera.\\n    capture.set(cv2.CAP_PROP_FRAME_WIDTH, 1920)\\n    capture.set(cv2.CAP_PROP_FRAME_HEIGHT, 1080)\\n\\n\\n    while True:\\n        ret, frame = capture.read()\\n        # Bail out when the video file ends\\n        if not ret:\\n            break\\n\\n        # Save each frame of the video to a list\\n        frame_count += 1\\n        frames.append(frame)\\n        print('frame_count :{0}'.format(frame_count))\\n        if len(frames) == batch_size:\\n            results = model.detect(frames, verbose=0)\\n            print('Predicted')\\n            for i, item in enumerate(zip(frames, results)):\\n                frame = item[0]\\n                r = item[1]\\n                frame = display_instances(\\n                    frame, r['rois'], r['masks'], r['class_ids'], class_names, r['scores']\\n                )\\n#                 name = '{0}.jpg'.format(frame_count + i - batch_size)\\n#                 name = os.path.join(VIDEO_SAVE_DIR, name)\\n#                 cv2.imwrite(name, frame)\\n#                 print('writing to file:{0}'.format(name))\\n                ## add visualise files\\n#                 visualize.display_instances(image, r['rois'], r['masks'], r['class_ids'],\\n#                             class_names, r['scores'])\\n                save_image(image, name, r['rois'], r['masks'], r['class_ids'],\\n                                     r['scores'],class_names, save_dir=VIDEO_SAVE_DIR, mode=0)\\n#                 print(r['class_ids'], r['scores'])\\n\\n            # Clear the frames array to start the next batch\\n            frames = []\\n\\n    capture.release()\\n\""
            ]
          },
          "metadata": {
            "tags": []
          },
          "execution_count": 141
        }
      ]
    },
    {
      "metadata": {
        "id": "nEma2N41W9jn",
        "colab_type": "code",
        "colab": {}
      },
      "cell_type": "code",
      "source": [
        "!ls"
      ],
      "execution_count": 0,
      "outputs": []
    },
    {
      "metadata": {
        "id": "B4zP09BWLlCo",
        "colab_type": "code",
        "colab": {}
      },
      "cell_type": "code",
      "source": [
        "!ls /content/Mask_RCNN/videos/save/"
      ],
      "execution_count": 0,
      "outputs": []
    },
    {
      "metadata": {
        "id": "9kfiGtdo1act",
        "colab_type": "code",
        "colab": {}
      },
      "cell_type": "code",
      "source": [
        "!pwd"
      ],
      "execution_count": 0,
      "outputs": []
    },
    {
      "metadata": {
        "id": "nZIW-q1Hoq12",
        "colab_type": "code",
        "colab": {}
      },
      "cell_type": "code",
      "source": [
        "!zip -r test_images_final.zip videos/save/"
      ],
      "execution_count": 0,
      "outputs": []
    },
    {
      "metadata": {
        "id": "egOSPy-0h-wE",
        "colab_type": "code",
        "colab": {}
      },
      "cell_type": "code",
      "source": [
        "# import glob\n",
        "# images = [cv2.imread(file) for file in glob.glob(\"/content/Mask_RCNN/Generating_bulk_dataset/type3_videos/VID_IMG_5124/*.jpg\")]"
      ],
      "execution_count": 0,
      "outputs": []
    },
    {
      "metadata": {
        "id": "6kLSe3JdjQYk",
        "colab_type": "code",
        "colab": {}
      },
      "cell_type": "code",
      "source": [
        "\"\"\"\n",
        "import os\n",
        "\n",
        "# os.chdir('/home/pradyum/Downloads/send3_aviNash/send/Val/') ## for the file path\n",
        "os.chdir('/content/Mask_RCNN/Generating_bulk_dataset/type3_videos/VID_IMG_5124/')\n",
        "\n",
        "## check the current working directory\n",
        "print(os.getcwd())\n",
        "count = 0\n",
        "\n",
        "## looping through all the files\n",
        "for f in os.listdir():\n",
        "#     print(f) ## printing all the filenames here in the directory\n",
        "    ## Split the extenstion\n",
        "    f_name, f_ext = os.path.splitext(f)\n",
        "#     print(f_name)\n",
        "     \n",
        "    count += 1 ## counter for naming files\n",
        "    f_name = f_name.strip() ##removing the white Space\n",
        "    \n",
        "#     print('{}{}'.format(count,f_ext)) ## check all the image file Names\n",
        "    new_name = '{}{}'.format(count,f_ext)\n",
        "    \n",
        "    os.rename(f, new_name) ## Final renaming of the files\n",
        "    \n",
        "print(\"Total files are {}\".format(count))\n",
        "\n",
        "os.chdir('/content/Mask_RCNN')\n",
        "\"\"\""
      ],
      "execution_count": 0,
      "outputs": []
    },
    {
      "metadata": {
        "id": "5Z0CKYm_jv1H",
        "colab_type": "code",
        "colab": {}
      },
      "cell_type": "code",
      "source": [
        "# !ls /content/Mask_RCNN/Generating_bulk_dataset/type3_videos/VID_IMG_5124"
      ],
      "execution_count": 0,
      "outputs": []
    },
    {
      "metadata": {
        "id": "LGpS9NmRjdlo",
        "colab_type": "code",
        "colab": {}
      },
      "cell_type": "code",
      "source": [
        "# !pwd"
      ],
      "execution_count": 0,
      "outputs": []
    },
    {
      "metadata": {
        "id": "p1Gs7LC75jAB",
        "colab_type": "code",
        "colab": {}
      },
      "cell_type": "code",
      "source": [
        "# %cd .."
      ],
      "execution_count": 0,
      "outputs": []
    },
    {
      "metadata": {
        "id": "BoED2bJ2JW8s",
        "colab_type": "code",
        "colab": {}
      },
      "cell_type": "code",
      "source": [
        "# %cd "
      ],
      "execution_count": 0,
      "outputs": []
    },
    {
      "metadata": {
        "id": "HXo-dd0NJTJI",
        "colab_type": "code",
        "colab": {}
      },
      "cell_type": "code",
      "source": [
        ""
      ],
      "execution_count": 0,
      "outputs": []
    },
    {
      "metadata": {
        "id": "Qpt7gto6vyg3",
        "colab_type": "code",
        "colab": {}
      },
      "cell_type": "code",
      "source": [
        "\"\"\"\n",
        "## Code for the file Iterator\n",
        "import os\n",
        "import scipy\n",
        "import cv2\n",
        "import numpy as np\n",
        "from PIL import Image, ImageDraw, ImageFont\n",
        "\n",
        "\n",
        "def random_colors(N):\n",
        "    np.random.seed(1)\n",
        "    colors = [tuple(255 * np.random.rand(3)) for _ in range(N)]\n",
        "    return colors\n",
        "\n",
        "\n",
        "def apply_mask(image, mask, color, alpha=0.5):\n",
        "    \"\"\"apply mask to image\"\"\"\n",
        "    for n, c in enumerate(color):\n",
        "        image[:, :, n] = np.where(\n",
        "            mask == 1,\n",
        "            image[:, :, n] * (1 - alpha) + alpha * c,\n",
        "            image[:, :, n]\n",
        "        )\n",
        "    return image\n",
        "\n",
        "\n",
        "def display_instances(image, boxes, masks, ids, names, scores):\n",
        "    \"\"\"\n",
        "        take the image and results and apply the mask, box, and Label\n",
        "    \"\"\"\n",
        "    n_instances = boxes.shape[0]\n",
        "    colors = random_colors(n_instances)\n",
        "\n",
        "    if not n_instances:\n",
        "        print('NO INSTANCES TO DISPLAY')\n",
        "    else:\n",
        "        assert boxes.shape[0] == masks.shape[-1] == ids.shape[0]\n",
        "\n",
        "    for i, color in enumerate(colors):\n",
        "        if not np.any(boxes[i]):\n",
        "            continue\n",
        "\n",
        "        y1, x1, y2, x2 = boxes[i]\n",
        "        label = names[ids[i]]\n",
        "        score = scores[i] if scores is not None else None\n",
        "        caption = '{} {:.2f}'.format(label, score) if score else label\n",
        "        mask = masks[:, :, i]\n",
        "\n",
        "        image = apply_mask(image, mask, color)\n",
        "        image = cv2.rectangle(image, (x1, y1), (x2, y2), color, 2)\n",
        "        image = cv2.putText(\n",
        "            image, caption, (x1, y1), cv2.FONT_HERSHEY_COMPLEX, 0.7, color, 2\n",
        "        )\n",
        "\n",
        "    return image\n",
        "\n",
        "def save_image(image, image_name, boxes, masks, class_ids, scores, class_names, filter_classs_names=None,\n",
        "               scores_thresh=0.1, save_dir=None, mode=0):\n",
        "    \"\"\"\n",
        "        image: image array\n",
        "        image_name: image name\n",
        "        boxes: [num_instance, (y1, x1, y2, x2, class_id)] in image coordinates.\n",
        "        masks: [num_instances, height, width]\n",
        "        class_ids: [num_instances]\n",
        "        scores: confidence scores for each box\n",
        "        class_names: list of class names of the dataset\n",
        "        filter_classs_names: (optional) list of class names we want to draw\n",
        "        scores_thresh: (optional) threshold of confidence scores\n",
        "        save_dir: (optional) the path to store image\n",
        "        mode: (optional) select the result which you want\n",
        "                mode = 0 , save image with bbox,class_name,score and mask;\n",
        "                mode = 1 , save image with bbox,class_name and score;\n",
        "                mode = 2 , save image with class_name,score and mask;\n",
        "                mode = 3 , save mask with black background;\n",
        "    \"\"\"\n",
        "    mode_list = [0, 1, 2, 3]\n",
        "    assert mode in mode_list, \"mode's value should in mode_list %s\" % str(mode_list)\n",
        "\n",
        "    if save_dir is None:\n",
        "        save_dir = os.path.join(os.getcwd(), \"output\")\n",
        "        if not os.path.exists(save_dir):\n",
        "            os.makedirs(save_dir)\n",
        "\n",
        "    useful_mask_indices = []\n",
        "\n",
        "    N = boxes.shape[0]\n",
        "    if not N:\n",
        "        print(\"\\n*** No instances in image %s to draw *** \\n\" % (image_name))\n",
        "        return\n",
        "    else:\n",
        "        assert boxes.shape[0] == masks.shape[-1] == class_ids.shape[0]\n",
        "\n",
        "    for i in range(N):\n",
        "        # filter\n",
        "        class_id = class_ids[i]\n",
        "        score = scores[i] if scores is not None else None\n",
        "        if score is None or score < scores_thresh:\n",
        "            continue\n",
        "\n",
        "        label = class_names[class_id]\n",
        "        if (filter_classs_names is not None) and (label not in filter_classs_names):\n",
        "            continue\n",
        "\n",
        "        if not np.any(boxes[i]):\n",
        "            # Skip this instance. Has no bbox. Likely lost in image cropping.\n",
        "            continue\n",
        "\n",
        "        useful_mask_indices.append(i)\n",
        "\n",
        "    if len(useful_mask_indices) == 0:\n",
        "        print(\"\\n*** No instances in image %s to draw *** \\n\" % (image_name))\n",
        "        return\n",
        "\n",
        "    colors = random_colors(len(useful_mask_indices))\n",
        "\n",
        "    if mode != 3:\n",
        "        masked_image = image.astype(np.uint8).copy()\n",
        "    else:\n",
        "        masked_image = np.zeros(image.shape).astype(np.uint8)\n",
        "\n",
        "    if mode != 1:\n",
        "        for index, value in enumerate(useful_mask_indices):\n",
        "            masked_image = apply_mask(masked_image, masks[:, :, value], colors[index])\n",
        "\n",
        "    masked_image = Image.fromarray(masked_image)\n",
        "\n",
        "    if mode == 3:\n",
        "        masked_image.save(os.path.join(save_dir, '%s.jpg' % (image_name)))\n",
        "        return\n",
        "\n",
        "    draw = ImageDraw.Draw(masked_image)\n",
        "    colors = np.array(colors).astype(int) * 255\n",
        "\n",
        "    for index, value in enumerate(useful_mask_indices):\n",
        "        class_id = class_ids[value]\n",
        "        score = scores[value]\n",
        "        label = class_names[class_id]\n",
        "\n",
        "        y1, x1, y2, x2 = boxes[value]\n",
        "        if mode != 2:\n",
        "            color = tuple(colors[index])\n",
        "            draw.rectangle((x1, y1, x2, y2), outline=color)\n",
        "\n",
        "        # Label\n",
        "#         font = ImageFont.load('/usr/share/fonts/truetype/ttf-bitstream-vera/Vera.ttf')\n",
        "        font = ImageFont.truetype('add_textInImage/fonts_Dir/OpenSans-Bold.ttf', 15)\n",
        "        draw.text((x1, y1), \"%s %f\" % (label, score), (255, 255, 255), font)\n",
        "\n",
        "    print(r['class_ids'], r['scores'])\n",
        "    new_name = '{}-{}.jpg'.format(r['class_ids'],r['scores'])\n",
        "#     masked_image.save(os.path.join(save_dir, '%s.jpg' % (image_name)))\n",
        "    masked_image.save(os.path.join(save_dir, '%s' % (new_name)))\n",
        "#     os.rename(image_name, new_name)\n",
        "\n",
        "\n",
        "if __name__ == '__main__':\n",
        "    \"\"\"\n",
        "        test everything\n",
        "    \"\"\"\n",
        "    import os\n",
        "    import sys\n",
        "    import custom\n",
        "    import utils\n",
        "    import model as modellib\n",
        "    import visualize\n",
        "\n",
        "    # We use a K80 GPU with 24GB memory, which can fit 3 images.\n",
        "    batch_size = 3\n",
        "\n",
        "    ROOT_DIR = os.getcwd()\n",
        "    MODEL_DIR = os.path.join(ROOT_DIR, \"logs\")\n",
        "    VIDEO_DIR = os.path.join(ROOT_DIR, \"videos\")\n",
        "    VIDEO_SAVE_DIR = os.path.join(VIDEO_DIR, \"save\")\n",
        "    \n",
        "    size_1920 = (1920,1080)\n",
        "    \n",
        "#     COCO_MODEL_PATH = os.path.join(ROOT_DIR, \"mask_rcnn_damage_0010.h5\")\n",
        "#     if not os.path.exists(COCO_MODEL_PATH):\n",
        "#         utils.download_trained_weights(COCO_MODEL_PATH)\n",
        "\n",
        "    class InferenceConfig(custom.CustomConfig):\n",
        "        GPU_COUNT = 1\n",
        "        IMAGES_PER_GPU = batch_size\n",
        "\n",
        "    config = InferenceConfig()\n",
        "    config.display()\n",
        "\n",
        "    model = modellib.MaskRCNN(\n",
        "        mode=\"inference\", model_dir=MODEL_DIR, config=config\n",
        "    )\n",
        "    model.load_weights(\"mask_rcnn_damage_0010.h5\", by_name=True)\n",
        "    class_names = [\n",
        "        'BG', 'damage'\n",
        "    ]\n",
        "\n",
        "#     capture = cv2.VideoCapture(os.path.join(VIDEO_DIR, 'trailer1.mp4'))\n",
        "    try:\n",
        "        if not os.path.exists(VIDEO_SAVE_DIR):\n",
        "            os.makedirs(VIDEO_SAVE_DIR)\n",
        "    except OSError:\n",
        "        print ('Error: Creating directory of data')\n",
        "\n",
        "    ## for the folder path to be mentioned here\n",
        "    os.chdir('VID_DIR/')\n",
        "\n",
        "    ## check the current working directory\n",
        "    print(os.getcwd())\n",
        "    count = 0\n",
        "\n",
        "    for f in os.listdir():\n",
        "        count += 1\n",
        "        ## if dir is empty break\n",
        "        if count == 0:\n",
        "            print(\"Directory is empty\")\n",
        "            break\n",
        "        \n",
        "        i = Image.open(f)\n",
        "        i.thumbnail(size_1920)\n",
        "        i.save('{}'.format(f))\n",
        "        \n",
        "            #### Masking Images\n",
        "#         image = skimage.io.imread(i)\n",
        "        image = Image.open(i)\n",
        "        if len(image) == batch_size:\n",
        "          # Run detection\n",
        "          results = model.detect([image], verbose=0)\n",
        "          print('predicted')\n",
        "          # Visualize results\n",
        "          r = results[0]\n",
        "          display_instances(image, r['rois'], r['masks'], r['class_ids'],\n",
        "                                  class_names, r['scores'])\n",
        "          save_image(image, new_name, r['rois'], r['masks'], r['class_ids'],\n",
        "                                  class_names, r['scores'], save_dir=VIDEO_SAVE_DIR, mode=0)\n",
        "        else:\n",
        "          print(\"Pass\")\n",
        "        \n",
        "\n",
        "\n",
        "    print(\"Total number of images {}\".format(count))\n",
        "\n",
        "\n",
        "#     ###### Code for the video section\n",
        "#     frames = []\n",
        "#     frame_count = 0\n",
        "#     # these 2 lines can be removed if you dont have a 1080p camera.\n",
        "#     capture.set(cv2.CAP_PROP_FRAME_WIDTH, 1920)\n",
        "#     capture.set(cv2.CAP_PROP_FRAME_HEIGHT, 1080)\n",
        "\n",
        "#     while True:\n",
        "#         ret, frame = capture.read()\n",
        "#         # Bail out when the video file ends\n",
        "#         if not ret:\n",
        "#             break\n",
        "\n",
        "#         # Save each frame of the video to a list\n",
        "#         frame_count += 1\n",
        "#         frames.append(frame)\n",
        "#         print('frame_count :{0}'.format(frame_count))\n",
        "#         if len(frames) == batch_size:\n",
        "#             results = model.detect(frames, verbose=0)\n",
        "#             print('Predicted')\n",
        "#             for i, item in enumerate(zip(frames, results)):\n",
        "#                 frame = item[0]\n",
        "#                 r = item[1]\n",
        "#                 frame = display_instances(\n",
        "#                     frame, r['rois'], r['masks'], r['class_ids'], class_names, r['scores']\n",
        "#                 )\n",
        "# #                 name = '{0}.jpg'.format(frame_count + i - batch_size)\n",
        "# #                 name = os.path.join(VIDEO_SAVE_DIR, name)\n",
        "# #                 cv2.imwrite(name, frame)\n",
        "# #                 print('writing to file:{0}'.format(name))\n",
        "#                 ## add visualise files\n",
        "# #                 visualize.display_instances(image, r['rois'], r['masks'], r['class_ids'],\n",
        "# #                             class_names, r['scores'])\n",
        "#                 save_image(image, name, r['rois'], r['masks'], r['class_ids'],\n",
        "#                                      r['scores'],class_names, save_dir=VIDEO_SAVE_DIR, mode=0)\n",
        "# #                 print(r['class_ids'], r['scores'])\n",
        "\n",
        "#             # Clear the frames array to start the next batch\n",
        "#             frames = []\n",
        "\n",
        "#     capture.release()\n",
        "\"\"\""
      ],
      "execution_count": 0,
      "outputs": []
    },
    {
      "metadata": {
        "id": "VxZb_G4M5nYK",
        "colab_type": "code",
        "colab": {}
      },
      "cell_type": "code",
      "source": [
        "# %cd .."
      ],
      "execution_count": 0,
      "outputs": []
    },
    {
      "metadata": {
        "id": "2pdbRI876qfL",
        "colab_type": "code",
        "colab": {}
      },
      "cell_type": "code",
      "source": [
        "# !pwd"
      ],
      "execution_count": 0,
      "outputs": []
    },
    {
      "metadata": {
        "id": "-QvKnU5btHKU",
        "colab_type": "code",
        "colab": {}
      },
      "cell_type": "code",
      "source": [
        "# !ls /content/Mask_RCNN/Generating_bulk_dataset/type3_videos/VID_IMG_5124"
      ],
      "execution_count": 0,
      "outputs": []
    },
    {
      "metadata": {
        "id": "HPJp4SP24M8k",
        "colab_type": "code",
        "colab": {}
      },
      "cell_type": "code",
      "source": [
        "# !pwd"
      ],
      "execution_count": 0,
      "outputs": []
    },
    {
      "metadata": {
        "id": "PFrGgmBS36GD",
        "colab_type": "code",
        "colab": {}
      },
      "cell_type": "code",
      "source": [
        "\"\"\"\n",
        "# os.chdir('/home/pradyum/Downloads/send3_aviNash/send/Val/') ## for the file path\n",
        "os.chdir('VID_DIR/')\n",
        "\n",
        "## check the current working directory\n",
        "print(os.getcwd())\n",
        "count = 0\n",
        "\n",
        "## looping through all the files\n",
        "for f in os.listdir():\n",
        "#     print(f) ## printing all the filenames here in the directory\n",
        "    ## Split the extenstion\n",
        "    f_name, f_ext = os.path.splitext(f)\n",
        "#     print(f_name)\n",
        "     \n",
        "    count += 1 ## counter for naming files\n",
        "    f_name = f_name.strip() ##removing the white Space\n",
        "    \n",
        "#     print('{}{}'.format(count,f_ext)) ## check all the image file Names\n",
        "    new_name = '{}{}'.format(count,f_ext)\n",
        "    \n",
        "    os.rename(f, new_name) ## Final renaming of the files\n",
        "    \n",
        "print(\"Total files are {}\".format(count))\n",
        "\"\"\""
      ],
      "execution_count": 0,
      "outputs": []
    },
    {
      "metadata": {
        "id": "oZRrZZ0m4H65",
        "colab_type": "code",
        "colab": {}
      },
      "cell_type": "code",
      "source": [
        "# !ls"
      ],
      "execution_count": 0,
      "outputs": []
    },
    {
      "metadata": {
        "id": "_G--S0E33O3e",
        "colab_type": "code",
        "colab": {}
      },
      "cell_type": "code",
      "source": [
        "# %cd .."
      ],
      "execution_count": 0,
      "outputs": []
    },
    {
      "metadata": {
        "id": "J-8H25XlyoN9",
        "colab_type": "code",
        "colab": {}
      },
      "cell_type": "code",
      "source": [
        "# !pwd"
      ],
      "execution_count": 0,
      "outputs": []
    },
    {
      "metadata": {
        "id": "RMZGeSbdyqJm",
        "colab_type": "code",
        "colab": {}
      },
      "cell_type": "code",
      "source": [
        "# ls videos/save\n",
        "# !zip -r videos/save.zip videos/save/"
      ],
      "execution_count": 0,
      "outputs": []
    },
    {
      "metadata": {
        "id": "GAW48vxVyptN",
        "colab_type": "code",
        "colab": {}
      },
      "cell_type": "code",
      "source": [
        ""
      ],
      "execution_count": 0,
      "outputs": []
    },
    {
      "metadata": {
        "id": "gvQNTTB_ypqc",
        "colab_type": "code",
        "colab": {}
      },
      "cell_type": "code",
      "source": [
        ""
      ],
      "execution_count": 0,
      "outputs": []
    },
    {
      "metadata": {
        "id": "gaE-E49Typns",
        "colab_type": "code",
        "colab": {}
      },
      "cell_type": "code",
      "source": [
        ""
      ],
      "execution_count": 0,
      "outputs": []
    },
    {
      "metadata": {
        "id": "5wUxRHhXyplB",
        "colab_type": "code",
        "colab": {}
      },
      "cell_type": "code",
      "source": [
        ""
      ],
      "execution_count": 0,
      "outputs": []
    },
    {
      "metadata": {
        "id": "EzJfrAQ5ksAS",
        "colab_type": "code",
        "colab": {}
      },
      "cell_type": "code",
      "source": [
        "# !pip uninstall pillow\n",
        "# !pip install PIL"
      ],
      "execution_count": 0,
      "outputs": []
    },
    {
      "metadata": {
        "id": "2nTk-AWyoPCQ",
        "colab_type": "code",
        "colab": {}
      },
      "cell_type": "code",
      "source": [
        "# !wget https://raw.githubusercontent.com/Prady96/Pothole-Detection/master/visualize.py"
      ],
      "execution_count": 0,
      "outputs": []
    },
    {
      "metadata": {
        "id": "K5fAz__bThGZ",
        "colab_type": "code",
        "colab": {}
      },
      "cell_type": "code",
      "source": [
        "# !ls"
      ],
      "execution_count": 0,
      "outputs": []
    },
    {
      "metadata": {
        "id": "I-oG_XU8ThEV",
        "colab_type": "code",
        "colab": {}
      },
      "cell_type": "code",
      "source": [
        "# !rm -rf visualize.py"
      ],
      "execution_count": 0,
      "outputs": []
    },
    {
      "metadata": {
        "id": "ny0WReUDThCU",
        "colab_type": "code",
        "colab": {}
      },
      "cell_type": "code",
      "source": [
        "# !mv visualize.py.1 visualize.py"
      ],
      "execution_count": 0,
      "outputs": []
    },
    {
      "metadata": {
        "id": "zucOh1fxTg_c",
        "colab_type": "code",
        "colab": {}
      },
      "cell_type": "code",
      "source": [
        "# !ls"
      ],
      "execution_count": 0,
      "outputs": []
    },
    {
      "metadata": {
        "id": "eoZuLOx0Tg9U",
        "colab_type": "code",
        "colab": {}
      },
      "cell_type": "code",
      "source": [
        "# !pwd arial.ttf"
      ],
      "execution_count": 0,
      "outputs": []
    },
    {
      "metadata": {
        "id": "nj26ANl0Tg6Y",
        "colab_type": "code",
        "colab": {}
      },
      "cell_type": "code",
      "source": [
        "# !ls"
      ],
      "execution_count": 0,
      "outputs": []
    },
    {
      "metadata": {
        "id": "ZEmOwdA-TgzW",
        "colab_type": "code",
        "colab": {}
      },
      "cell_type": "code",
      "source": [
        "# !mv arial.ttf.1 arial.ttf"
      ],
      "execution_count": 0,
      "outputs": []
    },
    {
      "metadata": {
        "id": "dxF1DSFDPf6V",
        "colab_type": "code",
        "colab": {}
      },
      "cell_type": "code",
      "source": [
        "# !rm -rf arial.ttf"
      ],
      "execution_count": 0,
      "outputs": []
    },
    {
      "metadata": {
        "id": "DSZkcSlvh62W",
        "colab_type": "code",
        "colab": {}
      },
      "cell_type": "code",
      "source": [
        "# !mkdir fonts"
      ],
      "execution_count": 0,
      "outputs": []
    },
    {
      "metadata": {
        "id": "566ofHqwnusc",
        "colab_type": "code",
        "colab": {}
      },
      "cell_type": "code",
      "source": [
        "# !ls"
      ],
      "execution_count": 0,
      "outputs": []
    },
    {
      "metadata": {
        "id": "Rv4z5d8Ansck",
        "colab_type": "code",
        "colab": {}
      },
      "cell_type": "code",
      "source": [
        "# !mv arial.ttf fonts/"
      ],
      "execution_count": 0,
      "outputs": []
    },
    {
      "metadata": {
        "id": "d3VXFJyZnyo7",
        "colab_type": "code",
        "colab": {}
      },
      "cell_type": "code",
      "source": [
        "# !ls fonts"
      ],
      "execution_count": 0,
      "outputs": []
    },
    {
      "metadata": {
        "id": "3XeJOe35nz6K",
        "colab_type": "code",
        "colab": {}
      },
      "cell_type": "code",
      "source": [
        "# %cd fonts/"
      ],
      "execution_count": 0,
      "outputs": []
    },
    {
      "metadata": {
        "id": "4aNhGQZVomFe",
        "colab_type": "code",
        "colab": {}
      },
      "cell_type": "code",
      "source": [
        "# !pwd"
      ],
      "execution_count": 0,
      "outputs": []
    },
    {
      "metadata": {
        "id": "WtTRec1Bomy9",
        "colab_type": "code",
        "colab": {}
      },
      "cell_type": "code",
      "source": [
        "# %cd .."
      ],
      "execution_count": 0,
      "outputs": []
    },
    {
      "metadata": {
        "id": "EPDJxtm5onnV",
        "colab_type": "code",
        "colab": {}
      },
      "cell_type": "code",
      "source": [
        "# import os\n",
        "# os.path.exists('/content/Mask_RCNN/fonts/arial.ttf')"
      ],
      "execution_count": 0,
      "outputs": []
    },
    {
      "metadata": {
        "id": "vuViMGpYqV-J",
        "colab_type": "code",
        "colab": {}
      },
      "cell_type": "code",
      "source": [
        "# !ls /usr/share/fonts/truetype/liberation/"
      ],
      "execution_count": 0,
      "outputs": []
    },
    {
      "metadata": {
        "id": "xQL5DqwSsIH1",
        "colab_type": "code",
        "colab": {}
      },
      "cell_type": "code",
      "source": [
        "# !ls add_textInImage/fonts_Dir/OpenSans-Bold.ttf"
      ],
      "execution_count": 0,
      "outputs": []
    },
    {
      "metadata": {
        "id": "XQKs2wj4t3_R",
        "colab_type": "code",
        "colab": {}
      },
      "cell_type": "code",
      "source": [
        ""
      ],
      "execution_count": 0,
      "outputs": []
    }
  ]
}