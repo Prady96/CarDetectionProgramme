{
  "nbformat": 4,
  "nbformat_minor": 0,
  "metadata": {
    "colab": {
      "name": "PrelimearyModelBuildingGPU.ipynb",
      "version": "0.3.2",
      "provenance": [],
      "include_colab_link": true
    },
    "kernelspec": {
      "name": "python3",
      "display_name": "Python 3"
    },
    "accelerator": "GPU"
  },
  "cells": [
    {
      "cell_type": "markdown",
      "metadata": {
        "id": "view-in-github",
        "colab_type": "text"
      },
      "source": [
        "<a href=\"https://colab.research.google.com/github/Prady96/CarDetectionProgramme/blob/master/VideoGeneratedMaskRCNN.ipynb\" target=\"_parent\"><img src=\"https://colab.research.google.com/assets/colab-badge.svg\" alt=\"Open In Colab\"/></a>"
      ]
    },
    {
      "metadata": {
        "id": "byHonk_eWIhe",
        "colab_type": "code",
        "colab": {
          "base_uri": "https://localhost:8080/",
          "height": 238
        },
        "outputId": "14b54cde-51ca-4cbe-eab7-0fbf68ba42ef"
      },
      "cell_type": "code",
      "source": [
        "!wget https://www.formpicture.com/pothole/pothole_img250.zip --no-check-certificate"
      ],
      "execution_count": 1,
      "outputs": [
        {
          "output_type": "stream",
          "text": [
            "--2018-11-01 05:04:35--  https://www.formpicture.com/pothole/pothole_img250.zip\n",
            "Resolving www.formpicture.com (www.formpicture.com)... 93.188.165.63\n",
            "Connecting to www.formpicture.com (www.formpicture.com)|93.188.165.63|:443... connected.\n",
            "WARNING: cannot verify www.formpicture.com's certificate, issued by ‘CN=Let's Encrypt Authority X3,O=Let's Encrypt,C=US’:\n",
            "  Unable to locally verify the issuer's authority.\n",
            "HTTP request sent, awaiting response... 200 OK\n",
            "Length: 99579526 (95M) [application/zip]\n",
            "Saving to: ‘pothole_img250.zip’\n",
            "\n",
            "pothole_img250.zip  100%[===================>]  94.97M   816KB/s    in 2m 4s   \n",
            "\n",
            "2018-11-01 05:06:39 (786 KB/s) - ‘pothole_img250.zip’ saved [99579526/99579526]\n",
            "\n"
          ],
          "name": "stdout"
        }
      ]
    },
    {
      "metadata": {
        "id": "-YrLoO_HWWTa",
        "colab_type": "code",
        "colab": {
          "base_uri": "https://localhost:8080/",
          "height": 238
        },
        "outputId": "5e7dab50-4a46-4dc2-bef9-7f789bf06eec"
      },
      "cell_type": "code",
      "source": [
        "!wget https://www.formpicture.com/pothole/val.zip --no-check-certificate"
      ],
      "execution_count": 2,
      "outputs": [
        {
          "output_type": "stream",
          "text": [
            "--2018-11-01 05:06:42--  https://www.formpicture.com/pothole/val.zip\n",
            "Resolving www.formpicture.com (www.formpicture.com)... 93.188.165.63\n",
            "Connecting to www.formpicture.com (www.formpicture.com)|93.188.165.63|:443... connected.\n",
            "WARNING: cannot verify www.formpicture.com's certificate, issued by ‘CN=Let's Encrypt Authority X3,O=Let's Encrypt,C=US’:\n",
            "  Unable to locally verify the issuer's authority.\n",
            "HTTP request sent, awaiting response... 200 OK\n",
            "Length: 13623029 (13M) [application/zip]\n",
            "Saving to: ‘val.zip’\n",
            "\n",
            "val.zip             100%[===================>]  12.99M  1.12MB/s    in 16s     \n",
            "\n",
            "2018-11-01 05:06:58 (835 KB/s) - ‘val.zip’ saved [13623029/13623029]\n",
            "\n"
          ],
          "name": "stdout"
        }
      ]
    },
    {
      "metadata": {
        "id": "S7NexOO9Wb4d",
        "colab_type": "code",
        "colab": {}
      },
      "cell_type": "code",
      "source": [
        "!mkdir customImages"
      ],
      "execution_count": 0,
      "outputs": []
    },
    {
      "metadata": {
        "id": "wzTR5xORWgj_",
        "colab_type": "code",
        "colab": {
          "base_uri": "https://localhost:8080/",
          "height": 4335
        },
        "outputId": "acc66f0a-5217-49d4-ca26-652f89f58767"
      },
      "cell_type": "code",
      "source": [
        "!unzip pothole_img250.zip"
      ],
      "execution_count": 4,
      "outputs": [
        {
          "output_type": "stream",
          "text": [
            "Archive:  pothole_img250.zip\n",
            "   creating: pothole_img250/\n",
            "  inflating: pothole_img250/Output\\frame29.jpg  \n",
            "  inflating: pothole_img250/Output\\frame5.jpg  \n",
            "  inflating: pothole_img250/Output\\frame117.jpg  \n",
            "  inflating: pothole_img250/Output\\frame91.jpg  \n",
            "  inflating: pothole_img250/Output\\frame104.jpg  \n",
            "  inflating: pothole_img250/Output\\frame219.jpg  \n",
            "  inflating: pothole_img250/Output\\frame127.jpg  \n",
            "  inflating: pothole_img250/Output\\frame125.jpg  \n",
            "  inflating: pothole_img250/Output\\frame66.jpg  \n",
            "  inflating: pothole_img250/Output\\frame23.jpg  \n",
            "  inflating: pothole_img250/Output\\frame193.jpg  \n",
            "  inflating: pothole_img250/Output\\frame67.jpg  \n",
            "  inflating: pothole_img250/Output\\frame208.jpg  \n",
            "  inflating: pothole_img250/Output\\frame3.jpg  \n",
            "  inflating: pothole_img250/Output\\frame101.jpg  \n",
            "  inflating: pothole_img250/Output\\frame163.jpg  \n",
            "  inflating: pothole_img250/Output\\frame180.jpg  \n",
            "  inflating: pothole_img250/Output\\frame186.jpg  \n",
            "  inflating: pothole_img250/Output\\frame138.jpg  \n",
            "  inflating: pothole_img250/Output\\frame143.jpg  \n",
            "  inflating: pothole_img250/Output\\frame204.jpg  \n",
            "  inflating: pothole_img250/Output\\frame152.jpg  \n",
            "  inflating: pothole_img250/Output\\frame8.jpg  \n",
            "  inflating: pothole_img250/Output\\frame165.jpg  \n",
            "  inflating: pothole_img250/Output\\frame207.jpg  \n",
            "  inflating: pothole_img250/Output\\frame178.jpg  \n",
            "  inflating: pothole_img250/Output\\frame221.jpg  \n",
            "  inflating: pothole_img250/Output\\frame205.jpg  \n",
            "  inflating: pothole_img250/Output\\frame64.jpg  \n",
            "  inflating: pothole_img250/Output\\frame230.jpg  \n",
            "  inflating: pothole_img250/Output\\frame52.jpg  \n",
            "  inflating: pothole_img250/Output\\frame175.jpg  \n",
            "  inflating: pothole_img250/Output\\frame56.jpg  \n",
            "  inflating: pothole_img250/Output\\frame146.jpg  \n",
            "  inflating: pothole_img250/Output\\frame31.jpg  \n",
            "  inflating: pothole_img250/Output\\frame73.jpg  \n",
            "  inflating: pothole_img250/Output\\frame50.jpg  \n",
            "  inflating: pothole_img250/Output\\frame144.jpg  \n",
            "  inflating: pothole_img250/Output\\frame114.jpg  \n",
            "  inflating: pothole_img250/Output\\frame18.jpg  \n",
            "  inflating: pothole_img250/Output\\frame90.jpg  \n",
            "  inflating: pothole_img250/Output\\frame77.jpg  \n",
            "  inflating: pothole_img250/Output\\frame28.jpg  \n",
            "  inflating: pothole_img250/Output\\frame203.jpg  \n",
            "  inflating: pothole_img250/Output\\frame36.jpg  \n",
            "  inflating: pothole_img250/Output\\frame243.jpg  \n",
            "  inflating: pothole_img250/Output\\frame38.jpg  \n",
            "  inflating: pothole_img250/Output\\frame122.jpg  \n",
            "  inflating: pothole_img250/Output\\frame39.jpg  \n",
            "  inflating: pothole_img250/Output\\frame239.jpg  \n",
            "  inflating: pothole_img250/Output\\frame86.jpg  \n",
            "  inflating: pothole_img250/Output\\frame227.jpg  \n",
            "  inflating: pothole_img250/Output\\frame47.jpg  \n",
            "  inflating: pothole_img250/Output\\frame78.jpg  \n",
            "  inflating: pothole_img250/Output\\frame172.jpg  \n",
            "  inflating: pothole_img250/Output\\frame94.jpg  \n",
            "  inflating: pothole_img250/Output\\frame226.jpg  \n",
            "  inflating: pothole_img250/Output\\frame13.jpg  \n",
            "  inflating: pothole_img250/Output\\frame7.jpg  \n",
            "  inflating: pothole_img250/Output\\frame71.jpg  \n",
            "  inflating: pothole_img250/Output\\frame168.jpg  \n",
            "  inflating: pothole_img250/Output\\frame220.jpg  \n",
            "  inflating: pothole_img250/Output\\frame140.jpg  \n",
            "  inflating: pothole_img250/Output\\frame53.jpg  \n",
            "  inflating: pothole_img250/Output\\frame120.jpg  \n",
            "  inflating: pothole_img250/Output\\frame170.jpg  \n",
            "  inflating: pothole_img250/Output\\frame15.jpg  \n",
            "  inflating: pothole_img250/Output\\frame81.jpg  \n",
            "  inflating: pothole_img250/Output\\frame121.jpg  \n",
            "  inflating: pothole_img250/Output\\frame224.jpg  \n",
            "  inflating: pothole_img250/Output\\frame19.jpg  \n",
            "  inflating: pothole_img250/Output\\frame142.jpg  \n",
            "  inflating: pothole_img250/Output\\frame134.jpg  \n",
            "  inflating: pothole_img250/Output\\frame68.jpg  \n",
            "  inflating: pothole_img250/Output\\frame197.jpg  \n",
            "  inflating: pothole_img250/Output\\frame192.jpg  \n",
            "  inflating: pothole_img250/Output\\frame40.jpg  \n",
            "  inflating: pothole_img250/Output\\frame58.jpg  \n",
            "  inflating: pothole_img250/Output\\frame105.jpg  \n",
            "  inflating: pothole_img250/Output\\frame232.jpg  \n",
            "  inflating: pothole_img250/Output\\frame250.jpg  \n",
            "  inflating: pothole_img250/Output\\frame55.jpg  \n",
            "  inflating: pothole_img250/Output\\frame34.jpg  \n",
            "  inflating: pothole_img250/Output\\frame112.jpg  \n",
            "  inflating: pothole_img250/Output\\frame132.jpg  \n",
            "  inflating: pothole_img250/Output\\frame43.jpg  \n",
            "  inflating: pothole_img250/Output\\frame200.jpg  \n",
            "  inflating: pothole_img250/Output\\frame51.jpg  \n",
            "  inflating: pothole_img250/Output\\frame88.jpg  \n",
            "  inflating: pothole_img250/Output\\frame33.jpg  \n",
            "  inflating: pothole_img250/Output\\frame145.jpg  \n",
            "  inflating: pothole_img250/Output\\frame169.jpg  \n",
            "  inflating: pothole_img250/Output\\frame194.jpg  \n",
            "  inflating: pothole_img250/Output\\frame150.jpg  \n",
            "  inflating: pothole_img250/Output\\frame199.jpg  \n",
            "  inflating: pothole_img250/Output\\frame249.jpg  \n",
            "  inflating: pothole_img250/Output\\frame244.jpg  \n",
            "  inflating: pothole_img250/Output\\frame1.jpg  \n",
            "  inflating: pothole_img250/Output\\frame30.jpg  \n",
            "  inflating: pothole_img250/Output\\frame190.jpg  \n",
            "  inflating: pothole_img250/Output\\frame162.jpg  \n",
            "  inflating: pothole_img250/Output\\frame45.jpg  \n",
            "  inflating: pothole_img250/Output\\frame124.jpg  \n",
            "  inflating: pothole_img250/Output\\frame107.jpg  \n",
            "  inflating: pothole_img250/Output\\frame183.jpg  \n",
            "  inflating: pothole_img250/Output\\frame63.jpg  \n",
            "  inflating: pothole_img250/Output\\frame79.jpg  \n",
            "  inflating: pothole_img250/Output\\frame240.jpg  \n",
            "  inflating: pothole_img250/Output\\frame202.jpg  \n",
            "  inflating: pothole_img250/Output\\frame70.jpg  \n",
            "  inflating: pothole_img250/Output\\frame189.jpg  \n",
            "  inflating: pothole_img250/Output\\frame156.jpg  \n",
            "  inflating: pothole_img250/Output\\frame126.jpg  \n",
            "  inflating: pothole_img250/Output\\frame217.jpg  \n",
            "  inflating: pothole_img250/Output\\frame98.jpg  \n",
            "  inflating: pothole_img250/Output\\frame241.jpg  \n",
            "  inflating: pothole_img250/Output\\frame229.jpg  \n",
            "  inflating: pothole_img250/Output\\frame106.jpg  \n",
            "  inflating: pothole_img250/Output\\frame115.jpg  \n",
            "  inflating: pothole_img250/Output\\frame185.jpg  \n",
            "  inflating: pothole_img250/Output\\frame76.jpg  \n",
            "  inflating: pothole_img250/Output\\frame236.jpg  \n",
            "  inflating: pothole_img250/Output\\frame54.jpg  \n",
            "  inflating: pothole_img250/Output\\frame59.jpg  \n",
            "  inflating: pothole_img250/Output\\frame233.jpg  \n",
            "  inflating: pothole_img250/Output\\frame95.jpg  \n",
            "  inflating: pothole_img250/Output\\frame223.jpg  \n",
            "  inflating: pothole_img250/Output\\frame158.jpg  \n",
            "  inflating: pothole_img250/Output\\frame216.jpg  \n",
            "  inflating: pothole_img250/Output\\frame61.jpg  \n",
            "  inflating: pothole_img250/Output\\frame93.jpg  \n",
            "  inflating: pothole_img250/Output\\frame191.jpg  \n",
            "  inflating: pothole_img250/Output\\frame247.jpg  \n",
            "  inflating: pothole_img250/Output\\frame37.jpg  \n",
            "  inflating: pothole_img250/Output\\frame32.jpg  \n",
            "  inflating: pothole_img250/Output\\frame212.jpg  \n",
            "  inflating: pothole_img250/Output\\frame147.jpg  \n",
            "  inflating: pothole_img250/Output\\frame74.jpg  \n",
            "  inflating: pothole_img250/Output\\frame25.jpg  \n",
            "  inflating: pothole_img250/Output\\frame80.jpg  \n",
            "  inflating: pothole_img250/Output\\frame130.jpg  \n",
            "  inflating: pothole_img250/Output\\frame48.jpg  \n",
            "  inflating: pothole_img250/Output\\frame188.jpg  \n",
            "  inflating: pothole_img250/Output\\frame211.jpg  \n",
            "  inflating: pothole_img250/Output\\frame116.jpg  \n",
            "  inflating: pothole_img250/Output\\frame26.jpg  \n",
            "  inflating: pothole_img250/Output\\frame237.jpg  \n",
            "  inflating: pothole_img250/Output\\frame187.jpg  \n",
            "  inflating: pothole_img250/Output\\frame14.jpg  \n",
            "  inflating: pothole_img250/Output\\frame214.jpg  \n",
            "  inflating: pothole_img250/Output\\frame218.jpg  \n",
            "  inflating: pothole_img250/Output\\frame96.jpg  \n",
            "  inflating: pothole_img250/Output\\frame113.jpg  \n",
            "  inflating: pothole_img250/Output\\frame60.jpg  \n",
            "  inflating: pothole_img250/Output\\frame157.jpg  \n",
            "  inflating: pothole_img250/Output\\frame198.jpg  \n",
            "  inflating: pothole_img250/Output\\frame108.jpg  \n",
            "  inflating: pothole_img250/Output\\frame89.jpg  \n",
            "  inflating: pothole_img250/Output\\frame128.jpg  \n",
            "  inflating: pothole_img250/Output\\frame196.jpg  \n",
            "  inflating: pothole_img250/Output\\frame137.jpg  \n",
            "  inflating: pothole_img250/Output\\frame133.jpg  \n",
            "  inflating: pothole_img250/Output\\frame22.jpg  \n",
            "  inflating: pothole_img250/Output\\frame41.jpg  \n",
            "  inflating: pothole_img250/Output\\frame238.jpg  \n",
            "  inflating: pothole_img250/Output\\frame20.jpg  \n",
            "  inflating: pothole_img250/Output\\frame119.jpg  \n",
            "  inflating: pothole_img250/Output\\frame102.jpg  \n",
            "  inflating: pothole_img250/Output\\frame35.jpg  \n",
            "  inflating: pothole_img250/Output\\frame103.jpg  \n",
            "  inflating: pothole_img250/Output\\frame179.jpg  \n",
            "  inflating: pothole_img250/Output\\frame234.jpg  \n",
            "  inflating: pothole_img250/Output\\frame246.jpg  \n",
            "  inflating: pothole_img250/Output\\frame201.jpg  \n",
            "  inflating: pothole_img250/Output\\frame44.jpg  \n",
            "  inflating: pothole_img250/Output\\frame12.jpg  \n",
            "  inflating: pothole_img250/Output\\frame206.jpg  \n",
            "  inflating: pothole_img250/Output\\frame87.jpg  \n",
            "  inflating: pothole_img250/Output\\frame182.jpg  \n",
            "  inflating: pothole_img250/Output\\frame27.jpg  \n",
            "  inflating: pothole_img250/Output\\frame4.jpg  \n",
            "  inflating: pothole_img250/via_region_data_img250.json  \n",
            "  inflating: pothole_img250/Output\\frame184.jpg  \n",
            "  inflating: pothole_img250/Output\\frame84.jpg  \n",
            "  inflating: pothole_img250/Output\\frame161.jpg  \n",
            "  inflating: pothole_img250/Output\\frame171.jpg  \n",
            "  inflating: pothole_img250/Output\\frame195.jpg  \n",
            "  inflating: pothole_img250/Output\\frame109.jpg  \n",
            "  inflating: pothole_img250/Output\\frame42.jpg  \n",
            "  inflating: pothole_img250/Output\\frame129.jpg  \n",
            "  inflating: pothole_img250/Output\\frame222.jpg  \n",
            "  inflating: pothole_img250/Output\\frame49.jpg  \n",
            "  inflating: pothole_img250/Output\\frame225.jpg  \n",
            "  inflating: pothole_img250/Output\\frame75.jpg  \n",
            "  inflating: pothole_img250/Output\\frame136.jpg  \n",
            "  inflating: pothole_img250/Output\\frame72.jpg  \n",
            "  inflating: pothole_img250/Output\\frame0.jpg  \n",
            "  inflating: pothole_img250/Output\\frame135.jpg  \n",
            "  inflating: pothole_img250/Output\\frame248.jpg  \n",
            "  inflating: pothole_img250/Output\\frame65.jpg  \n",
            "  inflating: pothole_img250/Output\\frame167.jpg  \n",
            "  inflating: pothole_img250/Output\\frame57.jpg  \n",
            "  inflating: pothole_img250/Output\\frame82.jpg  \n",
            "  inflating: pothole_img250/Output\\frame176.jpg  \n",
            "  inflating: pothole_img250/Output\\frame110.jpg  \n",
            "  inflating: pothole_img250/Output\\frame123.jpg  \n",
            "  inflating: pothole_img250/Output\\frame17.jpg  \n",
            "  inflating: pothole_img250/Output\\frame159.jpg  \n",
            "  inflating: pothole_img250/Output\\frame213.jpg  \n",
            "  inflating: pothole_img250/Output\\frame235.jpg  \n",
            "  inflating: pothole_img250/Output\\frame92.jpg  \n",
            "  inflating: pothole_img250/Output\\frame118.jpg  \n",
            "  inflating: pothole_img250/Output\\frame245.jpg  \n",
            "  inflating: pothole_img250/Output\\frame155.jpg  \n",
            "  inflating: pothole_img250/Output\\frame24.jpg  \n",
            "  inflating: pothole_img250/Output\\frame6.jpg  \n",
            "  inflating: pothole_img250/Output\\frame141.jpg  \n",
            "  inflating: pothole_img250/Output\\frame69.jpg  \n",
            "  inflating: pothole_img250/Output\\frame99.jpg  \n",
            "  inflating: pothole_img250/Output\\frame62.jpg  \n",
            "  inflating: pothole_img250/Output\\frame151.jpg  \n",
            "  inflating: pothole_img250/Output\\frame153.jpg  \n",
            "  inflating: pothole_img250/Output\\frame111.jpg  \n",
            "  inflating: pothole_img250/Output\\frame228.jpg  \n",
            "  inflating: pothole_img250/Output\\frame10.jpg  \n",
            "  inflating: pothole_img250/Output\\frame177.jpg  \n",
            "  inflating: pothole_img250/Output\\frame83.jpg  \n",
            "  inflating: pothole_img250/Output\\frame215.jpg  \n",
            "  inflating: pothole_img250/Output\\frame154.jpg  \n",
            "  inflating: pothole_img250/Output\\frame164.jpg  \n",
            "  inflating: pothole_img250/Output\\frame139.jpg  \n",
            "  inflating: pothole_img250/Output\\frame21.jpg  \n",
            "  inflating: pothole_img250/Output\\frame85.jpg  \n",
            "  inflating: pothole_img250/Output\\frame166.jpg  \n",
            "  inflating: pothole_img250/Output\\frame174.jpg  \n",
            "  inflating: pothole_img250/Output\\frame148.jpg  \n",
            "  inflating: pothole_img250/Output\\frame210.jpg  \n",
            "  inflating: pothole_img250/Output\\frame46.jpg  \n",
            "  inflating: pothole_img250/Output\\frame231.jpg  \n",
            "  inflating: pothole_img250/Output\\frame11.jpg  \n",
            "  inflating: pothole_img250/Output\\frame131.jpg  \n",
            "  inflating: pothole_img250/Output\\frame16.jpg  \n",
            "  inflating: pothole_img250/Output\\frame149.jpg  \n",
            "  inflating: pothole_img250/Output\\frame9.jpg  \n",
            "  inflating: pothole_img250/Output\\frame173.jpg  \n",
            "  inflating: pothole_img250/Output\\frame160.jpg  \n",
            "  inflating: pothole_img250/Output\\frame242.jpg  \n",
            "  inflating: pothole_img250/Output\\frame100.jpg  \n",
            "  inflating: pothole_img250/Output\\frame2.jpg  \n",
            "  inflating: pothole_img250/Output\\frame181.jpg  \n",
            "  inflating: pothole_img250/Output\\frame97.jpg  \n",
            "  inflating: pothole_img250/Output\\frame209.jpg  \n"
          ],
          "name": "stdout"
        }
      ]
    },
    {
      "metadata": {
        "id": "phWobiv4WkBo",
        "colab_type": "code",
        "colab": {
          "base_uri": "https://localhost:8080/",
          "height": 765
        },
        "outputId": "2837d3b0-84da-4e88-ad66-06ec297ccec0"
      },
      "cell_type": "code",
      "source": [
        "!unzip val.zip"
      ],
      "execution_count": 5,
      "outputs": [
        {
          "output_type": "stream",
          "text": [
            "Archive:  val.zip\n",
            "   creating: val/\n",
            "  inflating: val/Output\\frame295.jpg  \n",
            "  inflating: val/Output\\frame291.jpg  \n",
            "  inflating: val/Output\\frame272.jpg  \n",
            "  inflating: val/Output\\frame263.jpg  \n",
            "  inflating: val/Output\\frame284.jpg  \n",
            "  inflating: val/Output\\frame296.jpg  \n",
            "  inflating: val/Output\\frame294.jpg  \n",
            "  inflating: val/Output\\frame275.jpg  \n",
            "  inflating: val/Output\\frame261.jpg  \n",
            "  inflating: val/Output\\frame276.jpg  \n",
            "  inflating: val/Output\\frame282.jpg  \n",
            "  inflating: val/Output\\frame280.jpg  \n",
            "  inflating: val/Output\\frame268.jpg  \n",
            "  inflating: val/Output\\frame271.jpg  \n",
            "  inflating: val/Output\\frame292.jpg  \n",
            "  inflating: val/Output\\frame300.jpg  \n",
            "  inflating: val/Output\\frame278.jpg  \n",
            "  inflating: val/Output\\frame286.jpg  \n",
            "  inflating: val/Output\\frame283.jpg  \n",
            "  inflating: val/Output\\frame269.jpg  \n",
            "  inflating: val/Output\\frame262.jpg  \n",
            "  inflating: val/Output\\frame290.jpg  \n",
            "  inflating: val/Output\\frame277.jpg  \n",
            "  inflating: val/Output\\frame260.jpg  \n",
            "  inflating: val/Output\\frame293.jpg  \n",
            "  inflating: val/Output\\frame273.jpg  \n",
            "  inflating: val/via_region_data.json  \n",
            "  inflating: val/Output\\frame266.jpg  \n",
            "  inflating: val/Output\\frame299.jpg  \n",
            "  inflating: val/Output\\frame287.jpg  \n",
            "  inflating: val/Output\\frame265.jpg  \n",
            "  inflating: val/Output\\frame279.jpg  \n",
            "  inflating: val/Output\\frame281.jpg  \n",
            "  inflating: val/Output\\frame288.jpg  \n",
            "  inflating: val/Output\\frame285.jpg  \n",
            "  inflating: val/Output\\frame289.jpg  \n",
            "  inflating: val/Output\\frame298.jpg  \n",
            "  inflating: val/Output\\frame274.jpg  \n",
            "  inflating: val/Output\\frame267.jpg  \n",
            "  inflating: val/Output\\frame270.jpg  \n",
            "  inflating: val/Output\\frame297.jpg  \n",
            "  inflating: val/Output\\frame264.jpg  \n"
          ],
          "name": "stdout"
        }
      ]
    },
    {
      "metadata": {
        "id": "WXMR3XLaWlMZ",
        "colab_type": "code",
        "colab": {
          "base_uri": "https://localhost:8080/",
          "height": 34
        },
        "outputId": "8ea2bb81-26db-424a-d32c-cd537a0a3647"
      },
      "cell_type": "code",
      "source": [
        "!ls"
      ],
      "execution_count": 6,
      "outputs": [
        {
          "output_type": "stream",
          "text": [
            "customImages  pothole_img250  pothole_img250.zip  sample_data  val  val.zip\n"
          ],
          "name": "stdout"
        }
      ]
    },
    {
      "metadata": {
        "id": "lnU04QyyWmr0",
        "colab_type": "code",
        "colab": {}
      },
      "cell_type": "code",
      "source": [
        "!rm -rf pothole_img250.zip"
      ],
      "execution_count": 0,
      "outputs": []
    },
    {
      "metadata": {
        "id": "kFI_xITnWo-h",
        "colab_type": "code",
        "colab": {}
      },
      "cell_type": "code",
      "source": [
        "!rm -rf val.zip"
      ],
      "execution_count": 0,
      "outputs": []
    },
    {
      "metadata": {
        "id": "qOk3U-2fWqK8",
        "colab_type": "code",
        "colab": {
          "base_uri": "https://localhost:8080/",
          "height": 34
        },
        "outputId": "c532ff43-81d2-46d5-ce2d-3b3f02ae0051"
      },
      "cell_type": "code",
      "source": [
        "!ls"
      ],
      "execution_count": 9,
      "outputs": [
        {
          "output_type": "stream",
          "text": [
            "customImages  pothole_img250  sample_data  val\n"
          ],
          "name": "stdout"
        }
      ]
    },
    {
      "metadata": {
        "id": "Qi6JmD6MWr3g",
        "colab_type": "code",
        "colab": {}
      },
      "cell_type": "code",
      "source": [
        "!mv pothole_img250/ train"
      ],
      "execution_count": 0,
      "outputs": []
    },
    {
      "metadata": {
        "id": "6hBv6o3mWu4s",
        "colab_type": "code",
        "colab": {
          "base_uri": "https://localhost:8080/",
          "height": 34
        },
        "outputId": "8f8649c7-1b46-4301-80de-c373c6cd5e07"
      },
      "cell_type": "code",
      "source": [
        "!ls"
      ],
      "execution_count": 11,
      "outputs": [
        {
          "output_type": "stream",
          "text": [
            "customImages  sample_data  train  val\n"
          ],
          "name": "stdout"
        }
      ]
    },
    {
      "metadata": {
        "id": "5Wslq6fAWwDF",
        "colab_type": "code",
        "colab": {}
      },
      "cell_type": "code",
      "source": [
        "!mv train customImages/"
      ],
      "execution_count": 0,
      "outputs": []
    },
    {
      "metadata": {
        "id": "euVfiEyYW0e-",
        "colab_type": "code",
        "colab": {}
      },
      "cell_type": "code",
      "source": [
        "!mv val customImages/"
      ],
      "execution_count": 0,
      "outputs": []
    },
    {
      "metadata": {
        "id": "KwGcPu05W3T4",
        "colab_type": "code",
        "colab": {
          "base_uri": "https://localhost:8080/",
          "height": 34
        },
        "outputId": "4c521019-5840-4491-eadb-ebb6e87a0100"
      },
      "cell_type": "code",
      "source": [
        "!ls customImages/"
      ],
      "execution_count": 14,
      "outputs": [
        {
          "output_type": "stream",
          "text": [
            "train  val\n"
          ],
          "name": "stdout"
        }
      ]
    },
    {
      "metadata": {
        "id": "j8gEnj3GW7Z2",
        "colab_type": "code",
        "colab": {
          "base_uri": "https://localhost:8080/",
          "height": 34
        },
        "outputId": "4c0fb540-77fb-4b0f-8842-0e71be57f502"
      },
      "cell_type": "code",
      "source": [
        "%cd customImages/"
      ],
      "execution_count": 15,
      "outputs": [
        {
          "output_type": "stream",
          "text": [
            "/content/customImages\n"
          ],
          "name": "stdout"
        }
      ]
    },
    {
      "metadata": {
        "id": "VmtvtEehW_S0",
        "colab_type": "code",
        "colab": {
          "base_uri": "https://localhost:8080/",
          "height": 34
        },
        "outputId": "b645372f-b901-46b6-dccd-5c8d63c8b9cc"
      },
      "cell_type": "code",
      "source": [
        "!ls"
      ],
      "execution_count": 16,
      "outputs": [
        {
          "output_type": "stream",
          "text": [
            "train  val\n"
          ],
          "name": "stdout"
        }
      ]
    },
    {
      "metadata": {
        "id": "R9R2nYaBXAr_",
        "colab_type": "code",
        "colab": {
          "base_uri": "https://localhost:8080/",
          "height": 34
        },
        "outputId": "084b68a0-1e2e-40b4-ef57-0024167d9f43"
      },
      "cell_type": "code",
      "source": [
        "%cd train/"
      ],
      "execution_count": 17,
      "outputs": [
        {
          "output_type": "stream",
          "text": [
            "/content/customImages/train\n"
          ],
          "name": "stdout"
        }
      ]
    },
    {
      "metadata": {
        "id": "jUswWmwxXCvB",
        "colab_type": "code",
        "colab": {
          "base_uri": "https://localhost:8080/",
          "height": 1445
        },
        "outputId": "8333ef4b-13c5-4000-ebfa-9d64f3abe1ea"
      },
      "cell_type": "code",
      "source": [
        "!ls"
      ],
      "execution_count": 18,
      "outputs": [
        {
          "output_type": "stream",
          "text": [
            "'Output\\frame0.jpg'    'Output\\frame176.jpg'  'Output\\frame25.jpg'\n",
            "'Output\\frame100.jpg'  'Output\\frame177.jpg'  'Output\\frame26.jpg'\n",
            "'Output\\frame101.jpg'  'Output\\frame178.jpg'  'Output\\frame27.jpg'\n",
            "'Output\\frame102.jpg'  'Output\\frame179.jpg'  'Output\\frame28.jpg'\n",
            "'Output\\frame103.jpg'  'Output\\frame17.jpg'   'Output\\frame29.jpg'\n",
            "'Output\\frame104.jpg'  'Output\\frame180.jpg'  'Output\\frame2.jpg'\n",
            "'Output\\frame105.jpg'  'Output\\frame181.jpg'  'Output\\frame30.jpg'\n",
            "'Output\\frame106.jpg'  'Output\\frame182.jpg'  'Output\\frame31.jpg'\n",
            "'Output\\frame107.jpg'  'Output\\frame183.jpg'  'Output\\frame32.jpg'\n",
            "'Output\\frame108.jpg'  'Output\\frame184.jpg'  'Output\\frame33.jpg'\n",
            "'Output\\frame109.jpg'  'Output\\frame185.jpg'  'Output\\frame34.jpg'\n",
            "'Output\\frame10.jpg'   'Output\\frame186.jpg'  'Output\\frame35.jpg'\n",
            "'Output\\frame110.jpg'  'Output\\frame187.jpg'  'Output\\frame36.jpg'\n",
            "'Output\\frame111.jpg'  'Output\\frame188.jpg'  'Output\\frame37.jpg'\n",
            "'Output\\frame112.jpg'  'Output\\frame189.jpg'  'Output\\frame38.jpg'\n",
            "'Output\\frame113.jpg'  'Output\\frame18.jpg'   'Output\\frame39.jpg'\n",
            "'Output\\frame114.jpg'  'Output\\frame190.jpg'  'Output\\frame3.jpg'\n",
            "'Output\\frame115.jpg'  'Output\\frame191.jpg'  'Output\\frame40.jpg'\n",
            "'Output\\frame116.jpg'  'Output\\frame192.jpg'  'Output\\frame41.jpg'\n",
            "'Output\\frame117.jpg'  'Output\\frame193.jpg'  'Output\\frame42.jpg'\n",
            "'Output\\frame118.jpg'  'Output\\frame194.jpg'  'Output\\frame43.jpg'\n",
            "'Output\\frame119.jpg'  'Output\\frame195.jpg'  'Output\\frame44.jpg'\n",
            "'Output\\frame11.jpg'   'Output\\frame196.jpg'  'Output\\frame45.jpg'\n",
            "'Output\\frame120.jpg'  'Output\\frame197.jpg'  'Output\\frame46.jpg'\n",
            "'Output\\frame121.jpg'  'Output\\frame198.jpg'  'Output\\frame47.jpg'\n",
            "'Output\\frame122.jpg'  'Output\\frame199.jpg'  'Output\\frame48.jpg'\n",
            "'Output\\frame123.jpg'  'Output\\frame19.jpg'   'Output\\frame49.jpg'\n",
            "'Output\\frame124.jpg'  'Output\\frame1.jpg'    'Output\\frame4.jpg'\n",
            "'Output\\frame125.jpg'  'Output\\frame200.jpg'  'Output\\frame50.jpg'\n",
            "'Output\\frame126.jpg'  'Output\\frame201.jpg'  'Output\\frame51.jpg'\n",
            "'Output\\frame127.jpg'  'Output\\frame202.jpg'  'Output\\frame52.jpg'\n",
            "'Output\\frame128.jpg'  'Output\\frame203.jpg'  'Output\\frame53.jpg'\n",
            "'Output\\frame129.jpg'  'Output\\frame204.jpg'  'Output\\frame54.jpg'\n",
            "'Output\\frame12.jpg'   'Output\\frame205.jpg'  'Output\\frame55.jpg'\n",
            "'Output\\frame130.jpg'  'Output\\frame206.jpg'  'Output\\frame56.jpg'\n",
            "'Output\\frame131.jpg'  'Output\\frame207.jpg'  'Output\\frame57.jpg'\n",
            "'Output\\frame132.jpg'  'Output\\frame208.jpg'  'Output\\frame58.jpg'\n",
            "'Output\\frame133.jpg'  'Output\\frame209.jpg'  'Output\\frame59.jpg'\n",
            "'Output\\frame134.jpg'  'Output\\frame20.jpg'   'Output\\frame5.jpg'\n",
            "'Output\\frame135.jpg'  'Output\\frame210.jpg'  'Output\\frame60.jpg'\n",
            "'Output\\frame136.jpg'  'Output\\frame211.jpg'  'Output\\frame61.jpg'\n",
            "'Output\\frame137.jpg'  'Output\\frame212.jpg'  'Output\\frame62.jpg'\n",
            "'Output\\frame138.jpg'  'Output\\frame213.jpg'  'Output\\frame63.jpg'\n",
            "'Output\\frame139.jpg'  'Output\\frame214.jpg'  'Output\\frame64.jpg'\n",
            "'Output\\frame13.jpg'   'Output\\frame215.jpg'  'Output\\frame65.jpg'\n",
            "'Output\\frame140.jpg'  'Output\\frame216.jpg'  'Output\\frame66.jpg'\n",
            "'Output\\frame141.jpg'  'Output\\frame217.jpg'  'Output\\frame67.jpg'\n",
            "'Output\\frame142.jpg'  'Output\\frame218.jpg'  'Output\\frame68.jpg'\n",
            "'Output\\frame143.jpg'  'Output\\frame219.jpg'  'Output\\frame69.jpg'\n",
            "'Output\\frame144.jpg'  'Output\\frame21.jpg'   'Output\\frame6.jpg'\n",
            "'Output\\frame145.jpg'  'Output\\frame220.jpg'  'Output\\frame70.jpg'\n",
            "'Output\\frame146.jpg'  'Output\\frame221.jpg'  'Output\\frame71.jpg'\n",
            "'Output\\frame147.jpg'  'Output\\frame222.jpg'  'Output\\frame72.jpg'\n",
            "'Output\\frame148.jpg'  'Output\\frame223.jpg'  'Output\\frame73.jpg'\n",
            "'Output\\frame149.jpg'  'Output\\frame224.jpg'  'Output\\frame74.jpg'\n",
            "'Output\\frame14.jpg'   'Output\\frame225.jpg'  'Output\\frame75.jpg'\n",
            "'Output\\frame150.jpg'  'Output\\frame226.jpg'  'Output\\frame76.jpg'\n",
            "'Output\\frame151.jpg'  'Output\\frame227.jpg'  'Output\\frame77.jpg'\n",
            "'Output\\frame152.jpg'  'Output\\frame228.jpg'  'Output\\frame78.jpg'\n",
            "'Output\\frame153.jpg'  'Output\\frame229.jpg'  'Output\\frame79.jpg'\n",
            "'Output\\frame154.jpg'  'Output\\frame22.jpg'   'Output\\frame7.jpg'\n",
            "'Output\\frame155.jpg'  'Output\\frame230.jpg'  'Output\\frame80.jpg'\n",
            "'Output\\frame156.jpg'  'Output\\frame231.jpg'  'Output\\frame81.jpg'\n",
            "'Output\\frame157.jpg'  'Output\\frame232.jpg'  'Output\\frame82.jpg'\n",
            "'Output\\frame158.jpg'  'Output\\frame233.jpg'  'Output\\frame83.jpg'\n",
            "'Output\\frame159.jpg'  'Output\\frame234.jpg'  'Output\\frame84.jpg'\n",
            "'Output\\frame15.jpg'   'Output\\frame235.jpg'  'Output\\frame85.jpg'\n",
            "'Output\\frame160.jpg'  'Output\\frame236.jpg'  'Output\\frame86.jpg'\n",
            "'Output\\frame161.jpg'  'Output\\frame237.jpg'  'Output\\frame87.jpg'\n",
            "'Output\\frame162.jpg'  'Output\\frame238.jpg'  'Output\\frame88.jpg'\n",
            "'Output\\frame163.jpg'  'Output\\frame239.jpg'  'Output\\frame89.jpg'\n",
            "'Output\\frame164.jpg'  'Output\\frame23.jpg'   'Output\\frame8.jpg'\n",
            "'Output\\frame165.jpg'  'Output\\frame240.jpg'  'Output\\frame90.jpg'\n",
            "'Output\\frame166.jpg'  'Output\\frame241.jpg'  'Output\\frame91.jpg'\n",
            "'Output\\frame167.jpg'  'Output\\frame242.jpg'  'Output\\frame92.jpg'\n",
            "'Output\\frame168.jpg'  'Output\\frame243.jpg'  'Output\\frame93.jpg'\n",
            "'Output\\frame169.jpg'  'Output\\frame244.jpg'  'Output\\frame94.jpg'\n",
            "'Output\\frame16.jpg'   'Output\\frame245.jpg'  'Output\\frame95.jpg'\n",
            "'Output\\frame170.jpg'  'Output\\frame246.jpg'  'Output\\frame96.jpg'\n",
            "'Output\\frame171.jpg'  'Output\\frame247.jpg'  'Output\\frame97.jpg'\n",
            "'Output\\frame172.jpg'  'Output\\frame248.jpg'  'Output\\frame98.jpg'\n",
            "'Output\\frame173.jpg'  'Output\\frame249.jpg'  'Output\\frame99.jpg'\n",
            "'Output\\frame174.jpg'  'Output\\frame24.jpg'   'Output\\frame9.jpg'\n",
            "'Output\\frame175.jpg'  'Output\\frame250.jpg'   via_region_data_img250.json\n"
          ],
          "name": "stdout"
        }
      ]
    },
    {
      "metadata": {
        "id": "yGTqsp-DXDwm",
        "colab_type": "code",
        "colab": {}
      },
      "cell_type": "code",
      "source": [
        "!mv via_region_data_img250.json via_region_data.json"
      ],
      "execution_count": 0,
      "outputs": []
    },
    {
      "metadata": {
        "id": "djBTLSjHXKL5",
        "colab_type": "code",
        "colab": {
          "base_uri": "https://localhost:8080/",
          "height": 34
        },
        "outputId": "1a20eba2-1bdd-451c-8329-b39f19e9443d"
      },
      "cell_type": "code",
      "source": [
        "%cd .."
      ],
      "execution_count": 20,
      "outputs": [
        {
          "output_type": "stream",
          "text": [
            "/content/customImages\n"
          ],
          "name": "stdout"
        }
      ]
    },
    {
      "metadata": {
        "id": "HXk3474RXMqN",
        "colab_type": "code",
        "colab": {
          "base_uri": "https://localhost:8080/",
          "height": 34
        },
        "outputId": "c1b5ea23-bd0c-47d4-9f85-358cc427140d"
      },
      "cell_type": "code",
      "source": [
        "!ls"
      ],
      "execution_count": 21,
      "outputs": [
        {
          "output_type": "stream",
          "text": [
            "train  val\n"
          ],
          "name": "stdout"
        }
      ]
    },
    {
      "metadata": {
        "id": "uvjlamC-XNbd",
        "colab_type": "code",
        "colab": {
          "base_uri": "https://localhost:8080/",
          "height": 34
        },
        "outputId": "9cf495e3-3f97-4551-c0f9-df81f89f159a"
      },
      "cell_type": "code",
      "source": [
        "%cd val"
      ],
      "execution_count": 22,
      "outputs": [
        {
          "output_type": "stream",
          "text": [
            "/content/customImages/val\n"
          ],
          "name": "stdout"
        }
      ]
    },
    {
      "metadata": {
        "id": "PwpDMgZ5XO6A",
        "colab_type": "code",
        "colab": {
          "base_uri": "https://localhost:8080/",
          "height": 255
        },
        "outputId": "06328cb6-fda6-4df2-afc5-2d5fb0109340"
      },
      "cell_type": "code",
      "source": [
        "!ls"
      ],
      "execution_count": 23,
      "outputs": [
        {
          "output_type": "stream",
          "text": [
            "'Output\\frame260.jpg'  'Output\\frame274.jpg'  'Output\\frame288.jpg'\n",
            "'Output\\frame261.jpg'  'Output\\frame275.jpg'  'Output\\frame289.jpg'\n",
            "'Output\\frame262.jpg'  'Output\\frame276.jpg'  'Output\\frame290.jpg'\n",
            "'Output\\frame263.jpg'  'Output\\frame277.jpg'  'Output\\frame291.jpg'\n",
            "'Output\\frame264.jpg'  'Output\\frame278.jpg'  'Output\\frame292.jpg'\n",
            "'Output\\frame265.jpg'  'Output\\frame279.jpg'  'Output\\frame293.jpg'\n",
            "'Output\\frame266.jpg'  'Output\\frame280.jpg'  'Output\\frame294.jpg'\n",
            "'Output\\frame267.jpg'  'Output\\frame281.jpg'  'Output\\frame295.jpg'\n",
            "'Output\\frame268.jpg'  'Output\\frame282.jpg'  'Output\\frame296.jpg'\n",
            "'Output\\frame269.jpg'  'Output\\frame283.jpg'  'Output\\frame297.jpg'\n",
            "'Output\\frame270.jpg'  'Output\\frame284.jpg'  'Output\\frame298.jpg'\n",
            "'Output\\frame271.jpg'  'Output\\frame285.jpg'  'Output\\frame299.jpg'\n",
            "'Output\\frame272.jpg'  'Output\\frame286.jpg'  'Output\\frame300.jpg'\n",
            "'Output\\frame273.jpg'  'Output\\frame287.jpg'   via_region_data.json\n"
          ],
          "name": "stdout"
        }
      ]
    },
    {
      "metadata": {
        "id": "bGypTAzzXP_h",
        "colab_type": "code",
        "colab": {
          "base_uri": "https://localhost:8080/",
          "height": 34
        },
        "outputId": "947bb803-8f26-4d25-befd-75840350bf77"
      },
      "cell_type": "code",
      "source": [
        "%cd .."
      ],
      "execution_count": 24,
      "outputs": [
        {
          "output_type": "stream",
          "text": [
            "/content/customImages\n"
          ],
          "name": "stdout"
        }
      ]
    },
    {
      "metadata": {
        "id": "_LKwm8mzXTZW",
        "colab_type": "code",
        "colab": {
          "base_uri": "https://localhost:8080/",
          "height": 34
        },
        "outputId": "be4aeef9-d87b-4021-8d4f-d6e5a6c6d2d3"
      },
      "cell_type": "code",
      "source": [
        "!ls"
      ],
      "execution_count": 25,
      "outputs": [
        {
          "output_type": "stream",
          "text": [
            "train  val\n"
          ],
          "name": "stdout"
        }
      ]
    },
    {
      "metadata": {
        "id": "2iDbOjUkXUY8",
        "colab_type": "code",
        "colab": {
          "base_uri": "https://localhost:8080/",
          "height": 34
        },
        "outputId": "b881be11-1642-4e76-b00d-9b1305c3668a"
      },
      "cell_type": "code",
      "source": [
        "%cd train"
      ],
      "execution_count": 26,
      "outputs": [
        {
          "output_type": "stream",
          "text": [
            "/content/customImages/train\n"
          ],
          "name": "stdout"
        }
      ]
    },
    {
      "metadata": {
        "id": "GbLUEHmJXV6k",
        "colab_type": "code",
        "colab": {
          "base_uri": "https://localhost:8080/",
          "height": 1445
        },
        "outputId": "d06884af-eaa1-4a7f-da97-3bd807aa538f"
      },
      "cell_type": "code",
      "source": [
        "!ls"
      ],
      "execution_count": 27,
      "outputs": [
        {
          "output_type": "stream",
          "text": [
            "'Output\\frame0.jpg'    'Output\\frame176.jpg'  'Output\\frame25.jpg'\n",
            "'Output\\frame100.jpg'  'Output\\frame177.jpg'  'Output\\frame26.jpg'\n",
            "'Output\\frame101.jpg'  'Output\\frame178.jpg'  'Output\\frame27.jpg'\n",
            "'Output\\frame102.jpg'  'Output\\frame179.jpg'  'Output\\frame28.jpg'\n",
            "'Output\\frame103.jpg'  'Output\\frame17.jpg'   'Output\\frame29.jpg'\n",
            "'Output\\frame104.jpg'  'Output\\frame180.jpg'  'Output\\frame2.jpg'\n",
            "'Output\\frame105.jpg'  'Output\\frame181.jpg'  'Output\\frame30.jpg'\n",
            "'Output\\frame106.jpg'  'Output\\frame182.jpg'  'Output\\frame31.jpg'\n",
            "'Output\\frame107.jpg'  'Output\\frame183.jpg'  'Output\\frame32.jpg'\n",
            "'Output\\frame108.jpg'  'Output\\frame184.jpg'  'Output\\frame33.jpg'\n",
            "'Output\\frame109.jpg'  'Output\\frame185.jpg'  'Output\\frame34.jpg'\n",
            "'Output\\frame10.jpg'   'Output\\frame186.jpg'  'Output\\frame35.jpg'\n",
            "'Output\\frame110.jpg'  'Output\\frame187.jpg'  'Output\\frame36.jpg'\n",
            "'Output\\frame111.jpg'  'Output\\frame188.jpg'  'Output\\frame37.jpg'\n",
            "'Output\\frame112.jpg'  'Output\\frame189.jpg'  'Output\\frame38.jpg'\n",
            "'Output\\frame113.jpg'  'Output\\frame18.jpg'   'Output\\frame39.jpg'\n",
            "'Output\\frame114.jpg'  'Output\\frame190.jpg'  'Output\\frame3.jpg'\n",
            "'Output\\frame115.jpg'  'Output\\frame191.jpg'  'Output\\frame40.jpg'\n",
            "'Output\\frame116.jpg'  'Output\\frame192.jpg'  'Output\\frame41.jpg'\n",
            "'Output\\frame117.jpg'  'Output\\frame193.jpg'  'Output\\frame42.jpg'\n",
            "'Output\\frame118.jpg'  'Output\\frame194.jpg'  'Output\\frame43.jpg'\n",
            "'Output\\frame119.jpg'  'Output\\frame195.jpg'  'Output\\frame44.jpg'\n",
            "'Output\\frame11.jpg'   'Output\\frame196.jpg'  'Output\\frame45.jpg'\n",
            "'Output\\frame120.jpg'  'Output\\frame197.jpg'  'Output\\frame46.jpg'\n",
            "'Output\\frame121.jpg'  'Output\\frame198.jpg'  'Output\\frame47.jpg'\n",
            "'Output\\frame122.jpg'  'Output\\frame199.jpg'  'Output\\frame48.jpg'\n",
            "'Output\\frame123.jpg'  'Output\\frame19.jpg'   'Output\\frame49.jpg'\n",
            "'Output\\frame124.jpg'  'Output\\frame1.jpg'    'Output\\frame4.jpg'\n",
            "'Output\\frame125.jpg'  'Output\\frame200.jpg'  'Output\\frame50.jpg'\n",
            "'Output\\frame126.jpg'  'Output\\frame201.jpg'  'Output\\frame51.jpg'\n",
            "'Output\\frame127.jpg'  'Output\\frame202.jpg'  'Output\\frame52.jpg'\n",
            "'Output\\frame128.jpg'  'Output\\frame203.jpg'  'Output\\frame53.jpg'\n",
            "'Output\\frame129.jpg'  'Output\\frame204.jpg'  'Output\\frame54.jpg'\n",
            "'Output\\frame12.jpg'   'Output\\frame205.jpg'  'Output\\frame55.jpg'\n",
            "'Output\\frame130.jpg'  'Output\\frame206.jpg'  'Output\\frame56.jpg'\n",
            "'Output\\frame131.jpg'  'Output\\frame207.jpg'  'Output\\frame57.jpg'\n",
            "'Output\\frame132.jpg'  'Output\\frame208.jpg'  'Output\\frame58.jpg'\n",
            "'Output\\frame133.jpg'  'Output\\frame209.jpg'  'Output\\frame59.jpg'\n",
            "'Output\\frame134.jpg'  'Output\\frame20.jpg'   'Output\\frame5.jpg'\n",
            "'Output\\frame135.jpg'  'Output\\frame210.jpg'  'Output\\frame60.jpg'\n",
            "'Output\\frame136.jpg'  'Output\\frame211.jpg'  'Output\\frame61.jpg'\n",
            "'Output\\frame137.jpg'  'Output\\frame212.jpg'  'Output\\frame62.jpg'\n",
            "'Output\\frame138.jpg'  'Output\\frame213.jpg'  'Output\\frame63.jpg'\n",
            "'Output\\frame139.jpg'  'Output\\frame214.jpg'  'Output\\frame64.jpg'\n",
            "'Output\\frame13.jpg'   'Output\\frame215.jpg'  'Output\\frame65.jpg'\n",
            "'Output\\frame140.jpg'  'Output\\frame216.jpg'  'Output\\frame66.jpg'\n",
            "'Output\\frame141.jpg'  'Output\\frame217.jpg'  'Output\\frame67.jpg'\n",
            "'Output\\frame142.jpg'  'Output\\frame218.jpg'  'Output\\frame68.jpg'\n",
            "'Output\\frame143.jpg'  'Output\\frame219.jpg'  'Output\\frame69.jpg'\n",
            "'Output\\frame144.jpg'  'Output\\frame21.jpg'   'Output\\frame6.jpg'\n",
            "'Output\\frame145.jpg'  'Output\\frame220.jpg'  'Output\\frame70.jpg'\n",
            "'Output\\frame146.jpg'  'Output\\frame221.jpg'  'Output\\frame71.jpg'\n",
            "'Output\\frame147.jpg'  'Output\\frame222.jpg'  'Output\\frame72.jpg'\n",
            "'Output\\frame148.jpg'  'Output\\frame223.jpg'  'Output\\frame73.jpg'\n",
            "'Output\\frame149.jpg'  'Output\\frame224.jpg'  'Output\\frame74.jpg'\n",
            "'Output\\frame14.jpg'   'Output\\frame225.jpg'  'Output\\frame75.jpg'\n",
            "'Output\\frame150.jpg'  'Output\\frame226.jpg'  'Output\\frame76.jpg'\n",
            "'Output\\frame151.jpg'  'Output\\frame227.jpg'  'Output\\frame77.jpg'\n",
            "'Output\\frame152.jpg'  'Output\\frame228.jpg'  'Output\\frame78.jpg'\n",
            "'Output\\frame153.jpg'  'Output\\frame229.jpg'  'Output\\frame79.jpg'\n",
            "'Output\\frame154.jpg'  'Output\\frame22.jpg'   'Output\\frame7.jpg'\n",
            "'Output\\frame155.jpg'  'Output\\frame230.jpg'  'Output\\frame80.jpg'\n",
            "'Output\\frame156.jpg'  'Output\\frame231.jpg'  'Output\\frame81.jpg'\n",
            "'Output\\frame157.jpg'  'Output\\frame232.jpg'  'Output\\frame82.jpg'\n",
            "'Output\\frame158.jpg'  'Output\\frame233.jpg'  'Output\\frame83.jpg'\n",
            "'Output\\frame159.jpg'  'Output\\frame234.jpg'  'Output\\frame84.jpg'\n",
            "'Output\\frame15.jpg'   'Output\\frame235.jpg'  'Output\\frame85.jpg'\n",
            "'Output\\frame160.jpg'  'Output\\frame236.jpg'  'Output\\frame86.jpg'\n",
            "'Output\\frame161.jpg'  'Output\\frame237.jpg'  'Output\\frame87.jpg'\n",
            "'Output\\frame162.jpg'  'Output\\frame238.jpg'  'Output\\frame88.jpg'\n",
            "'Output\\frame163.jpg'  'Output\\frame239.jpg'  'Output\\frame89.jpg'\n",
            "'Output\\frame164.jpg'  'Output\\frame23.jpg'   'Output\\frame8.jpg'\n",
            "'Output\\frame165.jpg'  'Output\\frame240.jpg'  'Output\\frame90.jpg'\n",
            "'Output\\frame166.jpg'  'Output\\frame241.jpg'  'Output\\frame91.jpg'\n",
            "'Output\\frame167.jpg'  'Output\\frame242.jpg'  'Output\\frame92.jpg'\n",
            "'Output\\frame168.jpg'  'Output\\frame243.jpg'  'Output\\frame93.jpg'\n",
            "'Output\\frame169.jpg'  'Output\\frame244.jpg'  'Output\\frame94.jpg'\n",
            "'Output\\frame16.jpg'   'Output\\frame245.jpg'  'Output\\frame95.jpg'\n",
            "'Output\\frame170.jpg'  'Output\\frame246.jpg'  'Output\\frame96.jpg'\n",
            "'Output\\frame171.jpg'  'Output\\frame247.jpg'  'Output\\frame97.jpg'\n",
            "'Output\\frame172.jpg'  'Output\\frame248.jpg'  'Output\\frame98.jpg'\n",
            "'Output\\frame173.jpg'  'Output\\frame249.jpg'  'Output\\frame99.jpg'\n",
            "'Output\\frame174.jpg'  'Output\\frame24.jpg'   'Output\\frame9.jpg'\n",
            "'Output\\frame175.jpg'  'Output\\frame250.jpg'   via_region_data.json\n"
          ],
          "name": "stdout"
        }
      ]
    },
    {
      "metadata": {
        "id": "NxQ0I4ntXWeg",
        "colab_type": "code",
        "colab": {
          "base_uri": "https://localhost:8080/",
          "height": 34
        },
        "outputId": "6834b89a-ebc6-4980-9fd5-db559c63435e"
      },
      "cell_type": "code",
      "source": [
        "%cd .."
      ],
      "execution_count": 28,
      "outputs": [
        {
          "output_type": "stream",
          "text": [
            "/content/customImages\n"
          ],
          "name": "stdout"
        }
      ]
    },
    {
      "metadata": {
        "id": "C8TaETkKXea4",
        "colab_type": "code",
        "colab": {
          "base_uri": "https://localhost:8080/",
          "height": 34
        },
        "outputId": "b6258dfd-1bad-41d1-c8e7-aaab28ff5d40"
      },
      "cell_type": "code",
      "source": [
        "!ls"
      ],
      "execution_count": 29,
      "outputs": [
        {
          "output_type": "stream",
          "text": [
            "train  val\n"
          ],
          "name": "stdout"
        }
      ]
    },
    {
      "metadata": {
        "id": "ezZ4aS3PXfLH",
        "colab_type": "code",
        "colab": {
          "base_uri": "https://localhost:8080/",
          "height": 34
        },
        "outputId": "68b9a21e-692c-426e-c450-f89df266514a"
      },
      "cell_type": "code",
      "source": [
        "%cd .."
      ],
      "execution_count": 30,
      "outputs": [
        {
          "output_type": "stream",
          "text": [
            "/content\n"
          ],
          "name": "stdout"
        }
      ]
    },
    {
      "metadata": {
        "id": "SFiHOPk6Xgjc",
        "colab_type": "code",
        "colab": {
          "base_uri": "https://localhost:8080/",
          "height": 34
        },
        "outputId": "c696da7b-2154-43cd-ffdc-4e3d66d4b7b7"
      },
      "cell_type": "code",
      "source": [
        "!ls"
      ],
      "execution_count": 31,
      "outputs": [
        {
          "output_type": "stream",
          "text": [
            "customImages  sample_data\n"
          ],
          "name": "stdout"
        }
      ]
    },
    {
      "metadata": {
        "id": "wPwXUD51Xhkj",
        "colab_type": "code",
        "colab": {
          "base_uri": "https://localhost:8080/",
          "height": 119
        },
        "outputId": "e9660f99-c379-4bee-e9cc-4d31d0b737fc"
      },
      "cell_type": "code",
      "source": [
        "!git clone https://github.com/matterport/Mask_RCNN.git"
      ],
      "execution_count": 32,
      "outputs": [
        {
          "output_type": "stream",
          "text": [
            "Cloning into 'Mask_RCNN'...\n",
            "remote: Enumerating objects: 1, done.\u001b[K\n",
            "remote: Counting objects: 100% (1/1), done.\u001b[K\n",
            "remote: Total 914 (delta 0), reused 0 (delta 0), pack-reused 913\u001b[K\n",
            "Receiving objects: 100% (914/914), 113.30 MiB | 39.58 MiB/s, done.\n",
            "Resolving deltas: 100% (540/540), done.\n"
          ],
          "name": "stdout"
        }
      ]
    },
    {
      "metadata": {
        "id": "S8vW6qCPXouD",
        "colab_type": "code",
        "colab": {
          "base_uri": "https://localhost:8080/",
          "height": 34
        },
        "outputId": "9705c471-bd09-4cda-c85f-7ecccdb72655"
      },
      "cell_type": "code",
      "source": [
        "!ls"
      ],
      "execution_count": 34,
      "outputs": [
        {
          "output_type": "stream",
          "text": [
            "customImages  Mask_RCNN  sample_data\n"
          ],
          "name": "stdout"
        }
      ]
    },
    {
      "metadata": {
        "id": "SC0TWx6nrZJ-",
        "colab_type": "code",
        "colab": {}
      },
      "cell_type": "code",
      "source": [
        "!mv customImages Mask_RCNN/"
      ],
      "execution_count": 0,
      "outputs": []
    },
    {
      "metadata": {
        "id": "pkGGGeXLXsXg",
        "colab_type": "code",
        "colab": {
          "base_uri": "https://localhost:8080/",
          "height": 34
        },
        "outputId": "cb34e69a-78b4-44c4-f9b0-665591f8ff5c"
      },
      "cell_type": "code",
      "source": [
        "%cd Mask_RCNN/"
      ],
      "execution_count": 36,
      "outputs": [
        {
          "output_type": "stream",
          "text": [
            "/content/Mask_RCNN\n"
          ],
          "name": "stdout"
        }
      ]
    },
    {
      "metadata": {
        "id": "kc07QhsaXutD",
        "colab_type": "code",
        "colab": {
          "base_uri": "https://localhost:8080/",
          "height": 51
        },
        "outputId": "562b77d0-54dc-456b-a435-ed9d7f31a636"
      },
      "cell_type": "code",
      "source": [
        "!ls"
      ],
      "execution_count": 37,
      "outputs": [
        {
          "output_type": "stream",
          "text": [
            "assets\t      images   MANIFEST.in  README.md\t      samples\t setup.py\n",
            "customImages  LICENSE  mrcnn\t    requirements.txt  setup.cfg\n"
          ],
          "name": "stdout"
        }
      ]
    },
    {
      "metadata": {
        "id": "2MecRgKtXv0o",
        "colab_type": "code",
        "colab": {
          "base_uri": "https://localhost:8080/",
          "height": 1958
        },
        "outputId": "78ecc280-9f30-4233-8621-134745634f34"
      },
      "cell_type": "code",
      "source": [
        "!pip install -r requirements.txt"
      ],
      "execution_count": 38,
      "outputs": [
        {
          "output_type": "stream",
          "text": [
            "Requirement already satisfied: numpy in /usr/local/lib/python3.6/dist-packages (from -r requirements.txt (line 1)) (1.14.6)\n",
            "Requirement already satisfied: scipy in /usr/local/lib/python3.6/dist-packages (from -r requirements.txt (line 2)) (0.19.1)\n",
            "Requirement already satisfied: Pillow in /usr/local/lib/python3.6/dist-packages (from -r requirements.txt (line 3)) (4.0.0)\n",
            "Collecting cython (from -r requirements.txt (line 4))\n",
            "\u001b[?25l  Downloading https://files.pythonhosted.org/packages/64/3f/cac281f3f019b825bbc03fa8cb7eb03d9c355f4aa9eef978279a4966cb21/Cython-0.29-cp36-cp36m-manylinux1_x86_64.whl (2.1MB)\n",
            "\u001b[K    100% |████████████████████████████████| 2.1MB 10.1MB/s \n",
            "\u001b[?25hRequirement already satisfied: matplotlib in /usr/local/lib/python3.6/dist-packages (from -r requirements.txt (line 5)) (2.1.2)\n",
            "Requirement already satisfied: scikit-image in /usr/local/lib/python3.6/dist-packages (from -r requirements.txt (line 6)) (0.13.1)\n",
            "Requirement already satisfied: tensorflow>=1.3.0 in /usr/local/lib/python3.6/dist-packages (from -r requirements.txt (line 7)) (1.12.0rc2)\n",
            "Requirement already satisfied: keras>=2.0.8 in /usr/local/lib/python3.6/dist-packages (from -r requirements.txt (line 8)) (2.1.6)\n",
            "Requirement already satisfied: opencv-python in /usr/local/lib/python3.6/dist-packages (from -r requirements.txt (line 9)) (3.4.3.18)\n",
            "Requirement already satisfied: h5py in /usr/local/lib/python3.6/dist-packages (from -r requirements.txt (line 10)) (2.8.0)\n",
            "Collecting imgaug (from -r requirements.txt (line 11))\n",
            "\u001b[?25l  Downloading https://files.pythonhosted.org/packages/ad/2e/748dbb7bb52ec8667098bae9b585f448569ae520031932687761165419a2/imgaug-0.2.6.tar.gz (631kB)\n",
            "\u001b[K    100% |████████████████████████████████| 634kB 14.5MB/s \n",
            "\u001b[?25hRequirement already satisfied: IPython[all] in /usr/local/lib/python3.6/dist-packages (from -r requirements.txt (line 12)) (5.5.0)\n",
            "Requirement already satisfied: olefile in /usr/local/lib/python3.6/dist-packages (from Pillow->-r requirements.txt (line 3)) (0.46)\n",
            "Requirement already satisfied: python-dateutil>=2.1 in /usr/local/lib/python3.6/dist-packages (from matplotlib->-r requirements.txt (line 5)) (2.5.3)\n",
            "Requirement already satisfied: pyparsing!=2.0.4,!=2.1.2,!=2.1.6,>=2.0.1 in /usr/local/lib/python3.6/dist-packages (from matplotlib->-r requirements.txt (line 5)) (2.2.2)\n",
            "Requirement already satisfied: pytz in /usr/local/lib/python3.6/dist-packages (from matplotlib->-r requirements.txt (line 5)) (2018.7)\n",
            "Requirement already satisfied: six>=1.10 in /usr/local/lib/python3.6/dist-packages (from matplotlib->-r requirements.txt (line 5)) (1.11.0)\n",
            "Requirement already satisfied: cycler>=0.10 in /usr/local/lib/python3.6/dist-packages (from matplotlib->-r requirements.txt (line 5)) (0.10.0)\n",
            "Requirement already satisfied: networkx>=1.8 in /usr/local/lib/python3.6/dist-packages (from scikit-image->-r requirements.txt (line 6)) (2.2)\n",
            "Requirement already satisfied: PyWavelets>=0.4.0 in /usr/local/lib/python3.6/dist-packages (from scikit-image->-r requirements.txt (line 6)) (1.0.1)\n",
            "Requirement already satisfied: wheel>=0.26 in /usr/local/lib/python3.6/dist-packages (from tensorflow>=1.3.0->-r requirements.txt (line 7)) (0.32.2)\n",
            "Requirement already satisfied: gast>=0.2.0 in /usr/local/lib/python3.6/dist-packages (from tensorflow>=1.3.0->-r requirements.txt (line 7)) (0.2.0)\n",
            "Requirement already satisfied: termcolor>=1.1.0 in /usr/local/lib/python3.6/dist-packages (from tensorflow>=1.3.0->-r requirements.txt (line 7)) (1.1.0)\n",
            "Requirement already satisfied: keras-applications>=1.0.6 in /usr/local/lib/python3.6/dist-packages (from tensorflow>=1.3.0->-r requirements.txt (line 7)) (1.0.6)\n",
            "Requirement already satisfied: grpcio>=1.8.6 in /usr/local/lib/python3.6/dist-packages (from tensorflow>=1.3.0->-r requirements.txt (line 7)) (1.15.0)\n",
            "Requirement already satisfied: tensorboard<1.13.0,>=1.12.0 in /usr/local/lib/python3.6/dist-packages (from tensorflow>=1.3.0->-r requirements.txt (line 7)) (1.12.0)\n",
            "Requirement already satisfied: keras-preprocessing>=1.0.5 in /usr/local/lib/python3.6/dist-packages (from tensorflow>=1.3.0->-r requirements.txt (line 7)) (1.0.5)\n",
            "Requirement already satisfied: protobuf>=3.6.1 in /usr/local/lib/python3.6/dist-packages (from tensorflow>=1.3.0->-r requirements.txt (line 7)) (3.6.1)\n",
            "Requirement already satisfied: absl-py>=0.1.6 in /usr/local/lib/python3.6/dist-packages (from tensorflow>=1.3.0->-r requirements.txt (line 7)) (0.6.1)\n",
            "Requirement already satisfied: astor>=0.6.0 in /usr/local/lib/python3.6/dist-packages (from tensorflow>=1.3.0->-r requirements.txt (line 7)) (0.7.1)\n",
            "Requirement already satisfied: pyyaml in /usr/local/lib/python3.6/dist-packages (from keras>=2.0.8->-r requirements.txt (line 8)) (3.13)\n",
            "Requirement already satisfied: traitlets>=4.2 in /usr/local/lib/python3.6/dist-packages (from IPython[all]->-r requirements.txt (line 12)) (4.3.2)\n",
            "Requirement already satisfied: simplegeneric>0.8 in /usr/local/lib/python3.6/dist-packages (from IPython[all]->-r requirements.txt (line 12)) (0.8.1)\n",
            "Requirement already satisfied: pygments in /usr/local/lib/python3.6/dist-packages (from IPython[all]->-r requirements.txt (line 12)) (2.1.3)\n",
            "Requirement already satisfied: pexpect; sys_platform != \"win32\" in /usr/local/lib/python3.6/dist-packages (from IPython[all]->-r requirements.txt (line 12)) (4.6.0)\n",
            "Requirement already satisfied: prompt-toolkit<2.0.0,>=1.0.4 in /usr/local/lib/python3.6/dist-packages (from IPython[all]->-r requirements.txt (line 12)) (1.0.15)\n",
            "Requirement already satisfied: pickleshare in /usr/local/lib/python3.6/dist-packages (from IPython[all]->-r requirements.txt (line 12)) (0.7.5)\n",
            "Requirement already satisfied: decorator in /usr/local/lib/python3.6/dist-packages (from IPython[all]->-r requirements.txt (line 12)) (4.3.0)\n",
            "Requirement already satisfied: setuptools>=18.5 in /usr/local/lib/python3.6/dist-packages (from IPython[all]->-r requirements.txt (line 12)) (40.5.0)\n",
            "Requirement already satisfied: testpath; extra == \"all\" in /usr/local/lib/python3.6/dist-packages (from IPython[all]->-r requirements.txt (line 12)) (0.4.2)\n",
            "Requirement already satisfied: ipykernel; extra == \"all\" in /usr/local/lib/python3.6/dist-packages (from IPython[all]->-r requirements.txt (line 12)) (4.6.1)\n",
            "Requirement already satisfied: notebook; extra == \"all\" in /usr/local/lib/python3.6/dist-packages (from IPython[all]->-r requirements.txt (line 12)) (5.2.2)\n",
            "Requirement already satisfied: requests; extra == \"all\" in /usr/local/lib/python3.6/dist-packages (from IPython[all]->-r requirements.txt (line 12)) (2.18.4)\n",
            "Requirement already satisfied: nbconvert; extra == \"all\" in /usr/local/lib/python3.6/dist-packages (from IPython[all]->-r requirements.txt (line 12)) (5.4.0)\n",
            "Collecting ipyparallel; extra == \"all\" (from IPython[all]->-r requirements.txt (line 12))\n",
            "\u001b[?25l  Downloading https://files.pythonhosted.org/packages/de/58/0342ee79ea4cf134b2d81cd600a5263341efc8b688edaacd75827e07ac64/ipyparallel-6.2.3-py2.py3-none-any.whl (197kB)\n",
            "\u001b[K    100% |████████████████████████████████| 204kB 16.0MB/s \n",
            "\u001b[?25hCollecting qtconsole; extra == \"all\" (from IPython[all]->-r requirements.txt (line 12))\n",
            "\u001b[?25l  Downloading https://files.pythonhosted.org/packages/37/22/0d8474f78a8c421d485ac2339de7c871d535160f09f170de90c8185b87c4/qtconsole-4.4.2-py2.py3-none-any.whl (112kB)\n",
            "\u001b[K    100% |████████████████████████████████| 112kB 26.3MB/s \n",
            "\u001b[?25hCollecting ipywidgets; extra == \"all\" (from IPython[all]->-r requirements.txt (line 12))\n",
            "\u001b[?25l  Downloading https://files.pythonhosted.org/packages/30/9a/a008c7b1183fac9e52066d80a379b3c64eab535bd9d86cdc29a0b766fd82/ipywidgets-7.4.2-py2.py3-none-any.whl (111kB)\n",
            "\u001b[K    100% |████████████████████████████████| 112kB 27.2MB/s \n",
            "\u001b[?25hCollecting Sphinx>=1.3; extra == \"all\" (from IPython[all]->-r requirements.txt (line 12))\n",
            "\u001b[?25l  Downloading https://files.pythonhosted.org/packages/35/e0/e9e83b244eaa382ba21896dda6172617e47aff0be225eb72782cca105d3c/Sphinx-1.8.1-py2.py3-none-any.whl (3.1MB)\n",
            "\u001b[K    100% |████████████████████████████████| 3.1MB 10.8MB/s \n",
            "\u001b[?25hRequirement already satisfied: nbformat; extra == \"all\" in /usr/local/lib/python3.6/dist-packages (from IPython[all]->-r requirements.txt (line 12)) (4.4.0)\n",
            "Collecting nose>=0.10.1; extra == \"all\" (from IPython[all]->-r requirements.txt (line 12))\n",
            "\u001b[?25l  Downloading https://files.pythonhosted.org/packages/15/d8/dd071918c040f50fa1cf80da16423af51ff8ce4a0f2399b7bf8de45ac3d9/nose-1.3.7-py3-none-any.whl (154kB)\n",
            "\u001b[K    100% |████████████████████████████████| 163kB 35.0MB/s \n",
            "\u001b[?25hRequirement already satisfied: werkzeug>=0.11.10 in /usr/local/lib/python3.6/dist-packages (from tensorboard<1.13.0,>=1.12.0->tensorflow>=1.3.0->-r requirements.txt (line 7)) (0.14.1)\n",
            "Requirement already satisfied: markdown>=2.6.8 in /usr/local/lib/python3.6/dist-packages (from tensorboard<1.13.0,>=1.12.0->tensorflow>=1.3.0->-r requirements.txt (line 7)) (3.0.1)\n",
            "Requirement already satisfied: ipython-genutils in /usr/local/lib/python3.6/dist-packages (from traitlets>=4.2->IPython[all]->-r requirements.txt (line 12)) (0.2.0)\n",
            "Requirement already satisfied: ptyprocess>=0.5 in /usr/local/lib/python3.6/dist-packages (from pexpect; sys_platform != \"win32\"->IPython[all]->-r requirements.txt (line 12)) (0.6.0)\n",
            "Requirement already satisfied: wcwidth in /usr/local/lib/python3.6/dist-packages (from prompt-toolkit<2.0.0,>=1.0.4->IPython[all]->-r requirements.txt (line 12)) (0.1.7)\n",
            "Requirement already satisfied: tornado>=4.0 in /usr/local/lib/python3.6/dist-packages (from ipykernel; extra == \"all\"->IPython[all]->-r requirements.txt (line 12)) (4.5.3)\n",
            "Requirement already satisfied: jupyter-client in /usr/local/lib/python3.6/dist-packages (from ipykernel; extra == \"all\"->IPython[all]->-r requirements.txt (line 12)) (5.2.3)\n",
            "Requirement already satisfied: terminado>=0.3.3; sys_platform != \"win32\" in /usr/local/lib/python3.6/dist-packages (from notebook; extra == \"all\"->IPython[all]->-r requirements.txt (line 12)) (0.8.1)\n",
            "Requirement already satisfied: jinja2 in /usr/local/lib/python3.6/dist-packages (from notebook; extra == \"all\"->IPython[all]->-r requirements.txt (line 12)) (2.10)\n",
            "Requirement already satisfied: jupyter-core in /usr/local/lib/python3.6/dist-packages (from notebook; extra == \"all\"->IPython[all]->-r requirements.txt (line 12)) (4.4.0)\n",
            "Requirement already satisfied: idna<2.7,>=2.5 in /usr/local/lib/python3.6/dist-packages (from requests; extra == \"all\"->IPython[all]->-r requirements.txt (line 12)) (2.6)\n",
            "Requirement already satisfied: chardet<3.1.0,>=3.0.2 in /usr/local/lib/python3.6/dist-packages (from requests; extra == \"all\"->IPython[all]->-r requirements.txt (line 12)) (3.0.4)\n",
            "Requirement already satisfied: urllib3<1.23,>=1.21.1 in /usr/local/lib/python3.6/dist-packages (from requests; extra == \"all\"->IPython[all]->-r requirements.txt (line 12)) (1.22)\n",
            "Requirement already satisfied: certifi>=2017.4.17 in /usr/local/lib/python3.6/dist-packages (from requests; extra == \"all\"->IPython[all]->-r requirements.txt (line 12)) (2018.10.15)\n",
            "Requirement already satisfied: entrypoints>=0.2.2 in /usr/local/lib/python3.6/dist-packages (from nbconvert; extra == \"all\"->IPython[all]->-r requirements.txt (line 12)) (0.2.3)\n",
            "Requirement already satisfied: pandocfilters>=1.4.1 in /usr/local/lib/python3.6/dist-packages (from nbconvert; extra == \"all\"->IPython[all]->-r requirements.txt (line 12)) (1.4.2)\n",
            "Requirement already satisfied: defusedxml in /usr/local/lib/python3.6/dist-packages (from nbconvert; extra == \"all\"->IPython[all]->-r requirements.txt (line 12)) (0.5.0)\n",
            "Requirement already satisfied: bleach in /usr/local/lib/python3.6/dist-packages (from nbconvert; extra == \"all\"->IPython[all]->-r requirements.txt (line 12)) (3.0.2)\n",
            "Requirement already satisfied: mistune>=0.8.1 in /usr/local/lib/python3.6/dist-packages (from nbconvert; extra == \"all\"->IPython[all]->-r requirements.txt (line 12)) (0.8.4)\n",
            "Requirement already satisfied: pyzmq>=13 in /usr/local/lib/python3.6/dist-packages (from ipyparallel; extra == \"all\"->IPython[all]->-r requirements.txt (line 12)) (16.0.4)\n",
            "Collecting widgetsnbextension~=3.4.0 (from ipywidgets; extra == \"all\"->IPython[all]->-r requirements.txt (line 12))\n",
            "\u001b[?25l  Downloading https://files.pythonhosted.org/packages/8a/81/35789a3952afb48238289171728072d26d6e76649ddc8b3588657a2d78c1/widgetsnbextension-3.4.2-py2.py3-none-any.whl (2.2MB)\n",
            "\u001b[K    100% |████████████████████████████████| 2.2MB 15.8MB/s \n",
            "\u001b[?25hCollecting imagesize (from Sphinx>=1.3; extra == \"all\"->IPython[all]->-r requirements.txt (line 12))\n",
            "  Downloading https://files.pythonhosted.org/packages/fc/b6/aef66b4c52a6ad6ac18cf6ebc5731ed06d8c9ae4d3b2d9951f261150be67/imagesize-1.1.0-py2.py3-none-any.whl\n",
            "Collecting sphinxcontrib-websupport (from Sphinx>=1.3; extra == \"all\"->IPython[all]->-r requirements.txt (line 12))\n",
            "  Downloading https://files.pythonhosted.org/packages/52/69/3c2fbdc3702358c5b34ee25e387b24838597ef099761fc9a42c166796e8f/sphinxcontrib_websupport-1.1.0-py2.py3-none-any.whl\n",
            "Collecting alabaster<0.8,>=0.7 (from Sphinx>=1.3; extra == \"all\"->IPython[all]->-r requirements.txt (line 12))\n",
            "  Downloading https://files.pythonhosted.org/packages/10/ad/00b090d23a222943eb0eda509720a404f531a439e803f6538f35136cae9e/alabaster-0.7.12-py2.py3-none-any.whl\n",
            "Collecting docutils>=0.11 (from Sphinx>=1.3; extra == \"all\"->IPython[all]->-r requirements.txt (line 12))\n",
            "\u001b[?25l  Downloading https://files.pythonhosted.org/packages/36/fa/08e9e6e0e3cbd1d362c3bbee8d01d0aedb2155c4ac112b19ef3cae8eed8d/docutils-0.14-py3-none-any.whl (543kB)\n",
            "\u001b[K    100% |████████████████████████████████| 552kB 27.7MB/s \n",
            "\u001b[?25hCollecting packaging (from Sphinx>=1.3; extra == \"all\"->IPython[all]->-r requirements.txt (line 12))\n",
            "  Downloading https://files.pythonhosted.org/packages/89/d1/92e6df2e503a69df9faab187c684585f0136662c12bb1f36901d426f3fab/packaging-18.0-py2.py3-none-any.whl\n",
            "Collecting snowballstemmer>=1.1 (from Sphinx>=1.3; extra == \"all\"->IPython[all]->-r requirements.txt (line 12))\n",
            "\u001b[?25l  Downloading https://files.pythonhosted.org/packages/d4/6c/8a935e2c7b54a37714656d753e4187ee0631988184ed50c0cf6476858566/snowballstemmer-1.2.1-py2.py3-none-any.whl (64kB)\n",
            "\u001b[K    100% |████████████████████████████████| 71kB 22.2MB/s \n",
            "\u001b[?25hCollecting babel!=2.0,>=1.3 (from Sphinx>=1.3; extra == \"all\"->IPython[all]->-r requirements.txt (line 12))\n",
            "\u001b[?25l  Downloading https://files.pythonhosted.org/packages/b8/ad/c6f60602d3ee3d92fbed87675b6fb6a6f9a38c223343ababdb44ba201f10/Babel-2.6.0-py2.py3-none-any.whl (8.1MB)\n",
            "\u001b[K    100% |████████████████████████████████| 8.1MB 5.6MB/s \n",
            "\u001b[?25hRequirement already satisfied: jsonschema!=2.5.0,>=2.4 in /usr/local/lib/python3.6/dist-packages (from nbformat; extra == \"all\"->IPython[all]->-r requirements.txt (line 12)) (2.6.0)\n",
            "Requirement already satisfied: MarkupSafe>=0.23 in /usr/local/lib/python3.6/dist-packages (from jinja2->notebook; extra == \"all\"->IPython[all]->-r requirements.txt (line 12)) (1.0)\n",
            "Requirement already satisfied: webencodings in /usr/local/lib/python3.6/dist-packages (from bleach->nbconvert; extra == \"all\"->IPython[all]->-r requirements.txt (line 12)) (0.5.1)\n",
            "Building wheels for collected packages: imgaug\n",
            "  Running setup.py bdist_wheel for imgaug ... \u001b[?25l-\b \b\\\b \bdone\n",
            "\u001b[?25h  Stored in directory: /root/.cache/pip/wheels/97/ec/48/0d25896c417b715af6236dbcef8f0bed136a1a5e52972fc6d0\n",
            "Successfully built imgaug\n",
            "Installing collected packages: cython, imgaug, ipyparallel, qtconsole, widgetsnbextension, ipywidgets, imagesize, sphinxcontrib-websupport, alabaster, docutils, packaging, snowballstemmer, babel, Sphinx, nose\n",
            "Successfully installed Sphinx-1.8.1 alabaster-0.7.12 babel-2.6.0 cython-0.29 docutils-0.14 imagesize-1.1.0 imgaug-0.2.6 ipyparallel-6.2.3 ipywidgets-7.4.2 nose-1.3.7 packaging-18.0 qtconsole-4.4.2 snowballstemmer-1.2.1 sphinxcontrib-websupport-1.1.0 widgetsnbextension-3.4.2\n"
          ],
          "name": "stdout"
        }
      ]
    },
    {
      "metadata": {
        "id": "vEpIHbNpXxYf",
        "colab_type": "code",
        "colab": {
          "base_uri": "https://localhost:8080/",
          "height": 952
        },
        "outputId": "3277d1bd-3970-4040-c821-49d74cc21e7a"
      },
      "cell_type": "code",
      "source": [
        "# python setup install\n",
        "%run setup.py install"
      ],
      "execution_count": 39,
      "outputs": [
        {
          "output_type": "stream",
          "text": [
            "WARNING:root:Fail load requirements file, so using default ones.\n"
          ],
          "name": "stderr"
        },
        {
          "output_type": "stream",
          "text": [
            "running install\n",
            "running bdist_egg\n",
            "running egg_info\n",
            "creating mask_rcnn.egg-info\n",
            "writing mask_rcnn.egg-info/PKG-INFO\n",
            "writing dependency_links to mask_rcnn.egg-info/dependency_links.txt\n",
            "writing top-level names to mask_rcnn.egg-info/top_level.txt\n",
            "writing manifest file 'mask_rcnn.egg-info/SOURCES.txt'\n",
            "reading manifest file 'mask_rcnn.egg-info/SOURCES.txt'\n",
            "reading manifest template 'MANIFEST.in'\n",
            "writing manifest file 'mask_rcnn.egg-info/SOURCES.txt'\n",
            "installing library code to build/bdist.linux-x86_64/egg\n",
            "running install_lib\n",
            "running build_py\n",
            "creating build\n",
            "creating build/lib\n",
            "creating build/lib/mrcnn\n",
            "copying mrcnn/utils.py -> build/lib/mrcnn\n",
            "copying mrcnn/visualize.py -> build/lib/mrcnn\n",
            "copying mrcnn/parallel_model.py -> build/lib/mrcnn\n",
            "copying mrcnn/config.py -> build/lib/mrcnn\n",
            "copying mrcnn/model.py -> build/lib/mrcnn\n",
            "copying mrcnn/__init__.py -> build/lib/mrcnn\n",
            "creating build/bdist.linux-x86_64\n",
            "creating build/bdist.linux-x86_64/egg\n",
            "creating build/bdist.linux-x86_64/egg/mrcnn\n",
            "copying build/lib/mrcnn/utils.py -> build/bdist.linux-x86_64/egg/mrcnn\n",
            "copying build/lib/mrcnn/visualize.py -> build/bdist.linux-x86_64/egg/mrcnn\n",
            "copying build/lib/mrcnn/parallel_model.py -> build/bdist.linux-x86_64/egg/mrcnn\n",
            "copying build/lib/mrcnn/config.py -> build/bdist.linux-x86_64/egg/mrcnn\n",
            "copying build/lib/mrcnn/model.py -> build/bdist.linux-x86_64/egg/mrcnn\n",
            "copying build/lib/mrcnn/__init__.py -> build/bdist.linux-x86_64/egg/mrcnn\n",
            "byte-compiling build/bdist.linux-x86_64/egg/mrcnn/utils.py to utils.cpython-36.pyc\n",
            "byte-compiling build/bdist.linux-x86_64/egg/mrcnn/visualize.py to visualize.cpython-36.pyc\n",
            "byte-compiling build/bdist.linux-x86_64/egg/mrcnn/parallel_model.py to parallel_model.cpython-36.pyc\n",
            "byte-compiling build/bdist.linux-x86_64/egg/mrcnn/config.py to config.cpython-36.pyc\n",
            "byte-compiling build/bdist.linux-x86_64/egg/mrcnn/model.py to model.cpython-36.pyc\n",
            "byte-compiling build/bdist.linux-x86_64/egg/mrcnn/__init__.py to __init__.cpython-36.pyc\n",
            "creating build/bdist.linux-x86_64/egg/EGG-INFO\n",
            "copying mask_rcnn.egg-info/PKG-INFO -> build/bdist.linux-x86_64/egg/EGG-INFO\n",
            "copying mask_rcnn.egg-info/SOURCES.txt -> build/bdist.linux-x86_64/egg/EGG-INFO\n",
            "copying mask_rcnn.egg-info/dependency_links.txt -> build/bdist.linux-x86_64/egg/EGG-INFO\n",
            "copying mask_rcnn.egg-info/top_level.txt -> build/bdist.linux-x86_64/egg/EGG-INFO\n"
          ],
          "name": "stdout"
        },
        {
          "output_type": "stream",
          "text": [
            "zip_safe flag not set; analyzing archive contents...\n"
          ],
          "name": "stderr"
        },
        {
          "output_type": "stream",
          "text": [
            "creating dist\n",
            "creating 'dist/mask_rcnn-2.1-py3.6.egg' and adding 'build/bdist.linux-x86_64/egg' to it\n",
            "removing 'build/bdist.linux-x86_64/egg' (and everything under it)\n",
            "Processing mask_rcnn-2.1-py3.6.egg\n",
            "Copying mask_rcnn-2.1-py3.6.egg to /usr/local/lib/python3.6/dist-packages\n",
            "Adding mask-rcnn 2.1 to easy-install.pth file\n",
            "\n",
            "Installed /usr/local/lib/python3.6/dist-packages/mask_rcnn-2.1-py3.6.egg\n",
            "Processing dependencies for mask-rcnn==2.1\n",
            "Finished processing dependencies for mask-rcnn==2.1\n"
          ],
          "name": "stdout"
        }
      ]
    },
    {
      "metadata": {
        "id": "zxAWRwI-X7cu",
        "colab_type": "code",
        "colab": {
          "base_uri": "https://localhost:8080/",
          "height": 68
        },
        "outputId": "9d1aaad1-203c-43e4-b2c6-8daebac9500b"
      },
      "cell_type": "code",
      "source": [
        "!ls"
      ],
      "execution_count": 40,
      "outputs": [
        {
          "output_type": "stream",
          "text": [
            "assets\t      dist     MANIFEST.in\t   README.md\t     setup.cfg\n",
            "build\t      images   mask_rcnn.egg-info  requirements.txt  setup.py\n",
            "customImages  LICENSE  mrcnn\t\t   samples\n"
          ],
          "name": "stdout"
        }
      ]
    },
    {
      "metadata": {
        "id": "gP7XokyzX_ec",
        "colab_type": "code",
        "colab": {
          "base_uri": "https://localhost:8080/",
          "height": 204
        },
        "outputId": "5e0b8e86-7e19-4346-c4a6-2e5c852b873e"
      },
      "cell_type": "code",
      "source": [
        "!wget https://raw.githubusercontent.com/priya-dwivedi/Deep-Learning/master/mask_rcnn_damage_detection/custom.py"
      ],
      "execution_count": 41,
      "outputs": [
        {
          "output_type": "stream",
          "text": [
            "--2018-11-01 05:11:54--  https://raw.githubusercontent.com/priya-dwivedi/Deep-Learning/master/mask_rcnn_damage_detection/custom.py\n",
            "Resolving raw.githubusercontent.com (raw.githubusercontent.com)... 151.101.0.133, 151.101.64.133, 151.101.128.133, ...\n",
            "Connecting to raw.githubusercontent.com (raw.githubusercontent.com)|151.101.0.133|:443... connected.\n",
            "HTTP request sent, awaiting response... 200 OK\n",
            "Length: 13885 (14K) [text/plain]\n",
            "Saving to: ‘custom.py’\n",
            "\n",
            "\rcustom.py             0%[                    ]       0  --.-KB/s               \rcustom.py           100%[===================>]  13.56K  --.-KB/s    in 0.007s  \n",
            "\n",
            "2018-11-01 05:11:54 (1.92 MB/s) - ‘custom.py’ saved [13885/13885]\n",
            "\n"
          ],
          "name": "stdout"
        }
      ]
    },
    {
      "metadata": {
        "id": "X9CdEup6YB4t",
        "colab_type": "code",
        "colab": {
          "base_uri": "https://localhost:8080/",
          "height": 68
        },
        "outputId": "462c98b5-ba4f-4763-9d1b-c30433883862"
      },
      "cell_type": "code",
      "source": [
        "!ls"
      ],
      "execution_count": 42,
      "outputs": [
        {
          "output_type": "stream",
          "text": [
            "assets\t      custom.py  LICENSE\t     mrcnn\t       samples\n",
            "build\t      dist\t MANIFEST.in\t     README.md\t       setup.cfg\n",
            "customImages  images\t mask_rcnn.egg-info  requirements.txt  setup.py\n"
          ],
          "name": "stdout"
        }
      ]
    },
    {
      "metadata": {
        "id": "4mOb8h_8YD0v",
        "colab_type": "code",
        "colab": {}
      },
      "cell_type": "code",
      "source": [
        "!mkdir logs"
      ],
      "execution_count": 0,
      "outputs": []
    },
    {
      "metadata": {
        "id": "SqeMzvCmYGKN",
        "colab_type": "code",
        "colab": {
          "base_uri": "https://localhost:8080/",
          "height": 85
        },
        "outputId": "d098c877-c311-4314-af9a-9eb21473ed6a"
      },
      "cell_type": "code",
      "source": [
        "!ls"
      ],
      "execution_count": 44,
      "outputs": [
        {
          "output_type": "stream",
          "text": [
            "assets\t      dist     MANIFEST.in\t   requirements.txt\n",
            "build\t      images   mask_rcnn.egg-info  samples\n",
            "customImages  LICENSE  mrcnn\t\t   setup.cfg\n",
            "custom.py     logs     README.md\t   setup.py\n"
          ],
          "name": "stdout"
        }
      ]
    },
    {
      "metadata": {
        "id": "Z4g_cn0IYGlM",
        "colab_type": "code",
        "colab": {
          "base_uri": "https://localhost:8080/",
          "height": 34
        },
        "outputId": "66407506-3cb6-4069-8bc7-9b13c42772cb"
      },
      "cell_type": "code",
      "source": [
        "import os\n",
        "import sys\n",
        "import itertools\n",
        "import math\n",
        "import logging\n",
        "import json\n",
        "import re\n",
        "import random\n",
        "from collections import OrderedDict\n",
        "import numpy as np\n",
        "import matplotlib\n",
        "import matplotlib.pyplot as plt\n",
        "import matplotlib.patches as patches\n",
        "import matplotlib.lines as lines\n",
        "from matplotlib.patches import Polygon\n",
        "\n",
        "# Root directory of the project\n",
        "ROOT_DIR = os.getcwd()\n",
        "\n",
        "# Import Mask RCNN\n",
        "sys.path.append(ROOT_DIR)  # To find local version of the library\n",
        "from mrcnn import utils\n",
        "from mrcnn import visualize\n",
        "from mrcnn.visualize import display_images\n",
        "import mrcnn.model as modellib\n",
        "from mrcnn.model import log\n",
        "\n",
        "MODEL_DIR = os.path.join(ROOT_DIR, \"logs\")\n",
        "\n",
        "import custom\n",
        "\n",
        "%matplotlib inline"
      ],
      "execution_count": 45,
      "outputs": [
        {
          "output_type": "stream",
          "text": [
            "Using TensorFlow backend.\n"
          ],
          "name": "stderr"
        }
      ]
    },
    {
      "metadata": {
        "id": "MyE-CnJpYKSp",
        "colab_type": "code",
        "colab": {
          "base_uri": "https://localhost:8080/",
          "height": 34
        },
        "outputId": "87d552af-6bc2-4d3f-d17f-862c61b47db8"
      },
      "cell_type": "code",
      "source": [
        "config = custom.CustomConfig()\n",
        "CUSTOM_DIR = os.path.join(ROOT_DIR, \"customImages\")\n",
        "print(CUSTOM_DIR)"
      ],
      "execution_count": 46,
      "outputs": [
        {
          "output_type": "stream",
          "text": [
            "/content/Mask_RCNN/customImages\n"
          ],
          "name": "stdout"
        }
      ]
    },
    {
      "metadata": {
        "id": "SmkWERokYNN3",
        "colab_type": "code",
        "colab": {
          "base_uri": "https://localhost:8080/",
          "height": 85
        },
        "outputId": "31450731-a484-45ea-846e-3d1df5f1dadd"
      },
      "cell_type": "code",
      "source": [
        "# Load dataset\n",
        "# Get the dataset from the releases page\n",
        "# https://github.com/matterport/Mask_RCNN/releases\n",
        "dataset = custom.CustomDataset()\n",
        "dataset.load_custom(CUSTOM_DIR, \"train\")\n",
        "\n",
        "# Must call before using the dataset\n",
        "dataset.prepare()\n",
        "\n",
        "print(\"Image Count: {}\".format(len(dataset.image_ids)))\n",
        "print(\"Class Count: {}\".format(dataset.num_classes))\n",
        "for i, info in enumerate(dataset.class_info):\n",
        "    print(\"{:3}. {:50}\".format(i, info['name']))"
      ],
      "execution_count": 47,
      "outputs": [
        {
          "output_type": "stream",
          "text": [
            "Image Count: 102\n",
            "Class Count: 2\n",
            "  0. BG                                                \n",
            "  1. damage                                            \n"
          ],
          "name": "stdout"
        }
      ]
    },
    {
      "metadata": {
        "id": "D0Yxc9QfYP9n",
        "colab_type": "code",
        "colab": {
          "base_uri": "https://localhost:8080/",
          "height": 34
        },
        "outputId": "76b20179-e586-40df-e06a-0ac5802c286d"
      },
      "cell_type": "code",
      "source": [
        "# %cd .."
      ],
      "execution_count": 46,
      "outputs": [
        {
          "output_type": "stream",
          "text": [
            "/content\n"
          ],
          "name": "stdout"
        }
      ]
    },
    {
      "metadata": {
        "id": "a90_zUwxYhGu",
        "colab_type": "code",
        "colab": {
          "base_uri": "https://localhost:8080/",
          "height": 34
        },
        "outputId": "8b4359ad-570d-4279-ac92-e97f907f6b81"
      },
      "cell_type": "code",
      "source": [
        "# !ls"
      ],
      "execution_count": 47,
      "outputs": [
        {
          "output_type": "stream",
          "text": [
            "customImages  Mask_RCNN  sample_data\n"
          ],
          "name": "stdout"
        }
      ]
    },
    {
      "metadata": {
        "id": "YiU2z4f3Yh3Y",
        "colab_type": "code",
        "colab": {}
      },
      "cell_type": "code",
      "source": [
        "# !mv customImages/ Mask_RCNN/"
      ],
      "execution_count": 0,
      "outputs": []
    },
    {
      "metadata": {
        "id": "0fQA5vzrYk_E",
        "colab_type": "code",
        "colab": {
          "base_uri": "https://localhost:8080/",
          "height": 34
        },
        "outputId": "b567af41-dccb-4ce6-ee15-281d24d311c9"
      },
      "cell_type": "code",
      "source": [
        "# %cd Mask_RCNN/"
      ],
      "execution_count": 49,
      "outputs": [
        {
          "output_type": "stream",
          "text": [
            "/content/Mask_RCNN\n"
          ],
          "name": "stdout"
        }
      ]
    },
    {
      "metadata": {
        "id": "oOYeTxKmYnDi",
        "colab_type": "code",
        "colab": {
          "base_uri": "https://localhost:8080/",
          "height": 85
        },
        "outputId": "f4c926a3-271f-425c-adb2-8d74bd2e596f"
      },
      "cell_type": "code",
      "source": [
        "!ls"
      ],
      "execution_count": 48,
      "outputs": [
        {
          "output_type": "stream",
          "text": [
            "assets\t      dist     MANIFEST.in\t   README.md\t     setup.py\n",
            "build\t      images   mask_rcnn.egg-info  requirements.txt\n",
            "customImages  LICENSE  mrcnn\t\t   samples\n",
            "custom.py     logs     __pycache__\t   setup.cfg\n"
          ],
          "name": "stdout"
        }
      ]
    },
    {
      "metadata": {
        "id": "wIwOw1z2YnwK",
        "colab_type": "code",
        "colab": {
          "base_uri": "https://localhost:8080/",
          "height": 921
        },
        "outputId": "d16bb9df-477d-4e10-bfae-88a072bf5b6f"
      },
      "cell_type": "code",
      "source": [
        "class InferenceConfig(custom.CustomConfig):\n",
        "    # Set batch size to 1 since we'll be running inference on\n",
        "    # one image at a time. Batch size = GPU_COUNT * IMAGES_PER_GPU\n",
        "    GPU_COUNT = 1\n",
        "    IMAGES_PER_GPU = 1\n",
        "\n",
        "config = InferenceConfig()\n",
        "config.display()"
      ],
      "execution_count": 49,
      "outputs": [
        {
          "output_type": "stream",
          "text": [
            "\n",
            "Configurations:\n",
            "BACKBONE                       resnet101\n",
            "BACKBONE_STRIDES               [4, 8, 16, 32, 64]\n",
            "BATCH_SIZE                     1\n",
            "BBOX_STD_DEV                   [0.1 0.1 0.2 0.2]\n",
            "COMPUTE_BACKBONE_SHAPE         None\n",
            "DETECTION_MAX_INSTANCES        100\n",
            "DETECTION_MIN_CONFIDENCE       0.9\n",
            "DETECTION_NMS_THRESHOLD        0.3\n",
            "FPN_CLASSIF_FC_LAYERS_SIZE     1024\n",
            "GPU_COUNT                      1\n",
            "GRADIENT_CLIP_NORM             5.0\n",
            "IMAGES_PER_GPU                 1\n",
            "IMAGE_CHANNEL_COUNT            3\n",
            "IMAGE_MAX_DIM                  1024\n",
            "IMAGE_META_SIZE                14\n",
            "IMAGE_MIN_DIM                  800\n",
            "IMAGE_MIN_SCALE                0\n",
            "IMAGE_RESIZE_MODE              square\n",
            "IMAGE_SHAPE                    [1024 1024    3]\n",
            "LEARNING_MOMENTUM              0.9\n",
            "LEARNING_RATE                  0.001\n",
            "LOSS_WEIGHTS                   {'rpn_class_loss': 1.0, 'rpn_bbox_loss': 1.0, 'mrcnn_class_loss': 1.0, 'mrcnn_bbox_loss': 1.0, 'mrcnn_mask_loss': 1.0}\n",
            "MASK_POOL_SIZE                 14\n",
            "MASK_SHAPE                     [28, 28]\n",
            "MAX_GT_INSTANCES               100\n",
            "MEAN_PIXEL                     [123.7 116.8 103.9]\n",
            "MINI_MASK_SHAPE                (56, 56)\n",
            "NAME                           damage\n",
            "NUM_CLASSES                    2\n",
            "POOL_SIZE                      7\n",
            "POST_NMS_ROIS_INFERENCE        1000\n",
            "POST_NMS_ROIS_TRAINING         2000\n",
            "PRE_NMS_LIMIT                  6000\n",
            "ROI_POSITIVE_RATIO             0.33\n",
            "RPN_ANCHOR_RATIOS              [0.5, 1, 2]\n",
            "RPN_ANCHOR_SCALES              (32, 64, 128, 256, 512)\n",
            "RPN_ANCHOR_STRIDE              1\n",
            "RPN_BBOX_STD_DEV               [0.1 0.1 0.2 0.2]\n",
            "RPN_NMS_THRESHOLD              0.7\n",
            "RPN_TRAIN_ANCHORS_PER_IMAGE    256\n",
            "STEPS_PER_EPOCH                100\n",
            "TOP_DOWN_PYRAMID_SIZE          256\n",
            "TRAIN_BN                       False\n",
            "TRAIN_ROIS_PER_IMAGE           200\n",
            "USE_MINI_MASK                  True\n",
            "USE_RPN_ROIS                   True\n",
            "VALIDATION_STEPS               50\n",
            "WEIGHT_DECAY                   0.0001\n",
            "\n",
            "\n"
          ],
          "name": "stdout"
        }
      ]
    },
    {
      "metadata": {
        "id": "IF-L89tnYyc8",
        "colab_type": "code",
        "colab": {
          "base_uri": "https://localhost:8080/",
          "height": 238
        },
        "outputId": "91fc1d1c-bfd6-459d-e87e-fd32f7151588"
      },
      "cell_type": "code",
      "source": [
        "# %run custom.py train --dataset=/content/Mask_RCNN/customImages --weights=coco --logs logs/\n",
        "# %run custom.py evaluate --dataset=/content/Mask_RCNN/customImages --model=last\n",
        "!wget https://www.formpicture.com/pothole/mask_rcnn_damage_0010.h5  --no-check-certificate"
      ],
      "execution_count": 50,
      "outputs": [
        {
          "output_type": "stream",
          "text": [
            "--2018-11-01 05:14:12--  https://www.formpicture.com/pothole/mask_rcnn_damage_0010.h5\n",
            "Resolving www.formpicture.com (www.formpicture.com)... 93.188.165.63\n",
            "Connecting to www.formpicture.com (www.formpicture.com)|93.188.165.63|:443... connected.\n",
            "WARNING: cannot verify www.formpicture.com's certificate, issued by ‘CN=Let's Encrypt Authority X3,O=Let's Encrypt,C=US’:\n",
            "  Unable to locally verify the issuer's authority.\n",
            "HTTP request sent, awaiting response... 200 OK\n",
            "Length: 255860320 (244M)\n",
            "Saving to: ‘mask_rcnn_damage_0010.h5’\n",
            "\n",
            "mask_rcnn_damage_00 100%[===================>] 244.01M   435KB/s    in 6m 19s  \n",
            "\n",
            "2018-11-01 05:20:32 (658 KB/s) - ‘mask_rcnn_damage_0010.h5’ saved [255860320/255860320]\n",
            "\n"
          ],
          "name": "stdout"
        }
      ]
    },
    {
      "metadata": {
        "id": "zCq6uDy3g-lE",
        "colab_type": "code",
        "colab": {
          "base_uri": "https://localhost:8080/",
          "height": 85
        },
        "outputId": "187b0fd8-5a24-4983-bfab-8e6abfbbe120"
      },
      "cell_type": "code",
      "source": [
        "!ls"
      ],
      "execution_count": 51,
      "outputs": [
        {
          "output_type": "stream",
          "text": [
            "assets\t      dist     MANIFEST.in\t\t __pycache__\t   setup.cfg\n",
            "build\t      images   mask_rcnn_damage_0010.h5  README.md\t   setup.py\n",
            "customImages  LICENSE  mask_rcnn.egg-info\t requirements.txt\n",
            "custom.py     logs     mrcnn\t\t\t samples\n"
          ],
          "name": "stdout"
        }
      ]
    },
    {
      "metadata": {
        "id": "1eYkwJ9__zW9",
        "colab_type": "code",
        "colab": {}
      },
      "cell_type": "code",
      "source": [
        "# !cp logs/damage20181031T1053/mask_rcnn_damage_0010.h5 /content/Mask_RCNN/"
      ],
      "execution_count": 0,
      "outputs": []
    },
    {
      "metadata": {
        "id": "ks3mmHXkY20Z",
        "colab_type": "code",
        "colab": {}
      },
      "cell_type": "code",
      "source": [
        "# COCO_MODEL_PATH = os.path.join(ROOT_DIR, \"mask_rcnn_damage_0010.h5\")\n",
        "# did not create a model path call it directly"
      ],
      "execution_count": 0,
      "outputs": []
    },
    {
      "metadata": {
        "id": "RbQ__STRcfoo",
        "colab_type": "code",
        "colab": {
          "base_uri": "https://localhost:8080/",
          "height": 88
        },
        "outputId": "dc23459a-5dea-49e3-c653-560cf65090b8"
      },
      "cell_type": "code",
      "source": [
        "# Create model object in inference mode.\n",
        "model = modellib.MaskRCNN(mode=\"inference\", model_dir=MODEL_DIR, config=config)\n",
        "\n",
        "# Load weights trained on MS-COCO\n",
        "model.load_weights(\"mask_rcnn_damage_0010.h5\", by_name=True)"
      ],
      "execution_count": 52,
      "outputs": [
        {
          "output_type": "stream",
          "text": [
            "WARNING:tensorflow:From /usr/local/lib/python3.6/dist-packages/tensorflow/python/ops/sparse_ops.py:1165: sparse_to_dense (from tensorflow.python.ops.sparse_ops) is deprecated and will be removed in a future version.\n",
            "Instructions for updating:\n",
            "Create a `tf.sparse.SparseTensor` and use `tf.sparse.to_dense` instead.\n"
          ],
          "name": "stderr"
        }
      ]
    },
    {
      "metadata": {
        "id": "NmJ7vlmdpWzz",
        "colab_type": "code",
        "colab": {
          "base_uri": "https://localhost:8080/",
          "height": 85
        },
        "outputId": "9a609970-cb28-4821-ffb0-980a0bddc94a"
      },
      "cell_type": "code",
      "source": [
        "!ls"
      ],
      "execution_count": 53,
      "outputs": [
        {
          "output_type": "stream",
          "text": [
            "assets\t      dist     MANIFEST.in\t\t __pycache__\t   setup.cfg\n",
            "build\t      images   mask_rcnn_damage_0010.h5  README.md\t   setup.py\n",
            "customImages  LICENSE  mask_rcnn.egg-info\t requirements.txt\n",
            "custom.py     logs     mrcnn\t\t\t samples\n"
          ],
          "name": "stdout"
        }
      ]
    },
    {
      "metadata": {
        "id": "Yp5PbclYpH3U",
        "colab_type": "code",
        "colab": {}
      },
      "cell_type": "code",
      "source": [
        "# Custom Model Path\n",
        "\"\"\"\n",
        "# Create model in inference mode\n",
        "with tf.device(DEVICE):\n",
        "    model = modellib.MaskRCNN(mode=\"inference\", model_dir=MODEL_DIR,\n",
        "                              config=config)\n",
        "# Load weights\n",
        "weights_path = 'mask_rcnn_damage_0010.h5'\n",
        "\n",
        "# Load weights\n",
        "print(\"Loading weights \", weights_path)\n",
        "model.load_weights(weights_path, by_name=True)\n",
        "\"\"\""
      ],
      "execution_count": 0,
      "outputs": []
    },
    {
      "metadata": {
        "id": "elqiKXr12zlr",
        "colab_type": "code",
        "colab": {}
      },
      "cell_type": "code",
      "source": [
        "class_names = ['BG', 'damage']"
      ],
      "execution_count": 0,
      "outputs": []
    },
    {
      "metadata": {
        "id": "T-RZrFGbqEUK",
        "colab_type": "code",
        "colab": {
          "base_uri": "https://localhost:8080/",
          "height": 367
        },
        "outputId": "d3e8d9bf-8e2b-4190-987a-f800e8f7ed37"
      },
      "cell_type": "code",
      "source": [
        "# CUSTOM_DIR = os.path.join(ROOT_DIR, \"/content/Mask_RCNN/customImages/val\")\n",
        "# print(CUSTOM_DIR)\n",
        "# Load a random image from the images folder\n",
        "file_names = next(os.walk(CUSTOM_DIR))[2]\n",
        "image = skimage.io.imread(os.path.join(CUSTOM_DIR, random.choice(file_names)))\n",
        "\n",
        "# Run detection\n",
        "results = model.detect([image], verbose=1)\n",
        "\n",
        "# Visualize results\n",
        "r = results[0]\n",
        "visualize.display_instances(image, r['rois'], r['masks'], r['class_ids'], \n",
        "\n",
        "                            class_names, r['scores'])"
      ],
      "execution_count": 86,
      "outputs": [
        {
          "output_type": "stream",
          "text": [
            "/content/Mask_RCNN/customImages/val\n"
          ],
          "name": "stdout"
        },
        {
          "output_type": "error",
          "ename": "AssertionError",
          "evalue": "ignored",
          "traceback": [
            "\u001b[0;31m---------------------------------------------------------------------------\u001b[0m",
            "\u001b[0;31mAssertionError\u001b[0m                            Traceback (most recent call last)",
            "\u001b[0;32m<ipython-input-86-837b01d7ddf1>\u001b[0m in \u001b[0;36m<module>\u001b[0;34m()\u001b[0m\n\u001b[1;32m      6\u001b[0m \u001b[0;34m\u001b[0m\u001b[0m\n\u001b[1;32m      7\u001b[0m \u001b[0;31m# Run detection\u001b[0m\u001b[0;34m\u001b[0m\u001b[0;34m\u001b[0m\u001b[0m\n\u001b[0;32m----> 8\u001b[0;31m \u001b[0mresults\u001b[0m \u001b[0;34m=\u001b[0m \u001b[0mmodel\u001b[0m\u001b[0;34m.\u001b[0m\u001b[0mdetect\u001b[0m\u001b[0;34m(\u001b[0m\u001b[0;34m[\u001b[0m\u001b[0mimage\u001b[0m\u001b[0;34m]\u001b[0m\u001b[0;34m,\u001b[0m \u001b[0mverbose\u001b[0m\u001b[0;34m=\u001b[0m\u001b[0;36m1\u001b[0m\u001b[0;34m)\u001b[0m\u001b[0;34m\u001b[0m\u001b[0m\n\u001b[0m\u001b[1;32m      9\u001b[0m \u001b[0;34m\u001b[0m\u001b[0m\n\u001b[1;32m     10\u001b[0m \u001b[0;31m# Visualize results\u001b[0m\u001b[0;34m\u001b[0m\u001b[0;34m\u001b[0m\u001b[0m\n",
            "\u001b[0;32m/content/Mask_RCNN/mrcnn/model.py\u001b[0m in \u001b[0;36mdetect\u001b[0;34m(self, images, verbose)\u001b[0m\n\u001b[1;32m   2494\u001b[0m         \u001b[0;32massert\u001b[0m \u001b[0mself\u001b[0m\u001b[0;34m.\u001b[0m\u001b[0mmode\u001b[0m \u001b[0;34m==\u001b[0m \u001b[0;34m\"inference\"\u001b[0m\u001b[0;34m,\u001b[0m \u001b[0;34m\"Create model in inference mode.\"\u001b[0m\u001b[0;34m\u001b[0m\u001b[0m\n\u001b[1;32m   2495\u001b[0m         assert len(\n\u001b[0;32m-> 2496\u001b[0;31m             images) == self.config.BATCH_SIZE, \"len(images) must be equal to BATCH_SIZE\"\n\u001b[0m\u001b[1;32m   2497\u001b[0m \u001b[0;34m\u001b[0m\u001b[0m\n\u001b[1;32m   2498\u001b[0m         \u001b[0;32mif\u001b[0m \u001b[0mverbose\u001b[0m\u001b[0;34m:\u001b[0m\u001b[0;34m\u001b[0m\u001b[0m\n",
            "\u001b[0;31mAssertionError\u001b[0m: len(images) must be equal to BATCH_SIZE"
          ]
        }
      ]
    },
    {
      "metadata": {
        "id": "NRUEsOXKqGLH",
        "colab_type": "code",
        "colab": {
          "base_uri": "https://localhost:8080/",
          "height": 34
        },
        "outputId": "05d77c11-4bc8-417c-cd69-90e97111f95b"
      },
      "cell_type": "code",
      "source": [
        "!pwd"
      ],
      "execution_count": 55,
      "outputs": [
        {
          "output_type": "stream",
          "text": [
            "/content/Mask_RCNN\n"
          ],
          "name": "stdout"
        }
      ]
    },
    {
      "metadata": {
        "id": "Ex1DKt0xCHxi",
        "colab_type": "code",
        "colab": {
          "base_uri": "https://localhost:8080/",
          "height": 377
        },
        "outputId": "2081cc13-aaeb-40bd-f0b9-e9b9e7e3efeb"
      },
      "cell_type": "code",
      "source": [
        "# !wget https://github.com/Prady96/Pothole-Detection/blob/master/G0010113.JPG"
      ],
      "execution_count": 96,
      "outputs": [
        {
          "output_type": "stream",
          "text": [
            "--2018-10-31 12:21:04--  https://github.com/Prady96/Pothole-Detection/blob/master/G0010113.JPG?raw=True\n",
            "Resolving github.com (github.com)... 192.30.253.113, 192.30.253.112\n",
            "Connecting to github.com (github.com)|192.30.253.113|:443... connected.\n",
            "HTTP request sent, awaiting response... 302 Found\n",
            "Location: https://github.com/Prady96/Pothole-Detection/raw/master/G0010113.JPG [following]\n",
            "--2018-10-31 12:21:04--  https://github.com/Prady96/Pothole-Detection/raw/master/G0010113.JPG\n",
            "Reusing existing connection to github.com:443.\n",
            "HTTP request sent, awaiting response... 302 Found\n",
            "Location: https://raw.githubusercontent.com/Prady96/Pothole-Detection/master/G0010113.JPG [following]\n",
            "--2018-10-31 12:21:05--  https://raw.githubusercontent.com/Prady96/Pothole-Detection/master/G0010113.JPG\n",
            "Resolving raw.githubusercontent.com (raw.githubusercontent.com)... 151.101.0.133, 151.101.64.133, 151.101.128.133, ...\n",
            "Connecting to raw.githubusercontent.com (raw.githubusercontent.com)|151.101.0.133|:443... connected.\n",
            "HTTP request sent, awaiting response... 200 OK\n",
            "Length: 1975422 (1.9M) [image/jpeg]\n",
            "Saving to: ‘G0010113.JPG?raw=True’\n",
            "\n",
            "G0010113.JPG?raw=Tr 100%[===================>]   1.88M  7.76MB/s    in 0.2s    \n",
            "\n",
            "2018-10-31 12:21:05 (7.76 MB/s) - ‘G0010113.JPG?raw=True’ saved [1975422/1975422]\n",
            "\n"
          ],
          "name": "stdout"
        }
      ]
    },
    {
      "metadata": {
        "id": "lmEx94OCEczA",
        "colab_type": "code",
        "colab": {
          "base_uri": "https://localhost:8080/",
          "height": 258
        },
        "outputId": "72b3951a-7a34-45b9-a00f-c8b3334bcd23"
      },
      "cell_type": "code",
      "source": [
        "# !wget https://www.formpicture.com/pothole/pothole_img250/ --no-check-certificate"
      ],
      "execution_count": 99,
      "outputs": [
        {
          "output_type": "stream",
          "text": [
            "--2018-10-31 12:25:20--  https://www.formpicture.com/pothole/pothole_img250/\n",
            "Resolving www.formpicture.com (www.formpicture.com)... 93.188.165.63\n",
            "Connecting to www.formpicture.com (www.formpicture.com)|93.188.165.63|:443... connected.\n",
            "WARNING: cannot verify www.formpicture.com's certificate, issued by ‘CN=Let's Encrypt Authority X3,O=Let's Encrypt,C=US’:\n",
            "  Unable to locally verify the issuer's authority.\n",
            "HTTP request sent, awaiting response... 200 OK\n",
            "Length: unspecified [text/html]\n",
            "Saving to: ‘index.html’\n",
            "\n",
            "\rindex.html              [<=>                 ]       0  --.-KB/s               \rindex.html              [ <=>                ]  55.73K  --.-KB/s    in 0.07s   \n",
            "\n",
            "2018-10-31 12:25:20 (819 KB/s) - ‘index.html’ saved [57063]\n",
            "\n"
          ],
          "name": "stdout"
        }
      ]
    },
    {
      "metadata": {
        "id": "pYCPViOwEgBT",
        "colab_type": "code",
        "colab": {}
      },
      "cell_type": "code",
      "source": [
        "# !rm -rf index.html"
      ],
      "execution_count": 0,
      "outputs": []
    },
    {
      "metadata": {
        "id": "rYJRt9O3FgqB",
        "colab_type": "code",
        "colab": {
          "base_uri": "https://localhost:8080/",
          "height": 238
        },
        "outputId": "8dccef54-e1d0-44a2-bc9a-5cd4bbe9edac"
      },
      "cell_type": "code",
      "source": [
        "!wget https://www.formpicture.com/pothole/val/Output%5cframe278.jpg --no-check-certificate"
      ],
      "execution_count": 56,
      "outputs": [
        {
          "output_type": "stream",
          "text": [
            "--2018-11-01 05:21:01--  https://www.formpicture.com/pothole/val/Output%5cframe278.jpg\n",
            "Resolving www.formpicture.com (www.formpicture.com)... 93.188.165.63\n",
            "Connecting to www.formpicture.com (www.formpicture.com)|93.188.165.63|:443... connected.\n",
            "WARNING: cannot verify www.formpicture.com's certificate, issued by ‘CN=Let's Encrypt Authority X3,O=Let's Encrypt,C=US’:\n",
            "  Unable to locally verify the issuer's authority.\n",
            "HTTP request sent, awaiting response... 200 OK\n",
            "Length: 337652 (330K) [image/jpeg]\n",
            "Saving to: ‘Output\\\\frame278.jpg’\n",
            "\n",
            "Output\\frame278.jpg 100%[===================>] 329.74K   582KB/s    in 0.6s    \n",
            "\n",
            "2018-11-01 05:21:02 (582 KB/s) - ‘Output\\\\frame278.jpg’ saved [337652/337652]\n",
            "\n"
          ],
          "name": "stdout"
        }
      ]
    },
    {
      "metadata": {
        "id": "ldXGLw00FqXW",
        "colab_type": "code",
        "colab": {}
      },
      "cell_type": "code",
      "source": [
        "!mv Output\\\\frame278.jpg testingImage.jpg"
      ],
      "execution_count": 0,
      "outputs": []
    },
    {
      "metadata": {
        "id": "vH1J5IDduDwk",
        "colab_type": "code",
        "colab": {
          "base_uri": "https://localhost:8080/",
          "height": 102
        },
        "outputId": "751ddf8f-7d6a-4524-b98c-ad31a8ef89d7"
      },
      "cell_type": "code",
      "source": [
        "!ls"
      ],
      "execution_count": 60,
      "outputs": [
        {
          "output_type": "stream",
          "text": [
            "assets\t      images\t\t\tmask_rcnn.egg-info  samples\n",
            "build\t      LICENSE\t\t\tmrcnn\t\t    setup.cfg\n",
            "customImages  logs\t\t\t__pycache__\t    setup.py\n",
            "custom.py     MANIFEST.in\t\tREADME.md\t    testingImage.jpg\n",
            "dist\t      mask_rcnn_damage_0010.h5\trequirements.txt\n"
          ],
          "name": "stdout"
        }
      ]
    },
    {
      "metadata": {
        "id": "cpPpbFI3FveH",
        "colab_type": "code",
        "colab": {
          "base_uri": "https://localhost:8080/",
          "height": 632
        },
        "outputId": "fdd0f199-23f9-41d2-979c-4fb27b491033"
      },
      "cell_type": "code",
      "source": [
        "!pip install scipy\n",
        "!pip install scikit-image\n",
        "!apt-get install python-matplotlib python-numpy python-pil python-scipy\n",
        "!apt-get install build-essential cython\n",
        "!apt-get install python-skimage"
      ],
      "execution_count": 65,
      "outputs": [
        {
          "output_type": "stream",
          "text": [
            "Requirement already satisfied: scipy in /usr/local/lib/python3.6/dist-packages (0.19.1)\n",
            "Requirement already satisfied: numpy>=1.8.2 in /usr/local/lib/python3.6/dist-packages (from scipy) (1.14.6)\n",
            "Requirement already satisfied: scikit-image in /usr/local/lib/python3.6/dist-packages (0.13.1)\n",
            "Requirement already satisfied: scipy>=0.17.0 in /usr/local/lib/python3.6/dist-packages (from scikit-image) (0.19.1)\n",
            "Requirement already satisfied: networkx>=1.8 in /usr/local/lib/python3.6/dist-packages (from scikit-image) (2.2)\n",
            "Requirement already satisfied: matplotlib>=1.3.1 in /usr/local/lib/python3.6/dist-packages (from scikit-image) (2.1.2)\n",
            "Requirement already satisfied: PyWavelets>=0.4.0 in /usr/local/lib/python3.6/dist-packages (from scikit-image) (1.0.1)\n",
            "Requirement already satisfied: pillow>=2.1.0 in /usr/local/lib/python3.6/dist-packages (from scikit-image) (4.0.0)\n",
            "Requirement already satisfied: six>=1.7.3 in /usr/local/lib/python3.6/dist-packages (from scikit-image) (1.11.0)\n",
            "Requirement already satisfied: numpy>=1.8.2 in /usr/local/lib/python3.6/dist-packages (from scipy>=0.17.0->scikit-image) (1.14.6)\n",
            "Requirement already satisfied: decorator>=4.3.0 in /usr/local/lib/python3.6/dist-packages (from networkx>=1.8->scikit-image) (4.3.0)\n",
            "Requirement already satisfied: python-dateutil>=2.1 in /usr/local/lib/python3.6/dist-packages (from matplotlib>=1.3.1->scikit-image) (2.5.3)\n",
            "Requirement already satisfied: cycler>=0.10 in /usr/local/lib/python3.6/dist-packages (from matplotlib>=1.3.1->scikit-image) (0.10.0)\n",
            "Requirement already satisfied: pyparsing!=2.0.4,!=2.1.2,!=2.1.6,>=2.0.1 in /usr/local/lib/python3.6/dist-packages (from matplotlib>=1.3.1->scikit-image) (2.2.2)\n",
            "Requirement already satisfied: pytz in /usr/local/lib/python3.6/dist-packages (from matplotlib>=1.3.1->scikit-image) (2018.7)\n",
            "Requirement already satisfied: olefile in /usr/local/lib/python3.6/dist-packages (from pillow>=2.1.0->scikit-image) (0.46)\n",
            "Reading package lists... Done\n",
            "Building dependency tree       \n",
            "Reading state information... Done\n",
            "python-numpy is already the newest version (1:1.13.3-2ubuntu1).\n",
            "python-pil is already the newest version (5.1.0-1).\n",
            "python-matplotlib is already the newest version (2.1.1-2ubuntu3).\n",
            "python-scipy is already the newest version (0.19.1-2ubuntu1).\n",
            "0 upgraded, 0 newly installed, 0 to remove and 3 not upgraded.\n",
            "Reading package lists... Done\n",
            "Building dependency tree       \n",
            "Reading state information... Done\n",
            "build-essential is already the newest version (12.4ubuntu1).\n",
            "cython is already the newest version (0.26.1-0.4).\n",
            "0 upgraded, 0 newly installed, 0 to remove and 3 not upgraded.\n",
            "Reading package lists... Done\n",
            "Building dependency tree       \n",
            "Reading state information... Done\n",
            "python-skimage is already the newest version (0.13.1-2).\n",
            "0 upgraded, 0 newly installed, 0 to remove and 3 not upgraded.\n"
          ],
          "name": "stdout"
        }
      ]
    },
    {
      "metadata": {
        "id": "PjRGs_Ahv8vx",
        "colab_type": "code",
        "colab": {
          "base_uri": "https://localhost:8080/",
          "height": 136
        },
        "outputId": "10cbdf4e-1692-4cf3-a67d-1e4104a976d7"
      },
      "cell_type": "code",
      "source": [
        "!pip uninstall scikit-image"
      ],
      "execution_count": 69,
      "outputs": [
        {
          "output_type": "stream",
          "text": [
            "Uninstalling scikit-image-0.13.1:\n",
            "  Would remove:\n",
            "    /usr/local/bin/skivi\n",
            "    /usr/local/lib/python3.6/dist-packages/scikit_image-0.13.1.dist-info/*\n",
            "    /usr/local/lib/python3.6/dist-packages/skimage/*\n",
            "Proceed (y/n)? y\n",
            "  Successfully uninstalled scikit-image-0.13.1\n"
          ],
          "name": "stdout"
        }
      ]
    },
    {
      "metadata": {
        "id": "ryNsLTqfwDV6",
        "colab_type": "code",
        "colab": {
          "base_uri": "https://localhost:8080/",
          "height": 136
        },
        "outputId": "3e2a71ed-db6d-440c-9429-e4cc6de19e73"
      },
      "cell_type": "code",
      "source": [
        "!pip install -e ."
      ],
      "execution_count": 71,
      "outputs": [
        {
          "output_type": "stream",
          "text": [
            "Obtaining file:///content/Mask_RCNN\n",
            "Installing collected packages: mask-rcnn\n",
            "  Found existing installation: mask-rcnn 2.1\n",
            "    Uninstalling mask-rcnn-2.1:\n",
            "      Successfully uninstalled mask-rcnn-2.1\n",
            "  Running setup.py develop for mask-rcnn\n",
            "Successfully installed mask-rcnn\n"
          ],
          "name": "stdout"
        }
      ]
    },
    {
      "metadata": {
        "id": "g_z39nsPwJJc",
        "colab_type": "code",
        "colab": {
          "base_uri": "https://localhost:8080/",
          "height": 34
        },
        "outputId": "ce4a9994-b0b7-460b-d42a-2822d4f02b77"
      },
      "cell_type": "code",
      "source": [
        "import skimage \n",
        "print(skimage.__version__)"
      ],
      "execution_count": 73,
      "outputs": [
        {
          "output_type": "stream",
          "text": [
            "0.13.1\n"
          ],
          "name": "stdout"
        }
      ]
    },
    {
      "metadata": {
        "id": "tIQH_EP3F-6I",
        "colab_type": "code",
        "colab": {
          "base_uri": "https://localhost:8080/",
          "height": 659
        },
        "outputId": "6c7c4a10-7afa-45d1-82d2-d601ee708d92"
      },
      "cell_type": "code",
      "source": [
        "\n",
        "# running the image through preTrained SampleModel\n",
        "# Load a the image\n",
        "import scipy\n",
        "# import matplotlib.image as mpimg\n",
        "# image = mpimg.imread('Sample_1.png')\n",
        "image = skimage.io.imread('testingImage.jpg')\n",
        "\n",
        "# Run detection\n",
        "results = model.detect([image], verbose=1)\n",
        "\n",
        "# Visualize results\n",
        "r = results[0]\n",
        "visualize.display_instances(image, r['rois'], r['masks'], r['class_ids'], \n",
        "                            class_names, r['scores'])"
      ],
      "execution_count": 74,
      "outputs": [
        {
          "output_type": "stream",
          "text": [
            "Processing 1 images\n",
            "image                    shape: (1080, 1920, 3)       min:    0.00000  max:  255.00000  uint8\n",
            "molded_images            shape: (1, 1024, 1024, 3)    min: -123.70000  max:  151.10000  float64\n",
            "image_metas              shape: (1, 14)               min:    0.00000  max: 1920.00000  float64\n",
            "anchors                  shape: (1, 261888, 4)        min:   -0.35390  max:    1.29134  float32\n"
          ],
          "name": "stdout"
        },
        {
          "output_type": "display_data",
          "data": {
            "image/png": "[encoded data removed]",
            "text/plain": [
              "<matplotlib.figure.Figure at 0x7f2f222dacc0>"
            ]
          },
          "metadata": {
            "tags": []
          }
        }
      ]
    },
    {
      "metadata": {
        "id": "6ssdz7MIGBFF",
        "colab_type": "code",
        "colab": {}
      },
      "cell_type": "code",
      "source": [
        "!mkdir videos"
      ],
      "execution_count": 0,
      "outputs": []
    },
    {
      "metadata": {
        "id": "1hb2Mr5eHqOV",
        "colab_type": "code",
        "colab": {}
      },
      "cell_type": "code",
      "source": [
        "# !add-apt-repository ppa:nilarimogard/webupd8"
      ],
      "execution_count": 0,
      "outputs": []
    },
    {
      "metadata": {
        "id": "I6ic7al-Myed",
        "colab_type": "code",
        "colab": {}
      },
      "cell_type": "code",
      "source": [
        "# !apt-get update"
      ],
      "execution_count": 0,
      "outputs": []
    },
    {
      "metadata": {
        "id": "7oxRb5-KM3RI",
        "colab_type": "code",
        "colab": {}
      },
      "cell_type": "code",
      "source": [
        "# !apt-get install youtube-dl"
      ],
      "execution_count": 0,
      "outputs": []
    },
    {
      "metadata": {
        "id": "rGItxqu4M64N",
        "colab_type": "code",
        "colab": {}
      },
      "cell_type": "code",
      "source": [
        "# !youtube-dl https://www.youtube.com/watch?v=BQo87tGRM74"
      ],
      "execution_count": 0,
      "outputs": []
    },
    {
      "metadata": {
        "id": "P72BZ1ToNbyt",
        "colab_type": "code",
        "colab": {
          "base_uri": "https://localhost:8080/",
          "height": 105
        },
        "outputId": "df62cffb-a70b-4398-8c71-9e174bc87134"
      },
      "cell_type": "code",
      "source": [
        "!pip install utils"
      ],
      "execution_count": 76,
      "outputs": [
        {
          "output_type": "stream",
          "text": [
            "Collecting utils\n",
            "  Downloading https://files.pythonhosted.org/packages/9b/de/9ffaf89be661b32d1e0cff05e1af5e4fc2d608c47498975e94aca219aed4/utils-0.9.0-py2.py3-none-any.whl\n",
            "Installing collected packages: utils\n",
            "Successfully installed utils-0.9.0\n"
          ],
          "name": "stdout"
        }
      ]
    },
    {
      "metadata": {
        "id": "ZnpT30c9N36P",
        "colab_type": "code",
        "colab": {
          "base_uri": "https://localhost:8080/",
          "height": 258
        },
        "outputId": "1a62b35d-25aa-440c-acce-8f0286a3d3d1"
      },
      "cell_type": "code",
      "source": [
        "!wget https://www.formpicture.com/pothole/Pothole%20Video.mp4 --no-check-certificate"
      ],
      "execution_count": 77,
      "outputs": [
        {
          "output_type": "stream",
          "text": [
            "--2018-11-01 05:32:03--  https://www.formpicture.com/pothole/Pothole%20Video.mp4\n",
            "Resolving www.formpicture.com (www.formpicture.com)... 93.188.165.63\n",
            "Connecting to www.formpicture.com (www.formpicture.com)|93.188.165.63|:443... connected.\n",
            "WARNING: cannot verify www.formpicture.com's certificate, issued by ‘CN=Let's Encrypt Authority X3,O=Let's Encrypt,C=US’:\n",
            "  Unable to locally verify the issuer's authority.\n",
            "HTTP request sent, awaiting response... 200 OK\n",
            "Length: 72287858 (69M) [video/mp4]\n",
            "Saving to: ‘Pothole Video.mp4’\n",
            "\n",
            "Pothole Video.mp4   100%[===================>]  68.94M   806KB/s    in 41s     \n",
            "\n",
            "2018-11-01 05:32:45 (1.67 MB/s) - ‘Pothole Video.mp4’ saved [72287858/72287858]\n",
            "\n"
          ],
          "name": "stdout"
        }
      ]
    },
    {
      "metadata": {
        "id": "YG__3nR9wc3e",
        "colab_type": "code",
        "colab": {
          "base_uri": "https://localhost:8080/",
          "height": 136
        },
        "outputId": "12cabe41-9da8-489a-c76e-077913cccf77"
      },
      "cell_type": "code",
      "source": [
        "\n",
        "!ls"
      ],
      "execution_count": 78,
      "outputs": [
        {
          "output_type": "stream",
          "text": [
            " assets         logs\t\t\t   README.md\n",
            " build\t        MANIFEST.in\t\t   requirements.txt\n",
            " customImages   mask_rcnn_damage_0010.h5   samples\n",
            " custom.py      mask_rcnn.egg-info\t   setup.cfg\n",
            " dist\t        mrcnn\t\t\t   setup.py\n",
            " images        'Pothole Video.mp4'\t   testingImage.jpg\n",
            " LICENSE        __pycache__\t\t   videos\n"
          ],
          "name": "stdout"
        }
      ]
    },
    {
      "metadata": {
        "id": "Wq2JfMcawp_z",
        "colab_type": "code",
        "colab": {}
      },
      "cell_type": "code",
      "source": [
        "!mv Pothole\\ Video.mp4 videos/"
      ],
      "execution_count": 0,
      "outputs": []
    },
    {
      "metadata": {
        "id": "CP8nBt2MyLTs",
        "colab_type": "code",
        "colab": {
          "base_uri": "https://localhost:8080/",
          "height": 102
        },
        "outputId": "10fd8868-d6af-4220-fcd1-84f7bed5a8f1"
      },
      "cell_type": "code",
      "source": [
        "!ls"
      ],
      "execution_count": 81,
      "outputs": [
        {
          "output_type": "stream",
          "text": [
            "assets\t      images\t\t\tmask_rcnn.egg-info  samples\n",
            "build\t      LICENSE\t\t\tmrcnn\t\t    setup.cfg\n",
            "customImages  logs\t\t\t__pycache__\t    setup.py\n",
            "custom.py     MANIFEST.in\t\tREADME.md\t    testingImage.jpg\n",
            "dist\t      mask_rcnn_damage_0010.h5\trequirements.txt    videos\n"
          ],
          "name": "stdout"
        }
      ]
    },
    {
      "metadata": {
        "id": "eGGFLm5mySjs",
        "colab_type": "code",
        "colab": {
          "base_uri": "https://localhost:8080/",
          "height": 34
        },
        "outputId": "2f28fd67-f8d0-4158-a739-1871ec8144e1"
      },
      "cell_type": "code",
      "source": [
        "!ls videos/"
      ],
      "execution_count": 82,
      "outputs": [
        {
          "output_type": "stream",
          "text": [
            "'Pothole Video.mp4'\n"
          ],
          "name": "stdout"
        }
      ]
    },
    {
      "metadata": {
        "id": "uxr6CjxoycwN",
        "colab_type": "code",
        "colab": {
          "base_uri": "https://localhost:8080/",
          "height": 34
        },
        "outputId": "c2989af3-7a94-48df-9236-65282e29dda2"
      },
      "cell_type": "code",
      "source": [
        "%cd videos/"
      ],
      "execution_count": 83,
      "outputs": [
        {
          "output_type": "stream",
          "text": [
            "/content/Mask_RCNN/videos\n"
          ],
          "name": "stdout"
        }
      ]
    },
    {
      "metadata": {
        "id": "7M0DA82uygg8",
        "colab_type": "code",
        "colab": {}
      },
      "cell_type": "code",
      "source": [
        "!mv Pothole\\ Video.mp4 trailer1.mp4"
      ],
      "execution_count": 0,
      "outputs": []
    },
    {
      "metadata": {
        "id": "FKU0EIOfylXx",
        "colab_type": "code",
        "colab": {
          "base_uri": "https://localhost:8080/",
          "height": 34
        },
        "outputId": "c547ce17-f9bf-40b3-d7ef-f16c91d9e4a3"
      },
      "cell_type": "code",
      "source": [
        "%cd .."
      ],
      "execution_count": 85,
      "outputs": [
        {
          "output_type": "stream",
          "text": [
            "/content/Mask_RCNN\n"
          ],
          "name": "stdout"
        }
      ]
    },
    {
      "metadata": {
        "id": "YX91v3H_ymtD",
        "colab_type": "code",
        "colab": {
          "base_uri": "https://localhost:8080/",
          "height": 34
        },
        "outputId": "af83b732-de28-4004-db12-691de2cba808"
      },
      "cell_type": "code",
      "source": [
        "!pip install utils"
      ],
      "execution_count": 86,
      "outputs": [
        {
          "output_type": "stream",
          "text": [
            "Requirement already satisfied: utils in /usr/local/lib/python3.6/dist-packages (0.9.0)\n"
          ],
          "name": "stdout"
        }
      ]
    },
    {
      "metadata": {
        "id": "veZ2MQlzyp6r",
        "colab_type": "code",
        "colab": {}
      },
      "cell_type": "code",
      "source": [
        "import os\n",
        "import sys\n",
        "import custom\n",
        "import utils"
      ],
      "execution_count": 0,
      "outputs": []
    },
    {
      "metadata": {
        "id": "qRVXLZQvyuW4",
        "colab_type": "code",
        "colab": {
          "base_uri": "https://localhost:8080/",
          "height": 102
        },
        "outputId": "c99b8159-5c5e-492b-baf6-fca83b993534"
      },
      "cell_type": "code",
      "source": [
        "!ls"
      ],
      "execution_count": 89,
      "outputs": [
        {
          "output_type": "stream",
          "text": [
            "assets\t      images\t\t\tmask_rcnn.egg-info  samples\n",
            "build\t      LICENSE\t\t\tmrcnn\t\t    setup.cfg\n",
            "customImages  logs\t\t\t__pycache__\t    setup.py\n",
            "custom.py     MANIFEST.in\t\tREADME.md\t    testingImage.jpg\n",
            "dist\t      mask_rcnn_damage_0010.h5\trequirements.txt    videos\n"
          ],
          "name": "stdout"
        }
      ]
    },
    {
      "metadata": {
        "id": "3hi9JLFLzEoE",
        "colab_type": "code",
        "colab": {
          "base_uri": "https://localhost:8080/",
          "height": 34
        },
        "outputId": "9c656392-c417-4d9f-cce8-c063ba013362"
      },
      "cell_type": "code",
      "source": [
        "%cd mrcnn"
      ],
      "execution_count": 90,
      "outputs": [
        {
          "output_type": "stream",
          "text": [
            "/content/Mask_RCNN/mrcnn\n"
          ],
          "name": "stdout"
        }
      ]
    },
    {
      "metadata": {
        "id": "tgE002wzzGyY",
        "colab_type": "code",
        "colab": {}
      },
      "cell_type": "code",
      "source": [
        "import model as modellib"
      ],
      "execution_count": 0,
      "outputs": []
    },
    {
      "metadata": {
        "id": "oBLWxPF4zLWr",
        "colab_type": "code",
        "colab": {
          "base_uri": "https://localhost:8080/",
          "height": 34
        },
        "outputId": "540398bd-8657-4e9c-ec60-6fe75f043023"
      },
      "cell_type": "code",
      "source": [
        "%cd .."
      ],
      "execution_count": 92,
      "outputs": [
        {
          "output_type": "stream",
          "text": [
            "/content/Mask_RCNN\n"
          ],
          "name": "stdout"
        }
      ]
    },
    {
      "metadata": {
        "id": "vaA-Et1WzMyX",
        "colab_type": "code",
        "colab": {
          "base_uri": "https://localhost:8080/",
          "height": 39698
        },
        "outputId": "bd2b7417-1af7-4e8f-ad5b-6fbd116f5ce0"
      },
      "cell_type": "code",
      "source": [
        "import cv2\n",
        "import numpy as np\n",
        "\n",
        "\n",
        "def random_colors(N):\n",
        "    np.random.seed(1)\n",
        "    colors = [tuple(255 * np.random.rand(3)) for _ in range(N)]\n",
        "    return colors\n",
        "\n",
        "\n",
        "def apply_mask(image, mask, color, alpha=0.5):\n",
        "    \"\"\"apply mask to image\"\"\"\n",
        "    for n, c in enumerate(color):\n",
        "        image[:, :, n] = np.where(\n",
        "            mask == 1,\n",
        "            image[:, :, n] * (1 - alpha) + alpha * c,\n",
        "            image[:, :, n]\n",
        "        )\n",
        "    return image\n",
        "\n",
        "\n",
        "def display_instances(image, boxes, masks, ids, names, scores):\n",
        "    \"\"\"\n",
        "        take the image and results and apply the mask, box, and Label\n",
        "    \"\"\"\n",
        "    n_instances = boxes.shape[0]\n",
        "    colors = random_colors(n_instances)\n",
        "\n",
        "    if not n_instances:\n",
        "        print('NO INSTANCES TO DISPLAY')\n",
        "    else:\n",
        "        assert boxes.shape[0] == masks.shape[-1] == ids.shape[0]\n",
        "\n",
        "    for i, color in enumerate(colors):\n",
        "        if not np.any(boxes[i]):\n",
        "            continue\n",
        "\n",
        "        y1, x1, y2, x2 = boxes[i]\n",
        "        label = names[ids[i]]\n",
        "        score = scores[i] if scores is not None else None\n",
        "        caption = '{} {:.2f}'.format(label, score) if score else label\n",
        "        mask = masks[:, :, i]\n",
        "\n",
        "        image = apply_mask(image, mask, color)\n",
        "        image = cv2.rectangle(image, (x1, y1), (x2, y2), color, 2)\n",
        "        image = cv2.putText(\n",
        "            image, caption, (x1, y1), cv2.FONT_HERSHEY_COMPLEX, 0.7, color, 2\n",
        "        )\n",
        "\n",
        "    return image\n",
        "\n",
        "\n",
        "if __name__ == '__main__':\n",
        "    \"\"\"\n",
        "        test everything\n",
        "    \"\"\"\n",
        "    import os\n",
        "    import sys\n",
        "    import custom\n",
        "    import utils\n",
        "    import model as modellib\n",
        "    \n",
        "    # We use a K80 GPU with 24GB memory, which can fit 3 images.\n",
        "    batch_size = 3\n",
        "\n",
        "    ROOT_DIR = os.getcwd()\n",
        "    MODEL_DIR = os.path.join(ROOT_DIR, \"logs\")\n",
        "    VIDEO_DIR = os.path.join(ROOT_DIR, \"videos\")\n",
        "    VIDEO_SAVE_DIR = os.path.join(VIDEO_DIR, \"save\")\n",
        "#     COCO_MODEL_PATH = os.path.join(ROOT_DIR, \"mask_rcnn_damage_0010.h5\")\n",
        "#     if not os.path.exists(COCO_MODEL_PATH):\n",
        "#         utils.download_trained_weights(COCO_MODEL_PATH)\n",
        "\n",
        "    class InferenceConfig(custom.CustomConfig):\n",
        "        GPU_COUNT = 1\n",
        "        IMAGES_PER_GPU = batch_size\n",
        "\n",
        "    config = InferenceConfig()\n",
        "    config.display()\n",
        "\n",
        "    model = modellib.MaskRCNN(\n",
        "        mode=\"inference\", model_dir=MODEL_DIR, config=config\n",
        "    )\n",
        "    model.load_weights(\"mask_rcnn_damage_0010.h5\", by_name=True)\n",
        "    class_names = [\n",
        "        'BG', 'damage'\n",
        "    ]\n",
        "\n",
        "    capture = cv2.VideoCapture(os.path.join(VIDEO_DIR, 'trailer1.mp4'))\n",
        "    try:\n",
        "        if not os.path.exists(VIDEO_SAVE_DIR):\n",
        "            os.makedirs(VIDEO_SAVE_DIR)\n",
        "    except OSError:\n",
        "        print ('Error: Creating directory of data')\n",
        "    frames = []\n",
        "    frame_count = 0\n",
        "    # these 2 lines can be removed if you dont have a 1080p camera.\n",
        "    capture.set(cv2.CAP_PROP_FRAME_WIDTH, 1920)\n",
        "    capture.set(cv2.CAP_PROP_FRAME_HEIGHT, 1080)\n",
        "\n",
        "    while True:\n",
        "        ret, frame = capture.read()\n",
        "        # Bail out when the video file ends\n",
        "        if not ret:\n",
        "            break\n",
        "        \n",
        "        # Save each frame of the video to a list\n",
        "        frame_count += 1\n",
        "        frames.append(frame)\n",
        "        print('frame_count :{0}'.format(frame_count))\n",
        "        if len(frames) == batch_size:\n",
        "            results = model.detect(frames, verbose=0)\n",
        "            print('Predicted')\n",
        "            for i, item in enumerate(zip(frames, results)):\n",
        "                frame = item[0]\n",
        "                r = item[1]\n",
        "                frame = display_instances(\n",
        "                    frame, r['rois'], r['masks'], r['class_ids'], class_names, r['scores']\n",
        "                )\n",
        "                name = '{0}.jpg'.format(frame_count + i - batch_size)\n",
        "                name = os.path.join(VIDEO_SAVE_DIR, name)\n",
        "                cv2.imwrite(name, frame)\n",
        "                print('writing to file:{0}'.format(name))\n",
        "            # Clear the frames array to start the next batch\n",
        "            frames = []\n",
        "\n",
        "    capture.release()"
      ],
      "execution_count": 93,
      "outputs": [
        {
          "output_type": "stream",
          "text": [
            "\n",
            "Configurations:\n",
            "BACKBONE                       resnet101\n",
            "BACKBONE_STRIDES               [4, 8, 16, 32, 64]\n",
            "BATCH_SIZE                     3\n",
            "BBOX_STD_DEV                   [0.1 0.1 0.2 0.2]\n",
            "COMPUTE_BACKBONE_SHAPE         None\n",
            "DETECTION_MAX_INSTANCES        100\n",
            "DETECTION_MIN_CONFIDENCE       0.9\n",
            "DETECTION_NMS_THRESHOLD        0.3\n",
            "FPN_CLASSIF_FC_LAYERS_SIZE     1024\n",
            "GPU_COUNT                      1\n",
            "GRADIENT_CLIP_NORM             5.0\n",
            "IMAGES_PER_GPU                 3\n",
            "IMAGE_CHANNEL_COUNT            3\n",
            "IMAGE_MAX_DIM                  1024\n",
            "IMAGE_META_SIZE                14\n",
            "IMAGE_MIN_DIM                  800\n",
            "IMAGE_MIN_SCALE                0\n",
            "IMAGE_RESIZE_MODE              square\n",
            "IMAGE_SHAPE                    [1024 1024    3]\n",
            "LEARNING_MOMENTUM              0.9\n",
            "LEARNING_RATE                  0.001\n",
            "LOSS_WEIGHTS                   {'rpn_class_loss': 1.0, 'rpn_bbox_loss': 1.0, 'mrcnn_class_loss': 1.0, 'mrcnn_bbox_loss': 1.0, 'mrcnn_mask_loss': 1.0}\n",
            "MASK_POOL_SIZE                 14\n",
            "MASK_SHAPE                     [28, 28]\n",
            "MAX_GT_INSTANCES               100\n",
            "MEAN_PIXEL                     [123.7 116.8 103.9]\n",
            "MINI_MASK_SHAPE                (56, 56)\n",
            "NAME                           damage\n",
            "NUM_CLASSES                    2\n",
            "POOL_SIZE                      7\n",
            "POST_NMS_ROIS_INFERENCE        1000\n",
            "POST_NMS_ROIS_TRAINING         2000\n",
            "PRE_NMS_LIMIT                  6000\n",
            "ROI_POSITIVE_RATIO             0.33\n",
            "RPN_ANCHOR_RATIOS              [0.5, 1, 2]\n",
            "RPN_ANCHOR_SCALES              (32, 64, 128, 256, 512)\n",
            "RPN_ANCHOR_STRIDE              1\n",
            "RPN_BBOX_STD_DEV               [0.1 0.1 0.2 0.2]\n",
            "RPN_NMS_THRESHOLD              0.7\n",
            "RPN_TRAIN_ANCHORS_PER_IMAGE    256\n",
            "STEPS_PER_EPOCH                100\n",
            "TOP_DOWN_PYRAMID_SIZE          256\n",
            "TRAIN_BN                       False\n",
            "TRAIN_ROIS_PER_IMAGE           200\n",
            "USE_MINI_MASK                  True\n",
            "USE_RPN_ROIS                   True\n",
            "VALIDATION_STEPS               50\n",
            "WEIGHT_DECAY                   0.0001\n",
            "\n",
            "\n",
            "frame_count :1\n",
            "frame_count :2\n",
            "frame_count :3\n",
            "Predicted\n",
            "NO INSTANCES TO DISPLAY\n",
            "writing to file:/content/Mask_RCNN/videos/save/0.jpg\n",
            "NO INSTANCES TO DISPLAY\n",
            "writing to file:/content/Mask_RCNN/videos/save/1.jpg\n",
            "NO INSTANCES TO DISPLAY\n",
            "writing to file:/content/Mask_RCNN/videos/save/2.jpg\n",
            "frame_count :4\n",
            "frame_count :5\n",
            "frame_count :6\n",
            "Predicted\n",
            "NO INSTANCES TO DISPLAY\n",
            "writing to file:/content/Mask_RCNN/videos/save/3.jpg\n",
            "writing to file:/content/Mask_RCNN/videos/save/4.jpg\n",
            "NO INSTANCES TO DISPLAY\n",
            "writing to file:/content/Mask_RCNN/videos/save/5.jpg\n",
            "frame_count :7\n",
            "frame_count :8\n",
            "frame_count :9\n",
            "Predicted\n",
            "NO INSTANCES TO DISPLAY\n",
            "writing to file:/content/Mask_RCNN/videos/save/6.jpg\n",
            "NO INSTANCES TO DISPLAY\n",
            "writing to file:/content/Mask_RCNN/videos/save/7.jpg\n",
            "NO INSTANCES TO DISPLAY\n",
            "writing to file:/content/Mask_RCNN/videos/save/8.jpg\n",
            "frame_count :10\n",
            "frame_count :11\n",
            "frame_count :12\n",
            "Predicted\n",
            "NO INSTANCES TO DISPLAY\n",
            "writing to file:/content/Mask_RCNN/videos/save/9.jpg\n",
            "NO INSTANCES TO DISPLAY\n",
            "writing to file:/content/Mask_RCNN/videos/save/10.jpg\n",
            "NO INSTANCES TO DISPLAY\n",
            "writing to file:/content/Mask_RCNN/videos/save/11.jpg\n",
            "frame_count :13\n",
            "frame_count :14\n",
            "frame_count :15\n",
            "Predicted\n",
            "NO INSTANCES TO DISPLAY\n",
            "writing to file:/content/Mask_RCNN/videos/save/12.jpg\n",
            "writing to file:/content/Mask_RCNN/videos/save/13.jpg\n",
            "NO INSTANCES TO DISPLAY\n",
            "writing to file:/content/Mask_RCNN/videos/save/14.jpg\n",
            "frame_count :16\n",
            "frame_count :17\n",
            "frame_count :18\n",
            "Predicted\n",
            "NO INSTANCES TO DISPLAY\n",
            "writing to file:/content/Mask_RCNN/videos/save/15.jpg\n",
            "writing to file:/content/Mask_RCNN/videos/save/16.jpg\n",
            "writing to file:/content/Mask_RCNN/videos/save/17.jpg\n",
            "frame_count :19\n",
            "frame_count :20\n",
            "frame_count :21\n",
            "Predicted\n",
            "writing to file:/content/Mask_RCNN/videos/save/18.jpg\n",
            "writing to file:/content/Mask_RCNN/videos/save/19.jpg\n",
            "writing to file:/content/Mask_RCNN/videos/save/20.jpg\n",
            "frame_count :22\n",
            "frame_count :23\n",
            "frame_count :24\n",
            "Predicted\n",
            "writing to file:/content/Mask_RCNN/videos/save/21.jpg\n",
            "writing to file:/content/Mask_RCNN/videos/save/22.jpg\n",
            "writing to file:/content/Mask_RCNN/videos/save/23.jpg\n",
            "frame_count :25\n",
            "frame_count :26\n",
            "frame_count :27\n",
            "Predicted\n",
            "writing to file:/content/Mask_RCNN/videos/save/24.jpg\n",
            "NO INSTANCES TO DISPLAY\n",
            "writing to file:/content/Mask_RCNN/videos/save/25.jpg\n",
            "writing to file:/content/Mask_RCNN/videos/save/26.jpg\n",
            "frame_count :28\n",
            "frame_count :29\n",
            "frame_count :30\n",
            "Predicted\n",
            "writing to file:/content/Mask_RCNN/videos/save/27.jpg\n",
            "NO INSTANCES TO DISPLAY\n",
            "writing to file:/content/Mask_RCNN/videos/save/28.jpg\n",
            "NO INSTANCES TO DISPLAY\n",
            "writing to file:/content/Mask_RCNN/videos/save/29.jpg\n",
            "frame_count :31\n",
            "frame_count :32\n",
            "frame_count :33\n",
            "Predicted\n",
            "NO INSTANCES TO DISPLAY\n",
            "writing to file:/content/Mask_RCNN/videos/save/30.jpg\n",
            "writing to file:/content/Mask_RCNN/videos/save/31.jpg\n",
            "writing to file:/content/Mask_RCNN/videos/save/32.jpg\n",
            "frame_count :34\n",
            "frame_count :35\n",
            "frame_count :36\n",
            "Predicted\n",
            "writing to file:/content/Mask_RCNN/videos/save/33.jpg\n",
            "NO INSTANCES TO DISPLAY\n",
            "writing to file:/content/Mask_RCNN/videos/save/34.jpg\n",
            "NO INSTANCES TO DISPLAY\n",
            "writing to file:/content/Mask_RCNN/videos/save/35.jpg\n",
            "frame_count :37\n",
            "frame_count :38\n",
            "frame_count :39\n",
            "Predicted\n",
            "NO INSTANCES TO DISPLAY\n",
            "writing to file:/content/Mask_RCNN/videos/save/36.jpg\n",
            "NO INSTANCES TO DISPLAY\n",
            "writing to file:/content/Mask_RCNN/videos/save/37.jpg\n",
            "NO INSTANCES TO DISPLAY\n",
            "writing to file:/content/Mask_RCNN/videos/save/38.jpg\n",
            "frame_count :40\n",
            "frame_count :41\n",
            "frame_count :42\n",
            "Predicted\n",
            "NO INSTANCES TO DISPLAY\n",
            "writing to file:/content/Mask_RCNN/videos/save/39.jpg\n",
            "NO INSTANCES TO DISPLAY\n",
            "writing to file:/content/Mask_RCNN/videos/save/40.jpg\n",
            "writing to file:/content/Mask_RCNN/videos/save/41.jpg\n",
            "frame_count :43\n",
            "frame_count :44\n",
            "frame_count :45\n",
            "Predicted\n",
            "writing to file:/content/Mask_RCNN/videos/save/42.jpg\n",
            "writing to file:/content/Mask_RCNN/videos/save/43.jpg\n",
            "writing to file:/content/Mask_RCNN/videos/save/44.jpg\n",
            "frame_count :46\n",
            "frame_count :47\n",
            "frame_count :48\n",
            "Predicted\n",
            "writing to file:/content/Mask_RCNN/videos/save/45.jpg\n",
            "NO INSTANCES TO DISPLAY\n",
            "writing to file:/content/Mask_RCNN/videos/save/46.jpg\n",
            "NO INSTANCES TO DISPLAY\n",
            "writing to file:/content/Mask_RCNN/videos/save/47.jpg\n",
            "frame_count :49\n",
            "frame_count :50\n",
            "frame_count :51\n",
            "Predicted\n",
            "NO INSTANCES TO DISPLAY\n",
            "writing to file:/content/Mask_RCNN/videos/save/48.jpg\n",
            "NO INSTANCES TO DISPLAY\n",
            "writing to file:/content/Mask_RCNN/videos/save/49.jpg\n",
            "NO INSTANCES TO DISPLAY\n",
            "writing to file:/content/Mask_RCNN/videos/save/50.jpg\n",
            "frame_count :52\n",
            "frame_count :53\n",
            "frame_count :54\n",
            "Predicted\n",
            "NO INSTANCES TO DISPLAY\n",
            "writing to file:/content/Mask_RCNN/videos/save/51.jpg\n",
            "NO INSTANCES TO DISPLAY\n",
            "writing to file:/content/Mask_RCNN/videos/save/52.jpg\n",
            "NO INSTANCES TO DISPLAY\n",
            "writing to file:/content/Mask_RCNN/videos/save/53.jpg\n",
            "frame_count :55\n",
            "frame_count :56\n",
            "frame_count :57\n",
            "Predicted\n",
            "NO INSTANCES TO DISPLAY\n",
            "writing to file:/content/Mask_RCNN/videos/save/54.jpg\n",
            "NO INSTANCES TO DISPLAY\n",
            "writing to file:/content/Mask_RCNN/videos/save/55.jpg\n",
            "writing to file:/content/Mask_RCNN/videos/save/56.jpg\n",
            "frame_count :58\n",
            "frame_count :59\n",
            "frame_count :60\n",
            "Predicted\n",
            "writing to file:/content/Mask_RCNN/videos/save/57.jpg\n",
            "NO INSTANCES TO DISPLAY\n",
            "writing to file:/content/Mask_RCNN/videos/save/58.jpg\n",
            "NO INSTANCES TO DISPLAY\n",
            "writing to file:/content/Mask_RCNN/videos/save/59.jpg\n",
            "frame_count :61\n",
            "frame_count :62\n",
            "frame_count :63\n",
            "Predicted\n",
            "NO INSTANCES TO DISPLAY\n",
            "writing to file:/content/Mask_RCNN/videos/save/60.jpg\n",
            "writing to file:/content/Mask_RCNN/videos/save/61.jpg\n",
            "writing to file:/content/Mask_RCNN/videos/save/62.jpg\n",
            "frame_count :64\n",
            "frame_count :65\n",
            "frame_count :66\n",
            "Predicted\n",
            "writing to file:/content/Mask_RCNN/videos/save/63.jpg\n",
            "writing to file:/content/Mask_RCNN/videos/save/64.jpg\n",
            "writing to file:/content/Mask_RCNN/videos/save/65.jpg\n",
            "frame_count :67\n",
            "frame_count :68\n",
            "frame_count :69\n",
            "Predicted\n",
            "writing to file:/content/Mask_RCNN/videos/save/66.jpg\n",
            "writing to file:/content/Mask_RCNN/videos/save/67.jpg\n",
            "writing to file:/content/Mask_RCNN/videos/save/68.jpg\n",
            "frame_count :70\n",
            "frame_count :71\n",
            "frame_count :72\n",
            "Predicted\n",
            "writing to file:/content/Mask_RCNN/videos/save/69.jpg\n",
            "writing to file:/content/Mask_RCNN/videos/save/70.jpg\n",
            "writing to file:/content/Mask_RCNN/videos/save/71.jpg\n",
            "frame_count :73\n",
            "frame_count :74\n",
            "frame_count :75\n",
            "Predicted\n",
            "writing to file:/content/Mask_RCNN/videos/save/72.jpg\n",
            "writing to file:/content/Mask_RCNN/videos/save/73.jpg\n",
            "writing to file:/content/Mask_RCNN/videos/save/74.jpg\n",
            "frame_count :76\n",
            "frame_count :77\n",
            "frame_count :78\n",
            "Predicted\n",
            "writing to file:/content/Mask_RCNN/videos/save/75.jpg\n",
            "writing to file:/content/Mask_RCNN/videos/save/76.jpg\n",
            "writing to file:/content/Mask_RCNN/videos/save/77.jpg\n",
            "frame_count :79\n",
            "frame_count :80\n",
            "frame_count :81\n",
            "Predicted\n",
            "writing to file:/content/Mask_RCNN/videos/save/78.jpg\n",
            "writing to file:/content/Mask_RCNN/videos/save/79.jpg\n",
            "writing to file:/content/Mask_RCNN/videos/save/80.jpg\n",
            "frame_count :82\n",
            "frame_count :83\n",
            "frame_count :84\n",
            "Predicted\n",
            "writing to file:/content/Mask_RCNN/videos/save/81.jpg\n",
            "writing to file:/content/Mask_RCNN/videos/save/82.jpg\n",
            "writing to file:/content/Mask_RCNN/videos/save/83.jpg\n",
            "frame_count :85\n",
            "frame_count :86\n",
            "frame_count :87\n",
            "Predicted\n",
            "writing to file:/content/Mask_RCNN/videos/save/84.jpg\n",
            "writing to file:/content/Mask_RCNN/videos/save/85.jpg\n",
            "writing to file:/content/Mask_RCNN/videos/save/86.jpg\n",
            "frame_count :88\n",
            "frame_count :89\n",
            "frame_count :90\n",
            "Predicted\n",
            "writing to file:/content/Mask_RCNN/videos/save/87.jpg\n",
            "writing to file:/content/Mask_RCNN/videos/save/88.jpg\n",
            "writing to file:/content/Mask_RCNN/videos/save/89.jpg\n",
            "frame_count :91\n",
            "frame_count :92\n",
            "frame_count :93\n",
            "Predicted\n",
            "writing to file:/content/Mask_RCNN/videos/save/90.jpg\n",
            "writing to file:/content/Mask_RCNN/videos/save/91.jpg\n",
            "writing to file:/content/Mask_RCNN/videos/save/92.jpg\n",
            "frame_count :94\n",
            "frame_count :95\n",
            "frame_count :96\n",
            "Predicted\n",
            "writing to file:/content/Mask_RCNN/videos/save/93.jpg\n",
            "writing to file:/content/Mask_RCNN/videos/save/94.jpg\n",
            "writing to file:/content/Mask_RCNN/videos/save/95.jpg\n",
            "frame_count :97\n",
            "frame_count :98\n",
            "frame_count :99\n",
            "Predicted\n",
            "writing to file:/content/Mask_RCNN/videos/save/96.jpg\n",
            "writing to file:/content/Mask_RCNN/videos/save/97.jpg\n",
            "writing to file:/content/Mask_RCNN/videos/save/98.jpg\n",
            "frame_count :100\n",
            "frame_count :101\n",
            "frame_count :102\n",
            "Predicted\n",
            "writing to file:/content/Mask_RCNN/videos/save/99.jpg\n",
            "writing to file:/content/Mask_RCNN/videos/save/100.jpg\n",
            "writing to file:/content/Mask_RCNN/videos/save/101.jpg\n",
            "frame_count :103\n",
            "frame_count :104\n",
            "frame_count :105\n",
            "Predicted\n",
            "writing to file:/content/Mask_RCNN/videos/save/102.jpg\n",
            "writing to file:/content/Mask_RCNN/videos/save/103.jpg\n",
            "writing to file:/content/Mask_RCNN/videos/save/104.jpg\n",
            "frame_count :106\n",
            "frame_count :107\n",
            "frame_count :108\n",
            "Predicted\n",
            "writing to file:/content/Mask_RCNN/videos/save/105.jpg\n",
            "writing to file:/content/Mask_RCNN/videos/save/106.jpg\n",
            "NO INSTANCES TO DISPLAY\n",
            "writing to file:/content/Mask_RCNN/videos/save/107.jpg\n",
            "frame_count :109\n",
            "frame_count :110\n",
            "frame_count :111\n",
            "Predicted\n",
            "writing to file:/content/Mask_RCNN/videos/save/108.jpg\n",
            "writing to file:/content/Mask_RCNN/videos/save/109.jpg\n",
            "NO INSTANCES TO DISPLAY\n",
            "writing to file:/content/Mask_RCNN/videos/save/110.jpg\n",
            "frame_count :112\n",
            "frame_count :113\n",
            "frame_count :114\n",
            "Predicted\n",
            "writing to file:/content/Mask_RCNN/videos/save/111.jpg\n",
            "writing to file:/content/Mask_RCNN/videos/save/112.jpg\n",
            "NO INSTANCES TO DISPLAY\n",
            "writing to file:/content/Mask_RCNN/videos/save/113.jpg\n",
            "frame_count :115\n",
            "frame_count :116\n",
            "frame_count :117\n",
            "Predicted\n",
            "writing to file:/content/Mask_RCNN/videos/save/114.jpg\n",
            "NO INSTANCES TO DISPLAY\n",
            "writing to file:/content/Mask_RCNN/videos/save/115.jpg\n",
            "NO INSTANCES TO DISPLAY\n",
            "writing to file:/content/Mask_RCNN/videos/save/116.jpg\n",
            "frame_count :118\n",
            "frame_count :119\n",
            "frame_count :120\n",
            "Predicted\n",
            "writing to file:/content/Mask_RCNN/videos/save/117.jpg\n",
            "writing to file:/content/Mask_RCNN/videos/save/118.jpg\n",
            "writing to file:/content/Mask_RCNN/videos/save/119.jpg\n",
            "frame_count :121\n",
            "frame_count :122\n",
            "frame_count :123\n",
            "Predicted\n",
            "writing to file:/content/Mask_RCNN/videos/save/120.jpg\n",
            "writing to file:/content/Mask_RCNN/videos/save/121.jpg\n",
            "writing to file:/content/Mask_RCNN/videos/save/122.jpg\n",
            "frame_count :124\n",
            "frame_count :125\n",
            "frame_count :126\n",
            "Predicted\n",
            "writing to file:/content/Mask_RCNN/videos/save/123.jpg\n",
            "writing to file:/content/Mask_RCNN/videos/save/124.jpg\n",
            "writing to file:/content/Mask_RCNN/videos/save/125.jpg\n",
            "frame_count :127\n",
            "frame_count :128\n",
            "frame_count :129\n",
            "Predicted\n",
            "writing to file:/content/Mask_RCNN/videos/save/126.jpg\n",
            "writing to file:/content/Mask_RCNN/videos/save/127.jpg\n",
            "writing to file:/content/Mask_RCNN/videos/save/128.jpg\n",
            "frame_count :130\n",
            "frame_count :131\n",
            "frame_count :132\n",
            "Predicted\n",
            "writing to file:/content/Mask_RCNN/videos/save/129.jpg\n",
            "writing to file:/content/Mask_RCNN/videos/save/130.jpg\n",
            "writing to file:/content/Mask_RCNN/videos/save/131.jpg\n",
            "frame_count :133\n",
            "frame_count :134\n",
            "frame_count :135\n",
            "Predicted\n",
            "writing to file:/content/Mask_RCNN/videos/save/132.jpg\n",
            "writing to file:/content/Mask_RCNN/videos/save/133.jpg\n",
            "writing to file:/content/Mask_RCNN/videos/save/134.jpg\n",
            "frame_count :136\n",
            "frame_count :137\n",
            "frame_count :138\n",
            "Predicted\n",
            "writing to file:/content/Mask_RCNN/videos/save/135.jpg\n",
            "writing to file:/content/Mask_RCNN/videos/save/136.jpg\n",
            "writing to file:/content/Mask_RCNN/videos/save/137.jpg\n",
            "frame_count :139\n",
            "frame_count :140\n",
            "frame_count :141\n",
            "Predicted\n",
            "writing to file:/content/Mask_RCNN/videos/save/138.jpg\n",
            "writing to file:/content/Mask_RCNN/videos/save/139.jpg\n",
            "writing to file:/content/Mask_RCNN/videos/save/140.jpg\n",
            "frame_count :142\n",
            "frame_count :143\n",
            "frame_count :144\n",
            "Predicted\n",
            "writing to file:/content/Mask_RCNN/videos/save/141.jpg\n",
            "writing to file:/content/Mask_RCNN/videos/save/142.jpg\n",
            "writing to file:/content/Mask_RCNN/videos/save/143.jpg\n",
            "frame_count :145\n",
            "frame_count :146\n",
            "frame_count :147\n",
            "Predicted\n",
            "writing to file:/content/Mask_RCNN/videos/save/144.jpg\n",
            "writing to file:/content/Mask_RCNN/videos/save/145.jpg\n",
            "writing to file:/content/Mask_RCNN/videos/save/146.jpg\n",
            "frame_count :148\n",
            "frame_count :149\n",
            "frame_count :150\n",
            "Predicted\n",
            "writing to file:/content/Mask_RCNN/videos/save/147.jpg\n",
            "writing to file:/content/Mask_RCNN/videos/save/148.jpg\n",
            "writing to file:/content/Mask_RCNN/videos/save/149.jpg\n",
            "frame_count :151\n",
            "frame_count :152\n",
            "frame_count :153\n",
            "Predicted\n",
            "writing to file:/content/Mask_RCNN/videos/save/150.jpg\n",
            "writing to file:/content/Mask_RCNN/videos/save/151.jpg\n",
            "writing to file:/content/Mask_RCNN/videos/save/152.jpg\n",
            "frame_count :154\n",
            "frame_count :155\n",
            "frame_count :156\n",
            "Predicted\n",
            "writing to file:/content/Mask_RCNN/videos/save/153.jpg\n",
            "writing to file:/content/Mask_RCNN/videos/save/154.jpg\n",
            "writing to file:/content/Mask_RCNN/videos/save/155.jpg\n",
            "frame_count :157\n",
            "frame_count :158\n",
            "frame_count :159\n",
            "Predicted\n",
            "writing to file:/content/Mask_RCNN/videos/save/156.jpg\n",
            "writing to file:/content/Mask_RCNN/videos/save/157.jpg\n",
            "writing to file:/content/Mask_RCNN/videos/save/158.jpg\n",
            "frame_count :160\n",
            "frame_count :161\n",
            "frame_count :162\n",
            "Predicted\n",
            "writing to file:/content/Mask_RCNN/videos/save/159.jpg\n",
            "writing to file:/content/Mask_RCNN/videos/save/160.jpg\n",
            "writing to file:/content/Mask_RCNN/videos/save/161.jpg\n",
            "frame_count :163\n",
            "frame_count :164\n",
            "frame_count :165\n",
            "Predicted\n",
            "writing to file:/content/Mask_RCNN/videos/save/162.jpg\n",
            "writing to file:/content/Mask_RCNN/videos/save/163.jpg\n",
            "writing to file:/content/Mask_RCNN/videos/save/164.jpg\n",
            "frame_count :166\n",
            "frame_count :167\n",
            "frame_count :168\n",
            "Predicted\n",
            "writing to file:/content/Mask_RCNN/videos/save/165.jpg\n",
            "writing to file:/content/Mask_RCNN/videos/save/166.jpg\n",
            "writing to file:/content/Mask_RCNN/videos/save/167.jpg\n",
            "frame_count :169\n",
            "frame_count :170\n",
            "frame_count :171\n",
            "Predicted\n",
            "writing to file:/content/Mask_RCNN/videos/save/168.jpg\n",
            "writing to file:/content/Mask_RCNN/videos/save/169.jpg\n",
            "writing to file:/content/Mask_RCNN/videos/save/170.jpg\n",
            "frame_count :172\n",
            "frame_count :173\n",
            "frame_count :174\n",
            "Predicted\n",
            "writing to file:/content/Mask_RCNN/videos/save/171.jpg\n",
            "writing to file:/content/Mask_RCNN/videos/save/172.jpg\n",
            "writing to file:/content/Mask_RCNN/videos/save/173.jpg\n",
            "frame_count :175\n",
            "frame_count :176\n",
            "frame_count :177\n",
            "Predicted\n",
            "writing to file:/content/Mask_RCNN/videos/save/174.jpg\n",
            "writing to file:/content/Mask_RCNN/videos/save/175.jpg\n",
            "writing to file:/content/Mask_RCNN/videos/save/176.jpg\n",
            "frame_count :178\n",
            "frame_count :179\n",
            "frame_count :180\n",
            "Predicted\n",
            "writing to file:/content/Mask_RCNN/videos/save/177.jpg\n",
            "writing to file:/content/Mask_RCNN/videos/save/178.jpg\n",
            "writing to file:/content/Mask_RCNN/videos/save/179.jpg\n",
            "frame_count :181\n",
            "frame_count :182\n",
            "frame_count :183\n",
            "Predicted\n",
            "writing to file:/content/Mask_RCNN/videos/save/180.jpg\n",
            "writing to file:/content/Mask_RCNN/videos/save/181.jpg\n",
            "writing to file:/content/Mask_RCNN/videos/save/182.jpg\n",
            "frame_count :184\n",
            "frame_count :185\n",
            "frame_count :186\n",
            "Predicted\n",
            "writing to file:/content/Mask_RCNN/videos/save/183.jpg\n",
            "writing to file:/content/Mask_RCNN/videos/save/184.jpg\n",
            "writing to file:/content/Mask_RCNN/videos/save/185.jpg\n",
            "frame_count :187\n",
            "frame_count :188\n",
            "frame_count :189\n",
            "Predicted\n",
            "writing to file:/content/Mask_RCNN/videos/save/186.jpg\n",
            "writing to file:/content/Mask_RCNN/videos/save/187.jpg\n",
            "writing to file:/content/Mask_RCNN/videos/save/188.jpg\n",
            "frame_count :190\n",
            "frame_count :191\n",
            "frame_count :192\n",
            "Predicted\n",
            "writing to file:/content/Mask_RCNN/videos/save/189.jpg\n",
            "writing to file:/content/Mask_RCNN/videos/save/190.jpg\n",
            "writing to file:/content/Mask_RCNN/videos/save/191.jpg\n",
            "frame_count :193\n",
            "frame_count :194\n",
            "frame_count :195\n",
            "Predicted\n",
            "writing to file:/content/Mask_RCNN/videos/save/192.jpg\n",
            "writing to file:/content/Mask_RCNN/videos/save/193.jpg\n",
            "writing to file:/content/Mask_RCNN/videos/save/194.jpg\n",
            "frame_count :196\n",
            "frame_count :197\n",
            "frame_count :198\n",
            "Predicted\n",
            "writing to file:/content/Mask_RCNN/videos/save/195.jpg\n",
            "writing to file:/content/Mask_RCNN/videos/save/196.jpg\n",
            "writing to file:/content/Mask_RCNN/videos/save/197.jpg\n",
            "frame_count :199\n",
            "frame_count :200\n",
            "frame_count :201\n",
            "Predicted\n",
            "writing to file:/content/Mask_RCNN/videos/save/198.jpg\n",
            "writing to file:/content/Mask_RCNN/videos/save/199.jpg\n",
            "writing to file:/content/Mask_RCNN/videos/save/200.jpg\n",
            "frame_count :202\n",
            "frame_count :203\n",
            "frame_count :204\n",
            "Predicted\n",
            "writing to file:/content/Mask_RCNN/videos/save/201.jpg\n",
            "writing to file:/content/Mask_RCNN/videos/save/202.jpg\n",
            "writing to file:/content/Mask_RCNN/videos/save/203.jpg\n",
            "frame_count :205\n",
            "frame_count :206\n",
            "frame_count :207\n",
            "Predicted\n",
            "writing to file:/content/Mask_RCNN/videos/save/204.jpg\n",
            "writing to file:/content/Mask_RCNN/videos/save/205.jpg\n",
            "writing to file:/content/Mask_RCNN/videos/save/206.jpg\n",
            "frame_count :208\n",
            "frame_count :209\n",
            "frame_count :210\n",
            "Predicted\n",
            "writing to file:/content/Mask_RCNN/videos/save/207.jpg\n",
            "writing to file:/content/Mask_RCNN/videos/save/208.jpg\n",
            "writing to file:/content/Mask_RCNN/videos/save/209.jpg\n",
            "frame_count :211\n",
            "frame_count :212\n",
            "frame_count :213\n",
            "Predicted\n",
            "writing to file:/content/Mask_RCNN/videos/save/210.jpg\n",
            "writing to file:/content/Mask_RCNN/videos/save/211.jpg\n",
            "writing to file:/content/Mask_RCNN/videos/save/212.jpg\n",
            "frame_count :214\n",
            "frame_count :215\n",
            "frame_count :216\n",
            "Predicted\n",
            "writing to file:/content/Mask_RCNN/videos/save/213.jpg\n",
            "NO INSTANCES TO DISPLAY\n",
            "writing to file:/content/Mask_RCNN/videos/save/214.jpg\n",
            "NO INSTANCES TO DISPLAY\n",
            "writing to file:/content/Mask_RCNN/videos/save/215.jpg\n",
            "frame_count :217\n",
            "frame_count :218\n",
            "frame_count :219\n",
            "Predicted\n",
            "writing to file:/content/Mask_RCNN/videos/save/216.jpg\n",
            "NO INSTANCES TO DISPLAY\n",
            "writing to file:/content/Mask_RCNN/videos/save/217.jpg\n",
            "writing to file:/content/Mask_RCNN/videos/save/218.jpg\n",
            "frame_count :220\n",
            "frame_count :221\n",
            "frame_count :222\n",
            "Predicted\n",
            "writing to file:/content/Mask_RCNN/videos/save/219.jpg\n",
            "writing to file:/content/Mask_RCNN/videos/save/220.jpg\n",
            "writing to file:/content/Mask_RCNN/videos/save/221.jpg\n",
            "frame_count :223\n",
            "frame_count :224\n",
            "frame_count :225\n",
            "Predicted\n",
            "writing to file:/content/Mask_RCNN/videos/save/222.jpg\n",
            "writing to file:/content/Mask_RCNN/videos/save/223.jpg\n",
            "writing to file:/content/Mask_RCNN/videos/save/224.jpg\n",
            "frame_count :226\n",
            "frame_count :227\n",
            "frame_count :228\n",
            "Predicted\n",
            "writing to file:/content/Mask_RCNN/videos/save/225.jpg\n",
            "NO INSTANCES TO DISPLAY\n",
            "writing to file:/content/Mask_RCNN/videos/save/226.jpg\n",
            "writing to file:/content/Mask_RCNN/videos/save/227.jpg\n",
            "frame_count :229\n",
            "frame_count :230\n",
            "frame_count :231\n",
            "Predicted\n",
            "writing to file:/content/Mask_RCNN/videos/save/228.jpg\n",
            "NO INSTANCES TO DISPLAY\n",
            "writing to file:/content/Mask_RCNN/videos/save/229.jpg\n",
            "writing to file:/content/Mask_RCNN/videos/save/230.jpg\n",
            "frame_count :232\n",
            "frame_count :233\n",
            "frame_count :234\n",
            "Predicted\n",
            "NO INSTANCES TO DISPLAY\n",
            "writing to file:/content/Mask_RCNN/videos/save/231.jpg\n",
            "writing to file:/content/Mask_RCNN/videos/save/232.jpg\n",
            "writing to file:/content/Mask_RCNN/videos/save/233.jpg\n",
            "frame_count :235\n",
            "frame_count :236\n",
            "frame_count :237\n",
            "Predicted\n",
            "writing to file:/content/Mask_RCNN/videos/save/234.jpg\n",
            "writing to file:/content/Mask_RCNN/videos/save/235.jpg\n",
            "writing to file:/content/Mask_RCNN/videos/save/236.jpg\n",
            "frame_count :238\n",
            "frame_count :239\n",
            "frame_count :240\n",
            "Predicted\n",
            "NO INSTANCES TO DISPLAY\n",
            "writing to file:/content/Mask_RCNN/videos/save/237.jpg\n",
            "NO INSTANCES TO DISPLAY\n",
            "writing to file:/content/Mask_RCNN/videos/save/238.jpg\n",
            "writing to file:/content/Mask_RCNN/videos/save/239.jpg\n",
            "frame_count :241\n",
            "frame_count :242\n",
            "frame_count :243\n",
            "Predicted\n",
            "writing to file:/content/Mask_RCNN/videos/save/240.jpg\n",
            "NO INSTANCES TO DISPLAY\n",
            "writing to file:/content/Mask_RCNN/videos/save/241.jpg\n",
            "writing to file:/content/Mask_RCNN/videos/save/242.jpg\n",
            "frame_count :244\n",
            "frame_count :245\n",
            "frame_count :246\n",
            "Predicted\n",
            "writing to file:/content/Mask_RCNN/videos/save/243.jpg\n",
            "writing to file:/content/Mask_RCNN/videos/save/244.jpg\n",
            "writing to file:/content/Mask_RCNN/videos/save/245.jpg\n",
            "frame_count :247\n",
            "frame_count :248\n",
            "frame_count :249\n",
            "Predicted\n",
            "writing to file:/content/Mask_RCNN/videos/save/246.jpg\n",
            "writing to file:/content/Mask_RCNN/videos/save/247.jpg\n",
            "writing to file:/content/Mask_RCNN/videos/save/248.jpg\n",
            "frame_count :250\n",
            "frame_count :251\n",
            "frame_count :252\n",
            "Predicted\n",
            "NO INSTANCES TO DISPLAY\n",
            "writing to file:/content/Mask_RCNN/videos/save/249.jpg\n",
            "writing to file:/content/Mask_RCNN/videos/save/250.jpg\n",
            "NO INSTANCES TO DISPLAY\n",
            "writing to file:/content/Mask_RCNN/videos/save/251.jpg\n",
            "frame_count :253\n",
            "frame_count :254\n",
            "frame_count :255\n",
            "Predicted\n",
            "writing to file:/content/Mask_RCNN/videos/save/252.jpg\n",
            "writing to file:/content/Mask_RCNN/videos/save/253.jpg\n",
            "NO INSTANCES TO DISPLAY\n",
            "writing to file:/content/Mask_RCNN/videos/save/254.jpg\n",
            "frame_count :256\n",
            "frame_count :257\n",
            "frame_count :258\n",
            "Predicted\n",
            "NO INSTANCES TO DISPLAY\n",
            "writing to file:/content/Mask_RCNN/videos/save/255.jpg\n",
            "writing to file:/content/Mask_RCNN/videos/save/256.jpg\n",
            "NO INSTANCES TO DISPLAY\n",
            "writing to file:/content/Mask_RCNN/videos/save/257.jpg\n",
            "frame_count :259\n",
            "frame_count :260\n",
            "frame_count :261\n",
            "Predicted\n",
            "NO INSTANCES TO DISPLAY\n",
            "writing to file:/content/Mask_RCNN/videos/save/258.jpg\n",
            "NO INSTANCES TO DISPLAY\n",
            "writing to file:/content/Mask_RCNN/videos/save/259.jpg\n",
            "NO INSTANCES TO DISPLAY\n",
            "writing to file:/content/Mask_RCNN/videos/save/260.jpg\n",
            "frame_count :262\n",
            "frame_count :263\n",
            "frame_count :264\n",
            "Predicted\n",
            "NO INSTANCES TO DISPLAY\n",
            "writing to file:/content/Mask_RCNN/videos/save/261.jpg\n",
            "NO INSTANCES TO DISPLAY\n",
            "writing to file:/content/Mask_RCNN/videos/save/262.jpg\n",
            "NO INSTANCES TO DISPLAY\n",
            "writing to file:/content/Mask_RCNN/videos/save/263.jpg\n",
            "frame_count :265\n",
            "frame_count :266\n",
            "frame_count :267\n",
            "Predicted\n",
            "NO INSTANCES TO DISPLAY\n",
            "writing to file:/content/Mask_RCNN/videos/save/264.jpg\n",
            "NO INSTANCES TO DISPLAY\n",
            "writing to file:/content/Mask_RCNN/videos/save/265.jpg\n",
            "NO INSTANCES TO DISPLAY\n",
            "writing to file:/content/Mask_RCNN/videos/save/266.jpg\n",
            "frame_count :268\n",
            "frame_count :269\n",
            "frame_count :270\n",
            "Predicted\n",
            "NO INSTANCES TO DISPLAY\n",
            "writing to file:/content/Mask_RCNN/videos/save/267.jpg\n",
            "NO INSTANCES TO DISPLAY\n",
            "writing to file:/content/Mask_RCNN/videos/save/268.jpg\n",
            "NO INSTANCES TO DISPLAY\n",
            "writing to file:/content/Mask_RCNN/videos/save/269.jpg\n",
            "frame_count :271\n",
            "frame_count :272\n",
            "frame_count :273\n",
            "Predicted\n",
            "NO INSTANCES TO DISPLAY\n",
            "writing to file:/content/Mask_RCNN/videos/save/270.jpg\n",
            "NO INSTANCES TO DISPLAY\n",
            "writing to file:/content/Mask_RCNN/videos/save/271.jpg\n",
            "NO INSTANCES TO DISPLAY\n",
            "writing to file:/content/Mask_RCNN/videos/save/272.jpg\n",
            "frame_count :274\n",
            "frame_count :275\n",
            "frame_count :276\n",
            "Predicted\n",
            "NO INSTANCES TO DISPLAY\n",
            "writing to file:/content/Mask_RCNN/videos/save/273.jpg\n",
            "NO INSTANCES TO DISPLAY\n",
            "writing to file:/content/Mask_RCNN/videos/save/274.jpg\n",
            "NO INSTANCES TO DISPLAY\n",
            "writing to file:/content/Mask_RCNN/videos/save/275.jpg\n",
            "frame_count :277\n",
            "frame_count :278\n",
            "frame_count :279\n",
            "Predicted\n",
            "NO INSTANCES TO DISPLAY\n",
            "writing to file:/content/Mask_RCNN/videos/save/276.jpg\n",
            "NO INSTANCES TO DISPLAY\n",
            "writing to file:/content/Mask_RCNN/videos/save/277.jpg\n",
            "writing to file:/content/Mask_RCNN/videos/save/278.jpg\n",
            "frame_count :280\n",
            "frame_count :281\n",
            "frame_count :282\n",
            "Predicted\n",
            "NO INSTANCES TO DISPLAY\n",
            "writing to file:/content/Mask_RCNN/videos/save/279.jpg\n",
            "NO INSTANCES TO DISPLAY\n",
            "writing to file:/content/Mask_RCNN/videos/save/280.jpg\n",
            "NO INSTANCES TO DISPLAY\n",
            "writing to file:/content/Mask_RCNN/videos/save/281.jpg\n",
            "frame_count :283\n",
            "frame_count :284\n",
            "frame_count :285\n",
            "Predicted\n",
            "writing to file:/content/Mask_RCNN/videos/save/282.jpg\n",
            "writing to file:/content/Mask_RCNN/videos/save/283.jpg\n",
            "writing to file:/content/Mask_RCNN/videos/save/284.jpg\n",
            "frame_count :286\n",
            "frame_count :287\n",
            "frame_count :288\n",
            "Predicted\n",
            "writing to file:/content/Mask_RCNN/videos/save/285.jpg\n",
            "writing to file:/content/Mask_RCNN/videos/save/286.jpg\n",
            "NO INSTANCES TO DISPLAY\n",
            "writing to file:/content/Mask_RCNN/videos/save/287.jpg\n",
            "frame_count :289\n",
            "frame_count :290\n",
            "frame_count :291\n",
            "Predicted\n",
            "writing to file:/content/Mask_RCNN/videos/save/288.jpg\n",
            "writing to file:/content/Mask_RCNN/videos/save/289.jpg\n",
            "writing to file:/content/Mask_RCNN/videos/save/290.jpg\n",
            "frame_count :292\n",
            "frame_count :293\n",
            "frame_count :294\n",
            "Predicted\n",
            "NO INSTANCES TO DISPLAY\n",
            "writing to file:/content/Mask_RCNN/videos/save/291.jpg\n",
            "NO INSTANCES TO DISPLAY\n",
            "writing to file:/content/Mask_RCNN/videos/save/292.jpg\n",
            "NO INSTANCES TO DISPLAY\n",
            "writing to file:/content/Mask_RCNN/videos/save/293.jpg\n",
            "frame_count :295\n",
            "frame_count :296\n",
            "frame_count :297\n",
            "Predicted\n",
            "NO INSTANCES TO DISPLAY\n",
            "writing to file:/content/Mask_RCNN/videos/save/294.jpg\n",
            "writing to file:/content/Mask_RCNN/videos/save/295.jpg\n",
            "writing to file:/content/Mask_RCNN/videos/save/296.jpg\n",
            "frame_count :298\n",
            "frame_count :299\n",
            "frame_count :300\n",
            "Predicted\n",
            "writing to file:/content/Mask_RCNN/videos/save/297.jpg\n",
            "writing to file:/content/Mask_RCNN/videos/save/298.jpg\n",
            "writing to file:/content/Mask_RCNN/videos/save/299.jpg\n",
            "frame_count :301\n",
            "frame_count :302\n",
            "frame_count :303\n",
            "Predicted\n",
            "writing to file:/content/Mask_RCNN/videos/save/300.jpg\n",
            "writing to file:/content/Mask_RCNN/videos/save/301.jpg\n",
            "writing to file:/content/Mask_RCNN/videos/save/302.jpg\n",
            "frame_count :304\n",
            "frame_count :305\n",
            "frame_count :306\n",
            "Predicted\n",
            "writing to file:/content/Mask_RCNN/videos/save/303.jpg\n",
            "NO INSTANCES TO DISPLAY\n",
            "writing to file:/content/Mask_RCNN/videos/save/304.jpg\n",
            "writing to file:/content/Mask_RCNN/videos/save/305.jpg\n",
            "frame_count :307\n",
            "frame_count :308\n",
            "frame_count :309\n",
            "Predicted\n",
            "NO INSTANCES TO DISPLAY\n",
            "writing to file:/content/Mask_RCNN/videos/save/306.jpg\n",
            "writing to file:/content/Mask_RCNN/videos/save/307.jpg\n",
            "writing to file:/content/Mask_RCNN/videos/save/308.jpg\n",
            "frame_count :310\n",
            "frame_count :311\n",
            "frame_count :312\n",
            "Predicted\n",
            "writing to file:/content/Mask_RCNN/videos/save/309.jpg\n",
            "writing to file:/content/Mask_RCNN/videos/save/310.jpg\n",
            "writing to file:/content/Mask_RCNN/videos/save/311.jpg\n",
            "frame_count :313\n",
            "frame_count :314\n",
            "frame_count :315\n",
            "Predicted\n",
            "writing to file:/content/Mask_RCNN/videos/save/312.jpg\n",
            "NO INSTANCES TO DISPLAY\n",
            "writing to file:/content/Mask_RCNN/videos/save/313.jpg\n",
            "writing to file:/content/Mask_RCNN/videos/save/314.jpg\n",
            "frame_count :316\n",
            "frame_count :317\n",
            "frame_count :318\n",
            "Predicted\n",
            "writing to file:/content/Mask_RCNN/videos/save/315.jpg\n",
            "writing to file:/content/Mask_RCNN/videos/save/316.jpg\n",
            "writing to file:/content/Mask_RCNN/videos/save/317.jpg\n",
            "frame_count :319\n",
            "frame_count :320\n",
            "frame_count :321\n",
            "Predicted\n",
            "writing to file:/content/Mask_RCNN/videos/save/318.jpg\n",
            "writing to file:/content/Mask_RCNN/videos/save/319.jpg\n",
            "writing to file:/content/Mask_RCNN/videos/save/320.jpg\n",
            "frame_count :322\n",
            "frame_count :323\n",
            "frame_count :324\n",
            "Predicted\n",
            "writing to file:/content/Mask_RCNN/videos/save/321.jpg\n",
            "writing to file:/content/Mask_RCNN/videos/save/322.jpg\n",
            "writing to file:/content/Mask_RCNN/videos/save/323.jpg\n",
            "frame_count :325\n",
            "frame_count :326\n",
            "frame_count :327\n",
            "Predicted\n",
            "writing to file:/content/Mask_RCNN/videos/save/324.jpg\n",
            "writing to file:/content/Mask_RCNN/videos/save/325.jpg\n",
            "writing to file:/content/Mask_RCNN/videos/save/326.jpg\n",
            "frame_count :328\n",
            "frame_count :329\n",
            "frame_count :330\n",
            "Predicted\n",
            "writing to file:/content/Mask_RCNN/videos/save/327.jpg\n",
            "writing to file:/content/Mask_RCNN/videos/save/328.jpg\n",
            "writing to file:/content/Mask_RCNN/videos/save/329.jpg\n",
            "frame_count :331\n",
            "frame_count :332\n",
            "frame_count :333\n",
            "Predicted\n",
            "writing to file:/content/Mask_RCNN/videos/save/330.jpg\n",
            "NO INSTANCES TO DISPLAY\n",
            "writing to file:/content/Mask_RCNN/videos/save/331.jpg\n",
            "writing to file:/content/Mask_RCNN/videos/save/332.jpg\n",
            "frame_count :334\n",
            "frame_count :335\n",
            "frame_count :336\n",
            "Predicted\n",
            "writing to file:/content/Mask_RCNN/videos/save/333.jpg\n",
            "writing to file:/content/Mask_RCNN/videos/save/334.jpg\n",
            "writing to file:/content/Mask_RCNN/videos/save/335.jpg\n",
            "frame_count :337\n",
            "frame_count :338\n",
            "frame_count :339\n",
            "Predicted\n",
            "writing to file:/content/Mask_RCNN/videos/save/336.jpg\n",
            "writing to file:/content/Mask_RCNN/videos/save/337.jpg\n",
            "writing to file:/content/Mask_RCNN/videos/save/338.jpg\n",
            "frame_count :340\n",
            "frame_count :341\n",
            "frame_count :342\n",
            "Predicted\n",
            "writing to file:/content/Mask_RCNN/videos/save/339.jpg\n",
            "writing to file:/content/Mask_RCNN/videos/save/340.jpg\n",
            "writing to file:/content/Mask_RCNN/videos/save/341.jpg\n",
            "frame_count :343\n",
            "frame_count :344\n",
            "frame_count :345\n",
            "Predicted\n",
            "NO INSTANCES TO DISPLAY\n",
            "writing to file:/content/Mask_RCNN/videos/save/342.jpg\n",
            "writing to file:/content/Mask_RCNN/videos/save/343.jpg\n",
            "writing to file:/content/Mask_RCNN/videos/save/344.jpg\n",
            "frame_count :346\n",
            "frame_count :347\n",
            "frame_count :348\n",
            "Predicted\n",
            "writing to file:/content/Mask_RCNN/videos/save/345.jpg\n",
            "writing to file:/content/Mask_RCNN/videos/save/346.jpg\n",
            "writing to file:/content/Mask_RCNN/videos/save/347.jpg\n",
            "frame_count :349\n",
            "frame_count :350\n",
            "frame_count :351\n",
            "Predicted\n",
            "writing to file:/content/Mask_RCNN/videos/save/348.jpg\n",
            "writing to file:/content/Mask_RCNN/videos/save/349.jpg\n",
            "writing to file:/content/Mask_RCNN/videos/save/350.jpg\n",
            "frame_count :352\n",
            "frame_count :353\n",
            "frame_count :354\n",
            "Predicted\n",
            "writing to file:/content/Mask_RCNN/videos/save/351.jpg\n",
            "writing to file:/content/Mask_RCNN/videos/save/352.jpg\n",
            "writing to file:/content/Mask_RCNN/videos/save/353.jpg\n",
            "frame_count :355\n",
            "frame_count :356\n",
            "frame_count :357\n",
            "Predicted\n",
            "writing to file:/content/Mask_RCNN/videos/save/354.jpg\n",
            "writing to file:/content/Mask_RCNN/videos/save/355.jpg\n",
            "writing to file:/content/Mask_RCNN/videos/save/356.jpg\n",
            "frame_count :358\n",
            "frame_count :359\n",
            "frame_count :360\n",
            "Predicted\n",
            "writing to file:/content/Mask_RCNN/videos/save/357.jpg\n",
            "writing to file:/content/Mask_RCNN/videos/save/358.jpg\n",
            "writing to file:/content/Mask_RCNN/videos/save/359.jpg\n",
            "frame_count :361\n",
            "frame_count :362\n",
            "frame_count :363\n",
            "Predicted\n",
            "writing to file:/content/Mask_RCNN/videos/save/360.jpg\n",
            "writing to file:/content/Mask_RCNN/videos/save/361.jpg\n",
            "writing to file:/content/Mask_RCNN/videos/save/362.jpg\n",
            "frame_count :364\n",
            "frame_count :365\n",
            "frame_count :366\n",
            "Predicted\n",
            "writing to file:/content/Mask_RCNN/videos/save/363.jpg\n",
            "writing to file:/content/Mask_RCNN/videos/save/364.jpg\n",
            "writing to file:/content/Mask_RCNN/videos/save/365.jpg\n",
            "frame_count :367\n",
            "frame_count :368\n",
            "frame_count :369\n",
            "Predicted\n",
            "writing to file:/content/Mask_RCNN/videos/save/366.jpg\n",
            "writing to file:/content/Mask_RCNN/videos/save/367.jpg\n",
            "writing to file:/content/Mask_RCNN/videos/save/368.jpg\n",
            "frame_count :370\n",
            "frame_count :371\n",
            "frame_count :372\n",
            "Predicted\n",
            "writing to file:/content/Mask_RCNN/videos/save/369.jpg\n",
            "writing to file:/content/Mask_RCNN/videos/save/370.jpg\n",
            "writing to file:/content/Mask_RCNN/videos/save/371.jpg\n",
            "frame_count :373\n",
            "frame_count :374\n",
            "frame_count :375\n",
            "Predicted\n",
            "writing to file:/content/Mask_RCNN/videos/save/372.jpg\n",
            "writing to file:/content/Mask_RCNN/videos/save/373.jpg\n",
            "writing to file:/content/Mask_RCNN/videos/save/374.jpg\n",
            "frame_count :376\n",
            "frame_count :377\n",
            "frame_count :378\n",
            "Predicted\n",
            "writing to file:/content/Mask_RCNN/videos/save/375.jpg\n",
            "writing to file:/content/Mask_RCNN/videos/save/376.jpg\n",
            "writing to file:/content/Mask_RCNN/videos/save/377.jpg\n",
            "frame_count :379\n",
            "frame_count :380\n",
            "frame_count :381\n",
            "Predicted\n",
            "writing to file:/content/Mask_RCNN/videos/save/378.jpg\n",
            "writing to file:/content/Mask_RCNN/videos/save/379.jpg\n",
            "writing to file:/content/Mask_RCNN/videos/save/380.jpg\n",
            "frame_count :382\n",
            "frame_count :383\n",
            "frame_count :384\n",
            "Predicted\n",
            "writing to file:/content/Mask_RCNN/videos/save/381.jpg\n",
            "writing to file:/content/Mask_RCNN/videos/save/382.jpg\n",
            "writing to file:/content/Mask_RCNN/videos/save/383.jpg\n",
            "frame_count :385\n",
            "frame_count :386\n",
            "frame_count :387\n",
            "Predicted\n",
            "writing to file:/content/Mask_RCNN/videos/save/384.jpg\n",
            "writing to file:/content/Mask_RCNN/videos/save/385.jpg\n",
            "writing to file:/content/Mask_RCNN/videos/save/386.jpg\n",
            "frame_count :388\n",
            "frame_count :389\n",
            "frame_count :390\n",
            "Predicted\n",
            "writing to file:/content/Mask_RCNN/videos/save/387.jpg\n",
            "writing to file:/content/Mask_RCNN/videos/save/388.jpg\n",
            "writing to file:/content/Mask_RCNN/videos/save/389.jpg\n",
            "frame_count :391\n",
            "frame_count :392\n",
            "frame_count :393\n",
            "Predicted\n",
            "writing to file:/content/Mask_RCNN/videos/save/390.jpg\n",
            "writing to file:/content/Mask_RCNN/videos/save/391.jpg\n",
            "writing to file:/content/Mask_RCNN/videos/save/392.jpg\n",
            "frame_count :394\n",
            "frame_count :395\n",
            "frame_count :396\n",
            "Predicted\n",
            "NO INSTANCES TO DISPLAY\n",
            "writing to file:/content/Mask_RCNN/videos/save/393.jpg\n",
            "NO INSTANCES TO DISPLAY\n",
            "writing to file:/content/Mask_RCNN/videos/save/394.jpg\n",
            "writing to file:/content/Mask_RCNN/videos/save/395.jpg\n",
            "frame_count :397\n",
            "frame_count :398\n",
            "frame_count :399\n",
            "Predicted\n",
            "writing to file:/content/Mask_RCNN/videos/save/396.jpg\n",
            "writing to file:/content/Mask_RCNN/videos/save/397.jpg\n",
            "writing to file:/content/Mask_RCNN/videos/save/398.jpg\n",
            "frame_count :400\n",
            "frame_count :401\n",
            "frame_count :402\n",
            "Predicted\n",
            "writing to file:/content/Mask_RCNN/videos/save/399.jpg\n",
            "writing to file:/content/Mask_RCNN/videos/save/400.jpg\n",
            "writing to file:/content/Mask_RCNN/videos/save/401.jpg\n",
            "frame_count :403\n",
            "frame_count :404\n",
            "frame_count :405\n",
            "Predicted\n",
            "writing to file:/content/Mask_RCNN/videos/save/402.jpg\n",
            "writing to file:/content/Mask_RCNN/videos/save/403.jpg\n",
            "writing to file:/content/Mask_RCNN/videos/save/404.jpg\n",
            "frame_count :406\n",
            "frame_count :407\n",
            "frame_count :408\n",
            "Predicted\n",
            "writing to file:/content/Mask_RCNN/videos/save/405.jpg\n",
            "NO INSTANCES TO DISPLAY\n",
            "writing to file:/content/Mask_RCNN/videos/save/406.jpg\n",
            "writing to file:/content/Mask_RCNN/videos/save/407.jpg\n",
            "frame_count :409\n",
            "frame_count :410\n",
            "frame_count :411\n",
            "Predicted\n",
            "writing to file:/content/Mask_RCNN/videos/save/408.jpg\n",
            "writing to file:/content/Mask_RCNN/videos/save/409.jpg\n",
            "NO INSTANCES TO DISPLAY\n",
            "writing to file:/content/Mask_RCNN/videos/save/410.jpg\n",
            "frame_count :412\n",
            "frame_count :413\n",
            "frame_count :414\n",
            "Predicted\n",
            "writing to file:/content/Mask_RCNN/videos/save/411.jpg\n",
            "writing to file:/content/Mask_RCNN/videos/save/412.jpg\n",
            "writing to file:/content/Mask_RCNN/videos/save/413.jpg\n",
            "frame_count :415\n",
            "frame_count :416\n",
            "frame_count :417\n",
            "Predicted\n",
            "writing to file:/content/Mask_RCNN/videos/save/414.jpg\n",
            "writing to file:/content/Mask_RCNN/videos/save/415.jpg\n",
            "writing to file:/content/Mask_RCNN/videos/save/416.jpg\n",
            "frame_count :418\n",
            "frame_count :419\n",
            "frame_count :420\n",
            "Predicted\n",
            "NO INSTANCES TO DISPLAY\n",
            "writing to file:/content/Mask_RCNN/videos/save/417.jpg\n",
            "writing to file:/content/Mask_RCNN/videos/save/418.jpg\n",
            "writing to file:/content/Mask_RCNN/videos/save/419.jpg\n",
            "frame_count :421\n",
            "frame_count :422\n",
            "frame_count :423\n",
            "Predicted\n",
            "writing to file:/content/Mask_RCNN/videos/save/420.jpg\n",
            "writing to file:/content/Mask_RCNN/videos/save/421.jpg\n",
            "writing to file:/content/Mask_RCNN/videos/save/422.jpg\n",
            "frame_count :424\n",
            "frame_count :425\n",
            "frame_count :426\n",
            "Predicted\n",
            "writing to file:/content/Mask_RCNN/videos/save/423.jpg\n",
            "writing to file:/content/Mask_RCNN/videos/save/424.jpg\n",
            "writing to file:/content/Mask_RCNN/videos/save/425.jpg\n",
            "frame_count :427\n",
            "frame_count :428\n",
            "frame_count :429\n",
            "Predicted\n",
            "writing to file:/content/Mask_RCNN/videos/save/426.jpg\n",
            "writing to file:/content/Mask_RCNN/videos/save/427.jpg\n",
            "writing to file:/content/Mask_RCNN/videos/save/428.jpg\n",
            "frame_count :430\n",
            "frame_count :431\n",
            "frame_count :432\n",
            "Predicted\n",
            "writing to file:/content/Mask_RCNN/videos/save/429.jpg\n",
            "writing to file:/content/Mask_RCNN/videos/save/430.jpg\n",
            "writing to file:/content/Mask_RCNN/videos/save/431.jpg\n",
            "frame_count :433\n",
            "frame_count :434\n",
            "frame_count :435\n",
            "Predicted\n",
            "writing to file:/content/Mask_RCNN/videos/save/432.jpg\n",
            "writing to file:/content/Mask_RCNN/videos/save/433.jpg\n",
            "writing to file:/content/Mask_RCNN/videos/save/434.jpg\n",
            "frame_count :436\n",
            "frame_count :437\n",
            "frame_count :438\n",
            "Predicted\n",
            "writing to file:/content/Mask_RCNN/videos/save/435.jpg\n",
            "writing to file:/content/Mask_RCNN/videos/save/436.jpg\n",
            "writing to file:/content/Mask_RCNN/videos/save/437.jpg\n",
            "frame_count :439\n",
            "frame_count :440\n",
            "frame_count :441\n",
            "Predicted\n",
            "writing to file:/content/Mask_RCNN/videos/save/438.jpg\n",
            "writing to file:/content/Mask_RCNN/videos/save/439.jpg\n",
            "writing to file:/content/Mask_RCNN/videos/save/440.jpg\n",
            "frame_count :442\n",
            "frame_count :443\n",
            "frame_count :444\n",
            "Predicted\n",
            "writing to file:/content/Mask_RCNN/videos/save/441.jpg\n",
            "writing to file:/content/Mask_RCNN/videos/save/442.jpg\n",
            "writing to file:/content/Mask_RCNN/videos/save/443.jpg\n",
            "frame_count :445\n",
            "frame_count :446\n",
            "frame_count :447\n",
            "Predicted\n",
            "writing to file:/content/Mask_RCNN/videos/save/444.jpg\n",
            "writing to file:/content/Mask_RCNN/videos/save/445.jpg\n",
            "writing to file:/content/Mask_RCNN/videos/save/446.jpg\n",
            "frame_count :448\n",
            "frame_count :449\n",
            "frame_count :450\n",
            "Predicted\n",
            "writing to file:/content/Mask_RCNN/videos/save/447.jpg\n",
            "writing to file:/content/Mask_RCNN/videos/save/448.jpg\n",
            "NO INSTANCES TO DISPLAY\n",
            "writing to file:/content/Mask_RCNN/videos/save/449.jpg\n",
            "frame_count :451\n",
            "frame_count :452\n",
            "frame_count :453\n",
            "Predicted\n",
            "writing to file:/content/Mask_RCNN/videos/save/450.jpg\n",
            "writing to file:/content/Mask_RCNN/videos/save/451.jpg\n",
            "writing to file:/content/Mask_RCNN/videos/save/452.jpg\n",
            "frame_count :454\n",
            "frame_count :455\n",
            "frame_count :456\n",
            "Predicted\n",
            "writing to file:/content/Mask_RCNN/videos/save/453.jpg\n",
            "writing to file:/content/Mask_RCNN/videos/save/454.jpg\n",
            "writing to file:/content/Mask_RCNN/videos/save/455.jpg\n",
            "frame_count :457\n",
            "frame_count :458\n",
            "frame_count :459\n",
            "Predicted\n",
            "writing to file:/content/Mask_RCNN/videos/save/456.jpg\n",
            "writing to file:/content/Mask_RCNN/videos/save/457.jpg\n",
            "writing to file:/content/Mask_RCNN/videos/save/458.jpg\n",
            "frame_count :460\n",
            "frame_count :461\n",
            "frame_count :462\n",
            "Predicted\n",
            "writing to file:/content/Mask_RCNN/videos/save/459.jpg\n",
            "writing to file:/content/Mask_RCNN/videos/save/460.jpg\n",
            "writing to file:/content/Mask_RCNN/videos/save/461.jpg\n",
            "frame_count :463\n",
            "frame_count :464\n",
            "frame_count :465\n",
            "Predicted\n",
            "writing to file:/content/Mask_RCNN/videos/save/462.jpg\n",
            "writing to file:/content/Mask_RCNN/videos/save/463.jpg\n",
            "writing to file:/content/Mask_RCNN/videos/save/464.jpg\n",
            "frame_count :466\n",
            "frame_count :467\n",
            "frame_count :468\n",
            "Predicted\n",
            "writing to file:/content/Mask_RCNN/videos/save/465.jpg\n",
            "NO INSTANCES TO DISPLAY\n",
            "writing to file:/content/Mask_RCNN/videos/save/466.jpg\n",
            "writing to file:/content/Mask_RCNN/videos/save/467.jpg\n",
            "frame_count :469\n",
            "frame_count :470\n",
            "frame_count :471\n",
            "Predicted\n",
            "writing to file:/content/Mask_RCNN/videos/save/468.jpg\n",
            "writing to file:/content/Mask_RCNN/videos/save/469.jpg\n",
            "NO INSTANCES TO DISPLAY\n",
            "writing to file:/content/Mask_RCNN/videos/save/470.jpg\n",
            "frame_count :472\n",
            "frame_count :473\n",
            "frame_count :474\n",
            "Predicted\n",
            "NO INSTANCES TO DISPLAY\n",
            "writing to file:/content/Mask_RCNN/videos/save/471.jpg\n",
            "writing to file:/content/Mask_RCNN/videos/save/472.jpg\n",
            "writing to file:/content/Mask_RCNN/videos/save/473.jpg\n",
            "frame_count :475\n",
            "frame_count :476\n",
            "frame_count :477\n",
            "Predicted\n",
            "writing to file:/content/Mask_RCNN/videos/save/474.jpg\n",
            "writing to file:/content/Mask_RCNN/videos/save/475.jpg\n",
            "writing to file:/content/Mask_RCNN/videos/save/476.jpg\n",
            "frame_count :478\n",
            "frame_count :479\n",
            "frame_count :480\n",
            "Predicted\n",
            "writing to file:/content/Mask_RCNN/videos/save/477.jpg\n",
            "writing to file:/content/Mask_RCNN/videos/save/478.jpg\n",
            "writing to file:/content/Mask_RCNN/videos/save/479.jpg\n",
            "frame_count :481\n",
            "frame_count :482\n",
            "frame_count :483\n",
            "Predicted\n",
            "writing to file:/content/Mask_RCNN/videos/save/480.jpg\n",
            "writing to file:/content/Mask_RCNN/videos/save/481.jpg\n",
            "writing to file:/content/Mask_RCNN/videos/save/482.jpg\n",
            "frame_count :484\n",
            "frame_count :485\n",
            "frame_count :486\n",
            "Predicted\n",
            "writing to file:/content/Mask_RCNN/videos/save/483.jpg\n",
            "writing to file:/content/Mask_RCNN/videos/save/484.jpg\n",
            "writing to file:/content/Mask_RCNN/videos/save/485.jpg\n",
            "frame_count :487\n",
            "frame_count :488\n",
            "frame_count :489\n",
            "Predicted\n",
            "writing to file:/content/Mask_RCNN/videos/save/486.jpg\n",
            "writing to file:/content/Mask_RCNN/videos/save/487.jpg\n",
            "writing to file:/content/Mask_RCNN/videos/save/488.jpg\n",
            "frame_count :490\n",
            "frame_count :491\n",
            "frame_count :492\n",
            "Predicted\n",
            "writing to file:/content/Mask_RCNN/videos/save/489.jpg\n",
            "writing to file:/content/Mask_RCNN/videos/save/490.jpg\n",
            "writing to file:/content/Mask_RCNN/videos/save/491.jpg\n",
            "frame_count :493\n",
            "frame_count :494\n",
            "frame_count :495\n",
            "Predicted\n",
            "writing to file:/content/Mask_RCNN/videos/save/492.jpg\n",
            "writing to file:/content/Mask_RCNN/videos/save/493.jpg\n",
            "writing to file:/content/Mask_RCNN/videos/save/494.jpg\n",
            "frame_count :496\n",
            "frame_count :497\n",
            "frame_count :498\n",
            "Predicted\n",
            "writing to file:/content/Mask_RCNN/videos/save/495.jpg\n",
            "writing to file:/content/Mask_RCNN/videos/save/496.jpg\n",
            "NO INSTANCES TO DISPLAY\n",
            "writing to file:/content/Mask_RCNN/videos/save/497.jpg\n",
            "frame_count :499\n",
            "frame_count :500\n",
            "frame_count :501\n",
            "Predicted\n",
            "NO INSTANCES TO DISPLAY\n",
            "writing to file:/content/Mask_RCNN/videos/save/498.jpg\n",
            "NO INSTANCES TO DISPLAY\n",
            "writing to file:/content/Mask_RCNN/videos/save/499.jpg\n",
            "NO INSTANCES TO DISPLAY\n",
            "writing to file:/content/Mask_RCNN/videos/save/500.jpg\n",
            "frame_count :502\n",
            "frame_count :503\n",
            "frame_count :504\n",
            "Predicted\n",
            "NO INSTANCES TO DISPLAY\n",
            "writing to file:/content/Mask_RCNN/videos/save/501.jpg\n",
            "writing to file:/content/Mask_RCNN/videos/save/502.jpg\n",
            "NO INSTANCES TO DISPLAY\n",
            "writing to file:/content/Mask_RCNN/videos/save/503.jpg\n",
            "frame_count :505\n",
            "frame_count :506\n",
            "frame_count :507\n",
            "Predicted\n",
            "writing to file:/content/Mask_RCNN/videos/save/504.jpg\n",
            "writing to file:/content/Mask_RCNN/videos/save/505.jpg\n",
            "NO INSTANCES TO DISPLAY\n",
            "writing to file:/content/Mask_RCNN/videos/save/506.jpg\n",
            "frame_count :508\n",
            "frame_count :509\n",
            "frame_count :510\n",
            "Predicted\n",
            "NO INSTANCES TO DISPLAY\n",
            "writing to file:/content/Mask_RCNN/videos/save/507.jpg\n",
            "NO INSTANCES TO DISPLAY\n",
            "writing to file:/content/Mask_RCNN/videos/save/508.jpg\n",
            "NO INSTANCES TO DISPLAY\n",
            "writing to file:/content/Mask_RCNN/videos/save/509.jpg\n",
            "frame_count :511\n",
            "frame_count :512\n",
            "frame_count :513\n",
            "Predicted\n",
            "NO INSTANCES TO DISPLAY\n",
            "writing to file:/content/Mask_RCNN/videos/save/510.jpg\n",
            "NO INSTANCES TO DISPLAY\n",
            "writing to file:/content/Mask_RCNN/videos/save/511.jpg\n",
            "NO INSTANCES TO DISPLAY\n",
            "writing to file:/content/Mask_RCNN/videos/save/512.jpg\n",
            "frame_count :514\n",
            "frame_count :515\n",
            "frame_count :516\n",
            "Predicted\n",
            "writing to file:/content/Mask_RCNN/videos/save/513.jpg\n",
            "NO INSTANCES TO DISPLAY\n",
            "writing to file:/content/Mask_RCNN/videos/save/514.jpg\n",
            "NO INSTANCES TO DISPLAY\n",
            "writing to file:/content/Mask_RCNN/videos/save/515.jpg\n",
            "frame_count :517\n",
            "frame_count :518\n",
            "frame_count :519\n",
            "Predicted\n",
            "writing to file:/content/Mask_RCNN/videos/save/516.jpg\n",
            "writing to file:/content/Mask_RCNN/videos/save/517.jpg\n",
            "writing to file:/content/Mask_RCNN/videos/save/518.jpg\n",
            "frame_count :520\n",
            "frame_count :521\n",
            "frame_count :522\n",
            "Predicted\n",
            "writing to file:/content/Mask_RCNN/videos/save/519.jpg\n",
            "writing to file:/content/Mask_RCNN/videos/save/520.jpg\n",
            "writing to file:/content/Mask_RCNN/videos/save/521.jpg\n",
            "frame_count :523\n",
            "frame_count :524\n",
            "frame_count :525\n",
            "Predicted\n",
            "writing to file:/content/Mask_RCNN/videos/save/522.jpg\n",
            "writing to file:/content/Mask_RCNN/videos/save/523.jpg\n",
            "writing to file:/content/Mask_RCNN/videos/save/524.jpg\n",
            "frame_count :526\n",
            "frame_count :527\n",
            "frame_count :528\n",
            "Predicted\n",
            "writing to file:/content/Mask_RCNN/videos/save/525.jpg\n",
            "writing to file:/content/Mask_RCNN/videos/save/526.jpg\n",
            "writing to file:/content/Mask_RCNN/videos/save/527.jpg\n",
            "frame_count :529\n",
            "frame_count :530\n",
            "frame_count :531\n",
            "Predicted\n",
            "writing to file:/content/Mask_RCNN/videos/save/528.jpg\n",
            "writing to file:/content/Mask_RCNN/videos/save/529.jpg\n",
            "writing to file:/content/Mask_RCNN/videos/save/530.jpg\n",
            "frame_count :532\n",
            "frame_count :533\n",
            "frame_count :534\n",
            "Predicted\n",
            "NO INSTANCES TO DISPLAY\n",
            "writing to file:/content/Mask_RCNN/videos/save/531.jpg\n",
            "NO INSTANCES TO DISPLAY\n",
            "writing to file:/content/Mask_RCNN/videos/save/532.jpg\n",
            "writing to file:/content/Mask_RCNN/videos/save/533.jpg\n",
            "frame_count :535\n",
            "frame_count :536\n",
            "frame_count :537\n",
            "Predicted\n",
            "writing to file:/content/Mask_RCNN/videos/save/534.jpg\n",
            "NO INSTANCES TO DISPLAY\n",
            "writing to file:/content/Mask_RCNN/videos/save/535.jpg\n",
            "writing to file:/content/Mask_RCNN/videos/save/536.jpg\n",
            "frame_count :538\n",
            "frame_count :539\n",
            "frame_count :540\n",
            "Predicted\n",
            "NO INSTANCES TO DISPLAY\n",
            "writing to file:/content/Mask_RCNN/videos/save/537.jpg\n",
            "writing to file:/content/Mask_RCNN/videos/save/538.jpg\n",
            "writing to file:/content/Mask_RCNN/videos/save/539.jpg\n",
            "frame_count :541\n",
            "frame_count :542\n",
            "frame_count :543\n",
            "Predicted\n",
            "writing to file:/content/Mask_RCNN/videos/save/540.jpg\n",
            "NO INSTANCES TO DISPLAY\n",
            "writing to file:/content/Mask_RCNN/videos/save/541.jpg\n",
            "writing to file:/content/Mask_RCNN/videos/save/542.jpg\n",
            "frame_count :544\n",
            "frame_count :545\n",
            "frame_count :546\n",
            "Predicted\n",
            "writing to file:/content/Mask_RCNN/videos/save/543.jpg\n",
            "writing to file:/content/Mask_RCNN/videos/save/544.jpg\n",
            "writing to file:/content/Mask_RCNN/videos/save/545.jpg\n",
            "frame_count :547\n",
            "frame_count :548\n",
            "frame_count :549\n",
            "Predicted\n",
            "writing to file:/content/Mask_RCNN/videos/save/546.jpg\n",
            "writing to file:/content/Mask_RCNN/videos/save/547.jpg\n",
            "writing to file:/content/Mask_RCNN/videos/save/548.jpg\n",
            "frame_count :550\n",
            "frame_count :551\n",
            "frame_count :552\n",
            "Predicted\n",
            "writing to file:/content/Mask_RCNN/videos/save/549.jpg\n",
            "NO INSTANCES TO DISPLAY\n",
            "writing to file:/content/Mask_RCNN/videos/save/550.jpg\n",
            "writing to file:/content/Mask_RCNN/videos/save/551.jpg\n",
            "frame_count :553\n",
            "frame_count :554\n",
            "frame_count :555\n",
            "Predicted\n",
            "writing to file:/content/Mask_RCNN/videos/save/552.jpg\n",
            "writing to file:/content/Mask_RCNN/videos/save/553.jpg\n",
            "writing to file:/content/Mask_RCNN/videos/save/554.jpg\n",
            "frame_count :556\n",
            "frame_count :557\n",
            "frame_count :558\n",
            "Predicted\n",
            "writing to file:/content/Mask_RCNN/videos/save/555.jpg\n",
            "writing to file:/content/Mask_RCNN/videos/save/556.jpg\n",
            "writing to file:/content/Mask_RCNN/videos/save/557.jpg\n",
            "frame_count :559\n",
            "frame_count :560\n",
            "frame_count :561\n",
            "Predicted\n",
            "writing to file:/content/Mask_RCNN/videos/save/558.jpg\n",
            "NO INSTANCES TO DISPLAY\n",
            "writing to file:/content/Mask_RCNN/videos/save/559.jpg\n",
            "NO INSTANCES TO DISPLAY\n",
            "writing to file:/content/Mask_RCNN/videos/save/560.jpg\n",
            "frame_count :562\n",
            "frame_count :563\n",
            "frame_count :564\n",
            "Predicted\n",
            "NO INSTANCES TO DISPLAY\n",
            "writing to file:/content/Mask_RCNN/videos/save/561.jpg\n",
            "NO INSTANCES TO DISPLAY\n",
            "writing to file:/content/Mask_RCNN/videos/save/562.jpg\n",
            "NO INSTANCES TO DISPLAY\n",
            "writing to file:/content/Mask_RCNN/videos/save/563.jpg\n",
            "frame_count :565\n",
            "frame_count :566\n",
            "frame_count :567\n",
            "Predicted\n",
            "NO INSTANCES TO DISPLAY\n",
            "writing to file:/content/Mask_RCNN/videos/save/564.jpg\n",
            "writing to file:/content/Mask_RCNN/videos/save/565.jpg\n",
            "writing to file:/content/Mask_RCNN/videos/save/566.jpg\n",
            "frame_count :568\n",
            "frame_count :569\n",
            "frame_count :570\n",
            "Predicted\n",
            "writing to file:/content/Mask_RCNN/videos/save/567.jpg\n",
            "writing to file:/content/Mask_RCNN/videos/save/568.jpg\n",
            "writing to file:/content/Mask_RCNN/videos/save/569.jpg\n",
            "frame_count :571\n",
            "frame_count :572\n",
            "frame_count :573\n",
            "Predicted\n",
            "writing to file:/content/Mask_RCNN/videos/save/570.jpg\n",
            "writing to file:/content/Mask_RCNN/videos/save/571.jpg\n",
            "writing to file:/content/Mask_RCNN/videos/save/572.jpg\n",
            "frame_count :574\n",
            "frame_count :575\n",
            "frame_count :576\n",
            "Predicted\n",
            "writing to file:/content/Mask_RCNN/videos/save/573.jpg\n",
            "writing to file:/content/Mask_RCNN/videos/save/574.jpg\n",
            "writing to file:/content/Mask_RCNN/videos/save/575.jpg\n",
            "frame_count :577\n",
            "frame_count :578\n",
            "frame_count :579\n",
            "Predicted\n",
            "writing to file:/content/Mask_RCNN/videos/save/576.jpg\n",
            "writing to file:/content/Mask_RCNN/videos/save/577.jpg\n",
            "writing to file:/content/Mask_RCNN/videos/save/578.jpg\n",
            "frame_count :580\n",
            "frame_count :581\n",
            "frame_count :582\n",
            "Predicted\n",
            "NO INSTANCES TO DISPLAY\n",
            "writing to file:/content/Mask_RCNN/videos/save/579.jpg\n",
            "writing to file:/content/Mask_RCNN/videos/save/580.jpg\n",
            "writing to file:/content/Mask_RCNN/videos/save/581.jpg\n",
            "frame_count :583\n",
            "frame_count :584\n",
            "frame_count :585\n",
            "Predicted\n",
            "writing to file:/content/Mask_RCNN/videos/save/582.jpg\n",
            "writing to file:/content/Mask_RCNN/videos/save/583.jpg\n",
            "writing to file:/content/Mask_RCNN/videos/save/584.jpg\n",
            "frame_count :586\n",
            "frame_count :587\n",
            "frame_count :588\n",
            "Predicted\n",
            "NO INSTANCES TO DISPLAY\n",
            "writing to file:/content/Mask_RCNN/videos/save/585.jpg\n",
            "writing to file:/content/Mask_RCNN/videos/save/586.jpg\n",
            "NO INSTANCES TO DISPLAY\n",
            "writing to file:/content/Mask_RCNN/videos/save/587.jpg\n",
            "frame_count :589\n",
            "frame_count :590\n",
            "frame_count :591\n",
            "Predicted\n",
            "NO INSTANCES TO DISPLAY\n",
            "writing to file:/content/Mask_RCNN/videos/save/588.jpg\n",
            "writing to file:/content/Mask_RCNN/videos/save/589.jpg\n",
            "writing to file:/content/Mask_RCNN/videos/save/590.jpg\n",
            "frame_count :592\n",
            "frame_count :593\n",
            "frame_count :594\n",
            "Predicted\n",
            "writing to file:/content/Mask_RCNN/videos/save/591.jpg\n",
            "writing to file:/content/Mask_RCNN/videos/save/592.jpg\n",
            "NO INSTANCES TO DISPLAY\n",
            "writing to file:/content/Mask_RCNN/videos/save/593.jpg\n",
            "frame_count :595\n",
            "frame_count :596\n",
            "frame_count :597\n",
            "Predicted\n",
            "NO INSTANCES TO DISPLAY\n",
            "writing to file:/content/Mask_RCNN/videos/save/594.jpg\n",
            "NO INSTANCES TO DISPLAY\n",
            "writing to file:/content/Mask_RCNN/videos/save/595.jpg\n",
            "writing to file:/content/Mask_RCNN/videos/save/596.jpg\n",
            "frame_count :598\n",
            "frame_count :599\n",
            "frame_count :600\n",
            "Predicted\n",
            "NO INSTANCES TO DISPLAY\n",
            "writing to file:/content/Mask_RCNN/videos/save/597.jpg\n",
            "writing to file:/content/Mask_RCNN/videos/save/598.jpg\n",
            "writing to file:/content/Mask_RCNN/videos/save/599.jpg\n",
            "frame_count :601\n",
            "frame_count :602\n",
            "frame_count :603\n",
            "Predicted\n",
            "NO INSTANCES TO DISPLAY\n",
            "writing to file:/content/Mask_RCNN/videos/save/600.jpg\n",
            "NO INSTANCES TO DISPLAY\n",
            "writing to file:/content/Mask_RCNN/videos/save/601.jpg\n",
            "NO INSTANCES TO DISPLAY\n",
            "writing to file:/content/Mask_RCNN/videos/save/602.jpg\n",
            "frame_count :604\n",
            "frame_count :605\n",
            "frame_count :606\n",
            "Predicted\n",
            "NO INSTANCES TO DISPLAY\n",
            "writing to file:/content/Mask_RCNN/videos/save/603.jpg\n",
            "NO INSTANCES TO DISPLAY\n",
            "writing to file:/content/Mask_RCNN/videos/save/604.jpg\n",
            "NO INSTANCES TO DISPLAY\n",
            "writing to file:/content/Mask_RCNN/videos/save/605.jpg\n",
            "frame_count :607\n",
            "frame_count :608\n",
            "frame_count :609\n",
            "Predicted\n",
            "NO INSTANCES TO DISPLAY\n",
            "writing to file:/content/Mask_RCNN/videos/save/606.jpg\n",
            "NO INSTANCES TO DISPLAY\n",
            "writing to file:/content/Mask_RCNN/videos/save/607.jpg\n",
            "writing to file:/content/Mask_RCNN/videos/save/608.jpg\n",
            "frame_count :610\n",
            "frame_count :611\n",
            "frame_count :612\n",
            "Predicted\n",
            "NO INSTANCES TO DISPLAY\n",
            "writing to file:/content/Mask_RCNN/videos/save/609.jpg\n",
            "NO INSTANCES TO DISPLAY\n",
            "writing to file:/content/Mask_RCNN/videos/save/610.jpg\n",
            "NO INSTANCES TO DISPLAY\n",
            "writing to file:/content/Mask_RCNN/videos/save/611.jpg\n",
            "frame_count :613\n",
            "frame_count :614\n",
            "frame_count :615\n",
            "Predicted\n",
            "NO INSTANCES TO DISPLAY\n",
            "writing to file:/content/Mask_RCNN/videos/save/612.jpg\n",
            "writing to file:/content/Mask_RCNN/videos/save/613.jpg\n",
            "NO INSTANCES TO DISPLAY\n",
            "writing to file:/content/Mask_RCNN/videos/save/614.jpg\n",
            "frame_count :616\n",
            "frame_count :617\n",
            "frame_count :618\n",
            "Predicted\n",
            "NO INSTANCES TO DISPLAY\n",
            "writing to file:/content/Mask_RCNN/videos/save/615.jpg\n",
            "NO INSTANCES TO DISPLAY\n",
            "writing to file:/content/Mask_RCNN/videos/save/616.jpg\n",
            "writing to file:/content/Mask_RCNN/videos/save/617.jpg\n",
            "frame_count :619\n",
            "frame_count :620\n",
            "frame_count :621\n",
            "Predicted\n",
            "writing to file:/content/Mask_RCNN/videos/save/618.jpg\n",
            "NO INSTANCES TO DISPLAY\n",
            "writing to file:/content/Mask_RCNN/videos/save/619.jpg\n",
            "NO INSTANCES TO DISPLAY\n",
            "writing to file:/content/Mask_RCNN/videos/save/620.jpg\n",
            "frame_count :622\n",
            "frame_count :623\n",
            "frame_count :624\n",
            "Predicted\n",
            "writing to file:/content/Mask_RCNN/videos/save/621.jpg\n",
            "NO INSTANCES TO DISPLAY\n",
            "writing to file:/content/Mask_RCNN/videos/save/622.jpg\n",
            "writing to file:/content/Mask_RCNN/videos/save/623.jpg\n",
            "frame_count :625\n",
            "frame_count :626\n",
            "frame_count :627\n",
            "Predicted\n",
            "writing to file:/content/Mask_RCNN/videos/save/624.jpg\n",
            "writing to file:/content/Mask_RCNN/videos/save/625.jpg\n",
            "NO INSTANCES TO DISPLAY\n",
            "writing to file:/content/Mask_RCNN/videos/save/626.jpg\n",
            "frame_count :628\n",
            "frame_count :629\n",
            "frame_count :630\n",
            "Predicted\n",
            "NO INSTANCES TO DISPLAY\n",
            "writing to file:/content/Mask_RCNN/videos/save/627.jpg\n",
            "writing to file:/content/Mask_RCNN/videos/save/628.jpg\n",
            "writing to file:/content/Mask_RCNN/videos/save/629.jpg\n",
            "frame_count :631\n",
            "frame_count :632\n",
            "frame_count :633\n",
            "Predicted\n",
            "writing to file:/content/Mask_RCNN/videos/save/630.jpg\n",
            "writing to file:/content/Mask_RCNN/videos/save/631.jpg\n",
            "writing to file:/content/Mask_RCNN/videos/save/632.jpg\n",
            "frame_count :634\n",
            "frame_count :635\n",
            "frame_count :636\n",
            "Predicted\n",
            "writing to file:/content/Mask_RCNN/videos/save/633.jpg\n",
            "writing to file:/content/Mask_RCNN/videos/save/634.jpg\n",
            "writing to file:/content/Mask_RCNN/videos/save/635.jpg\n",
            "frame_count :637\n",
            "frame_count :638\n",
            "frame_count :639\n",
            "Predicted\n",
            "writing to file:/content/Mask_RCNN/videos/save/636.jpg\n",
            "writing to file:/content/Mask_RCNN/videos/save/637.jpg\n",
            "NO INSTANCES TO DISPLAY\n",
            "writing to file:/content/Mask_RCNN/videos/save/638.jpg\n",
            "frame_count :640\n",
            "frame_count :641\n",
            "frame_count :642\n",
            "Predicted\n",
            "writing to file:/content/Mask_RCNN/videos/save/639.jpg\n",
            "writing to file:/content/Mask_RCNN/videos/save/640.jpg\n",
            "writing to file:/content/Mask_RCNN/videos/save/641.jpg\n",
            "frame_count :643\n",
            "frame_count :644\n",
            "frame_count :645\n",
            "Predicted\n",
            "writing to file:/content/Mask_RCNN/videos/save/642.jpg\n",
            "writing to file:/content/Mask_RCNN/videos/save/643.jpg\n",
            "writing to file:/content/Mask_RCNN/videos/save/644.jpg\n",
            "frame_count :646\n",
            "frame_count :647\n",
            "frame_count :648\n",
            "Predicted\n",
            "writing to file:/content/Mask_RCNN/videos/save/645.jpg\n",
            "writing to file:/content/Mask_RCNN/videos/save/646.jpg\n",
            "writing to file:/content/Mask_RCNN/videos/save/647.jpg\n",
            "frame_count :649\n",
            "frame_count :650\n",
            "frame_count :651\n",
            "Predicted\n",
            "writing to file:/content/Mask_RCNN/videos/save/648.jpg\n",
            "writing to file:/content/Mask_RCNN/videos/save/649.jpg\n",
            "writing to file:/content/Mask_RCNN/videos/save/650.jpg\n",
            "frame_count :652\n",
            "frame_count :653\n",
            "frame_count :654\n",
            "Predicted\n",
            "writing to file:/content/Mask_RCNN/videos/save/651.jpg\n",
            "writing to file:/content/Mask_RCNN/videos/save/652.jpg\n",
            "NO INSTANCES TO DISPLAY\n",
            "writing to file:/content/Mask_RCNN/videos/save/653.jpg\n",
            "frame_count :655\n",
            "frame_count :656\n",
            "frame_count :657\n",
            "Predicted\n",
            "NO INSTANCES TO DISPLAY\n",
            "writing to file:/content/Mask_RCNN/videos/save/654.jpg\n",
            "writing to file:/content/Mask_RCNN/videos/save/655.jpg\n",
            "NO INSTANCES TO DISPLAY\n",
            "writing to file:/content/Mask_RCNN/videos/save/656.jpg\n",
            "frame_count :658\n",
            "frame_count :659\n",
            "frame_count :660\n",
            "Predicted\n",
            "writing to file:/content/Mask_RCNN/videos/save/657.jpg\n",
            "NO INSTANCES TO DISPLAY\n",
            "writing to file:/content/Mask_RCNN/videos/save/658.jpg\n",
            "NO INSTANCES TO DISPLAY\n",
            "writing to file:/content/Mask_RCNN/videos/save/659.jpg\n",
            "frame_count :661\n",
            "frame_count :662\n",
            "frame_count :663\n",
            "Predicted\n",
            "NO INSTANCES TO DISPLAY\n",
            "writing to file:/content/Mask_RCNN/videos/save/660.jpg\n",
            "NO INSTANCES TO DISPLAY\n",
            "writing to file:/content/Mask_RCNN/videos/save/661.jpg\n",
            "NO INSTANCES TO DISPLAY\n",
            "writing to file:/content/Mask_RCNN/videos/save/662.jpg\n",
            "frame_count :664\n",
            "frame_count :665\n",
            "frame_count :666\n",
            "Predicted\n",
            "NO INSTANCES TO DISPLAY\n",
            "writing to file:/content/Mask_RCNN/videos/save/663.jpg\n",
            "NO INSTANCES TO DISPLAY\n",
            "writing to file:/content/Mask_RCNN/videos/save/664.jpg\n",
            "NO INSTANCES TO DISPLAY\n",
            "writing to file:/content/Mask_RCNN/videos/save/665.jpg\n",
            "frame_count :667\n",
            "frame_count :668\n",
            "frame_count :669\n",
            "Predicted\n",
            "writing to file:/content/Mask_RCNN/videos/save/666.jpg\n",
            "NO INSTANCES TO DISPLAY\n",
            "writing to file:/content/Mask_RCNN/videos/save/667.jpg\n",
            "NO INSTANCES TO DISPLAY\n",
            "writing to file:/content/Mask_RCNN/videos/save/668.jpg\n",
            "frame_count :670\n",
            "frame_count :671\n",
            "frame_count :672\n",
            "Predicted\n",
            "NO INSTANCES TO DISPLAY\n",
            "writing to file:/content/Mask_RCNN/videos/save/669.jpg\n",
            "NO INSTANCES TO DISPLAY\n",
            "writing to file:/content/Mask_RCNN/videos/save/670.jpg\n",
            "NO INSTANCES TO DISPLAY\n",
            "writing to file:/content/Mask_RCNN/videos/save/671.jpg\n",
            "frame_count :673\n",
            "frame_count :674\n",
            "frame_count :675\n",
            "Predicted\n",
            "writing to file:/content/Mask_RCNN/videos/save/672.jpg\n",
            "writing to file:/content/Mask_RCNN/videos/save/673.jpg\n",
            "writing to file:/content/Mask_RCNN/videos/save/674.jpg\n",
            "frame_count :676\n",
            "frame_count :677\n",
            "frame_count :678\n",
            "Predicted\n",
            "writing to file:/content/Mask_RCNN/videos/save/675.jpg\n",
            "NO INSTANCES TO DISPLAY\n",
            "writing to file:/content/Mask_RCNN/videos/save/676.jpg\n",
            "NO INSTANCES TO DISPLAY\n",
            "writing to file:/content/Mask_RCNN/videos/save/677.jpg\n",
            "frame_count :679\n",
            "frame_count :680\n",
            "frame_count :681\n",
            "Predicted\n",
            "NO INSTANCES TO DISPLAY\n",
            "writing to file:/content/Mask_RCNN/videos/save/678.jpg\n",
            "NO INSTANCES TO DISPLAY\n",
            "writing to file:/content/Mask_RCNN/videos/save/679.jpg\n",
            "NO INSTANCES TO DISPLAY\n",
            "writing to file:/content/Mask_RCNN/videos/save/680.jpg\n",
            "frame_count :682\n",
            "frame_count :683\n",
            "frame_count :684\n",
            "Predicted\n",
            "NO INSTANCES TO DISPLAY\n",
            "writing to file:/content/Mask_RCNN/videos/save/681.jpg\n",
            "NO INSTANCES TO DISPLAY\n",
            "writing to file:/content/Mask_RCNN/videos/save/682.jpg\n",
            "NO INSTANCES TO DISPLAY\n",
            "writing to file:/content/Mask_RCNN/videos/save/683.jpg\n",
            "frame_count :685\n",
            "frame_count :686\n",
            "frame_count :687\n",
            "Predicted\n",
            "writing to file:/content/Mask_RCNN/videos/save/684.jpg\n",
            "writing to file:/content/Mask_RCNN/videos/save/685.jpg\n",
            "writing to file:/content/Mask_RCNN/videos/save/686.jpg\n",
            "frame_count :688\n",
            "frame_count :689\n",
            "frame_count :690\n",
            "Predicted\n",
            "writing to file:/content/Mask_RCNN/videos/save/687.jpg\n",
            "writing to file:/content/Mask_RCNN/videos/save/688.jpg\n",
            "NO INSTANCES TO DISPLAY\n",
            "writing to file:/content/Mask_RCNN/videos/save/689.jpg\n",
            "frame_count :691\n",
            "frame_count :692\n",
            "frame_count :693\n",
            "Predicted\n",
            "NO INSTANCES TO DISPLAY\n",
            "writing to file:/content/Mask_RCNN/videos/save/690.jpg\n",
            "NO INSTANCES TO DISPLAY\n",
            "writing to file:/content/Mask_RCNN/videos/save/691.jpg\n",
            "NO INSTANCES TO DISPLAY\n",
            "writing to file:/content/Mask_RCNN/videos/save/692.jpg\n",
            "frame_count :694\n",
            "frame_count :695\n",
            "frame_count :696\n",
            "Predicted\n",
            "NO INSTANCES TO DISPLAY\n",
            "writing to file:/content/Mask_RCNN/videos/save/693.jpg\n",
            "NO INSTANCES TO DISPLAY\n",
            "writing to file:/content/Mask_RCNN/videos/save/694.jpg\n",
            "NO INSTANCES TO DISPLAY\n",
            "writing to file:/content/Mask_RCNN/videos/save/695.jpg\n",
            "frame_count :697\n",
            "frame_count :698\n",
            "frame_count :699\n",
            "Predicted\n",
            "NO INSTANCES TO DISPLAY\n",
            "writing to file:/content/Mask_RCNN/videos/save/696.jpg\n",
            "NO INSTANCES TO DISPLAY\n",
            "writing to file:/content/Mask_RCNN/videos/save/697.jpg\n",
            "NO INSTANCES TO DISPLAY\n",
            "writing to file:/content/Mask_RCNN/videos/save/698.jpg\n",
            "frame_count :700\n",
            "frame_count :701\n",
            "frame_count :702\n",
            "Predicted\n",
            "NO INSTANCES TO DISPLAY\n",
            "writing to file:/content/Mask_RCNN/videos/save/699.jpg\n",
            "NO INSTANCES TO DISPLAY\n",
            "writing to file:/content/Mask_RCNN/videos/save/700.jpg\n",
            "NO INSTANCES TO DISPLAY\n",
            "writing to file:/content/Mask_RCNN/videos/save/701.jpg\n",
            "frame_count :703\n",
            "frame_count :704\n",
            "frame_count :705\n",
            "Predicted\n",
            "NO INSTANCES TO DISPLAY\n",
            "writing to file:/content/Mask_RCNN/videos/save/702.jpg\n",
            "NO INSTANCES TO DISPLAY\n",
            "writing to file:/content/Mask_RCNN/videos/save/703.jpg\n",
            "NO INSTANCES TO DISPLAY\n",
            "writing to file:/content/Mask_RCNN/videos/save/704.jpg\n",
            "frame_count :706\n",
            "frame_count :707\n",
            "frame_count :708\n",
            "Predicted\n",
            "NO INSTANCES TO DISPLAY\n",
            "writing to file:/content/Mask_RCNN/videos/save/705.jpg\n",
            "NO INSTANCES TO DISPLAY\n",
            "writing to file:/content/Mask_RCNN/videos/save/706.jpg\n",
            "NO INSTANCES TO DISPLAY\n",
            "writing to file:/content/Mask_RCNN/videos/save/707.jpg\n",
            "frame_count :709\n",
            "frame_count :710\n",
            "frame_count :711\n",
            "Predicted\n",
            "NO INSTANCES TO DISPLAY\n",
            "writing to file:/content/Mask_RCNN/videos/save/708.jpg\n",
            "NO INSTANCES TO DISPLAY\n",
            "writing to file:/content/Mask_RCNN/videos/save/709.jpg\n",
            "NO INSTANCES TO DISPLAY\n",
            "writing to file:/content/Mask_RCNN/videos/save/710.jpg\n",
            "frame_count :712\n",
            "frame_count :713\n",
            "frame_count :714\n",
            "Predicted\n",
            "NO INSTANCES TO DISPLAY\n",
            "writing to file:/content/Mask_RCNN/videos/save/711.jpg\n",
            "NO INSTANCES TO DISPLAY\n",
            "writing to file:/content/Mask_RCNN/videos/save/712.jpg\n",
            "NO INSTANCES TO DISPLAY\n",
            "writing to file:/content/Mask_RCNN/videos/save/713.jpg\n",
            "frame_count :715\n",
            "frame_count :716\n",
            "frame_count :717\n",
            "Predicted\n",
            "NO INSTANCES TO DISPLAY\n",
            "writing to file:/content/Mask_RCNN/videos/save/714.jpg\n",
            "NO INSTANCES TO DISPLAY\n",
            "writing to file:/content/Mask_RCNN/videos/save/715.jpg\n",
            "writing to file:/content/Mask_RCNN/videos/save/716.jpg\n",
            "frame_count :718\n",
            "frame_count :719\n",
            "frame_count :720\n",
            "Predicted\n",
            "writing to file:/content/Mask_RCNN/videos/save/717.jpg\n",
            "writing to file:/content/Mask_RCNN/videos/save/718.jpg\n",
            "writing to file:/content/Mask_RCNN/videos/save/719.jpg\n",
            "frame_count :721\n",
            "frame_count :722\n",
            "frame_count :723\n",
            "Predicted\n",
            "writing to file:/content/Mask_RCNN/videos/save/720.jpg\n",
            "NO INSTANCES TO DISPLAY\n",
            "writing to file:/content/Mask_RCNN/videos/save/721.jpg\n",
            "writing to file:/content/Mask_RCNN/videos/save/722.jpg\n",
            "frame_count :724\n",
            "frame_count :725\n",
            "frame_count :726\n",
            "Predicted\n",
            "writing to file:/content/Mask_RCNN/videos/save/723.jpg\n",
            "writing to file:/content/Mask_RCNN/videos/save/724.jpg\n",
            "writing to file:/content/Mask_RCNN/videos/save/725.jpg\n",
            "frame_count :727\n",
            "frame_count :728\n",
            "frame_count :729\n",
            "Predicted\n",
            "writing to file:/content/Mask_RCNN/videos/save/726.jpg\n",
            "writing to file:/content/Mask_RCNN/videos/save/727.jpg\n",
            "writing to file:/content/Mask_RCNN/videos/save/728.jpg\n",
            "frame_count :730\n",
            "frame_count :731\n",
            "frame_count :732\n",
            "Predicted\n",
            "NO INSTANCES TO DISPLAY\n",
            "writing to file:/content/Mask_RCNN/videos/save/729.jpg\n",
            "writing to file:/content/Mask_RCNN/videos/save/730.jpg\n",
            "writing to file:/content/Mask_RCNN/videos/save/731.jpg\n",
            "frame_count :733\n",
            "frame_count :734\n",
            "frame_count :735\n",
            "Predicted\n",
            "writing to file:/content/Mask_RCNN/videos/save/732.jpg\n",
            "NO INSTANCES TO DISPLAY\n",
            "writing to file:/content/Mask_RCNN/videos/save/733.jpg\n",
            "writing to file:/content/Mask_RCNN/videos/save/734.jpg\n",
            "frame_count :736\n",
            "frame_count :737\n",
            "frame_count :738\n",
            "Predicted\n",
            "NO INSTANCES TO DISPLAY\n",
            "writing to file:/content/Mask_RCNN/videos/save/735.jpg\n",
            "NO INSTANCES TO DISPLAY\n",
            "writing to file:/content/Mask_RCNN/videos/save/736.jpg\n",
            "NO INSTANCES TO DISPLAY\n",
            "writing to file:/content/Mask_RCNN/videos/save/737.jpg\n",
            "frame_count :739\n",
            "frame_count :740\n",
            "frame_count :741\n",
            "Predicted\n",
            "NO INSTANCES TO DISPLAY\n",
            "writing to file:/content/Mask_RCNN/videos/save/738.jpg\n",
            "NO INSTANCES TO DISPLAY\n",
            "writing to file:/content/Mask_RCNN/videos/save/739.jpg\n",
            "NO INSTANCES TO DISPLAY\n",
            "writing to file:/content/Mask_RCNN/videos/save/740.jpg\n",
            "frame_count :742\n",
            "frame_count :743\n",
            "frame_count :744\n",
            "Predicted\n",
            "NO INSTANCES TO DISPLAY\n",
            "writing to file:/content/Mask_RCNN/videos/save/741.jpg\n",
            "NO INSTANCES TO DISPLAY\n",
            "writing to file:/content/Mask_RCNN/videos/save/742.jpg\n",
            "NO INSTANCES TO DISPLAY\n",
            "writing to file:/content/Mask_RCNN/videos/save/743.jpg\n",
            "frame_count :745\n",
            "frame_count :746\n",
            "frame_count :747\n",
            "Predicted\n",
            "NO INSTANCES TO DISPLAY\n",
            "writing to file:/content/Mask_RCNN/videos/save/744.jpg\n",
            "NO INSTANCES TO DISPLAY\n",
            "writing to file:/content/Mask_RCNN/videos/save/745.jpg\n",
            "NO INSTANCES TO DISPLAY\n",
            "writing to file:/content/Mask_RCNN/videos/save/746.jpg\n",
            "frame_count :748\n",
            "frame_count :749\n",
            "frame_count :750\n",
            "Predicted\n",
            "NO INSTANCES TO DISPLAY\n",
            "writing to file:/content/Mask_RCNN/videos/save/747.jpg\n",
            "writing to file:/content/Mask_RCNN/videos/save/748.jpg\n",
            "NO INSTANCES TO DISPLAY\n",
            "writing to file:/content/Mask_RCNN/videos/save/749.jpg\n",
            "frame_count :751\n",
            "frame_count :752\n",
            "frame_count :753\n",
            "Predicted\n",
            "NO INSTANCES TO DISPLAY\n",
            "writing to file:/content/Mask_RCNN/videos/save/750.jpg\n",
            "NO INSTANCES TO DISPLAY\n",
            "writing to file:/content/Mask_RCNN/videos/save/751.jpg\n",
            "writing to file:/content/Mask_RCNN/videos/save/752.jpg\n",
            "frame_count :754\n",
            "frame_count :755\n",
            "frame_count :756\n",
            "Predicted\n",
            "NO INSTANCES TO DISPLAY\n",
            "writing to file:/content/Mask_RCNN/videos/save/753.jpg\n",
            "NO INSTANCES TO DISPLAY\n",
            "writing to file:/content/Mask_RCNN/videos/save/754.jpg\n",
            "NO INSTANCES TO DISPLAY\n",
            "writing to file:/content/Mask_RCNN/videos/save/755.jpg\n",
            "frame_count :757\n",
            "frame_count :758\n",
            "frame_count :759\n",
            "Predicted\n",
            "NO INSTANCES TO DISPLAY\n",
            "writing to file:/content/Mask_RCNN/videos/save/756.jpg\n",
            "NO INSTANCES TO DISPLAY\n",
            "writing to file:/content/Mask_RCNN/videos/save/757.jpg\n",
            "NO INSTANCES TO DISPLAY\n",
            "writing to file:/content/Mask_RCNN/videos/save/758.jpg\n",
            "frame_count :760\n",
            "frame_count :761\n",
            "frame_count :762\n",
            "Predicted\n",
            "writing to file:/content/Mask_RCNN/videos/save/759.jpg\n",
            "writing to file:/content/Mask_RCNN/videos/save/760.jpg\n",
            "writing to file:/content/Mask_RCNN/videos/save/761.jpg\n",
            "frame_count :763\n",
            "frame_count :764\n",
            "frame_count :765\n",
            "Predicted\n",
            "NO INSTANCES TO DISPLAY\n",
            "writing to file:/content/Mask_RCNN/videos/save/762.jpg\n",
            "NO INSTANCES TO DISPLAY\n",
            "writing to file:/content/Mask_RCNN/videos/save/763.jpg\n",
            "NO INSTANCES TO DISPLAY\n",
            "writing to file:/content/Mask_RCNN/videos/save/764.jpg\n",
            "frame_count :766\n",
            "frame_count :767\n",
            "frame_count :768\n",
            "Predicted\n",
            "NO INSTANCES TO DISPLAY\n",
            "writing to file:/content/Mask_RCNN/videos/save/765.jpg\n",
            "NO INSTANCES TO DISPLAY\n",
            "writing to file:/content/Mask_RCNN/videos/save/766.jpg\n",
            "NO INSTANCES TO DISPLAY\n",
            "writing to file:/content/Mask_RCNN/videos/save/767.jpg\n",
            "frame_count :769\n",
            "frame_count :770\n",
            "frame_count :771\n",
            "Predicted\n",
            "NO INSTANCES TO DISPLAY\n",
            "writing to file:/content/Mask_RCNN/videos/save/768.jpg\n",
            "NO INSTANCES TO DISPLAY\n",
            "writing to file:/content/Mask_RCNN/videos/save/769.jpg\n",
            "NO INSTANCES TO DISPLAY\n",
            "writing to file:/content/Mask_RCNN/videos/save/770.jpg\n",
            "frame_count :772\n",
            "frame_count :773\n",
            "frame_count :774\n",
            "Predicted\n",
            "NO INSTANCES TO DISPLAY\n",
            "writing to file:/content/Mask_RCNN/videos/save/771.jpg\n",
            "NO INSTANCES TO DISPLAY\n",
            "writing to file:/content/Mask_RCNN/videos/save/772.jpg\n",
            "NO INSTANCES TO DISPLAY\n",
            "writing to file:/content/Mask_RCNN/videos/save/773.jpg\n",
            "frame_count :775\n",
            "frame_count :776\n",
            "frame_count :777\n",
            "Predicted\n",
            "NO INSTANCES TO DISPLAY\n",
            "writing to file:/content/Mask_RCNN/videos/save/774.jpg\n",
            "NO INSTANCES TO DISPLAY\n",
            "writing to file:/content/Mask_RCNN/videos/save/775.jpg\n",
            "NO INSTANCES TO DISPLAY\n",
            "writing to file:/content/Mask_RCNN/videos/save/776.jpg\n",
            "frame_count :778\n",
            "frame_count :779\n",
            "frame_count :780\n",
            "Predicted\n",
            "NO INSTANCES TO DISPLAY\n",
            "writing to file:/content/Mask_RCNN/videos/save/777.jpg\n",
            "NO INSTANCES TO DISPLAY\n",
            "writing to file:/content/Mask_RCNN/videos/save/778.jpg\n",
            "NO INSTANCES TO DISPLAY\n",
            "writing to file:/content/Mask_RCNN/videos/save/779.jpg\n",
            "frame_count :781\n",
            "frame_count :782\n",
            "frame_count :783\n",
            "Predicted\n",
            "NO INSTANCES TO DISPLAY\n",
            "writing to file:/content/Mask_RCNN/videos/save/780.jpg\n",
            "NO INSTANCES TO DISPLAY\n",
            "writing to file:/content/Mask_RCNN/videos/save/781.jpg\n",
            "NO INSTANCES TO DISPLAY\n",
            "writing to file:/content/Mask_RCNN/videos/save/782.jpg\n",
            "frame_count :784\n",
            "frame_count :785\n",
            "frame_count :786\n",
            "Predicted\n",
            "NO INSTANCES TO DISPLAY\n",
            "writing to file:/content/Mask_RCNN/videos/save/783.jpg\n",
            "NO INSTANCES TO DISPLAY\n",
            "writing to file:/content/Mask_RCNN/videos/save/784.jpg\n",
            "NO INSTANCES TO DISPLAY\n",
            "writing to file:/content/Mask_RCNN/videos/save/785.jpg\n",
            "frame_count :787\n",
            "frame_count :788\n",
            "frame_count :789\n",
            "Predicted\n",
            "NO INSTANCES TO DISPLAY\n",
            "writing to file:/content/Mask_RCNN/videos/save/786.jpg\n",
            "NO INSTANCES TO DISPLAY\n",
            "writing to file:/content/Mask_RCNN/videos/save/787.jpg\n",
            "NO INSTANCES TO DISPLAY\n",
            "writing to file:/content/Mask_RCNN/videos/save/788.jpg\n",
            "frame_count :790\n",
            "frame_count :791\n",
            "frame_count :792\n",
            "Predicted\n",
            "NO INSTANCES TO DISPLAY\n",
            "writing to file:/content/Mask_RCNN/videos/save/789.jpg\n",
            "NO INSTANCES TO DISPLAY\n",
            "writing to file:/content/Mask_RCNN/videos/save/790.jpg\n",
            "NO INSTANCES TO DISPLAY\n",
            "writing to file:/content/Mask_RCNN/videos/save/791.jpg\n",
            "frame_count :793\n",
            "frame_count :794\n",
            "frame_count :795\n",
            "Predicted\n",
            "NO INSTANCES TO DISPLAY\n",
            "writing to file:/content/Mask_RCNN/videos/save/792.jpg\n",
            "NO INSTANCES TO DISPLAY\n",
            "writing to file:/content/Mask_RCNN/videos/save/793.jpg\n",
            "NO INSTANCES TO DISPLAY\n",
            "writing to file:/content/Mask_RCNN/videos/save/794.jpg\n",
            "frame_count :796\n",
            "frame_count :797\n",
            "frame_count :798\n",
            "Predicted\n",
            "NO INSTANCES TO DISPLAY\n",
            "writing to file:/content/Mask_RCNN/videos/save/795.jpg\n",
            "NO INSTANCES TO DISPLAY\n",
            "writing to file:/content/Mask_RCNN/videos/save/796.jpg\n",
            "NO INSTANCES TO DISPLAY\n",
            "writing to file:/content/Mask_RCNN/videos/save/797.jpg\n",
            "frame_count :799\n",
            "frame_count :800\n",
            "frame_count :801\n",
            "Predicted\n",
            "writing to file:/content/Mask_RCNN/videos/save/798.jpg\n",
            "NO INSTANCES TO DISPLAY\n",
            "writing to file:/content/Mask_RCNN/videos/save/799.jpg\n",
            "NO INSTANCES TO DISPLAY\n",
            "writing to file:/content/Mask_RCNN/videos/save/800.jpg\n",
            "frame_count :802\n",
            "frame_count :803\n",
            "frame_count :804\n",
            "Predicted\n",
            "NO INSTANCES TO DISPLAY\n",
            "writing to file:/content/Mask_RCNN/videos/save/801.jpg\n",
            "NO INSTANCES TO DISPLAY\n",
            "writing to file:/content/Mask_RCNN/videos/save/802.jpg\n",
            "NO INSTANCES TO DISPLAY\n",
            "writing to file:/content/Mask_RCNN/videos/save/803.jpg\n",
            "frame_count :805\n",
            "frame_count :806\n",
            "frame_count :807\n",
            "Predicted\n",
            "writing to file:/content/Mask_RCNN/videos/save/804.jpg\n",
            "NO INSTANCES TO DISPLAY\n",
            "writing to file:/content/Mask_RCNN/videos/save/805.jpg\n",
            "writing to file:/content/Mask_RCNN/videos/save/806.jpg\n",
            "frame_count :808\n",
            "frame_count :809\n",
            "frame_count :810\n",
            "Predicted\n",
            "NO INSTANCES TO DISPLAY\n",
            "writing to file:/content/Mask_RCNN/videos/save/807.jpg\n",
            "NO INSTANCES TO DISPLAY\n",
            "writing to file:/content/Mask_RCNN/videos/save/808.jpg\n",
            "NO INSTANCES TO DISPLAY\n",
            "writing to file:/content/Mask_RCNN/videos/save/809.jpg\n",
            "frame_count :811\n",
            "frame_count :812\n",
            "frame_count :813\n",
            "Predicted\n",
            "NO INSTANCES TO DISPLAY\n",
            "writing to file:/content/Mask_RCNN/videos/save/810.jpg\n",
            "NO INSTANCES TO DISPLAY\n",
            "writing to file:/content/Mask_RCNN/videos/save/811.jpg\n",
            "NO INSTANCES TO DISPLAY\n",
            "writing to file:/content/Mask_RCNN/videos/save/812.jpg\n",
            "frame_count :814\n",
            "frame_count :815\n",
            "frame_count :816\n",
            "Predicted\n",
            "NO INSTANCES TO DISPLAY\n",
            "writing to file:/content/Mask_RCNN/videos/save/813.jpg\n",
            "NO INSTANCES TO DISPLAY\n",
            "writing to file:/content/Mask_RCNN/videos/save/814.jpg\n",
            "NO INSTANCES TO DISPLAY\n",
            "writing to file:/content/Mask_RCNN/videos/save/815.jpg\n",
            "frame_count :817\n",
            "frame_count :818\n",
            "frame_count :819\n",
            "Predicted\n",
            "NO INSTANCES TO DISPLAY\n",
            "writing to file:/content/Mask_RCNN/videos/save/816.jpg\n",
            "NO INSTANCES TO DISPLAY\n",
            "writing to file:/content/Mask_RCNN/videos/save/817.jpg\n",
            "NO INSTANCES TO DISPLAY\n",
            "writing to file:/content/Mask_RCNN/videos/save/818.jpg\n",
            "frame_count :820\n",
            "frame_count :821\n",
            "frame_count :822\n",
            "Predicted\n",
            "NO INSTANCES TO DISPLAY\n",
            "writing to file:/content/Mask_RCNN/videos/save/819.jpg\n",
            "NO INSTANCES TO DISPLAY\n",
            "writing to file:/content/Mask_RCNN/videos/save/820.jpg\n",
            "NO INSTANCES TO DISPLAY\n",
            "writing to file:/content/Mask_RCNN/videos/save/821.jpg\n",
            "frame_count :823\n",
            "frame_count :824\n",
            "frame_count :825\n",
            "Predicted\n",
            "NO INSTANCES TO DISPLAY\n",
            "writing to file:/content/Mask_RCNN/videos/save/822.jpg\n",
            "NO INSTANCES TO DISPLAY\n",
            "writing to file:/content/Mask_RCNN/videos/save/823.jpg\n",
            "NO INSTANCES TO DISPLAY\n",
            "writing to file:/content/Mask_RCNN/videos/save/824.jpg\n",
            "frame_count :826\n",
            "frame_count :827\n",
            "frame_count :828\n",
            "Predicted\n",
            "NO INSTANCES TO DISPLAY\n",
            "writing to file:/content/Mask_RCNN/videos/save/825.jpg\n",
            "NO INSTANCES TO DISPLAY\n",
            "writing to file:/content/Mask_RCNN/videos/save/826.jpg\n",
            "NO INSTANCES TO DISPLAY\n",
            "writing to file:/content/Mask_RCNN/videos/save/827.jpg\n",
            "frame_count :829\n",
            "frame_count :830\n",
            "frame_count :831\n",
            "Predicted\n",
            "NO INSTANCES TO DISPLAY\n",
            "writing to file:/content/Mask_RCNN/videos/save/828.jpg\n",
            "NO INSTANCES TO DISPLAY\n",
            "writing to file:/content/Mask_RCNN/videos/save/829.jpg\n",
            "NO INSTANCES TO DISPLAY\n",
            "writing to file:/content/Mask_RCNN/videos/save/830.jpg\n",
            "frame_count :832\n",
            "frame_count :833\n",
            "frame_count :834\n",
            "Predicted\n",
            "writing to file:/content/Mask_RCNN/videos/save/831.jpg\n",
            "writing to file:/content/Mask_RCNN/videos/save/832.jpg\n",
            "writing to file:/content/Mask_RCNN/videos/save/833.jpg\n",
            "frame_count :835\n",
            "frame_count :836\n",
            "frame_count :837\n",
            "Predicted\n",
            "writing to file:/content/Mask_RCNN/videos/save/834.jpg\n",
            "writing to file:/content/Mask_RCNN/videos/save/835.jpg\n",
            "writing to file:/content/Mask_RCNN/videos/save/836.jpg\n",
            "frame_count :838\n",
            "frame_count :839\n",
            "frame_count :840\n",
            "Predicted\n",
            "writing to file:/content/Mask_RCNN/videos/save/837.jpg\n",
            "writing to file:/content/Mask_RCNN/videos/save/838.jpg\n",
            "NO INSTANCES TO DISPLAY\n",
            "writing to file:/content/Mask_RCNN/videos/save/839.jpg\n",
            "frame_count :841\n",
            "frame_count :842\n",
            "frame_count :843\n",
            "Predicted\n",
            "writing to file:/content/Mask_RCNN/videos/save/840.jpg\n",
            "writing to file:/content/Mask_RCNN/videos/save/841.jpg\n",
            "writing to file:/content/Mask_RCNN/videos/save/842.jpg\n",
            "frame_count :844\n",
            "frame_count :845\n",
            "frame_count :846\n",
            "Predicted\n",
            "writing to file:/content/Mask_RCNN/videos/save/843.jpg\n",
            "writing to file:/content/Mask_RCNN/videos/save/844.jpg\n",
            "NO INSTANCES TO DISPLAY\n",
            "writing to file:/content/Mask_RCNN/videos/save/845.jpg\n",
            "frame_count :847\n",
            "frame_count :848\n",
            "frame_count :849\n",
            "Predicted\n",
            "writing to file:/content/Mask_RCNN/videos/save/846.jpg\n",
            "writing to file:/content/Mask_RCNN/videos/save/847.jpg\n",
            "writing to file:/content/Mask_RCNN/videos/save/848.jpg\n",
            "frame_count :850\n"
          ],
          "name": "stdout"
        }
      ]
    },
    {
      "metadata": {
        "id": "yxLUfXgY0kqv",
        "colab_type": "code",
        "colab": {
          "base_uri": "https://localhost:8080/",
          "height": 34
        },
        "outputId": "38d799e3-d7ad-42b2-b6b2-e953fdf947c5"
      },
      "cell_type": "code",
      "source": [
        "video = cv2.VideoCapture(os.path.join(VIDEO_DIR, 'trailer1.mp4'));\n",
        "\n",
        "# Find OpenCV version\n",
        "(major_ver, minor_ver, subminor_ver) = (cv2.__version__).split('.')\n",
        "\n",
        "if int(major_ver)  < 3 :\n",
        "    fps = video.get(cv2.cv.CV_CAP_PROP_FPS)\n",
        "    print(\"Frames per second using video.get(cv2.cv.CV_CAP_PROP_FPS): {0}\".format(fps))\n",
        "else :\n",
        "    fps = video.get(cv2.CAP_PROP_FPS)\n",
        "    print(\"Frames per second using video.get(cv2.CAP_PROP_FPS) : {0}\".format(fps))\n",
        "\n",
        "video.release();"
      ],
      "execution_count": 94,
      "outputs": [
        {
          "output_type": "stream",
          "text": [
            "Frames per second using video.get(cv2.CAP_PROP_FPS) : 29.97002997002997\n"
          ],
          "name": "stdout"
        }
      ]
    },
    {
      "metadata": {
        "id": "oJ1cPf7e09Ag",
        "colab_type": "code",
        "colab": {
          "base_uri": "https://localhost:8080/",
          "height": 34
        },
        "outputId": "d4790559-9d3e-4edd-ee5a-c2b8866abfb0"
      },
      "cell_type": "code",
      "source": [
        "def make_video(outvid, images=None, fps=30, size=None,\n",
        "               is_color=True, format=\"FMP4\"):\n",
        "    \"\"\"\n",
        "    Create a video from a list of images.\n",
        " \n",
        "    @param      outvid      output video\n",
        "    @param      images      list of images to use in the video\n",
        "    @param      fps         frame per second\n",
        "    @param      size        size of each frame\n",
        "    @param      is_color    color\n",
        "    @param      format      see http://www.fourcc.org/codecs.php\n",
        "    @return                 see http://opencv-python-tutroals.readthedocs.org/en/latest/py_tutorials/py_gui/py_video_display/py_video_display.html\n",
        " \n",
        "    The function relies on http://opencv-python-tutroals.readthedocs.org/en/latest/.\n",
        "    By default, the video will have the size of the first image.\n",
        "    It will resize every image to this size before adding them to the video.\n",
        "    \"\"\"\n",
        "    from cv2 import VideoWriter, VideoWriter_fourcc, imread, resize\n",
        "    fourcc = VideoWriter_fourcc(*format)\n",
        "    vid = None\n",
        "    for image in images:\n",
        "        if not os.path.exists(image):\n",
        "            raise FileNotFoundError(image)\n",
        "        img = imread(image)\n",
        "        if vid is None:\n",
        "            if size is None:\n",
        "                size = img.shape[1], img.shape[0]\n",
        "            vid = VideoWriter(outvid, fourcc, float(fps), size, is_color)\n",
        "        if size[0] != img.shape[1] and size[1] != img.shape[0]:\n",
        "            img = resize(img, size)\n",
        "        vid.write(img)\n",
        "    vid.release()\n",
        "    return vid\n",
        "\n",
        "import glob\n",
        "import os\n",
        "\n",
        "# Directory of images to run detection on\n",
        "ROOT_DIR = os.getcwd()\n",
        "VIDEO_DIR = os.path.join(ROOT_DIR, \"videos\")\n",
        "VIDEO_SAVE_DIR = os.path.join(VIDEO_DIR, \"save\")\n",
        "images = list(glob.iglob(os.path.join(VIDEO_SAVE_DIR, '*.*')))\n",
        "# Sort the images by integer index\n",
        "images = sorted(images, key=lambda x: float(os.path.split(x)[1][:-3]))\n",
        "\n",
        "outvid = os.path.join(VIDEO_DIR, \"out.mp4\")\n",
        "make_video(outvid, images, fps=30)"
      ],
      "execution_count": 95,
      "outputs": [
        {
          "output_type": "execute_result",
          "data": {
            "text/plain": [
              "<VideoWriter 0x7f2f05ddd670>"
            ]
          },
          "metadata": {
            "tags": []
          },
          "execution_count": 95
        }
      ]
    },
    {
      "metadata": {
        "id": "F1r7rVnX1AVs",
        "colab_type": "code",
        "colab": {
          "base_uri": "https://localhost:8080/",
          "height": 119
        },
        "outputId": "09c836a3-d80d-4e92-bc18-3d9d1e901811"
      },
      "cell_type": "code",
      "source": [
        "!ls -alh ./videos/"
      ],
      "execution_count": 96,
      "outputs": [
        {
          "output_type": "stream",
          "text": [
            "total 192M\n",
            "drwxr-xr-x  3 root root 4.0K Nov  1 06:03 .\n",
            "drwxr-xr-x 14 root root 4.0K Nov  1 05:39 ..\n",
            "-rw-r--r--  1 root root 123M Nov  1 06:04 out.mp4\n",
            "drwxr-xr-x  2 root root  20K Nov  1 06:03 save\n",
            "-rw-r--r--  1 root root  69M Nov  1 03:11 trailer1.mp4\n"
          ],
          "name": "stdout"
        }
      ]
    },
    {
      "metadata": {
        "id": "z5vScRnI1D6M",
        "colab_type": "code",
        "colab": {
          "base_uri": "https://localhost:8080/",
          "height": 442
        },
        "outputId": "a38c5d95-8110-4235-f5a0-cd690a79b66f"
      },
      "cell_type": "code",
      "source": [
        "from google.colab import files\n",
        "files.download('videos/out.mp4')"
      ],
      "execution_count": 98,
      "outputs": [
        {
          "output_type": "stream",
          "text": [
            "----------------------------------------\n",
            "Exception happened during processing of request from ('::ffff:127.0.0.1', 40982, 0, 0)\n",
            "Traceback (most recent call last):\n",
            "  File \"/usr/lib/python3.6/socketserver.py\", line 317, in _handle_request_noblock\n",
            "    self.process_request(request, client_address)\n",
            "  File \"/usr/lib/python3.6/socketserver.py\", line 348, in process_request\n",
            "    self.finish_request(request, client_address)\n",
            "  File \"/usr/lib/python3.6/socketserver.py\", line 361, in finish_request\n",
            "    self.RequestHandlerClass(request, client_address, self)\n",
            "  File \"/usr/lib/python3.6/socketserver.py\", line 721, in __init__\n",
            "    self.handle()\n",
            "  File \"/usr/lib/python3.6/http/server.py\", line 418, in handle\n",
            "    self.handle_one_request()\n",
            "  File \"/usr/lib/python3.6/http/server.py\", line 406, in handle_one_request\n",
            "    method()\n",
            "  File \"/usr/lib/python3.6/http/server.py\", line 639, in do_GET\n",
            "    self.copyfile(f, self.wfile)\n",
            "  File \"/usr/lib/python3.6/http/server.py\", line 800, in copyfile\n",
            "    shutil.copyfileobj(source, outputfile)\n",
            "  File \"/usr/lib/python3.6/shutil.py\", line 82, in copyfileobj\n",
            "    fdst.write(buf)\n",
            "  File \"/usr/lib/python3.6/socketserver.py\", line 800, in write\n",
            "    self._sock.sendall(b)\n",
            "ConnectionResetError: [Errno 104] Connection reset by peer\n",
            "----------------------------------------\n"
          ],
          "name": "stderr"
        }
      ]
    },
    {
      "metadata": {
        "id": "pRRDsaa_QB_v",
        "colab_type": "code",
        "colab": {}
      },
      "cell_type": "code",
      "source": [
        "!apt-get install ffmpeg\n"
      ],
      "execution_count": 0,
      "outputs": []
    },
    {
      "metadata": {
        "id": "d15Gf0CbQLCf",
        "colab_type": "code",
        "colab": {}
      },
      "cell_type": "code",
      "source": [
        "!add-apt-repository ppa:mc3man/trusty-media"
      ],
      "execution_count": 0,
      "outputs": []
    },
    {
      "metadata": {
        "id": "s3hsUrqZQcuY",
        "colab_type": "code",
        "colab": {}
      },
      "cell_type": "code",
      "source": [
        "# !apt-get update\n",
        "!apt-get install ffmpeg"
      ],
      "execution_count": 0,
      "outputs": []
    },
    {
      "metadata": {
        "id": "8CmRhHXEQkTo",
        "colab_type": "code",
        "colab": {}
      },
      "cell_type": "code",
      "source": [
        "apt-get install ffmpeg"
      ],
      "execution_count": 0,
      "outputs": []
    },
    {
      "metadata": {
        "id": "vu-zys7yQsl2",
        "colab_type": "code",
        "colab": {}
      },
      "cell_type": "code",
      "source": [
        ""
      ],
      "execution_count": 0,
      "outputs": []
    }
  ]
}